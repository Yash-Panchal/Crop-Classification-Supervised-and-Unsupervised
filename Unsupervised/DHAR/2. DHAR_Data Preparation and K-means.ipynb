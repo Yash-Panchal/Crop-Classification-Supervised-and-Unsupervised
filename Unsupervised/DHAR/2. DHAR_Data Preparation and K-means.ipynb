{
 "cells": [
  {
   "cell_type": "code",
   "execution_count": 1,
   "metadata": {},
   "outputs": [],
   "source": [
    "import numpy as np\n",
    "import matplotlib.pyplot as plt\n",
    "import h5py\n",
    "import pandas as pd\n",
    "import scipy\n",
    "from PIL import Image\n",
    "from scipy import ndimage\n",
    "import gdal\n",
    "import os\n",
    "import geopandas as gpd\n",
    "from skimage import io\n",
    "from skimage.io import imread\n",
    "%matplotlib inline"
   ]
  },
  {
   "cell_type": "code",
   "execution_count": 2,
   "metadata": {},
   "outputs": [],
   "source": [
    "np.random.seed(1)"
   ]
  },
  {
   "cell_type": "code",
   "execution_count": 3,
   "metadata": {},
   "outputs": [
    {
     "name": "stderr",
     "output_type": "stream",
     "text": [
      "C:\\Users\\Lenovo\\anaconda3\\envs\\env_1\\lib\\site-packages\\sklearn\\utils\\deprecation.py:144: FutureWarning: The sklearn.datasets.samples_generator module is  deprecated in version 0.22 and will be removed in version 0.24. The corresponding classes / functions should instead be imported from sklearn.datasets. Anything that cannot be imported from sklearn.datasets is now part of the private API.\n",
      "  warnings.warn(message, FutureWarning)\n"
     ]
    }
   ],
   "source": [
    "from sklearn.datasets.samples_generator import make_blobs\n",
    "from sklearn.cluster import KMeans"
   ]
  },
  {
   "cell_type": "markdown",
   "metadata": {},
   "source": [
    "# reading the masked tif images and forming a dataset."
   ]
  },
  {
   "cell_type": "code",
   "execution_count": 4,
   "metadata": {},
   "outputs": [],
   "source": [
    "path = [\"E:\\\\Internship_Harvesting\\\\Dataset\\\\Bathinda_Cropland\\\\Masked_images\\\\I1B1.tif\",\n",
    "       \"E:\\\\Internship_Harvesting\\\\Dataset\\\\Bathinda_Cropland\\\\Masked_images\\\\I1B2.tif\",\n",
    "       \"E:\\\\Internship_Harvesting\\\\Dataset\\\\Bathinda_Cropland\\\\Masked_images\\\\I1B3.tif\",\n",
    "       \"E:\\\\Internship_Harvesting\\\\Dataset\\\\Bathinda_Cropland\\\\Masked_images\\\\I1B4.tif\",\n",
    "       \"E:\\\\Internship_Harvesting\\\\Dataset\\\\Bathinda_Cropland\\\\Masked_images\\\\I1B5.tif\",\n",
    "       \"E:\\\\Internship_Harvesting\\\\Dataset\\\\Bathinda_Cropland\\\\Masked_images\\\\I2B1.tif\",\n",
    "       \"E:\\\\Internship_Harvesting\\\\Dataset\\\\Bathinda_Cropland\\\\Masked_images\\\\I2B2.tif\",\n",
    "       \"E:\\\\Internship_Harvesting\\\\Dataset\\\\Bathinda_Cropland\\\\Masked_images\\\\I2B3.tif\",\n",
    "       \"E:\\\\Internship_Harvesting\\\\Dataset\\\\Bathinda_Cropland\\\\Masked_images\\\\I2B4.tif\",\n",
    "       \"E:\\\\Internship_Harvesting\\\\Dataset\\\\Bathinda_Cropland\\\\Masked_images\\\\I2B5.tif\",\n",
    "       \"E:\\\\Internship_Harvesting\\\\Dataset\\\\Bathinda_Cropland\\\\Masked_images\\\\I3B1.tif\",\n",
    "       \"E:\\\\Internship_Harvesting\\\\Dataset\\\\Bathinda_Cropland\\\\Masked_images\\\\I3B2.tif\",\n",
    "       \"E:\\\\Internship_Harvesting\\\\Dataset\\\\Bathinda_Cropland\\\\Masked_images\\\\I3B3.tif\",\n",
    "       \"E:\\\\Internship_Harvesting\\\\Dataset\\\\Bathinda_Cropland\\\\Masked_images\\\\I3B4.tif\",\n",
    "       \"E:\\\\Internship_Harvesting\\\\Dataset\\\\Bathinda_Cropland\\\\Masked_images\\\\I3B5.tif\",\n",
    "       \"E:\\\\Internship_Harvesting\\\\Dataset\\\\Bathinda_Cropland\\\\Masked_images\\\\I4B1.tif\",\n",
    "       \"E:\\\\Internship_Harvesting\\\\Dataset\\\\Bathinda_Cropland\\\\Masked_images\\\\I4B2.tif\",\n",
    "       \"E:\\\\Internship_Harvesting\\\\Dataset\\\\Bathinda_Cropland\\\\Masked_images\\\\I4B3.tif\",\n",
    "       \"E:\\\\Internship_Harvesting\\\\Dataset\\\\Bathinda_Cropland\\\\Masked_images\\\\I4B4.tif\",\n",
    "       \"E:\\\\Internship_Harvesting\\\\Dataset\\\\Bathinda_Cropland\\\\Masked_images\\\\I4B5.tif\",\n",
    "       \"E:\\\\Internship_Harvesting\\\\Dataset\\\\Bathinda_Cropland\\\\Masked_images\\\\I5B1.tif\",\n",
    "       \"E:\\\\Internship_Harvesting\\\\Dataset\\\\Bathinda_Cropland\\\\Masked_images\\\\I5B2.tif\",\n",
    "       \"E:\\\\Internship_Harvesting\\\\Dataset\\\\Bathinda_Cropland\\\\Masked_images\\\\I5B3.tif\",\n",
    "       \"E:\\\\Internship_Harvesting\\\\Dataset\\\\Bathinda_Cropland\\\\Masked_images\\\\I5B4.tif\",\n",
    "       \"E:\\\\Internship_Harvesting\\\\Dataset\\\\Bathinda_Cropland\\\\Masked_images\\\\I5B5.tif\",\n",
    "       \"E:\\\\Internship_Harvesting\\\\Dataset\\\\Bathinda_Cropland\\\\Masked_images\\\\I6B1.tif\",\n",
    "       \"E:\\\\Internship_Harvesting\\\\Dataset\\\\Bathinda_Cropland\\\\Masked_images\\\\I6B2.tif\",\n",
    "       \"E:\\\\Internship_Harvesting\\\\Dataset\\\\Bathinda_Cropland\\\\Masked_images\\\\I6B3.tif\",\n",
    "       \"E:\\\\Internship_Harvesting\\\\Dataset\\\\Bathinda_Cropland\\\\Masked_images\\\\I6B4.tif\",\n",
    "       \"E:\\\\Internship_Harvesting\\\\Dataset\\\\Bathinda_Cropland\\\\Masked_images\\\\I6B5.tif\"]"
   ]
  },
  {
   "cell_type": "code",
   "execution_count": 5,
   "metadata": {},
   "outputs": [
    {
     "data": {
      "text/plain": [
       "<osgeo.gdal.Dataset; proxy of <Swig Object of type 'GDALDatasetShadow *' at 0x00000183157FBD50> >"
      ]
     },
     "execution_count": 5,
     "metadata": {},
     "output_type": "execute_result"
    }
   ],
   "source": [
    "I1B1 = gdal.Open(path[0])\n",
    "I1B1"
   ]
  },
  {
   "cell_type": "code",
   "execution_count": 6,
   "metadata": {},
   "outputs": [
    {
     "data": {
      "text/plain": [
       "(8963, 8298, 1)"
      ]
     },
     "execution_count": 6,
     "metadata": {},
     "output_type": "execute_result"
    }
   ],
   "source": [
    "I1B1.RasterYSize, I1B1.RasterXSize, I1B1.RasterCount"
   ]
  },
  {
   "cell_type": "code",
   "execution_count": 7,
   "metadata": {},
   "outputs": [
    {
     "data": {
      "text/plain": [
       "array([[nan, nan, nan, ..., nan, nan, nan],\n",
       "       [nan, nan, nan, ..., nan, nan, nan],\n",
       "       [nan, nan, nan, ..., nan, nan, nan],\n",
       "       ...,\n",
       "       [nan, nan, nan, ..., nan, nan, nan],\n",
       "       [nan, nan, nan, ..., nan, nan, nan],\n",
       "       [nan, nan, nan, ..., nan, nan, nan]])"
      ]
     },
     "execution_count": 7,
     "metadata": {},
     "output_type": "execute_result"
    }
   ],
   "source": [
    "I1B1_array = I1B1.GetRasterBand(1).ReadAsArray()\n",
    "I1B1_array"
   ]
  },
  {
   "cell_type": "code",
   "execution_count": 8,
   "metadata": {},
   "outputs": [
    {
     "data": {
      "text/plain": [
       "(40574909, 33800065)"
      ]
     },
     "execution_count": 8,
     "metadata": {},
     "output_type": "execute_result"
    }
   ],
   "source": [
    "np.count_nonzero(np.isnan(I1B1_array)), np.count_nonzero(~np.isnan(I1B1_array))"
   ]
  },
  {
   "cell_type": "markdown",
   "metadata": {},
   "source": [
    "# as there is not enough memmory to store the array, we would take a sample from the total test data of 1%, that will be 1% of 33800065 = 338000"
   ]
  },
  {
   "cell_type": "markdown",
   "metadata": {},
   "source": [
    "# creating an array which only consists the non-nan values indices"
   ]
  },
  {
   "cell_type": "code",
   "execution_count": 9,
   "metadata": {},
   "outputs": [],
   "source": [
    "# I1B1_nan_index = np.argwhere(np.isnan(I1B1))\n",
    "\n",
    "I1B1_non_nan_index = np.argwhere(~np.isnan(I1B1_array))"
   ]
  },
  {
   "cell_type": "code",
   "execution_count": 10,
   "metadata": {},
   "outputs": [
    {
     "data": {
      "text/plain": [
       "array([[   0, 5738],\n",
       "       [   0, 5739],\n",
       "       [   0, 5740],\n",
       "       ...,\n",
       "       [8962, 5788],\n",
       "       [8962, 5789],\n",
       "       [8962, 5790]], dtype=int64)"
      ]
     },
     "execution_count": 10,
     "metadata": {},
     "output_type": "execute_result"
    }
   ],
   "source": [
    "I1B1_non_nan_index"
   ]
  },
  {
   "cell_type": "code",
   "execution_count": 11,
   "metadata": {},
   "outputs": [
    {
     "data": {
      "text/plain": [
       "(1249.0, 1242.0, 1248.0, 1237.0)"
      ]
     },
     "execution_count": 11,
     "metadata": {},
     "output_type": "execute_result"
    }
   ],
   "source": [
    "I1B1_array[0, 5738], I1B1_array[0, 5739], I1B1_array[8962, 5789], I1B1_array[8962, 5790]"
   ]
  },
  {
   "cell_type": "code",
   "execution_count": 12,
   "metadata": {},
   "outputs": [
    {
     "data": {
      "text/plain": [
       "(33800065, 2)"
      ]
     },
     "execution_count": 12,
     "metadata": {},
     "output_type": "execute_result"
    }
   ],
   "source": [
    "I1B1_non_nan_index.shape"
   ]
  },
  {
   "cell_type": "markdown",
   "metadata": {},
   "source": [
    "# now randomly selecting 338000 indices (1% of 33800065) from I1B1_non_nan_index"
   ]
  },
  {
   "cell_type": "code",
   "execution_count": 13,
   "metadata": {},
   "outputs": [
    {
     "data": {
      "text/plain": [
       "array([       0,        1,        2, ..., 33800062, 33800063, 33800064])"
      ]
     },
     "execution_count": 13,
     "metadata": {},
     "output_type": "execute_result"
    }
   ],
   "source": [
    "a = np.arange(I1B1_non_nan_index.shape[0])\n",
    "a"
   ]
  },
  {
   "cell_type": "code",
   "execution_count": 14,
   "metadata": {},
   "outputs": [
    {
     "data": {
      "text/plain": [
       "array([ 6762380,   491263, 13419401, ..., 11629326, 26345455, 31836365])"
      ]
     },
     "execution_count": 14,
     "metadata": {},
     "output_type": "execute_result"
    }
   ],
   "source": [
    "a_rand = np.random.choice(a, 338000)\n",
    "a_rand"
   ]
  },
  {
   "cell_type": "code",
   "execution_count": 15,
   "metadata": {},
   "outputs": [
    {
     "data": {
      "text/plain": [
       "array([[2643, 3574],\n",
       "       [ 767, 4965],\n",
       "       [3732, 6427],\n",
       "       ...,\n",
       "       [3434, 3074],\n",
       "       [5842, 4036],\n",
       "       [6873, 4799]], dtype=int64)"
      ]
     },
     "execution_count": 15,
     "metadata": {},
     "output_type": "execute_result"
    }
   ],
   "source": [
    "I1B1_non_nan_rand_index = I1B1_non_nan_index[a_rand, :]\n",
    "I1B1_non_nan_rand_index"
   ]
  },
  {
   "cell_type": "code",
   "execution_count": 16,
   "metadata": {},
   "outputs": [
    {
     "data": {
      "text/plain": [
       "(338000, 2)"
      ]
     },
     "execution_count": 16,
     "metadata": {},
     "output_type": "execute_result"
    }
   ],
   "source": [
    "I1B1_non_nan_rand_index.shape"
   ]
  },
  {
   "cell_type": "markdown",
   "metadata": {},
   "source": [
    "# we have randomly sampled indices now we will make the sample dataset using this indices"
   ]
  },
  {
   "cell_type": "code",
   "execution_count": 17,
   "metadata": {},
   "outputs": [],
   "source": [
    "test_x_sample = np.zeros((1, 338000))"
   ]
  },
  {
   "cell_type": "code",
   "execution_count": 18,
   "metadata": {
    "scrolled": true
   },
   "outputs": [
    {
     "name": "stdout",
     "output_type": "stream",
     "text": [
      "E:\\Internship_Harvesting\\Dataset\\Bathinda_Cropland\\Masked_images\\I1B1.tif\n",
      "(8963, 8298)\n",
      "(2, 338000)\n",
      "***************\n",
      "E:\\Internship_Harvesting\\Dataset\\Bathinda_Cropland\\Masked_images\\I1B2.tif\n",
      "(8963, 8298)\n",
      "(3, 338000)\n",
      "***************\n",
      "E:\\Internship_Harvesting\\Dataset\\Bathinda_Cropland\\Masked_images\\I1B3.tif\n",
      "(8963, 8298)\n",
      "(4, 338000)\n",
      "***************\n",
      "E:\\Internship_Harvesting\\Dataset\\Bathinda_Cropland\\Masked_images\\I1B4.tif\n",
      "(8963, 8298)\n",
      "(5, 338000)\n",
      "***************\n",
      "E:\\Internship_Harvesting\\Dataset\\Bathinda_Cropland\\Masked_images\\I1B5.tif\n",
      "(8963, 8298)\n",
      "(6, 338000)\n",
      "***************\n",
      "E:\\Internship_Harvesting\\Dataset\\Bathinda_Cropland\\Masked_images\\I2B1.tif\n",
      "(8963, 8298)\n",
      "(7, 338000)\n",
      "***************\n",
      "E:\\Internship_Harvesting\\Dataset\\Bathinda_Cropland\\Masked_images\\I2B2.tif\n",
      "(8963, 8298)\n",
      "(8, 338000)\n",
      "***************\n",
      "E:\\Internship_Harvesting\\Dataset\\Bathinda_Cropland\\Masked_images\\I2B3.tif\n",
      "(8963, 8298)\n",
      "(9, 338000)\n",
      "***************\n",
      "E:\\Internship_Harvesting\\Dataset\\Bathinda_Cropland\\Masked_images\\I2B4.tif\n",
      "(8963, 8298)\n",
      "(10, 338000)\n",
      "***************\n",
      "E:\\Internship_Harvesting\\Dataset\\Bathinda_Cropland\\Masked_images\\I2B5.tif\n",
      "(8963, 8298)\n",
      "(11, 338000)\n",
      "***************\n",
      "E:\\Internship_Harvesting\\Dataset\\Bathinda_Cropland\\Masked_images\\I3B1.tif\n",
      "(8963, 8298)\n",
      "(12, 338000)\n",
      "***************\n",
      "E:\\Internship_Harvesting\\Dataset\\Bathinda_Cropland\\Masked_images\\I3B2.tif\n",
      "(8963, 8298)\n",
      "(13, 338000)\n",
      "***************\n",
      "E:\\Internship_Harvesting\\Dataset\\Bathinda_Cropland\\Masked_images\\I3B3.tif\n",
      "(8963, 8298)\n",
      "(14, 338000)\n",
      "***************\n",
      "E:\\Internship_Harvesting\\Dataset\\Bathinda_Cropland\\Masked_images\\I3B4.tif\n",
      "(8963, 8298)\n",
      "(15, 338000)\n",
      "***************\n",
      "E:\\Internship_Harvesting\\Dataset\\Bathinda_Cropland\\Masked_images\\I3B5.tif\n",
      "(8963, 8298)\n",
      "(16, 338000)\n",
      "***************\n",
      "E:\\Internship_Harvesting\\Dataset\\Bathinda_Cropland\\Masked_images\\I4B1.tif\n",
      "(8963, 8298)\n",
      "(17, 338000)\n",
      "***************\n",
      "E:\\Internship_Harvesting\\Dataset\\Bathinda_Cropland\\Masked_images\\I4B2.tif\n",
      "(8963, 8298)\n",
      "(18, 338000)\n",
      "***************\n",
      "E:\\Internship_Harvesting\\Dataset\\Bathinda_Cropland\\Masked_images\\I4B3.tif\n",
      "(8963, 8298)\n",
      "(19, 338000)\n",
      "***************\n",
      "E:\\Internship_Harvesting\\Dataset\\Bathinda_Cropland\\Masked_images\\I4B4.tif\n",
      "(8963, 8298)\n",
      "(20, 338000)\n",
      "***************\n",
      "E:\\Internship_Harvesting\\Dataset\\Bathinda_Cropland\\Masked_images\\I4B5.tif\n",
      "(8963, 8298)\n",
      "(21, 338000)\n",
      "***************\n",
      "E:\\Internship_Harvesting\\Dataset\\Bathinda_Cropland\\Masked_images\\I5B1.tif\n",
      "(8963, 8298)\n",
      "(22, 338000)\n",
      "***************\n",
      "E:\\Internship_Harvesting\\Dataset\\Bathinda_Cropland\\Masked_images\\I5B2.tif\n",
      "(8963, 8298)\n",
      "(23, 338000)\n",
      "***************\n",
      "E:\\Internship_Harvesting\\Dataset\\Bathinda_Cropland\\Masked_images\\I5B3.tif\n",
      "(8963, 8298)\n",
      "(24, 338000)\n",
      "***************\n",
      "E:\\Internship_Harvesting\\Dataset\\Bathinda_Cropland\\Masked_images\\I5B4.tif\n",
      "(8963, 8298)\n",
      "(25, 338000)\n",
      "***************\n",
      "E:\\Internship_Harvesting\\Dataset\\Bathinda_Cropland\\Masked_images\\I5B5.tif\n",
      "(8963, 8298)\n",
      "(26, 338000)\n",
      "***************\n",
      "E:\\Internship_Harvesting\\Dataset\\Bathinda_Cropland\\Masked_images\\I6B1.tif\n",
      "(8963, 8298)\n",
      "(27, 338000)\n",
      "***************\n",
      "E:\\Internship_Harvesting\\Dataset\\Bathinda_Cropland\\Masked_images\\I6B2.tif\n",
      "(8963, 8298)\n",
      "(28, 338000)\n",
      "***************\n",
      "E:\\Internship_Harvesting\\Dataset\\Bathinda_Cropland\\Masked_images\\I6B3.tif\n",
      "(8963, 8298)\n",
      "(29, 338000)\n",
      "***************\n",
      "E:\\Internship_Harvesting\\Dataset\\Bathinda_Cropland\\Masked_images\\I6B4.tif\n",
      "(8963, 8298)\n",
      "(30, 338000)\n",
      "***************\n",
      "E:\\Internship_Harvesting\\Dataset\\Bathinda_Cropland\\Masked_images\\I6B5.tif\n",
      "(8963, 8298)\n",
      "(31, 338000)\n",
      "***************\n"
     ]
    }
   ],
   "source": [
    "for p in path:\n",
    "    print(p)\n",
    "    \n",
    "    image = gdal.Open(p)\n",
    "    \n",
    "    image_array = image.GetRasterBand(1).ReadAsArray()\n",
    "    print(image_array.shape)\n",
    "    sample = []\n",
    "    \n",
    "    for i in range(I1B1_non_nan_rand_index.shape[0]):\n",
    "        sample.append(image_array[I1B1_non_nan_rand_index[i,0], I1B1_non_nan_rand_index[i,1]])\n",
    "        \n",
    "    sample = np.array(sample)\n",
    "    \n",
    "    sample = sample.reshape(1, 338000)\n",
    "        \n",
    "    test_x_sample = np.concatenate((sample, test_x_sample), axis = 0)\n",
    "    \n",
    "    print(test_x_sample.shape)\n",
    "    \n",
    "    print(\"***************\")\n",
    "    "
   ]
  },
  {
   "cell_type": "code",
   "execution_count": 19,
   "metadata": {},
   "outputs": [],
   "source": [
    "test_x_sample = test_x_sample[:30, :]"
   ]
  },
  {
   "cell_type": "code",
   "execution_count": 20,
   "metadata": {},
   "outputs": [],
   "source": [
    "test_x_sample = test_x_sample.T"
   ]
  },
  {
   "cell_type": "code",
   "execution_count": 21,
   "metadata": {},
   "outputs": [
    {
     "data": {
      "text/plain": [
       "(338000, 30)"
      ]
     },
     "execution_count": 21,
     "metadata": {},
     "output_type": "execute_result"
    }
   ],
   "source": [
    "test_x_sample.shape"
   ]
  },
  {
   "cell_type": "markdown",
   "metadata": {},
   "source": [
    "# we have our sampled test data, we will apply K-means unsupervised algorithm on this and capture details"
   ]
  },
  {
   "cell_type": "markdown",
   "metadata": {},
   "source": [
    "# https://towardsdatascience.com/machine-learning-algorithms-part-9-k-means-example-in-python-f2ad05ed5203\n",
    "\n",
    "# reference for the below mentioned code"
   ]
  },
  {
   "cell_type": "code",
   "execution_count": 22,
   "metadata": {},
   "outputs": [],
   "source": [
    "wcss = []"
   ]
  },
  {
   "cell_type": "code",
   "execution_count": 23,
   "metadata": {},
   "outputs": [
    {
     "name": "stdout",
     "output_type": "stream",
     "text": [
      "1 1\n",
      "2 1\n",
      "3 1\n",
      "1 2\n",
      "2 2\n",
      "3 2\n",
      "1 3\n",
      "2 3\n",
      "3 3\n",
      "1 4\n",
      "2 4\n",
      "3 4\n",
      "1 5\n",
      "2 5\n",
      "3 5\n"
     ]
    }
   ],
   "source": [
    "for i in range(1, 6):\n",
    "    \n",
    "    kmeans = KMeans(n_clusters=i, init='k-means++', max_iter=300, n_init=10, random_state=0)\n",
    "    print(\"1\", i)\n",
    "    kmeans.fit(test_x_sample)\n",
    "    print(\"2\", i)\n",
    "    wcss.append(kmeans.inertia_)\n",
    "    print(\"3\", i)"
   ]
  },
  {
   "cell_type": "code",
   "execution_count": 24,
   "metadata": {},
   "outputs": [
    {
     "data": {
      "text/plain": [
       "[6591971826692.232,\n",
       " 1957669496568.6484,\n",
       " 1204082734984.0256,\n",
       " 919130051137.1649,\n",
       " 791142640342.2151]"
      ]
     },
     "execution_count": 24,
     "metadata": {},
     "output_type": "execute_result"
    }
   ],
   "source": [
    "wcss"
   ]
  },
  {
   "cell_type": "code",
   "execution_count": 25,
   "metadata": {},
   "outputs": [
    {
     "data": {
      "image/png": "[encoded data removed]",
      "text/plain": [
       "<Figure size 432x288 with 1 Axes>"
      ]
     },
     "metadata": {
      "needs_background": "light"
     },
     "output_type": "display_data"
    }
   ],
   "source": [
    "plt.plot(range(1, 6), wcss)\n",
    "plt.title('Elbow Method')\n",
    "plt.xlabel('Number of clusters')\n",
    "plt.ylabel('WCSS')\n",
    "plt.show()"
   ]
  },
  {
   "cell_type": "code",
   "execution_count": 22,
   "metadata": {},
   "outputs": [],
   "source": [
    "kmeans = KMeans(n_clusters=2, init='k-means++', max_iter=300, n_init=10, random_state=0)\n",
    "test_y_sample = kmeans.fit_predict(test_x_sample)"
   ]
  },
  {
   "cell_type": "code",
   "execution_count": 23,
   "metadata": {},
   "outputs": [
    {
     "data": {
      "text/plain": [
       "array([0, 1])"
      ]
     },
     "execution_count": 23,
     "metadata": {},
     "output_type": "execute_result"
    }
   ],
   "source": [
    "np.unique(test_y_sample)"
   ]
  },
  {
   "cell_type": "code",
   "execution_count": 24,
   "metadata": {},
   "outputs": [
    {
     "data": {
      "text/plain": [
       "((338000,), (338000, 30))"
      ]
     },
     "execution_count": 24,
     "metadata": {},
     "output_type": "execute_result"
    }
   ],
   "source": [
    "test_y_sample.shape, test_x_sample.shape"
   ]
  },
  {
   "cell_type": "markdown",
   "metadata": {},
   "source": [
    "# now we will use this random sample test_x_sample and its prediction test_y_sample as training data and develop a model, once we have that trained model, we will use it to test for the remaining non-nan indices of the input images"
   ]
  },
  {
   "cell_type": "markdown",
   "metadata": {},
   "source": [
    "# preparing the train data and cv data spliting in ratio 99/1"
   ]
  },
  {
   "cell_type": "code",
   "execution_count": 25,
   "metadata": {},
   "outputs": [
    {
     "data": {
      "text/plain": [
       "(338000, 1)"
      ]
     },
     "execution_count": 25,
     "metadata": {},
     "output_type": "execute_result"
    }
   ],
   "source": [
    "test_y_sample = test_y_sample.reshape(338000, 1)\n",
    "test_y_sample.shape"
   ]
  },
  {
   "cell_type": "code",
   "execution_count": 26,
   "metadata": {},
   "outputs": [
    {
     "data": {
      "text/plain": [
       "(338000, 31)"
      ]
     },
     "execution_count": 26,
     "metadata": {},
     "output_type": "execute_result"
    }
   ],
   "source": [
    "train = np.concatenate((test_x_sample, test_y_sample), axis = 1)\n",
    "train.shape"
   ]
  },
  {
   "cell_type": "code",
   "execution_count": 27,
   "metadata": {},
   "outputs": [],
   "source": [
    "import numpy as np\n",
    "from sklearn.model_selection import train_test_split"
   ]
  },
  {
   "cell_type": "code",
   "execution_count": 28,
   "metadata": {},
   "outputs": [],
   "source": [
    "cv_size = 1/99\n",
    "\n",
    "train_1, cv = train_test_split(train, test_size = cv_size)"
   ]
  },
  {
   "cell_type": "code",
   "execution_count": 29,
   "metadata": {},
   "outputs": [
    {
     "data": {
      "text/plain": [
       "((334585, 31), (3415, 31))"
      ]
     },
     "execution_count": 29,
     "metadata": {},
     "output_type": "execute_result"
    }
   ],
   "source": [
    "train_1.shape, cv.shape"
   ]
  },
  {
   "cell_type": "code",
   "execution_count": 30,
   "metadata": {},
   "outputs": [],
   "source": [
    "train_2 = train_1.copy()"
   ]
  },
  {
   "cell_type": "code",
   "execution_count": 31,
   "metadata": {},
   "outputs": [
    {
     "data": {
      "text/plain": [
       "((334585, 30), (334585, 1), (3415, 30), (3415, 1))"
      ]
     },
     "execution_count": 31,
     "metadata": {},
     "output_type": "execute_result"
    }
   ],
   "source": [
    "train_x = train_1[:, :30]\n",
    "train_y = train_1[:, 30:]\n",
    "\n",
    "cv_x = cv[:, :30]\n",
    "cv_y = cv[:, 30:]\n",
    "\n",
    "train_x.shape, train_y.shape, cv_x.shape, cv_y.shape"
   ]
  },
  {
   "cell_type": "code",
   "execution_count": 32,
   "metadata": {},
   "outputs": [],
   "source": [
    "train_y = train_y.astype(\"int\")\n",
    "cv_y = cv_y.astype(\"int\")"
   ]
  },
  {
   "cell_type": "code",
   "execution_count": 33,
   "metadata": {},
   "outputs": [
    {
     "data": {
      "text/plain": [
       "((30, 334585), (1, 334585), (30, 3415), (1, 3415))"
      ]
     },
     "execution_count": 33,
     "metadata": {},
     "output_type": "execute_result"
    }
   ],
   "source": [
    "train_x = train_x.T\n",
    "train_y = train_y.T\n",
    "\n",
    "cv_x = cv_x.T\n",
    "cv_y = cv_y.T\n",
    "\n",
    "train_x.shape, train_y.shape, cv_x.shape, cv_y.shape"
   ]
  },
  {
   "cell_type": "markdown",
   "metadata": {},
   "source": [
    "# feature normalizing"
   ]
  },
  {
   "cell_type": "code",
   "execution_count": 34,
   "metadata": {},
   "outputs": [],
   "source": [
    "for i in range(train_x.shape[0]):\n",
    "    averg = np.mean(train_x[i, :])\n",
    "    std_dev = np.std(train_x[i, :])\n",
    "    #print(train_x[i, :])\n",
    "    #print(a,\" : \", b ,\"\\n\")\n",
    "    train_x[i, :] = (train_x[i, :] - averg) / std_dev\n",
    "    cv_x[i, :] = (cv_x[i, :] - averg) / std_dev\n",
    "    #test_x[i, :] = (test_x[i, :] - averg) / std_dev"
   ]
  },
  {
   "cell_type": "markdown",
   "metadata": {},
   "source": [
    "# training the model on train data and then evaluting it on cv data"
   ]
  },
  {
   "cell_type": "code",
   "execution_count": 35,
   "metadata": {},
   "outputs": [],
   "source": [
    "# GRADED FUNCTION: sigmoid\n",
    "\n",
    "def sigmoid(z):\n",
    "    \"\"\"\n",
    "    Compute the sigmoid of z\n",
    "\n",
    "    Arguments:\n",
    "    z -- A scalar or numpy array of any size.\n",
    "\n",
    "    Return:\n",
    "    s -- sigmoid(z)\n",
    "    \"\"\"\n",
    "\n",
    "    ### START CODE HERE ### (≈ 1 line of code)\n",
    "    s = 1/(1 + np.exp(-z))\n",
    "    ### END CODE HERE ###\n",
    "    \n",
    "    return s"
   ]
  },
  {
   "cell_type": "code",
   "execution_count": 36,
   "metadata": {},
   "outputs": [],
   "source": [
    "# GRADED FUNCTION: initialize_with_zeros\n",
    "\n",
    "def initialize_with_zeros(dim):\n",
    "    \"\"\"\n",
    "    This function creates a vector of zeros of shape (dim, 1) for w and initializes b to 0.\n",
    "    \n",
    "    Argument:\n",
    "    dim -- size of the w vector we want (or number of parameters in this case)\n",
    "    \n",
    "    Returns:\n",
    "    w -- initialized vector of shape (dim, 1)\n",
    "    b -- initialized scalar (corresponds to the bias)\n",
    "    \"\"\"\n",
    "    \n",
    "    ### START CODE HERE ### (≈ 1 line of code)\n",
    "    w = np.zeros((dim, 1))\n",
    "    b = 0\n",
    "    ### END CODE HERE ###\n",
    "\n",
    "    assert(w.shape == (dim, 1))\n",
    "    assert(isinstance(b, float) or isinstance(b, int))\n",
    "    \n",
    "    return w, b"
   ]
  },
  {
   "cell_type": "code",
   "execution_count": 37,
   "metadata": {},
   "outputs": [],
   "source": [
    "# GRADED FUNCTION: propagate\n",
    "\n",
    "def propagate(w, b, X, Y):\n",
    "    \"\"\"\n",
    "    Implement the cost function and its gradient for the propagation explained above\n",
    "\n",
    "    Arguments:\n",
    "    w -- weights, a numpy array of size (num_px * num_px * 3, 1)\n",
    "    b -- bias, a scalar\n",
    "    X -- data of size (num_px * num_px * 3, number of examples)\n",
    "    Y -- true \"label\" vector (containing 0 if non-cat, 1 if cat) of size (1, number of examples)\n",
    "\n",
    "    Return:\n",
    "    cost -- negative log-likelihood cost for logistic regression\n",
    "    dw -- gradient of the loss with respect to w, thus same shape as w\n",
    "    db -- gradient of the loss with respect to b, thus same shape as b\n",
    "    \"\"\"\n",
    "    \n",
    "    m = X.shape[1]\n",
    "    \n",
    "    # FORWARD PROPAGATION (FROM X TO COST)\n",
    "    ### START CODE HERE ### (≈ 2 lines of code)\n",
    "    A = sigmoid(np.dot(w.T, X) + b)                                           # compute activation\n",
    "    cost = -1 / m * np.sum(Y * np.log(A) + (1-Y) * np.log(1-A))                                 # compute cost\n",
    "    ### END CODE HERE ###\n",
    "    \n",
    "    # BACKWARD PROPAGATION (TO FIND GRAD)\n",
    "    ### START CODE HERE ### (≈ 2 lines of code)\n",
    "    dw = (1/m)*np.dot(X, (A-Y).T)\n",
    "    db = (1/m)*np.sum((A - Y))\n",
    "    ### END CODE HERE ###\n",
    "\n",
    "    assert(dw.shape == w.shape)\n",
    "    assert(db.dtype == float)\n",
    "    cost = np.squeeze(cost)\n",
    "    assert(cost.shape == ())\n",
    "    \n",
    "    grads = {\"dw\": dw,\n",
    "             \"db\": db}\n",
    "    \n",
    "    return grads, cost"
   ]
  },
  {
   "cell_type": "code",
   "execution_count": 38,
   "metadata": {},
   "outputs": [],
   "source": [
    "# GRADED FUNCTION: optimize\n",
    "\n",
    "def optimize(w, b, X, Y, num_iterations, learning_rate, print_cost = False):\n",
    "    \"\"\"\n",
    "    This function optimizes w and b by running a gradient descent algorithm\n",
    "    \n",
    "    Arguments:\n",
    "    w -- weights, a numpy array of size (num_px * num_px * 3, 1)\n",
    "    b -- bias, a scalar\n",
    "    X -- data of shape (num_px * num_px * 3, number of examples)\n",
    "    Y -- true \"label\" vector (containing 0 if non-cat, 1 if cat), of shape (1, number of examples)\n",
    "    num_iterations -- number of iterations of the optimization loop\n",
    "    learning_rate -- learning rate of the gradient descent update rule\n",
    "    print_cost -- True to print the loss every 100 steps\n",
    "    \n",
    "    Returns:\n",
    "    params -- dictionary containing the weights w and bias b\n",
    "    grads -- dictionary containing the gradients of the weights and bias with respect to the cost function\n",
    "    costs -- list of all the costs computed during the optimization, this will be used to plot the learning curve.\n",
    "    \n",
    "    Tips:\n",
    "    You basically need to write down two steps and iterate through them:\n",
    "        1) Calculate the cost and the gradient for the current parameters. Use propagate().\n",
    "        2) Update the parameters using gradient descent rule for w and b.\n",
    "    \"\"\"\n",
    "    \n",
    "    costs = []\n",
    "    \n",
    "    for i in range(num_iterations):\n",
    "        \n",
    "        \n",
    "        # Cost and gradient calculation (≈ 1-4 lines of code)\n",
    "        ### START CODE HERE ### \n",
    "        grads, cost = propagate(w, b, X, Y)\n",
    "        ### END CODE HERE ###\n",
    "        \n",
    "        # Retrieve derivatives from grads\n",
    "        dw = grads[\"dw\"]\n",
    "        db = grads[\"db\"]\n",
    "        \n",
    "        # update rule (≈ 2 lines of code)\n",
    "        ### START CODE HERE ###\n",
    "        w = w - learning_rate*dw\n",
    "        b = b - learning_rate*db\n",
    "        ### END CODE HERE ###\n",
    "        \n",
    "        # Record the costs\n",
    "        if i % 10 == 0:\n",
    "            costs.append(cost)\n",
    "        \n",
    "        # Print the cost every 100 training iterations\n",
    "        if print_cost and i % 10 == 0:\n",
    "            print (\"Cost after iteration %i: %f\" %(i, cost))\n",
    "    \n",
    "    params = {\"w\": w,\n",
    "              \"b\": b}\n",
    "    \n",
    "    grads = {\"dw\": dw,\n",
    "             \"db\": db}\n",
    "    \n",
    "    return params, grads, costs"
   ]
  },
  {
   "cell_type": "code",
   "execution_count": 39,
   "metadata": {},
   "outputs": [],
   "source": [
    "# GRADED FUNCTION: predict\n",
    "\n",
    "def predict(w, b, X):\n",
    "    '''\n",
    "    Predict whether the label is 0 or 1 using learned logistic regression parameters (w, b)\n",
    "    \n",
    "    Arguments:\n",
    "    w -- weights, a numpy array of size (num_px * num_px * 3, 1)\n",
    "    b -- bias, a scalar\n",
    "    X -- data of size (num_px * num_px * 3, number of examples)\n",
    "    \n",
    "    Returns:\n",
    "    Y_prediction -- a numpy array (vector) containing all predictions (0/1) for the examples in X\n",
    "    '''\n",
    "    \n",
    "    m = X.shape[1]\n",
    "    Y_prediction = np.zeros((1,m))\n",
    "    w = w.reshape(X.shape[0], 1)\n",
    "    \n",
    "    # Compute vector \"A\" predicting the probabilities of a cat being present in the picture\n",
    "    ### START CODE HERE ### (≈ 1 line of code)\n",
    "    A = sigmoid(np.dot(w.T, X) + b)\n",
    "    ### END CODE HERE ###\n",
    "    \n",
    "    for i in range(A.shape[1]):\n",
    "        \n",
    "        # Convert probabilities A[0,i] to actual predictions p[0,i]\n",
    "        ### START CODE HERE ### (≈ 4 lines of code)\n",
    "        if A[0, i] > 0.5:\n",
    "            Y_prediction[0, i] = 1\n",
    "        else:\n",
    "            Y_prediction[0, i] = 0\n",
    "        ### END CODE HERE ###\n",
    "    \n",
    "    assert(Y_prediction.shape == (1, m))\n",
    "    \n",
    "    return Y_prediction"
   ]
  },
  {
   "cell_type": "code",
   "execution_count": 40,
   "metadata": {},
   "outputs": [],
   "source": [
    "# GRADED FUNCTION: model\n",
    "\n",
    "def model(X_train, Y_train, X_test, Y_test, num_iterations = 2000, learning_rate = 0.5, print_cost = False):\n",
    "    \"\"\"\n",
    "    Builds the logistic regression model by calling the function you've implemented previously\n",
    "    \n",
    "    Arguments:\n",
    "    X_train -- training set represented by a numpy array of shape (num_px * num_px * 3, m_train)\n",
    "    Y_train -- training labels represented by a numpy array (vector) of shape (1, m_train)\n",
    "    X_test -- test set represented by a numpy array of shape (num_px * num_px * 3, m_test)\n",
    "    Y_test -- test labels represented by a numpy array (vector) of shape (1, m_test)\n",
    "    num_iterations -- hyperparameter representing the number of iterations to optimize the parameters\n",
    "    learning_rate -- hyperparameter representing the learning rate used in the update rule of optimize()\n",
    "    print_cost -- Set to true to print the cost every 100 iterations\n",
    "    \n",
    "    Returns:\n",
    "    d -- dictionary containing information about the model.\n",
    "    \"\"\"\n",
    "    \n",
    "    ### START CODE HERE ###\n",
    "    \n",
    "    # initialize parameters with zeros (≈ 1 line of code)\n",
    "    w, b = initialize_with_zeros(X_train.shape[0])\n",
    "\n",
    "    # Gradient descent (≈ 1 line of code)\n",
    "    parameters, grads, costs = optimize(w, b, X_train, Y_train, num_iterations, learning_rate, print_cost)\n",
    "    \n",
    "    # Retrieve parameters w and b from dictionary \"parameters\"\n",
    "    w = parameters[\"w\"]\n",
    "    b = parameters[\"b\"]\n",
    "    \n",
    "    # Predict test/train set examples (≈ 2 lines of code)\n",
    "    Y_prediction_test = predict(w, b, X_test)\n",
    "    Y_prediction_train = predict(w, b, X_train)\n",
    "\n",
    "    ### END CODE HERE ###\n",
    "\n",
    "    # Print train/test Errors\n",
    "    print(\"train accuracy: {} %\".format(100 - np.mean(np.abs(Y_prediction_train - Y_train)) * 100))\n",
    "    print(\"test accuracy: {} %\".format(100 - np.mean(np.abs(Y_prediction_test - Y_test)) * 100))\n",
    "\n",
    "    \n",
    "    d = {\"costs\": costs,\n",
    "         \"Y_prediction_test\": Y_prediction_test, \n",
    "         \"Y_prediction_train\" : Y_prediction_train, \n",
    "         \"w\" : w, \n",
    "         \"b\" : b,\n",
    "         \"learning_rate\" : learning_rate,\n",
    "         \"num_iterations\": num_iterations}\n",
    "    \n",
    "    return d"
   ]
  },
  {
   "cell_type": "code",
   "execution_count": 41,
   "metadata": {},
   "outputs": [
    {
     "name": "stdout",
     "output_type": "stream",
     "text": [
      "Cost after iteration 0: 0.693147\n",
      "Cost after iteration 10: 0.267732\n",
      "Cost after iteration 20: 0.188354\n",
      "Cost after iteration 30: 0.152067\n",
      "Cost after iteration 40: 0.130502\n",
      "Cost after iteration 50: 0.115921\n",
      "Cost after iteration 60: 0.105291\n",
      "Cost after iteration 70: 0.097152\n",
      "Cost after iteration 80: 0.090700\n",
      "Cost after iteration 90: 0.085448\n",
      "Cost after iteration 100: 0.081083\n",
      "Cost after iteration 110: 0.077393\n",
      "Cost after iteration 120: 0.074228\n",
      "Cost after iteration 130: 0.071481\n",
      "Cost after iteration 140: 0.069069\n",
      "Cost after iteration 150: 0.066934\n",
      "Cost after iteration 160: 0.065027\n",
      "Cost after iteration 170: 0.063312\n",
      "Cost after iteration 180: 0.061760\n",
      "Cost after iteration 190: 0.060346\n",
      "train accuracy: 99.05255764603912 %\n",
      "test accuracy: 98.79941434846266 %\n"
     ]
    }
   ],
   "source": [
    "# d = model(train_set_x, train_set_y, test_set_x, test_set_y, num_iterations = 2000, learning_rate = 0.005, print_cost = True)\n",
    "\n",
    "a = model(train_x, train_y, cv_x, cv_y, num_iterations = 200, learning_rate = 0.2, print_cost = True)"
   ]
  },
  {
   "cell_type": "markdown",
   "metadata": {},
   "source": [
    "# preparing the test data"
   ]
  },
  {
   "cell_type": "code",
   "execution_count": 42,
   "metadata": {},
   "outputs": [
    {
     "data": {
      "text/plain": [
       "(33800065, 2)"
      ]
     },
     "execution_count": 42,
     "metadata": {},
     "output_type": "execute_result"
    }
   ],
   "source": [
    "# I1B1_non_nan_index consists the indices of all non-nan points in the input image\n",
    "\n",
    "I1B1_non_nan_index.shape"
   ]
  },
  {
   "cell_type": "code",
   "execution_count": 66,
   "metadata": {},
   "outputs": [],
   "source": [
    "# test_x = np.zeros((1, 33800065))"
   ]
  },
  {
   "cell_type": "code",
   "execution_count": 67,
   "metadata": {
    "collapsed": true
   },
   "outputs": [
    {
     "name": "stdout",
     "output_type": "stream",
     "text": [
      "E:\\Internship_Harvesting\\Dataset\\Bathinda_Cropland\\Masked_images\\I1B1.tif\n",
      "(8963, 8298)\n",
      "(2, 33800065)\n",
      "***************\n",
      "E:\\Internship_Harvesting\\Dataset\\Bathinda_Cropland\\Masked_images\\I1B2.tif\n",
      "(8963, 8298)\n",
      "(3, 33800065)\n",
      "***************\n",
      "E:\\Internship_Harvesting\\Dataset\\Bathinda_Cropland\\Masked_images\\I1B3.tif\n",
      "(8963, 8298)\n",
      "(4, 33800065)\n",
      "***************\n",
      "E:\\Internship_Harvesting\\Dataset\\Bathinda_Cropland\\Masked_images\\I1B4.tif\n",
      "(8963, 8298)\n",
      "(5, 33800065)\n",
      "***************\n",
      "E:\\Internship_Harvesting\\Dataset\\Bathinda_Cropland\\Masked_images\\I1B5.tif\n",
      "(8963, 8298)\n",
      "(6, 33800065)\n",
      "***************\n",
      "E:\\Internship_Harvesting\\Dataset\\Bathinda_Cropland\\Masked_images\\I2B1.tif\n",
      "(8963, 8298)\n",
      "(7, 33800065)\n",
      "***************\n",
      "E:\\Internship_Harvesting\\Dataset\\Bathinda_Cropland\\Masked_images\\I2B2.tif\n",
      "(8963, 8298)\n",
      "(8, 33800065)\n",
      "***************\n",
      "E:\\Internship_Harvesting\\Dataset\\Bathinda_Cropland\\Masked_images\\I2B3.tif\n",
      "(8963, 8298)\n",
      "(9, 33800065)\n",
      "***************\n",
      "E:\\Internship_Harvesting\\Dataset\\Bathinda_Cropland\\Masked_images\\I2B4.tif\n",
      "(8963, 8298)\n",
      "(10, 33800065)\n",
      "***************\n",
      "E:\\Internship_Harvesting\\Dataset\\Bathinda_Cropland\\Masked_images\\I2B5.tif\n",
      "(8963, 8298)\n",
      "(11, 33800065)\n",
      "***************\n",
      "E:\\Internship_Harvesting\\Dataset\\Bathinda_Cropland\\Masked_images\\I3B1.tif\n",
      "(8963, 8298)\n",
      "(12, 33800065)\n",
      "***************\n",
      "E:\\Internship_Harvesting\\Dataset\\Bathinda_Cropland\\Masked_images\\I3B2.tif\n",
      "(8963, 8298)\n",
      "(13, 33800065)\n",
      "***************\n",
      "E:\\Internship_Harvesting\\Dataset\\Bathinda_Cropland\\Masked_images\\I3B3.tif\n",
      "(8963, 8298)\n",
      "(14, 33800065)\n",
      "***************\n",
      "E:\\Internship_Harvesting\\Dataset\\Bathinda_Cropland\\Masked_images\\I3B4.tif\n",
      "(8963, 8298)\n",
      "(15, 33800065)\n",
      "***************\n",
      "E:\\Internship_Harvesting\\Dataset\\Bathinda_Cropland\\Masked_images\\I3B5.tif\n",
      "(8963, 8298)\n",
      "(16, 33800065)\n",
      "***************\n",
      "E:\\Internship_Harvesting\\Dataset\\Bathinda_Cropland\\Masked_images\\I4B1.tif\n",
      "(8963, 8298)\n",
      "(17, 33800065)\n",
      "***************\n",
      "E:\\Internship_Harvesting\\Dataset\\Bathinda_Cropland\\Masked_images\\I4B2.tif\n",
      "(8963, 8298)\n",
      "(18, 33800065)\n",
      "***************\n",
      "E:\\Internship_Harvesting\\Dataset\\Bathinda_Cropland\\Masked_images\\I4B3.tif\n",
      "(8963, 8298)\n",
      "(19, 33800065)\n",
      "***************\n",
      "E:\\Internship_Harvesting\\Dataset\\Bathinda_Cropland\\Masked_images\\I4B4.tif\n",
      "(8963, 8298)\n",
      "(20, 33800065)\n",
      "***************\n",
      "E:\\Internship_Harvesting\\Dataset\\Bathinda_Cropland\\Masked_images\\I4B5.tif\n",
      "(8963, 8298)\n",
      "(21, 33800065)\n",
      "***************\n",
      "E:\\Internship_Harvesting\\Dataset\\Bathinda_Cropland\\Masked_images\\I5B1.tif\n",
      "(8963, 8298)\n",
      "(22, 33800065)\n",
      "***************\n",
      "E:\\Internship_Harvesting\\Dataset\\Bathinda_Cropland\\Masked_images\\I5B2.tif\n",
      "(8963, 8298)\n",
      "(23, 33800065)\n",
      "***************\n",
      "E:\\Internship_Harvesting\\Dataset\\Bathinda_Cropland\\Masked_images\\I5B3.tif\n",
      "(8963, 8298)\n",
      "(24, 33800065)\n",
      "***************\n",
      "E:\\Internship_Harvesting\\Dataset\\Bathinda_Cropland\\Masked_images\\I5B4.tif\n",
      "(8963, 8298)\n",
      "(25, 33800065)\n",
      "***************\n",
      "E:\\Internship_Harvesting\\Dataset\\Bathinda_Cropland\\Masked_images\\I5B5.tif\n",
      "(8963, 8298)\n",
      "(26, 33800065)\n",
      "***************\n",
      "E:\\Internship_Harvesting\\Dataset\\Bathinda_Cropland\\Masked_images\\I6B1.tif\n",
      "(8963, 8298)\n"
     ]
    },
    {
     "ename": "MemoryError",
     "evalue": "Unable to allocate 6.80 GiB for an array with shape (27, 33800065) and data type float64",
     "output_type": "error",
     "traceback": [
      "\u001b[1;31m---------------------------------------------------------------------------\u001b[0m",
      "\u001b[1;31mMemoryError\u001b[0m                               Traceback (most recent call last)",
      "\u001b[1;32m<ipython-input-67-a88bc22546cb>\u001b[0m in \u001b[0;36m<module>\u001b[1;34m\u001b[0m\n\u001b[0;32m     15\u001b[0m     \u001b[0msample\u001b[0m \u001b[1;33m=\u001b[0m \u001b[0msample\u001b[0m\u001b[1;33m.\u001b[0m\u001b[0mreshape\u001b[0m\u001b[1;33m(\u001b[0m\u001b[1;36m1\u001b[0m\u001b[1;33m,\u001b[0m \u001b[1;36m33800065\u001b[0m\u001b[1;33m)\u001b[0m\u001b[1;33m\u001b[0m\u001b[1;33m\u001b[0m\u001b[0m\n\u001b[0;32m     16\u001b[0m \u001b[1;33m\u001b[0m\u001b[0m\n\u001b[1;32m---> 17\u001b[1;33m     \u001b[0mtest_x\u001b[0m \u001b[1;33m=\u001b[0m \u001b[0mnp\u001b[0m\u001b[1;33m.\u001b[0m\u001b[0mconcatenate\u001b[0m\u001b[1;33m(\u001b[0m\u001b[1;33m(\u001b[0m\u001b[0msample\u001b[0m\u001b[1;33m,\u001b[0m \u001b[0mtest_x\u001b[0m\u001b[1;33m)\u001b[0m\u001b[1;33m,\u001b[0m \u001b[0maxis\u001b[0m \u001b[1;33m=\u001b[0m \u001b[1;36m0\u001b[0m\u001b[1;33m)\u001b[0m\u001b[1;33m\u001b[0m\u001b[1;33m\u001b[0m\u001b[0m\n\u001b[0m\u001b[0;32m     18\u001b[0m \u001b[1;33m\u001b[0m\u001b[0m\n\u001b[0;32m     19\u001b[0m     \u001b[0mprint\u001b[0m\u001b[1;33m(\u001b[0m\u001b[0mtest_x\u001b[0m\u001b[1;33m.\u001b[0m\u001b[0mshape\u001b[0m\u001b[1;33m)\u001b[0m\u001b[1;33m\u001b[0m\u001b[1;33m\u001b[0m\u001b[0m\n",
      "\u001b[1;32m<__array_function__ internals>\u001b[0m in \u001b[0;36mconcatenate\u001b[1;34m(*args, **kwargs)\u001b[0m\n",
      "\u001b[1;31mMemoryError\u001b[0m: Unable to allocate 6.80 GiB for an array with shape (27, 33800065) and data type float64"
     ]
    }
   ],
   "source": [
    "# for p in path:\n",
    "#     print(p)\n",
    "    \n",
    "#     image = gdal.Open(p)\n",
    "    \n",
    "#     image_array = image.GetRasterBand(1).ReadAsArray()\n",
    "#     print(image_array.shape)\n",
    "#     sample = []\n",
    "    \n",
    "#     for i in range(I1B1_non_nan_index.shape[0]):\n",
    "#         sample.append(image_array[I1B1_non_nan_index[i,0], I1B1_non_nan_index[i,1]])\n",
    "        \n",
    "#     sample = np.array(sample)\n",
    "    \n",
    "#     sample = sample.reshape(1, 33800065)\n",
    "        \n",
    "#     test_x = np.concatenate((sample, test_x), axis = 0)\n",
    "    \n",
    "#     print(test_x.shape)\n",
    "    \n",
    "#     print(\"***************\")\n",
    "    "
   ]
  },
  {
   "cell_type": "markdown",
   "metadata": {},
   "source": [
    "# as it is not able to load the test set in one array we split it in 2 left and right equally"
   ]
  },
  {
   "cell_type": "code",
   "execution_count": 43,
   "metadata": {},
   "outputs": [
    {
     "data": {
      "text/plain": [
       "(8963, 8298)"
      ]
     },
     "execution_count": 43,
     "metadata": {},
     "output_type": "execute_result"
    }
   ],
   "source": [
    "I1B1_array.shape"
   ]
  },
  {
   "cell_type": "code",
   "execution_count": 44,
   "metadata": {},
   "outputs": [
    {
     "data": {
      "text/plain": [
       "(8963, 4149)"
      ]
     },
     "execution_count": 44,
     "metadata": {},
     "output_type": "execute_result"
    }
   ],
   "source": [
    "I1B1_left = I1B1_array[:, :4149]\n",
    "I1B1_left.shape"
   ]
  },
  {
   "cell_type": "code",
   "execution_count": 45,
   "metadata": {},
   "outputs": [],
   "source": [
    "I1B1_right = I1B1_array[:, 4149:]"
   ]
  },
  {
   "cell_type": "code",
   "execution_count": 46,
   "metadata": {},
   "outputs": [
    {
     "data": {
      "text/plain": [
       "(24096612, 13090875)"
      ]
     },
     "execution_count": 46,
     "metadata": {},
     "output_type": "execute_result"
    }
   ],
   "source": [
    "np.count_nonzero(np.isnan(I1B1_left)), np.count_nonzero(~np.isnan(I1B1_left))"
   ]
  },
  {
   "cell_type": "markdown",
   "metadata": {},
   "source": [
    "# there are 13090875 pixels with non nan values in left side of the image,  extracting indices of those pixels"
   ]
  },
  {
   "cell_type": "code",
   "execution_count": 47,
   "metadata": {},
   "outputs": [
    {
     "data": {
      "text/plain": [
       "array([[nan, nan, nan, ..., nan, nan, nan],\n",
       "       [nan, nan, nan, ..., nan, nan, nan],\n",
       "       [nan, nan, nan, ..., nan, nan, nan],\n",
       "       ...,\n",
       "       [nan, nan, nan, ..., nan, nan, nan],\n",
       "       [nan, nan, nan, ..., nan, nan, nan],\n",
       "       [nan, nan, nan, ..., nan, nan, nan]])"
      ]
     },
     "execution_count": 47,
     "metadata": {},
     "output_type": "execute_result"
    }
   ],
   "source": [
    "I1B1_left"
   ]
  },
  {
   "cell_type": "code",
   "execution_count": 48,
   "metadata": {},
   "outputs": [
    {
     "data": {
      "image/png": "[encoded data removed]",
      "text/plain": [
       "<Figure size 432x288 with 1 Axes>"
      ]
     },
     "metadata": {
      "needs_background": "light"
     },
     "output_type": "display_data"
    }
   ],
   "source": [
    "plt.imshow(I1B1_left)\n",
    "plt.show()"
   ]
  },
  {
   "cell_type": "code",
   "execution_count": 49,
   "metadata": {},
   "outputs": [],
   "source": [
    "I1B1_left_non_nan_index = np.argwhere(~np.isnan(I1B1_left))"
   ]
  },
  {
   "cell_type": "code",
   "execution_count": 50,
   "metadata": {},
   "outputs": [
    {
     "data": {
      "text/plain": [
       "(13090875, 2)"
      ]
     },
     "execution_count": 50,
     "metadata": {},
     "output_type": "execute_result"
    }
   ],
   "source": [
    "I1B1_left_non_nan_index.shape"
   ]
  },
  {
   "cell_type": "code",
   "execution_count": 51,
   "metadata": {},
   "outputs": [
    {
     "data": {
      "text/plain": [
       "array([[2073, 3784],\n",
       "       [2073, 3785],\n",
       "       [2073, 3786],\n",
       "       ...,\n",
       "       [8077, 4096],\n",
       "       [8077, 4097],\n",
       "       [8077, 4098]], dtype=int64)"
      ]
     },
     "execution_count": 51,
     "metadata": {},
     "output_type": "execute_result"
    }
   ],
   "source": [
    "I1B1_left_non_nan_index"
   ]
  },
  {
   "cell_type": "code",
   "execution_count": 52,
   "metadata": {},
   "outputs": [],
   "source": [
    "test_x_left = np.zeros((1, 13090875))"
   ]
  },
  {
   "cell_type": "code",
   "execution_count": 53,
   "metadata": {},
   "outputs": [
    {
     "name": "stdout",
     "output_type": "stream",
     "text": [
      "E:\\Internship_Harvesting\\Dataset\\Bathinda_Cropland\\Masked_images\\I1B1.tif\n",
      "(8963, 8298)\n",
      "(2, 13090875)\n",
      "***************\n",
      "E:\\Internship_Harvesting\\Dataset\\Bathinda_Cropland\\Masked_images\\I1B2.tif\n",
      "(8963, 8298)\n",
      "(3, 13090875)\n",
      "***************\n",
      "E:\\Internship_Harvesting\\Dataset\\Bathinda_Cropland\\Masked_images\\I1B3.tif\n",
      "(8963, 8298)\n",
      "(4, 13090875)\n",
      "***************\n",
      "E:\\Internship_Harvesting\\Dataset\\Bathinda_Cropland\\Masked_images\\I1B4.tif\n",
      "(8963, 8298)\n",
      "(5, 13090875)\n",
      "***************\n",
      "E:\\Internship_Harvesting\\Dataset\\Bathinda_Cropland\\Masked_images\\I1B5.tif\n",
      "(8963, 8298)\n",
      "(6, 13090875)\n",
      "***************\n",
      "E:\\Internship_Harvesting\\Dataset\\Bathinda_Cropland\\Masked_images\\I2B1.tif\n",
      "(8963, 8298)\n",
      "(7, 13090875)\n",
      "***************\n",
      "E:\\Internship_Harvesting\\Dataset\\Bathinda_Cropland\\Masked_images\\I2B2.tif\n",
      "(8963, 8298)\n",
      "(8, 13090875)\n",
      "***************\n",
      "E:\\Internship_Harvesting\\Dataset\\Bathinda_Cropland\\Masked_images\\I2B3.tif\n",
      "(8963, 8298)\n",
      "(9, 13090875)\n",
      "***************\n",
      "E:\\Internship_Harvesting\\Dataset\\Bathinda_Cropland\\Masked_images\\I2B4.tif\n",
      "(8963, 8298)\n",
      "(10, 13090875)\n",
      "***************\n",
      "E:\\Internship_Harvesting\\Dataset\\Bathinda_Cropland\\Masked_images\\I2B5.tif\n",
      "(8963, 8298)\n",
      "(11, 13090875)\n",
      "***************\n",
      "E:\\Internship_Harvesting\\Dataset\\Bathinda_Cropland\\Masked_images\\I3B1.tif\n",
      "(8963, 8298)\n",
      "(12, 13090875)\n",
      "***************\n",
      "E:\\Internship_Harvesting\\Dataset\\Bathinda_Cropland\\Masked_images\\I3B2.tif\n",
      "(8963, 8298)\n",
      "(13, 13090875)\n",
      "***************\n",
      "E:\\Internship_Harvesting\\Dataset\\Bathinda_Cropland\\Masked_images\\I3B3.tif\n",
      "(8963, 8298)\n",
      "(14, 13090875)\n",
      "***************\n",
      "E:\\Internship_Harvesting\\Dataset\\Bathinda_Cropland\\Masked_images\\I3B4.tif\n",
      "(8963, 8298)\n",
      "(15, 13090875)\n",
      "***************\n",
      "E:\\Internship_Harvesting\\Dataset\\Bathinda_Cropland\\Masked_images\\I3B5.tif\n",
      "(8963, 8298)\n",
      "(16, 13090875)\n",
      "***************\n",
      "E:\\Internship_Harvesting\\Dataset\\Bathinda_Cropland\\Masked_images\\I4B1.tif\n",
      "(8963, 8298)\n",
      "(17, 13090875)\n",
      "***************\n",
      "E:\\Internship_Harvesting\\Dataset\\Bathinda_Cropland\\Masked_images\\I4B2.tif\n",
      "(8963, 8298)\n",
      "(18, 13090875)\n",
      "***************\n",
      "E:\\Internship_Harvesting\\Dataset\\Bathinda_Cropland\\Masked_images\\I4B3.tif\n",
      "(8963, 8298)\n",
      "(19, 13090875)\n",
      "***************\n",
      "E:\\Internship_Harvesting\\Dataset\\Bathinda_Cropland\\Masked_images\\I4B4.tif\n",
      "(8963, 8298)\n",
      "(20, 13090875)\n",
      "***************\n",
      "E:\\Internship_Harvesting\\Dataset\\Bathinda_Cropland\\Masked_images\\I4B5.tif\n",
      "(8963, 8298)\n",
      "(21, 13090875)\n",
      "***************\n",
      "E:\\Internship_Harvesting\\Dataset\\Bathinda_Cropland\\Masked_images\\I5B1.tif\n",
      "(8963, 8298)\n",
      "(22, 13090875)\n",
      "***************\n",
      "E:\\Internship_Harvesting\\Dataset\\Bathinda_Cropland\\Masked_images\\I5B2.tif\n",
      "(8963, 8298)\n",
      "(23, 13090875)\n",
      "***************\n",
      "E:\\Internship_Harvesting\\Dataset\\Bathinda_Cropland\\Masked_images\\I5B3.tif\n",
      "(8963, 8298)\n",
      "(24, 13090875)\n",
      "***************\n",
      "E:\\Internship_Harvesting\\Dataset\\Bathinda_Cropland\\Masked_images\\I5B4.tif\n",
      "(8963, 8298)\n",
      "(25, 13090875)\n",
      "***************\n",
      "E:\\Internship_Harvesting\\Dataset\\Bathinda_Cropland\\Masked_images\\I5B5.tif\n",
      "(8963, 8298)\n",
      "(26, 13090875)\n",
      "***************\n",
      "E:\\Internship_Harvesting\\Dataset\\Bathinda_Cropland\\Masked_images\\I6B1.tif\n",
      "(8963, 8298)\n",
      "(27, 13090875)\n",
      "***************\n",
      "E:\\Internship_Harvesting\\Dataset\\Bathinda_Cropland\\Masked_images\\I6B2.tif\n",
      "(8963, 8298)\n",
      "(28, 13090875)\n",
      "***************\n",
      "E:\\Internship_Harvesting\\Dataset\\Bathinda_Cropland\\Masked_images\\I6B3.tif\n",
      "(8963, 8298)\n",
      "(29, 13090875)\n",
      "***************\n",
      "E:\\Internship_Harvesting\\Dataset\\Bathinda_Cropland\\Masked_images\\I6B4.tif\n",
      "(8963, 8298)\n",
      "(30, 13090875)\n",
      "***************\n",
      "E:\\Internship_Harvesting\\Dataset\\Bathinda_Cropland\\Masked_images\\I6B5.tif\n",
      "(8963, 8298)\n",
      "(31, 13090875)\n",
      "***************\n"
     ]
    }
   ],
   "source": [
    "for p in path:\n",
    "    print(p)\n",
    "    \n",
    "    image = gdal.Open(p)\n",
    "    \n",
    "    image_array = image.GetRasterBand(1).ReadAsArray()\n",
    "    print(image_array.shape)\n",
    "    sample = []\n",
    "    \n",
    "    for i in range(I1B1_left_non_nan_index.shape[0]):\n",
    "        sample.append(image_array[I1B1_left_non_nan_index[i,0], I1B1_left_non_nan_index[i,1]])\n",
    "        \n",
    "    sample = np.array(sample)\n",
    "    \n",
    "    sample = sample.reshape(1, 13090875)\n",
    "        \n",
    "    test_x_left = np.concatenate((sample, test_x_left), axis = 0)\n",
    "    \n",
    "    print(test_x_left.shape)\n",
    "    \n",
    "    print(\"***************\")\n",
    "    "
   ]
  },
  {
   "cell_type": "code",
   "execution_count": 54,
   "metadata": {},
   "outputs": [
    {
     "data": {
      "text/plain": [
       "(31, 13090875)"
      ]
     },
     "execution_count": 54,
     "metadata": {},
     "output_type": "execute_result"
    }
   ],
   "source": [
    "test_x_left.shape"
   ]
  },
  {
   "cell_type": "code",
   "execution_count": 55,
   "metadata": {},
   "outputs": [
    {
     "data": {
      "text/plain": [
       "(30, 13090875)"
      ]
     },
     "execution_count": 55,
     "metadata": {},
     "output_type": "execute_result"
    }
   ],
   "source": [
    "test_x_left = test_x_left[:30, :]\n",
    "test_x_left.shape"
   ]
  },
  {
   "cell_type": "markdown",
   "metadata": {},
   "source": [
    "# feature normalizing on test left data"
   ]
  },
  {
   "cell_type": "code",
   "execution_count": 56,
   "metadata": {},
   "outputs": [
    {
     "data": {
      "text/plain": [
       "(334585, 31)"
      ]
     },
     "execution_count": 56,
     "metadata": {},
     "output_type": "execute_result"
    }
   ],
   "source": [
    "train_2.shape"
   ]
  },
  {
   "cell_type": "code",
   "execution_count": 57,
   "metadata": {},
   "outputs": [
    {
     "data": {
      "text/plain": [
       "(334585, 30)"
      ]
     },
     "execution_count": 57,
     "metadata": {},
     "output_type": "execute_result"
    }
   ],
   "source": [
    "train_x = train_2[:, :30]\n",
    "train_x.shape"
   ]
  },
  {
   "cell_type": "code",
   "execution_count": 58,
   "metadata": {},
   "outputs": [],
   "source": [
    "train_x = train_x.T"
   ]
  },
  {
   "cell_type": "code",
   "execution_count": 59,
   "metadata": {},
   "outputs": [
    {
     "data": {
      "text/plain": [
       "(30, 334585)"
      ]
     },
     "execution_count": 59,
     "metadata": {},
     "output_type": "execute_result"
    }
   ],
   "source": [
    "train_x.shape"
   ]
  },
  {
   "cell_type": "code",
   "execution_count": 60,
   "metadata": {},
   "outputs": [
    {
     "data": {
      "text/plain": [
       "array([[3759. , 3741. , 2573.5, ..., 2680.5, 3423.5, 3264.5],\n",
       "       [ 866.5,  921.5, 1006.5, ..., 1096.5,  918. ,  911. ],\n",
       "       [ 567.5,  666.5,  854. , ...,  716. ,  632. ,  594. ],\n",
       "       ...,\n",
       "       [ 885. ,  871. , 1010. , ...,  820. , 1081. ,  972. ],\n",
       "       [1175. , 1161. , 1205. , ..., 1101. , 1228. , 1261. ],\n",
       "       [1283. , 1193. , 1248. , ..., 1176. , 1232. , 1239. ]])"
      ]
     },
     "execution_count": 60,
     "metadata": {},
     "output_type": "execute_result"
    }
   ],
   "source": [
    "train_x"
   ]
  },
  {
   "cell_type": "code",
   "execution_count": 61,
   "metadata": {},
   "outputs": [],
   "source": [
    "for i in range(train_x.shape[0]):\n",
    "    averg = np.mean(train_x[i, :])\n",
    "    std_dev = np.std(train_x[i, :])\n",
    "    #print(train_x[i, :])\n",
    "    #print(a,\" : \", b ,\"\\n\")\n",
    "    #train_x[i, :] = (train_x[i, :] - averg) / std_dev\n",
    "    #cv_x[i, :] = (cv_x[i, :] - averg) / std_dev\n",
    "    test_x_left[i, :] = (test_x_left[i, :] - averg) / std_dev"
   ]
  },
  {
   "cell_type": "code",
   "execution_count": 62,
   "metadata": {},
   "outputs": [
    {
     "data": {
      "text/plain": [
       "array([[ 0.33427014,  0.45430335,  0.32055206, ...,  0.03247238,\n",
       "        -0.00639552,  0.02789968],\n",
       "       [-0.47866188, -0.47866188, -0.47866188, ..., -0.41711629,\n",
       "        -0.45404364, -0.45404364],\n",
       "       [-0.35725156, -0.37018826, -0.27445666, ..., -0.34948953,\n",
       "        -0.3857123 , -0.41158571],\n",
       "       ...,\n",
       "       [-0.45688461, -0.73791121, -0.69294696, ..., -0.55243366,\n",
       "        -0.49622834, -0.3500945 ],\n",
       "       [-0.29107116, -0.30106784, -0.59097181, ..., -0.3410546 ,\n",
       "        -0.30106784, -0.20110096],\n",
       "       [-0.75409889, -0.81406598, -0.75409889, ...,  0.1813877 ,\n",
       "         0.24135478,  0.2533482 ]])"
      ]
     },
     "execution_count": 62,
     "metadata": {},
     "output_type": "execute_result"
    }
   ],
   "source": [
    "test_x_left"
   ]
  },
  {
   "cell_type": "markdown",
   "metadata": {},
   "source": [
    "# predicting the cluster allocation of test_x_left dataset"
   ]
  },
  {
   "cell_type": "code",
   "execution_count": 63,
   "metadata": {},
   "outputs": [
    {
     "name": "stdout",
     "output_type": "stream",
     "text": [
      "\n",
      "\n",
      " costs   :::   [0.6931471805599446, 0.2677321080647614, 0.1883542075786431, 0.15206665976317368, 0.13050221351681676, 0.11592075516822158, 0.10529082472341791, 0.09715191480129388, 0.09069950094803576, 0.08544766847232739, 0.08108293379820673, 0.07739291322960647, 0.07422820597138517, 0.07148053197653866, 0.0690694724214439, 0.06693406072594656, 0.06502725342907918, 0.06331218484000359, 0.06175956592910818, 0.06034583902272511]\n",
      "\n",
      "\n",
      " Y_prediction_test   :::   [[0. 0. 0. ... 0. 1. 1.]]\n",
      "\n",
      "\n",
      " Y_prediction_train   :::   [[0. 0. 0. ... 0. 0. 0.]]\n",
      "\n",
      "\n",
      " w   :::   [[ 0.0151659 ]\n",
      " [-0.05459016]\n",
      " [-0.04399862]\n",
      " [-0.02326798]\n",
      " [ 0.00760842]\n",
      " [ 0.0088829 ]\n",
      " [ 0.00573813]\n",
      " [ 0.00098612]\n",
      " [ 0.06631144]\n",
      " [ 0.11850101]\n",
      " [-0.02452301]\n",
      " [-0.00567501]\n",
      " [-0.01279857]\n",
      " [-0.01717399]\n",
      " [-0.03351027]\n",
      " [ 0.83701524]\n",
      " [ 0.84812621]\n",
      " [ 0.84003658]\n",
      " [ 0.81744052]\n",
      " [ 0.79130838]\n",
      " [ 0.01572274]\n",
      " [-0.01939919]\n",
      " [-0.0303058 ]\n",
      " [-0.04928187]\n",
      " [-0.0018698 ]\n",
      " [ 0.02865947]\n",
      " [-0.01805522]\n",
      " [ 0.01157781]\n",
      " [-0.00183914]\n",
      " [ 0.07367462]]\n",
      "\n",
      "\n",
      " b   :::   -2.447436960359264\n",
      "\n",
      "\n",
      " learning_rate   :::   0.2\n",
      "\n",
      "\n",
      " num_iterations   :::   200\n"
     ]
    }
   ],
   "source": [
    "for i in a:\n",
    "    print(\"\\n\\n\", i,\"  :::  \", a[i])"
   ]
  },
  {
   "cell_type": "code",
   "execution_count": 64,
   "metadata": {},
   "outputs": [],
   "source": [
    "test_y_left = predict(a[\"w\"], a[\"b\"], test_x_left)"
   ]
  },
  {
   "cell_type": "code",
   "execution_count": 65,
   "metadata": {},
   "outputs": [
    {
     "data": {
      "text/plain": [
       "61.0"
      ]
     },
     "execution_count": 65,
     "metadata": {},
     "output_type": "execute_result"
    }
   ],
   "source": [
    "np.sum(test_y_left)"
   ]
  },
  {
   "cell_type": "code",
   "execution_count": 66,
   "metadata": {},
   "outputs": [
    {
     "data": {
      "text/plain": [
       "(1, 13090875)"
      ]
     },
     "execution_count": 66,
     "metadata": {},
     "output_type": "execute_result"
    }
   ],
   "source": [
    "test_y_left.shape"
   ]
  },
  {
   "cell_type": "markdown",
   "metadata": {},
   "source": [
    "# now mapping these values of 0 and 1 on the result image which is the output image of 8963*8298 size, having 33800065 values among 0 and 1 and rest are corresponding to nan values"
   ]
  },
  {
   "cell_type": "code",
   "execution_count": 67,
   "metadata": {},
   "outputs": [
    {
     "data": {
      "text/plain": [
       "(13090875, 2)"
      ]
     },
     "execution_count": 67,
     "metadata": {},
     "output_type": "execute_result"
    }
   ],
   "source": [
    "I1B1_left_non_nan_index.shape"
   ]
  },
  {
   "cell_type": "code",
   "execution_count": 68,
   "metadata": {},
   "outputs": [],
   "source": [
    "test_y_left = test_y_left.T"
   ]
  },
  {
   "cell_type": "code",
   "execution_count": 69,
   "metadata": {},
   "outputs": [
    {
     "data": {
      "text/plain": [
       "(13090875, 1)"
      ]
     },
     "execution_count": 69,
     "metadata": {},
     "output_type": "execute_result"
    }
   ],
   "source": [
    "test_y_left.shape"
   ]
  },
  {
   "cell_type": "code",
   "execution_count": 70,
   "metadata": {},
   "outputs": [],
   "source": [
    "test_y_left = test_y_left.astype(\"int\")"
   ]
  },
  {
   "cell_type": "code",
   "execution_count": 71,
   "metadata": {},
   "outputs": [],
   "source": [
    "result_index_left = np.concatenate((I1B1_left_non_nan_index, test_y_left), axis = 1)"
   ]
  },
  {
   "cell_type": "code",
   "execution_count": 72,
   "metadata": {},
   "outputs": [
    {
     "data": {
      "text/plain": [
       "(13090875, 3)"
      ]
     },
     "execution_count": 72,
     "metadata": {},
     "output_type": "execute_result"
    }
   ],
   "source": [
    "result_index_left.shape"
   ]
  },
  {
   "cell_type": "code",
   "execution_count": 73,
   "metadata": {},
   "outputs": [
    {
     "data": {
      "text/plain": [
       "array([[2073, 3784,    0],\n",
       "       [2073, 3785,    0],\n",
       "       [2073, 3786,    0],\n",
       "       ...,\n",
       "       [8077, 4096,    0],\n",
       "       [8077, 4097,    0],\n",
       "       [8077, 4098,    0]], dtype=int64)"
      ]
     },
     "execution_count": 73,
     "metadata": {},
     "output_type": "execute_result"
    }
   ],
   "source": [
    "result_index_left"
   ]
  },
  {
   "cell_type": "code",
   "execution_count": 74,
   "metadata": {},
   "outputs": [],
   "source": [
    "result_left = np.zeros((8963, 4149))"
   ]
  },
  {
   "cell_type": "code",
   "execution_count": 75,
   "metadata": {},
   "outputs": [],
   "source": [
    "result_left[:] = 128"
   ]
  },
  {
   "cell_type": "code",
   "execution_count": 76,
   "metadata": {},
   "outputs": [],
   "source": [
    "result_left = result_left.astype(\"int\")"
   ]
  },
  {
   "cell_type": "code",
   "execution_count": 77,
   "metadata": {},
   "outputs": [
    {
     "data": {
      "text/plain": [
       "array([[128, 128, 128, ..., 128, 128, 128],\n",
       "       [128, 128, 128, ..., 128, 128, 128],\n",
       "       [128, 128, 128, ..., 128, 128, 128],\n",
       "       ...,\n",
       "       [128, 128, 128, ..., 128, 128, 128],\n",
       "       [128, 128, 128, ..., 128, 128, 128],\n",
       "       [128, 128, 128, ..., 128, 128, 128]])"
      ]
     },
     "execution_count": 77,
     "metadata": {},
     "output_type": "execute_result"
    }
   ],
   "source": [
    "result_left"
   ]
  },
  {
   "cell_type": "code",
   "execution_count": 78,
   "metadata": {},
   "outputs": [],
   "source": [
    "for i in range(result_index_left.shape[0]):\n",
    "    result_left[result_index_left[i,0], result_index_left[i,1]] = result_index_left[i, 2]"
   ]
  },
  {
   "cell_type": "code",
   "execution_count": 79,
   "metadata": {},
   "outputs": [
    {
     "data": {
      "text/plain": [
       "array([[128, 128, 128, ..., 128, 128, 128],\n",
       "       [128, 128, 128, ..., 128, 128, 128],\n",
       "       [128, 128, 128, ..., 128, 128, 128],\n",
       "       ...,\n",
       "       [128, 128, 128, ..., 128, 128, 128],\n",
       "       [128, 128, 128, ..., 128, 128, 128],\n",
       "       [128, 128, 128, ..., 128, 128, 128]])"
      ]
     },
     "execution_count": 79,
     "metadata": {},
     "output_type": "execute_result"
    }
   ],
   "source": [
    "result_left"
   ]
  },
  {
   "cell_type": "code",
   "execution_count": 88,
   "metadata": {},
   "outputs": [
    {
     "data": {
      "text/plain": [
       "array([  0, 128, 255], dtype=uint8)"
      ]
     },
     "execution_count": 88,
     "metadata": {},
     "output_type": "execute_result"
    }
   ],
   "source": [
    "np.unique(result_left)"
   ]
  },
  {
   "cell_type": "code",
   "execution_count": 81,
   "metadata": {},
   "outputs": [],
   "source": [
    "result_left[result_left[:] == 0] = 255"
   ]
  },
  {
   "cell_type": "code",
   "execution_count": 82,
   "metadata": {},
   "outputs": [
    {
     "data": {
      "text/plain": [
       "array([  1, 128, 255])"
      ]
     },
     "execution_count": 82,
     "metadata": {},
     "output_type": "execute_result"
    }
   ],
   "source": [
    "np.unique(result_left)"
   ]
  },
  {
   "cell_type": "code",
   "execution_count": 83,
   "metadata": {},
   "outputs": [],
   "source": [
    "result_left[result_left[:] == 1] = 0"
   ]
  },
  {
   "cell_type": "code",
   "execution_count": 84,
   "metadata": {},
   "outputs": [
    {
     "data": {
      "text/plain": [
       "array([  0, 128, 255])"
      ]
     },
     "execution_count": 84,
     "metadata": {},
     "output_type": "execute_result"
    }
   ],
   "source": [
    "np.unique(result_left)"
   ]
  },
  {
   "cell_type": "code",
   "execution_count": 85,
   "metadata": {},
   "outputs": [],
   "source": [
    "# here 0 --> 1 during classification(minority)\n",
    "# 255 --> 0 during classification(majority)\n",
    "# 128 --> nan values (non-agri plus outside boundary)"
   ]
  },
  {
   "cell_type": "code",
   "execution_count": 86,
   "metadata": {},
   "outputs": [],
   "source": [
    "result_left = result_left.astype(\"uint8\")"
   ]
  },
  {
   "cell_type": "code",
   "execution_count": 87,
   "metadata": {},
   "outputs": [],
   "source": [
    "io.imsave(\"E:\\\\Internship_Harvesting\\\\Unsupervised_Result_Image\\\\left.jpg\", result_left)"
   ]
  },
  {
   "cell_type": "markdown",
   "metadata": {},
   "source": [
    "# doing the same process on the test_x_right"
   ]
  },
  {
   "cell_type": "code",
   "execution_count": 51,
   "metadata": {},
   "outputs": [
    {
     "data": {
      "text/plain": [
       "array([[nan, nan, nan, ..., nan, nan, nan],\n",
       "       [nan, nan, nan, ..., nan, nan, nan],\n",
       "       [nan, nan, nan, ..., nan, nan, nan],\n",
       "       ...,\n",
       "       [nan, nan, nan, ..., nan, nan, nan],\n",
       "       [nan, nan, nan, ..., nan, nan, nan],\n",
       "       [nan, nan, nan, ..., nan, nan, nan]])"
      ]
     },
     "execution_count": 51,
     "metadata": {},
     "output_type": "execute_result"
    }
   ],
   "source": [
    "I1B1_right"
   ]
  },
  {
   "cell_type": "code",
   "execution_count": 52,
   "metadata": {},
   "outputs": [
    {
     "data": {
      "text/plain": [
       "(16478297, 20709190)"
      ]
     },
     "execution_count": 52,
     "metadata": {},
     "output_type": "execute_result"
    }
   ],
   "source": [
    "np.count_nonzero(np.isnan(I1B1_right)), np.count_nonzero(~np.isnan(I1B1_right))"
   ]
  },
  {
   "cell_type": "code",
   "execution_count": 53,
   "metadata": {},
   "outputs": [
    {
     "data": {
      "image/png": "[encoded data removed]",
      "text/plain": [
       "<Figure size 432x288 with 1 Axes>"
      ]
     },
     "metadata": {
      "needs_background": "light"
     },
     "output_type": "display_data"
    }
   ],
   "source": [
    "plt.imshow(I1B1_right)\n",
    "plt.show()"
   ]
  },
  {
   "cell_type": "code",
   "execution_count": 60,
   "metadata": {},
   "outputs": [],
   "source": [
    "# there are 20709190 pixels with non nan values in right side of the image,  extracting indices of those pixels\n",
    "\n",
    "I1B1_right_non_nan_index = np.argwhere(~np.isnan(I1B1_right))"
   ]
  },
  {
   "cell_type": "code",
   "execution_count": 61,
   "metadata": {},
   "outputs": [
    {
     "data": {
      "text/plain": [
       "(20709190, 2)"
      ]
     },
     "execution_count": 61,
     "metadata": {},
     "output_type": "execute_result"
    }
   ],
   "source": [
    "I1B1_right_non_nan_index.shape"
   ]
  },
  {
   "cell_type": "code",
   "execution_count": 62,
   "metadata": {},
   "outputs": [
    {
     "data": {
      "text/plain": [
       "array([[   0, 1589],\n",
       "       [   0, 1590],\n",
       "       [   0, 1591],\n",
       "       ...,\n",
       "       [8962, 1639],\n",
       "       [8962, 1640],\n",
       "       [8962, 1641]], dtype=int64)"
      ]
     },
     "execution_count": 62,
     "metadata": {},
     "output_type": "execute_result"
    }
   ],
   "source": [
    "I1B1_right_non_nan_index"
   ]
  },
  {
   "cell_type": "code",
   "execution_count": 63,
   "metadata": {},
   "outputs": [],
   "source": [
    "I1B1_right_non_nan_index[:, 1] = I1B1_right_non_nan_index[:, 1] + 4149"
   ]
  },
  {
   "cell_type": "code",
   "execution_count": 64,
   "metadata": {},
   "outputs": [
    {
     "data": {
      "text/plain": [
       "array([[   0, 5738],\n",
       "       [   0, 5739],\n",
       "       [   0, 5740],\n",
       "       ...,\n",
       "       [8962, 5788],\n",
       "       [8962, 5789],\n",
       "       [8962, 5790]], dtype=int64)"
      ]
     },
     "execution_count": 64,
     "metadata": {},
     "output_type": "execute_result"
    }
   ],
   "source": [
    "I1B1_right_non_nan_index"
   ]
  },
  {
   "cell_type": "code",
   "execution_count": 65,
   "metadata": {},
   "outputs": [],
   "source": [
    "test_x_right = np.zeros((1, 20709190))"
   ]
  },
  {
   "cell_type": "code",
   "execution_count": 66,
   "metadata": {},
   "outputs": [
    {
     "name": "stdout",
     "output_type": "stream",
     "text": [
      "E:\\Internship_Harvesting\\Dataset\\Bathinda_Cropland\\Masked_images\\I1B1.tif\n",
      "(8963, 8298)\n",
      "(2, 20709190)\n",
      "***************\n",
      "E:\\Internship_Harvesting\\Dataset\\Bathinda_Cropland\\Masked_images\\I1B2.tif\n",
      "(8963, 8298)\n",
      "(3, 20709190)\n",
      "***************\n",
      "E:\\Internship_Harvesting\\Dataset\\Bathinda_Cropland\\Masked_images\\I1B3.tif\n",
      "(8963, 8298)\n",
      "(4, 20709190)\n",
      "***************\n",
      "E:\\Internship_Harvesting\\Dataset\\Bathinda_Cropland\\Masked_images\\I1B4.tif\n",
      "(8963, 8298)\n",
      "(5, 20709190)\n",
      "***************\n",
      "E:\\Internship_Harvesting\\Dataset\\Bathinda_Cropland\\Masked_images\\I1B5.tif\n",
      "(8963, 8298)\n",
      "(6, 20709190)\n",
      "***************\n",
      "E:\\Internship_Harvesting\\Dataset\\Bathinda_Cropland\\Masked_images\\I2B1.tif\n",
      "(8963, 8298)\n",
      "(7, 20709190)\n",
      "***************\n",
      "E:\\Internship_Harvesting\\Dataset\\Bathinda_Cropland\\Masked_images\\I2B2.tif\n",
      "(8963, 8298)\n",
      "(8, 20709190)\n",
      "***************\n",
      "E:\\Internship_Harvesting\\Dataset\\Bathinda_Cropland\\Masked_images\\I2B3.tif\n",
      "(8963, 8298)\n",
      "(9, 20709190)\n",
      "***************\n",
      "E:\\Internship_Harvesting\\Dataset\\Bathinda_Cropland\\Masked_images\\I2B4.tif\n",
      "(8963, 8298)\n",
      "(10, 20709190)\n",
      "***************\n",
      "E:\\Internship_Harvesting\\Dataset\\Bathinda_Cropland\\Masked_images\\I2B5.tif\n",
      "(8963, 8298)\n",
      "(11, 20709190)\n",
      "***************\n",
      "E:\\Internship_Harvesting\\Dataset\\Bathinda_Cropland\\Masked_images\\I3B1.tif\n",
      "(8963, 8298)\n",
      "(12, 20709190)\n",
      "***************\n",
      "E:\\Internship_Harvesting\\Dataset\\Bathinda_Cropland\\Masked_images\\I3B2.tif\n",
      "(8963, 8298)\n",
      "(13, 20709190)\n",
      "***************\n",
      "E:\\Internship_Harvesting\\Dataset\\Bathinda_Cropland\\Masked_images\\I3B3.tif\n",
      "(8963, 8298)\n",
      "(14, 20709190)\n",
      "***************\n",
      "E:\\Internship_Harvesting\\Dataset\\Bathinda_Cropland\\Masked_images\\I3B4.tif\n",
      "(8963, 8298)\n",
      "(15, 20709190)\n",
      "***************\n",
      "E:\\Internship_Harvesting\\Dataset\\Bathinda_Cropland\\Masked_images\\I3B5.tif\n",
      "(8963, 8298)\n",
      "(16, 20709190)\n",
      "***************\n",
      "E:\\Internship_Harvesting\\Dataset\\Bathinda_Cropland\\Masked_images\\I4B1.tif\n",
      "(8963, 8298)\n",
      "(17, 20709190)\n",
      "***************\n",
      "E:\\Internship_Harvesting\\Dataset\\Bathinda_Cropland\\Masked_images\\I4B2.tif\n",
      "(8963, 8298)\n",
      "(18, 20709190)\n",
      "***************\n",
      "E:\\Internship_Harvesting\\Dataset\\Bathinda_Cropland\\Masked_images\\I4B3.tif\n",
      "(8963, 8298)\n",
      "(19, 20709190)\n",
      "***************\n",
      "E:\\Internship_Harvesting\\Dataset\\Bathinda_Cropland\\Masked_images\\I4B4.tif\n",
      "(8963, 8298)\n",
      "(20, 20709190)\n",
      "***************\n",
      "E:\\Internship_Harvesting\\Dataset\\Bathinda_Cropland\\Masked_images\\I4B5.tif\n",
      "(8963, 8298)\n",
      "(21, 20709190)\n",
      "***************\n",
      "E:\\Internship_Harvesting\\Dataset\\Bathinda_Cropland\\Masked_images\\I5B1.tif\n",
      "(8963, 8298)\n",
      "(22, 20709190)\n",
      "***************\n",
      "E:\\Internship_Harvesting\\Dataset\\Bathinda_Cropland\\Masked_images\\I5B2.tif\n",
      "(8963, 8298)\n",
      "(23, 20709190)\n",
      "***************\n",
      "E:\\Internship_Harvesting\\Dataset\\Bathinda_Cropland\\Masked_images\\I5B3.tif\n",
      "(8963, 8298)\n",
      "(24, 20709190)\n",
      "***************\n",
      "E:\\Internship_Harvesting\\Dataset\\Bathinda_Cropland\\Masked_images\\I5B4.tif\n",
      "(8963, 8298)\n",
      "(25, 20709190)\n",
      "***************\n",
      "E:\\Internship_Harvesting\\Dataset\\Bathinda_Cropland\\Masked_images\\I5B5.tif\n",
      "(8963, 8298)\n",
      "(26, 20709190)\n",
      "***************\n",
      "E:\\Internship_Harvesting\\Dataset\\Bathinda_Cropland\\Masked_images\\I6B1.tif\n",
      "(8963, 8298)\n",
      "(27, 20709190)\n",
      "***************\n",
      "E:\\Internship_Harvesting\\Dataset\\Bathinda_Cropland\\Masked_images\\I6B2.tif\n",
      "(8963, 8298)\n",
      "(28, 20709190)\n",
      "***************\n",
      "E:\\Internship_Harvesting\\Dataset\\Bathinda_Cropland\\Masked_images\\I6B3.tif\n",
      "(8963, 8298)\n",
      "(29, 20709190)\n",
      "***************\n",
      "E:\\Internship_Harvesting\\Dataset\\Bathinda_Cropland\\Masked_images\\I6B4.tif\n",
      "(8963, 8298)\n",
      "(30, 20709190)\n",
      "***************\n",
      "E:\\Internship_Harvesting\\Dataset\\Bathinda_Cropland\\Masked_images\\I6B5.tif\n",
      "(8963, 8298)\n",
      "(31, 20709190)\n",
      "***************\n"
     ]
    }
   ],
   "source": [
    "for p in path:\n",
    "    print(p)\n",
    "    \n",
    "    image = gdal.Open(p)\n",
    "    \n",
    "    image_array = image.GetRasterBand(1).ReadAsArray()\n",
    "    print(image_array.shape)\n",
    "    sample = []\n",
    "    \n",
    "    for i in range(I1B1_right_non_nan_index.shape[0]):\n",
    "        sample.append(image_array[I1B1_right_non_nan_index[i,0], I1B1_right_non_nan_index[i,1]])\n",
    "        \n",
    "    sample = np.array(sample)\n",
    "    \n",
    "    sample = sample.reshape(1, 20709190)\n",
    "        \n",
    "    test_x_right = np.concatenate((sample, test_x_right), axis = 0)\n",
    "    \n",
    "    print(test_x_right.shape)\n",
    "    \n",
    "    print(\"***************\")\n",
    "    "
   ]
  },
  {
   "cell_type": "code",
   "execution_count": 67,
   "metadata": {},
   "outputs": [
    {
     "data": {
      "text/plain": [
       "(30, 20709190)"
      ]
     },
     "execution_count": 67,
     "metadata": {},
     "output_type": "execute_result"
    }
   ],
   "source": [
    "test_x_right = test_x_right[:30, :]\n",
    "test_x_right.shape"
   ]
  },
  {
   "cell_type": "code",
   "execution_count": 77,
   "metadata": {},
   "outputs": [
    {
     "data": {
      "text/plain": [
       "array([[2929.5, 3312. , 3197.5, ..., 3368.5, 3290. , 3261. ],\n",
       "       [1044.5, 1044.5,  990. , ...,  831. ,  831. ,  833. ],\n",
       "       [ 737. ,  700. ,  663.5, ...,  539.5,  555.5,  575. ],\n",
       "       ...,\n",
       "       [ 978. ,  968. ,  954. , ...,  983.5,  960. ,  949. ],\n",
       "       [1200. , 1182. , 1184. , ..., 1139. , 1130. , 1144. ],\n",
       "       [1249. , 1242. , 1209. , ..., 1251. , 1248. , 1237. ]])"
      ]
     },
     "execution_count": 77,
     "metadata": {},
     "output_type": "execute_result"
    }
   ],
   "source": [
    "test_x_right"
   ]
  },
  {
   "cell_type": "markdown",
   "metadata": {},
   "source": [
    "# feature normalizing test right data"
   ]
  },
  {
   "cell_type": "code",
   "execution_count": 72,
   "metadata": {},
   "outputs": [
    {
     "data": {
      "text/plain": [
       "(334585, 31)"
      ]
     },
     "execution_count": 72,
     "metadata": {},
     "output_type": "execute_result"
    }
   ],
   "source": [
    "train_2.shape"
   ]
  },
  {
   "cell_type": "code",
   "execution_count": 73,
   "metadata": {},
   "outputs": [
    {
     "data": {
      "text/plain": [
       "(334585, 30)"
      ]
     },
     "execution_count": 73,
     "metadata": {},
     "output_type": "execute_result"
    }
   ],
   "source": [
    "train_x = train_2[:, :30]\n",
    "train_x.shape"
   ]
  },
  {
   "cell_type": "code",
   "execution_count": 74,
   "metadata": {},
   "outputs": [],
   "source": [
    "train_x = train_x.T"
   ]
  },
  {
   "cell_type": "code",
   "execution_count": 75,
   "metadata": {},
   "outputs": [
    {
     "data": {
      "text/plain": [
       "(30, 334585)"
      ]
     },
     "execution_count": 75,
     "metadata": {},
     "output_type": "execute_result"
    }
   ],
   "source": [
    "train_x.shape"
   ]
  },
  {
   "cell_type": "code",
   "execution_count": 78,
   "metadata": {},
   "outputs": [],
   "source": [
    "for i in range(train_x.shape[0]):\n",
    "    averg = np.mean(train_x[i, :])\n",
    "    std_dev = np.std(train_x[i, :])\n",
    "    #print(train_x[i, :])\n",
    "    #print(a,\" : \", b ,\"\\n\")\n",
    "    #train_x[i, :] = (train_x[i, :] - averg) / std_dev\n",
    "    #cv_x[i, :] = (cv_x[i, :] - averg) / std_dev\n",
    "    test_x_right[i, :] = (test_x_right[i, :] - averg) / std_dev"
   ]
  },
  {
   "cell_type": "code",
   "execution_count": 80,
   "metadata": {},
   "outputs": [
    {
     "name": "stdout",
     "output_type": "stream",
     "text": [
      "\n",
      "\n",
      " costs   :::   [0.6931471805599446, 0.2677321080647614, 0.1883542075786431, 0.15206665976317368, 0.13050221351681676, 0.11592075516822158, 0.10529082472341791, 0.09715191480129388, 0.09069950094803576, 0.08544766847232739, 0.08108293379820673, 0.07739291322960647, 0.07422820597138517, 0.07148053197653866, 0.0690694724214439, 0.06693406072594656, 0.06502725342907918, 0.06331218484000359, 0.06175956592910818, 0.06034583902272511]\n",
      "\n",
      "\n",
      " Y_prediction_test   :::   [[0. 0. 0. ... 0. 1. 1.]]\n",
      "\n",
      "\n",
      " Y_prediction_train   :::   [[0. 0. 0. ... 0. 0. 0.]]\n",
      "\n",
      "\n",
      " w   :::   [[ 0.0151659 ]\n",
      " [-0.05459016]\n",
      " [-0.04399862]\n",
      " [-0.02326798]\n",
      " [ 0.00760842]\n",
      " [ 0.0088829 ]\n",
      " [ 0.00573813]\n",
      " [ 0.00098612]\n",
      " [ 0.06631144]\n",
      " [ 0.11850101]\n",
      " [-0.02452301]\n",
      " [-0.00567501]\n",
      " [-0.01279857]\n",
      " [-0.01717399]\n",
      " [-0.03351027]\n",
      " [ 0.83701524]\n",
      " [ 0.84812621]\n",
      " [ 0.84003658]\n",
      " [ 0.81744052]\n",
      " [ 0.79130838]\n",
      " [ 0.01572274]\n",
      " [-0.01939919]\n",
      " [-0.0303058 ]\n",
      " [-0.04928187]\n",
      " [-0.0018698 ]\n",
      " [ 0.02865947]\n",
      " [-0.01805522]\n",
      " [ 0.01157781]\n",
      " [-0.00183914]\n",
      " [ 0.07367462]]\n",
      "\n",
      "\n",
      " b   :::   -2.447436960359264\n",
      "\n",
      "\n",
      " learning_rate   :::   0.2\n",
      "\n",
      "\n",
      " num_iterations   :::   200\n"
     ]
    }
   ],
   "source": [
    "for i in a:\n",
    "    print(\"\\n\\n\", i,\"  :::  \", a[i])"
   ]
  },
  {
   "cell_type": "code",
   "execution_count": 81,
   "metadata": {},
   "outputs": [],
   "source": [
    "test_y_right = predict(a[\"w\"], a[\"b\"], test_x_right)"
   ]
  },
  {
   "cell_type": "code",
   "execution_count": 82,
   "metadata": {},
   "outputs": [
    {
     "data": {
      "text/plain": [
       "6733519.0"
      ]
     },
     "execution_count": 82,
     "metadata": {},
     "output_type": "execute_result"
    }
   ],
   "source": [
    "np.sum(test_y_right)"
   ]
  },
  {
   "cell_type": "code",
   "execution_count": 83,
   "metadata": {},
   "outputs": [],
   "source": [
    "test_y_right = test_y_right.T"
   ]
  },
  {
   "cell_type": "code",
   "execution_count": 84,
   "metadata": {},
   "outputs": [
    {
     "data": {
      "text/plain": [
       "(20709190, 1)"
      ]
     },
     "execution_count": 84,
     "metadata": {},
     "output_type": "execute_result"
    }
   ],
   "source": [
    "test_y_right.shape"
   ]
  },
  {
   "cell_type": "code",
   "execution_count": 85,
   "metadata": {},
   "outputs": [],
   "source": [
    "test_y_right = test_y_right.astype(\"int\")"
   ]
  },
  {
   "cell_type": "code",
   "execution_count": 86,
   "metadata": {},
   "outputs": [
    {
     "data": {
      "text/plain": [
       "array([[   0, 5738],\n",
       "       [   0, 5739],\n",
       "       [   0, 5740],\n",
       "       ...,\n",
       "       [8962, 5788],\n",
       "       [8962, 5789],\n",
       "       [8962, 5790]], dtype=int64)"
      ]
     },
     "execution_count": 86,
     "metadata": {},
     "output_type": "execute_result"
    }
   ],
   "source": [
    "I1B1_right_non_nan_index"
   ]
  },
  {
   "cell_type": "code",
   "execution_count": 87,
   "metadata": {},
   "outputs": [],
   "source": [
    "I1B1_right_non_nan_index[:, 1] = I1B1_right_non_nan_index[:, 1] - 4149"
   ]
  },
  {
   "cell_type": "code",
   "execution_count": 88,
   "metadata": {},
   "outputs": [
    {
     "data": {
      "text/plain": [
       "array([[   0, 1589],\n",
       "       [   0, 1590],\n",
       "       [   0, 1591],\n",
       "       ...,\n",
       "       [8962, 1639],\n",
       "       [8962, 1640],\n",
       "       [8962, 1641]], dtype=int64)"
      ]
     },
     "execution_count": 88,
     "metadata": {},
     "output_type": "execute_result"
    }
   ],
   "source": [
    "I1B1_right_non_nan_index"
   ]
  },
  {
   "cell_type": "code",
   "execution_count": 89,
   "metadata": {},
   "outputs": [],
   "source": [
    "result_index_right = np.concatenate((I1B1_right_non_nan_index, test_y_right), axis = 1)"
   ]
  },
  {
   "cell_type": "code",
   "execution_count": 90,
   "metadata": {},
   "outputs": [
    {
     "data": {
      "text/plain": [
       "(20709190, 3)"
      ]
     },
     "execution_count": 90,
     "metadata": {},
     "output_type": "execute_result"
    }
   ],
   "source": [
    "result_index_right.shape"
   ]
  },
  {
   "cell_type": "code",
   "execution_count": 91,
   "metadata": {},
   "outputs": [
    {
     "data": {
      "text/plain": [
       "array([[   0, 1589,    0],\n",
       "       [   0, 1590,    0],\n",
       "       [   0, 1591,    0],\n",
       "       ...,\n",
       "       [8962, 1639,    0],\n",
       "       [8962, 1640,    0],\n",
       "       [8962, 1641,    0]], dtype=int64)"
      ]
     },
     "execution_count": 91,
     "metadata": {},
     "output_type": "execute_result"
    }
   ],
   "source": [
    "result_index_right"
   ]
  },
  {
   "cell_type": "code",
   "execution_count": 92,
   "metadata": {},
   "outputs": [],
   "source": [
    "result_right = np.zeros((8963, 4149))"
   ]
  },
  {
   "cell_type": "code",
   "execution_count": 93,
   "metadata": {},
   "outputs": [],
   "source": [
    "result_right[:] = 128"
   ]
  },
  {
   "cell_type": "code",
   "execution_count": 95,
   "metadata": {},
   "outputs": [
    {
     "data": {
      "text/plain": [
       "array([[128, 128, 128, ..., 128, 128, 128],\n",
       "       [128, 128, 128, ..., 128, 128, 128],\n",
       "       [128, 128, 128, ..., 128, 128, 128],\n",
       "       ...,\n",
       "       [128, 128, 128, ..., 128, 128, 128],\n",
       "       [128, 128, 128, ..., 128, 128, 128],\n",
       "       [128, 128, 128, ..., 128, 128, 128]])"
      ]
     },
     "execution_count": 95,
     "metadata": {},
     "output_type": "execute_result"
    }
   ],
   "source": [
    "result_right = result_right.astype(\"int\")\n",
    "result_right"
   ]
  },
  {
   "cell_type": "code",
   "execution_count": 96,
   "metadata": {},
   "outputs": [],
   "source": [
    "for i in range(result_index_right.shape[0]):\n",
    "    result_right[result_index_right[i,0], result_index_right[i,1]] = result_index_right[i, 2]"
   ]
  },
  {
   "cell_type": "code",
   "execution_count": 97,
   "metadata": {},
   "outputs": [
    {
     "data": {
      "text/plain": [
       "array([  0,   1, 128])"
      ]
     },
     "execution_count": 97,
     "metadata": {},
     "output_type": "execute_result"
    }
   ],
   "source": [
    "np.unique(result_right)"
   ]
  },
  {
   "cell_type": "code",
   "execution_count": 98,
   "metadata": {},
   "outputs": [],
   "source": [
    "result_right[result_right[:] == 0] = 255"
   ]
  },
  {
   "cell_type": "code",
   "execution_count": 99,
   "metadata": {},
   "outputs": [
    {
     "data": {
      "text/plain": [
       "array([  1, 128, 255])"
      ]
     },
     "execution_count": 99,
     "metadata": {},
     "output_type": "execute_result"
    }
   ],
   "source": [
    "np.unique(result_right)"
   ]
  },
  {
   "cell_type": "code",
   "execution_count": 100,
   "metadata": {},
   "outputs": [],
   "source": [
    "result_right[result_right[:] == 1] = 0"
   ]
  },
  {
   "cell_type": "code",
   "execution_count": 101,
   "metadata": {},
   "outputs": [
    {
     "data": {
      "text/plain": [
       "array([  0, 128, 255])"
      ]
     },
     "execution_count": 101,
     "metadata": {},
     "output_type": "execute_result"
    }
   ],
   "source": [
    "np.unique(result_right)"
   ]
  },
  {
   "cell_type": "code",
   "execution_count": 102,
   "metadata": {},
   "outputs": [],
   "source": [
    "# here 0 --> 1 during classification(minority)\n",
    "# 255 --> 0 during classification(majority)\n",
    "# 128 --> nan values (non-agri plus outside boundary)"
   ]
  },
  {
   "cell_type": "code",
   "execution_count": 103,
   "metadata": {},
   "outputs": [],
   "source": [
    "result_right = result_right.astype(\"uint8\")"
   ]
  },
  {
   "cell_type": "code",
   "execution_count": 104,
   "metadata": {},
   "outputs": [
    {
     "data": {
      "text/plain": [
       "array([  0, 128, 255], dtype=uint8)"
      ]
     },
     "execution_count": 104,
     "metadata": {},
     "output_type": "execute_result"
    }
   ],
   "source": [
    "np.unique(result_right)"
   ]
  },
  {
   "cell_type": "code",
   "execution_count": 105,
   "metadata": {},
   "outputs": [],
   "source": [
    "io.imsave(\"E:\\\\Internship_Harvesting\\\\Unsupervised_Result_Image\\\\right.jpg\", result_right)"
   ]
  },
  {
   "cell_type": "code",
   "execution_count": null,
   "metadata": {},
   "outputs": [],
   "source": []
  }
 ],
 "metadata": {
  "kernelspec": {
   "display_name": "Python 3",
   "language": "python",
   "name": "python3"
  },
  "language_info": {
   "codemirror_mode": {
    "name": "ipython",
    "version": 3
   },
   "file_extension": ".py",
   "mimetype": "text/x-python",
   "name": "python",
   "nbconvert_exporter": "python",
   "pygments_lexer": "ipython3",
   "version": "3.7.7"
  }
 },
 "nbformat": 4,
 "nbformat_minor": 4
}
