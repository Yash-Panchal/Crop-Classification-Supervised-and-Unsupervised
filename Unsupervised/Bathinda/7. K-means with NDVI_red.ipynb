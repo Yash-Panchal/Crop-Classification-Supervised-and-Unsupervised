{
 "cells": [
  {
   "cell_type": "markdown",
   "metadata": {},
   "source": [
    "## using NDVI for feature reduction"
   ]
  },
  {
   "cell_type": "markdown",
   "metadata": {},
   "source": [
    "### NDVI = (NIR - RED) / (RED + NIR)\n",
    "\n",
    "### NDVI = (BAND5 - BAND1) / (BAND1 + BAND5)"
   ]
  },
  {
   "cell_type": "code",
   "execution_count": 1,
   "metadata": {},
   "outputs": [],
   "source": [
    "import numpy as np\n",
    "import matplotlib.pyplot as plt\n",
    "import h5py\n",
    "import pandas as pd\n",
    "import scipy\n",
    "from PIL import Image\n",
    "from scipy import ndimage\n",
    "import gdal\n",
    "import os\n",
    "import geopandas as gpd\n",
    "from skimage import io\n",
    "from skimage.io import imread\n",
    "%matplotlib inline"
   ]
  },
  {
   "cell_type": "code",
   "execution_count": 2,
   "metadata": {},
   "outputs": [],
   "source": [
    "np.random.seed(1)"
   ]
  },
  {
   "cell_type": "code",
   "execution_count": 3,
   "metadata": {},
   "outputs": [
    {
     "name": "stderr",
     "output_type": "stream",
     "text": [
      "C:\\Users\\Lenovo\\anaconda3\\envs\\env_1\\lib\\site-packages\\sklearn\\utils\\deprecation.py:144: FutureWarning: The sklearn.datasets.samples_generator module is  deprecated in version 0.22 and will be removed in version 0.24. The corresponding classes / functions should instead be imported from sklearn.datasets. Anything that cannot be imported from sklearn.datasets is now part of the private API.\n",
      "  warnings.warn(message, FutureWarning)\n"
     ]
    }
   ],
   "source": [
    "from sklearn.datasets.samples_generator import make_blobs\n",
    "from sklearn.cluster import KMeans"
   ]
  },
  {
   "cell_type": "markdown",
   "metadata": {},
   "source": [
    "# reading the masked tif images and forming a dataset.\n",
    "### here we are only reading the masked images which are of concern to us, that is, band1(red) and band5(CIR) for each image"
   ]
  },
  {
   "cell_type": "code",
   "execution_count": 4,
   "metadata": {},
   "outputs": [],
   "source": [
    "path = [\"E:\\\\Internship_Harvesting\\\\Dataset\\\\Bathinda_Cropland\\\\Masked_images\\\\I1B1.tif\",\n",
    "       \"E:\\\\Internship_Harvesting\\\\Dataset\\\\Bathinda_Cropland\\\\Masked_images\\\\I1B5.tif\",\n",
    "       \"E:\\\\Internship_Harvesting\\\\Dataset\\\\Bathinda_Cropland\\\\Masked_images\\\\I2B1.tif\",\n",
    "       \"E:\\\\Internship_Harvesting\\\\Dataset\\\\Bathinda_Cropland\\\\Masked_images\\\\I2B5.tif\",\n",
    "       \"E:\\\\Internship_Harvesting\\\\Dataset\\\\Bathinda_Cropland\\\\Masked_images\\\\I3B1.tif\",\n",
    "       \"E:\\\\Internship_Harvesting\\\\Dataset\\\\Bathinda_Cropland\\\\Masked_images\\\\I3B5.tif\",\n",
    "       \"E:\\\\Internship_Harvesting\\\\Dataset\\\\Bathinda_Cropland\\\\Masked_images\\\\I4B1.tif\",\n",
    "       \"E:\\\\Internship_Harvesting\\\\Dataset\\\\Bathinda_Cropland\\\\Masked_images\\\\I4B5.tif\",\n",
    "       \"E:\\\\Internship_Harvesting\\\\Dataset\\\\Bathinda_Cropland\\\\Masked_images\\\\I5B1.tif\",\n",
    "       \"E:\\\\Internship_Harvesting\\\\Dataset\\\\Bathinda_Cropland\\\\Masked_images\\\\I5B5.tif\",\n",
    "       \"E:\\\\Internship_Harvesting\\\\Dataset\\\\Bathinda_Cropland\\\\Masked_images\\\\I6B1.tif\",\n",
    "       \"E:\\\\Internship_Harvesting\\\\Dataset\\\\Bathinda_Cropland\\\\Masked_images\\\\I6B5.tif\"]"
   ]
  },
  {
   "cell_type": "code",
   "execution_count": 5,
   "metadata": {},
   "outputs": [
    {
     "data": {
      "text/plain": [
       "<osgeo.gdal.Dataset; proxy of <Swig Object of type 'GDALDatasetShadow *' at 0x0000023273499090> >"
      ]
     },
     "execution_count": 5,
     "metadata": {},
     "output_type": "execute_result"
    }
   ],
   "source": [
    "I1B1 = gdal.Open(path[0])\n",
    "I1B1"
   ]
  },
  {
   "cell_type": "code",
   "execution_count": 6,
   "metadata": {},
   "outputs": [
    {
     "data": {
      "text/plain": [
       "(8963, 8298, 1)"
      ]
     },
     "execution_count": 6,
     "metadata": {},
     "output_type": "execute_result"
    }
   ],
   "source": [
    "I1B1.RasterYSize, I1B1.RasterXSize, I1B1.RasterCount"
   ]
  },
  {
   "cell_type": "code",
   "execution_count": 7,
   "metadata": {},
   "outputs": [
    {
     "data": {
      "text/plain": [
       "array([[nan, nan, nan, ..., nan, nan, nan],\n",
       "       [nan, nan, nan, ..., nan, nan, nan],\n",
       "       [nan, nan, nan, ..., nan, nan, nan],\n",
       "       ...,\n",
       "       [nan, nan, nan, ..., nan, nan, nan],\n",
       "       [nan, nan, nan, ..., nan, nan, nan],\n",
       "       [nan, nan, nan, ..., nan, nan, nan]])"
      ]
     },
     "execution_count": 7,
     "metadata": {},
     "output_type": "execute_result"
    }
   ],
   "source": [
    "I1B1_array = I1B1.GetRasterBand(1).ReadAsArray()\n",
    "I1B1_array"
   ]
  },
  {
   "cell_type": "code",
   "execution_count": 8,
   "metadata": {},
   "outputs": [
    {
     "data": {
      "text/plain": [
       "(40574909, 33800065)"
      ]
     },
     "execution_count": 8,
     "metadata": {},
     "output_type": "execute_result"
    }
   ],
   "source": [
    "np.count_nonzero(np.isnan(I1B1_array)), np.count_nonzero(~np.isnan(I1B1_array))"
   ]
  },
  {
   "cell_type": "markdown",
   "metadata": {},
   "source": [
    "# creating an array which only consists the non-nan values indices"
   ]
  },
  {
   "cell_type": "code",
   "execution_count": 9,
   "metadata": {},
   "outputs": [],
   "source": [
    "# I1B1_nan_index = np.argwhere(np.isnan(I1B1))\n",
    "\n",
    "I1B1_non_nan_index = np.argwhere(~np.isnan(I1B1_array))"
   ]
  },
  {
   "cell_type": "code",
   "execution_count": 10,
   "metadata": {},
   "outputs": [
    {
     "data": {
      "text/plain": [
       "array([[   0, 5738],\n",
       "       [   0, 5739],\n",
       "       [   0, 5740],\n",
       "       ...,\n",
       "       [8962, 5788],\n",
       "       [8962, 5789],\n",
       "       [8962, 5790]], dtype=int64)"
      ]
     },
     "execution_count": 10,
     "metadata": {},
     "output_type": "execute_result"
    }
   ],
   "source": [
    "I1B1_non_nan_index"
   ]
  },
  {
   "cell_type": "code",
   "execution_count": 11,
   "metadata": {},
   "outputs": [
    {
     "data": {
      "text/plain": [
       "(1249.0, 1242.0, 1248.0, 1237.0)"
      ]
     },
     "execution_count": 11,
     "metadata": {},
     "output_type": "execute_result"
    }
   ],
   "source": [
    "I1B1_array[0, 5738], I1B1_array[0, 5739], I1B1_array[8962, 5789], I1B1_array[8962, 5790]"
   ]
  },
  {
   "cell_type": "code",
   "execution_count": 12,
   "metadata": {},
   "outputs": [
    {
     "data": {
      "text/plain": [
       "(33800065, 2)"
      ]
     },
     "execution_count": 12,
     "metadata": {},
     "output_type": "execute_result"
    }
   ],
   "source": [
    "I1B1_non_nan_index.shape"
   ]
  },
  {
   "cell_type": "markdown",
   "metadata": {},
   "source": [
    "# we have indices now we will make the dataset using this indices\n",
    "### all the images of our concern, band1 and band5 of each image and concatenating them in one array we would have an array with 12 bands and 33800065 pixel values(all non-nan or agriculture)"
   ]
  },
  {
   "cell_type": "code",
   "execution_count": 13,
   "metadata": {},
   "outputs": [],
   "source": [
    "test_x = np.zeros((1, 33800065))"
   ]
  },
  {
   "cell_type": "code",
   "execution_count": 14,
   "metadata": {
    "scrolled": true
   },
   "outputs": [
    {
     "name": "stdout",
     "output_type": "stream",
     "text": [
      "E:\\Internship_Harvesting\\Dataset\\Bathinda_Cropland\\Masked_images\\I1B1.tif\n",
      "(8963, 8298)\n",
      "(2, 33800065)\n",
      "***************\n",
      "E:\\Internship_Harvesting\\Dataset\\Bathinda_Cropland\\Masked_images\\I1B5.tif\n",
      "(8963, 8298)\n",
      "(3, 33800065)\n",
      "***************\n",
      "E:\\Internship_Harvesting\\Dataset\\Bathinda_Cropland\\Masked_images\\I2B1.tif\n",
      "(8963, 8298)\n",
      "(4, 33800065)\n",
      "***************\n",
      "E:\\Internship_Harvesting\\Dataset\\Bathinda_Cropland\\Masked_images\\I2B5.tif\n",
      "(8963, 8298)\n",
      "(5, 33800065)\n",
      "***************\n",
      "E:\\Internship_Harvesting\\Dataset\\Bathinda_Cropland\\Masked_images\\I3B1.tif\n",
      "(8963, 8298)\n",
      "(6, 33800065)\n",
      "***************\n",
      "E:\\Internship_Harvesting\\Dataset\\Bathinda_Cropland\\Masked_images\\I3B5.tif\n",
      "(8963, 8298)\n",
      "(7, 33800065)\n",
      "***************\n",
      "E:\\Internship_Harvesting\\Dataset\\Bathinda_Cropland\\Masked_images\\I4B1.tif\n",
      "(8963, 8298)\n",
      "(8, 33800065)\n",
      "***************\n",
      "E:\\Internship_Harvesting\\Dataset\\Bathinda_Cropland\\Masked_images\\I4B5.tif\n",
      "(8963, 8298)\n",
      "(9, 33800065)\n",
      "***************\n",
      "E:\\Internship_Harvesting\\Dataset\\Bathinda_Cropland\\Masked_images\\I5B1.tif\n",
      "(8963, 8298)\n",
      "(10, 33800065)\n",
      "***************\n",
      "E:\\Internship_Harvesting\\Dataset\\Bathinda_Cropland\\Masked_images\\I5B5.tif\n",
      "(8963, 8298)\n",
      "(11, 33800065)\n",
      "***************\n",
      "E:\\Internship_Harvesting\\Dataset\\Bathinda_Cropland\\Masked_images\\I6B1.tif\n",
      "(8963, 8298)\n",
      "(12, 33800065)\n",
      "***************\n",
      "E:\\Internship_Harvesting\\Dataset\\Bathinda_Cropland\\Masked_images\\I6B5.tif\n",
      "(8963, 8298)\n",
      "(13, 33800065)\n",
      "***************\n"
     ]
    }
   ],
   "source": [
    "for p in path:\n",
    "    print(p)\n",
    "    \n",
    "    image = gdal.Open(p)\n",
    "    \n",
    "    image_array = image.GetRasterBand(1).ReadAsArray()\n",
    "    print(image_array.shape)\n",
    "    sample = []\n",
    "    \n",
    "    for i in range(I1B1_non_nan_index.shape[0]):\n",
    "        sample.append(image_array[I1B1_non_nan_index[i,0], I1B1_non_nan_index[i,1]])\n",
    "        \n",
    "    sample = np.array(sample)\n",
    "    \n",
    "    sample = sample.reshape(1, 33800065)\n",
    "        \n",
    "    test_x = np.concatenate((sample, test_x), axis = 0)\n",
    "    \n",
    "    print(test_x.shape)\n",
    "    \n",
    "    print(\"***************\")\n",
    "    "
   ]
  },
  {
   "cell_type": "code",
   "execution_count": 15,
   "metadata": {},
   "outputs": [],
   "source": [
    "test_x = test_x[:12, :]"
   ]
  },
  {
   "cell_type": "code",
   "execution_count": 16,
   "metadata": {},
   "outputs": [
    {
     "data": {
      "text/plain": [
       "(12, 33800065)"
      ]
     },
     "execution_count": 16,
     "metadata": {},
     "output_type": "execute_result"
    }
   ],
   "source": [
    "test_x.shape"
   ]
  },
  {
   "cell_type": "code",
   "execution_count": 17,
   "metadata": {},
   "outputs": [
    {
     "data": {
      "text/plain": [
       "array([[2929.5, 3312. , 3197.5, ..., 3368.5, 3290. , 3261. ],\n",
       "       [1082.5, 1059. , 1041. , ...,  992.5,  987.5,  996.5],\n",
       "       [2953. , 3448. , 3508. , ..., 3022. , 2969.5, 2969. ],\n",
       "       ...,\n",
       "       [1447. , 1467. , 1492. , ..., 1253. , 1236. , 1277. ],\n",
       "       [2622. , 2757. , 2787. , ..., 2800. , 2755.5, 2731. ],\n",
       "       [1249. , 1242. , 1209. , ..., 1251. , 1248. , 1237. ]])"
      ]
     },
     "execution_count": 17,
     "metadata": {},
     "output_type": "execute_result"
    }
   ],
   "source": [
    "test_x"
   ]
  },
  {
   "cell_type": "markdown",
   "metadata": {},
   "source": [
    "## forming an array which consist NDVI of each image.\n",
    "### using the array formed above we will use the NDVI formula for calculating NDVI for each image, that would yield us an array of 33800065 x 6 (6 meaning one for each image) and (33800065 meaning all the non-nan pixels or agriculture pixels)"
   ]
  },
  {
   "cell_type": "code",
   "execution_count": 18,
   "metadata": {},
   "outputs": [],
   "source": [
    "test_NDVI = np.zeros((6, 33800065))"
   ]
  },
  {
   "cell_type": "code",
   "execution_count": 19,
   "metadata": {},
   "outputs": [
    {
     "data": {
      "text/plain": [
       "array([[-0.46036889, -0.51544269, -0.50878849, ..., -0.54482917,\n",
       "        -0.53828171, -0.53188491],\n",
       "       [-0.415628  , -0.48781014, -0.50461077, ..., -0.44731801,\n",
       "        -0.44518798, -0.4458242 ],\n",
       "       [-0.33561254, -0.40274196, -0.39168063, ..., -0.25868726,\n",
       "        -0.25013001, -0.24177546],\n",
       "       [ 0.08495947,  0.07220217,  0.07153637, ..., -0.04786463,\n",
       "        -0.05802489, -0.05458058],\n",
       "       [-0.11727924, -0.1212938 , -0.13744761, ..., -0.3277897 ,\n",
       "        -0.32935431, -0.3141783 ],\n",
       "       [-0.35468871, -0.37884471, -0.39489489, ..., -0.38237472,\n",
       "        -0.37654552, -0.3765121 ]])"
      ]
     },
     "execution_count": 19,
     "metadata": {},
     "output_type": "execute_result"
    }
   ],
   "source": [
    "for i in range(test_NDVI.shape[0]):\n",
    "    \n",
    "    test_NDVI[i, :] = (test_x[i*2+1, :] - test_x[i*2, :]) / (test_x[i*2+1, :] + test_x[i*2, :])\n",
    "\n",
    "test_NDVI"
   ]
  },
  {
   "cell_type": "code",
   "execution_count": 20,
   "metadata": {},
   "outputs": [],
   "source": [
    "test_NDVI = test_NDVI.T"
   ]
  },
  {
   "cell_type": "code",
   "execution_count": 21,
   "metadata": {},
   "outputs": [
    {
     "data": {
      "text/plain": [
       "(33800065, 6)"
      ]
     },
     "execution_count": 21,
     "metadata": {},
     "output_type": "execute_result"
    }
   ],
   "source": [
    "test_NDVI.shape"
   ]
  },
  {
   "cell_type": "markdown",
   "metadata": {},
   "source": [
    "# we have our test data, we will apply K-means unsupervised algorithm on this and capture details"
   ]
  },
  {
   "cell_type": "markdown",
   "metadata": {},
   "source": [
    "# https://towardsdatascience.com/machine-learning-algorithms-part-9-k-means-example-in-python-f2ad05ed5203\n",
    "\n",
    "# reference for the below mentioned code"
   ]
  },
  {
   "cell_type": "code",
   "execution_count": 22,
   "metadata": {},
   "outputs": [],
   "source": [
    "kmeans = KMeans(n_clusters=2, init='k-means++', max_iter=50, n_init=5, random_state=0)\n",
    "test_NDVI_predict = kmeans.fit_predict(test_NDVI)"
   ]
  },
  {
   "cell_type": "code",
   "execution_count": 23,
   "metadata": {},
   "outputs": [
    {
     "data": {
      "text/plain": [
       "array([0, 1])"
      ]
     },
     "execution_count": 23,
     "metadata": {},
     "output_type": "execute_result"
    }
   ],
   "source": [
    "np.unique(test_NDVI_predict)"
   ]
  },
  {
   "cell_type": "code",
   "execution_count": 24,
   "metadata": {},
   "outputs": [
    {
     "data": {
      "text/plain": [
       "((33800065,), (33800065, 6))"
      ]
     },
     "execution_count": 24,
     "metadata": {},
     "output_type": "execute_result"
    }
   ],
   "source": [
    "test_NDVI_predict.shape, test_NDVI.shape"
   ]
  },
  {
   "cell_type": "code",
   "execution_count": 25,
   "metadata": {},
   "outputs": [
    {
     "data": {
      "text/plain": [
       "(33800065, 1)"
      ]
     },
     "execution_count": 25,
     "metadata": {},
     "output_type": "execute_result"
    }
   ],
   "source": [
    "test_NDVI_predict = test_NDVI_predict.reshape(33800065, 1)\n",
    "test_NDVI_predict.shape"
   ]
  },
  {
   "cell_type": "markdown",
   "metadata": {},
   "source": [
    "### since we have got the prediction of the agriculture pixels, we would map it to corresponding index"
   ]
  },
  {
   "cell_type": "code",
   "execution_count": 26,
   "metadata": {},
   "outputs": [
    {
     "data": {
      "text/plain": [
       "(33800065, 2)"
      ]
     },
     "execution_count": 26,
     "metadata": {},
     "output_type": "execute_result"
    }
   ],
   "source": [
    "I1B1_non_nan_index.shape"
   ]
  },
  {
   "cell_type": "code",
   "execution_count": 27,
   "metadata": {},
   "outputs": [
    {
     "data": {
      "text/plain": [
       "array([[   0, 5738],\n",
       "       [   0, 5739],\n",
       "       [   0, 5740],\n",
       "       ...,\n",
       "       [8962, 5788],\n",
       "       [8962, 5789],\n",
       "       [8962, 5790]], dtype=int64)"
      ]
     },
     "execution_count": 27,
     "metadata": {},
     "output_type": "execute_result"
    }
   ],
   "source": [
    "I1B1_non_nan_index"
   ]
  },
  {
   "cell_type": "code",
   "execution_count": 28,
   "metadata": {},
   "outputs": [
    {
     "data": {
      "text/plain": [
       "array([[   0, 5738,    0],\n",
       "       [   0, 5739,    0],\n",
       "       [   0, 5740,    0],\n",
       "       ...,\n",
       "       [8962, 5788,    1],\n",
       "       [8962, 5789,    1],\n",
       "       [8962, 5790,    1]], dtype=int64)"
      ]
     },
     "execution_count": 28,
     "metadata": {},
     "output_type": "execute_result"
    }
   ],
   "source": [
    "result_index = np.concatenate((I1B1_non_nan_index, test_NDVI_predict), axis = 1)\n",
    "result_index"
   ]
  },
  {
   "cell_type": "markdown",
   "metadata": {},
   "source": [
    "### here, result_index is an array which consists the x_index as first column, y_index as 2nd column and its value(0/1) as the 3rd column"
   ]
  },
  {
   "cell_type": "code",
   "execution_count": 29,
   "metadata": {},
   "outputs": [
    {
     "data": {
      "text/plain": [
       "(33800065, 3)"
      ]
     },
     "execution_count": 29,
     "metadata": {},
     "output_type": "execute_result"
    }
   ],
   "source": [
    "result_index.shape"
   ]
  },
  {
   "cell_type": "markdown",
   "metadata": {},
   "source": [
    "### mapping result_index to a 8963 x 8298 dimension which can be later saved in the form of an image"
   ]
  },
  {
   "cell_type": "code",
   "execution_count": 30,
   "metadata": {},
   "outputs": [],
   "source": [
    "result = np.zeros((8963, 8298))"
   ]
  },
  {
   "cell_type": "code",
   "execution_count": 31,
   "metadata": {},
   "outputs": [],
   "source": [
    "result[:] = 128"
   ]
  },
  {
   "cell_type": "code",
   "execution_count": 32,
   "metadata": {},
   "outputs": [],
   "source": [
    "result = result.astype(\"int\")"
   ]
  },
  {
   "cell_type": "code",
   "execution_count": 33,
   "metadata": {},
   "outputs": [],
   "source": [
    "for i in range(result_index.shape[0]):\n",
    "    result[result_index[i,0], result_index[i,1]] = result_index[i, 2]"
   ]
  },
  {
   "cell_type": "code",
   "execution_count": 34,
   "metadata": {},
   "outputs": [
    {
     "data": {
      "text/plain": [
       "array([[128, 128, 128, ..., 128, 128, 128],\n",
       "       [128, 128, 128, ..., 128, 128, 128],\n",
       "       [128, 128, 128, ..., 128, 128, 128],\n",
       "       ...,\n",
       "       [128, 128, 128, ..., 128, 128, 128],\n",
       "       [128, 128, 128, ..., 128, 128, 128],\n",
       "       [128, 128, 128, ..., 128, 128, 128]])"
      ]
     },
     "execution_count": 34,
     "metadata": {},
     "output_type": "execute_result"
    }
   ],
   "source": [
    "result"
   ]
  },
  {
   "cell_type": "code",
   "execution_count": 35,
   "metadata": {},
   "outputs": [
    {
     "data": {
      "text/plain": [
       "array([  0,   1, 128])"
      ]
     },
     "execution_count": 35,
     "metadata": {},
     "output_type": "execute_result"
    }
   ],
   "source": [
    "np.unique(result)"
   ]
  },
  {
   "cell_type": "code",
   "execution_count": 36,
   "metadata": {},
   "outputs": [],
   "source": [
    "result[result[:] == 0] = 255"
   ]
  },
  {
   "cell_type": "code",
   "execution_count": 37,
   "metadata": {},
   "outputs": [
    {
     "data": {
      "text/plain": [
       "array([  1, 128, 255])"
      ]
     },
     "execution_count": 37,
     "metadata": {},
     "output_type": "execute_result"
    }
   ],
   "source": [
    "np.unique(result)"
   ]
  },
  {
   "cell_type": "code",
   "execution_count": 38,
   "metadata": {},
   "outputs": [],
   "source": [
    "result[result[:] == 1] = 0"
   ]
  },
  {
   "cell_type": "code",
   "execution_count": 39,
   "metadata": {},
   "outputs": [
    {
     "data": {
      "text/plain": [
       "array([  0, 128, 255])"
      ]
     },
     "execution_count": 39,
     "metadata": {},
     "output_type": "execute_result"
    }
   ],
   "source": [
    "np.unique(result)"
   ]
  },
  {
   "cell_type": "markdown",
   "metadata": {},
   "source": [
    "### here,\n",
    "### 0 --> 1 during classification(minority, non-wheat)\n",
    "### 255 --> 0 during classification(majority, wheat)\n",
    "### 128 --> nan values (non-agri plus outside boundary, nan)"
   ]
  },
  {
   "cell_type": "code",
   "execution_count": 41,
   "metadata": {},
   "outputs": [
    {
     "data": {
      "text/plain": [
       "23206785"
      ]
     },
     "execution_count": 41,
     "metadata": {},
     "output_type": "execute_result"
    }
   ],
   "source": [
    "# number of pixels belonging to majority class\n",
    "np.count_nonzero(result == 255)"
   ]
  },
  {
   "cell_type": "code",
   "execution_count": 42,
   "metadata": {},
   "outputs": [
    {
     "data": {
      "text/plain": [
       "10593280"
      ]
     },
     "execution_count": 42,
     "metadata": {},
     "output_type": "execute_result"
    }
   ],
   "source": [
    "# number of pixels belonging to minority class\n",
    "np.count_nonzero(result == 0)"
   ]
  },
  {
   "cell_type": "code",
   "execution_count": 43,
   "metadata": {},
   "outputs": [
    {
     "data": {
      "text/plain": [
       "40574909"
      ]
     },
     "execution_count": 43,
     "metadata": {},
     "output_type": "execute_result"
    }
   ],
   "source": [
    "# number of pixels belonging to non-agriculture class\n",
    "np.count_nonzero(result == 128)"
   ]
  },
  {
   "cell_type": "code",
   "execution_count": 44,
   "metadata": {},
   "outputs": [],
   "source": [
    "result = result.astype(\"uint8\")"
   ]
  },
  {
   "cell_type": "code",
   "execution_count": 45,
   "metadata": {},
   "outputs": [
    {
     "data": {
      "text/plain": [
       "(8963, 8298)"
      ]
     },
     "execution_count": 45,
     "metadata": {},
     "output_type": "execute_result"
    }
   ],
   "source": [
    "result.shape"
   ]
  },
  {
   "cell_type": "markdown",
   "metadata": {},
   "source": [
    "### saving result array in .jpg and .tif form"
   ]
  },
  {
   "cell_type": "code",
   "execution_count": 63,
   "metadata": {},
   "outputs": [],
   "source": [
    "io.imsave(\"E:\\\\Internship_Harvesting\\\\Unsupervised_Result_Image\\\\NDVI_red_kmeans_result.jpg\", result)"
   ]
  },
  {
   "cell_type": "code",
   "execution_count": 46,
   "metadata": {},
   "outputs": [],
   "source": [
    "io.imsave(\"E:\\\\Internship_Harvesting\\\\Unsupervised_Result_Image\\\\NDVI_red_kmeans_result.tif\", result)"
   ]
  },
  {
   "cell_type": "code",
   "execution_count": null,
   "metadata": {},
   "outputs": [],
   "source": []
  }
 ],
 "metadata": {
  "kernelspec": {
   "display_name": "Python 3",
   "language": "python",
   "name": "python3"
  },
  "language_info": {
   "codemirror_mode": {
    "name": "ipython",
    "version": 3
   },
   "file_extension": ".py",
   "mimetype": "text/x-python",
   "name": "python",
   "nbconvert_exporter": "python",
   "pygments_lexer": "ipython3",
   "version": "3.7.6"
  }
 },
 "nbformat": 4,
 "nbformat_minor": 4
}
