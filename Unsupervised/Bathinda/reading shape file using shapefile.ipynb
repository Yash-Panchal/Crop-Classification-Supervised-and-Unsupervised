{
 "cells": [
  {
   "cell_type": "code",
   "execution_count": 2,
   "metadata": {},
   "outputs": [],
   "source": [
    "import numpy as np\n",
    "import gdal\n",
    "import os\n",
    "import pandas as pd\n",
    "import matplotlib.pyplot as plt\n",
    "%matplotlib inline"
   ]
  },
  {
   "cell_type": "code",
   "execution_count": 3,
   "metadata": {},
   "outputs": [],
   "source": [
    "import geopandas as gpd"
   ]
  },
  {
   "cell_type": "code",
   "execution_count": 12,
   "metadata": {},
   "outputs": [
    {
     "name": "stdout",
     "output_type": "stream",
     "text": [
      "Processing c:\\users\\lenovo\\appdata\\local\\pip\\cache\\wheels\\a0\\c5\\f3\\548a073ac6a83d5b23d9b39cdd24314fc84bc8afc9882deb33\\pyshp-2.1.0-py3-none-any.whl\n",
      "Installing collected packages: pyshp\n",
      "Successfully installed pyshp-2.1.0\n",
      "Note: you may need to restart the kernel to use updated packages.\n"
     ]
    }
   ],
   "source": [
    "pip install pyshp"
   ]
  },
  {
   "cell_type": "code",
   "execution_count": 4,
   "metadata": {},
   "outputs": [],
   "source": [
    "import shapefile"
   ]
  },
  {
   "cell_type": "code",
   "execution_count": 5,
   "metadata": {},
   "outputs": [],
   "source": [
    "path = os.path.join(\"E:\\\\Internship_Harvesting\\\\Dataset\\\\Bathinda_Cropland\")"
   ]
  },
  {
   "cell_type": "code",
   "execution_count": 6,
   "metadata": {},
   "outputs": [
    {
     "data": {
      "text/plain": [
       "geopandas.geodataframe.GeoDataFrame"
      ]
     },
     "execution_count": 6,
     "metadata": {},
     "output_type": "execute_result"
    }
   ],
   "source": [
    "points = gpd.read_file(path)\n",
    "type(points)"
   ]
  },
  {
   "cell_type": "code",
   "execution_count": 7,
   "metadata": {},
   "outputs": [
    {
     "data": {
      "text/plain": [
       "geopandas.geodataframe.GeoDataFrame"
      ]
     },
     "execution_count": 7,
     "metadata": {},
     "output_type": "execute_result"
    }
   ],
   "source": [
    "type(points)"
   ]
  },
  {
   "cell_type": "code",
   "execution_count": 8,
   "metadata": {},
   "outputs": [
    {
     "name": "stdout",
     "output_type": "stream",
     "text": [
      "      DN                                           geometry\n",
      "0      2  POLYGON ((75.12620 30.57766, 75.12647 30.57766...\n",
      "1      2  POLYGON ((75.12647 30.57739, 75.12701 30.57739...\n",
      "2      2  POLYGON ((75.12728 30.57713, 75.12754 30.57713...\n",
      "3      2  POLYGON ((75.12728 30.57551, 75.12754 30.57551...\n",
      "4      2  POLYGON ((75.12997 30.56176, 75.13051 30.56176...\n",
      "...   ..                                                ...\n",
      "2918   2  POLYGON ((75.15476 29.78643, 75.15557 29.78643...\n",
      "2919   2  POLYGON ((75.15099 29.78804, 75.15207 29.78804...\n",
      "2920   2  POLYGON ((75.12701 29.80475, 75.12728 29.80475...\n",
      "2921   2  POLYGON ((75.13913 29.77861, 75.13940 29.77861...\n",
      "2922   2  POLYGON ((75.14506 29.78616, 75.14560 29.78616...\n",
      "\n",
      "[2923 rows x 2 columns]\n"
     ]
    }
   ],
   "source": [
    "print(points)"
   ]
  },
  {
   "cell_type": "code",
   "execution_count": 9,
   "metadata": {},
   "outputs": [
    {
     "data": {
      "text/plain": [
       "(2923, 2)"
      ]
     },
     "execution_count": 9,
     "metadata": {},
     "output_type": "execute_result"
    }
   ],
   "source": [
    "points.shape"
   ]
  },
  {
   "cell_type": "code",
   "execution_count": 10,
   "metadata": {},
   "outputs": [
    {
     "data": {
      "text/plain": [
       "2923"
      ]
     },
     "execution_count": 10,
     "metadata": {},
     "output_type": "execute_result"
    }
   ],
   "source": [
    "len(points)"
   ]
  },
  {
   "cell_type": "code",
   "execution_count": 13,
   "metadata": {},
   "outputs": [],
   "source": [
    "sf = shapefile.Reader(\"E:\\\\Internship_Harvesting\\\\Dataset\\\\Bathinda_Cropland\\\\Bathinda_Cropland_2015.shp\")"
   ]
  },
  {
   "cell_type": "code",
   "execution_count": 14,
   "metadata": {},
   "outputs": [
    {
     "data": {
      "text/plain": [
       "[74.62197267346771, 29.77699571188025, 75.36712520164485, 30.58224553256499]"
      ]
     },
     "execution_count": 14,
     "metadata": {},
     "output_type": "execute_result"
    }
   ],
   "source": [
    "sf.bbox"
   ]
  },
  {
   "cell_type": "code",
   "execution_count": 15,
   "metadata": {},
   "outputs": [
    {
     "data": {
      "text/plain": [
       "5"
      ]
     },
     "execution_count": 15,
     "metadata": {},
     "output_type": "execute_result"
    }
   ],
   "source": [
    "sf.shapeType"
   ]
  },
  {
   "cell_type": "code",
   "execution_count": 16,
   "metadata": {},
   "outputs": [
    {
     "data": {
      "text/plain": [
       "[74.62197267346771, 29.77699571188025, 75.36712520164485, 30.58224553256499]"
      ]
     },
     "execution_count": 16,
     "metadata": {},
     "output_type": "execute_result"
    }
   ],
   "source": [
    "sf.bbox ## bounding box area the shape file covers"
   ]
  },
  {
   "cell_type": "code",
   "execution_count": 17,
   "metadata": {},
   "outputs": [
    {
     "data": {
      "text/plain": [
       "'FeatureCollection'"
      ]
     },
     "execution_count": 17,
     "metadata": {},
     "output_type": "execute_result"
    }
   ],
   "source": [
    "sf.__geo_interface__['type']"
   ]
  },
  {
   "cell_type": "code",
   "execution_count": 18,
   "metadata": {},
   "outputs": [],
   "source": [
    "shapes = sf.shapes()"
   ]
  },
  {
   "cell_type": "code",
   "execution_count": 20,
   "metadata": {},
   "outputs": [
    {
     "data": {
      "text/plain": [
       "<shapefile.Shape at 0x2550708a4c8>"
      ]
     },
     "execution_count": 20,
     "metadata": {},
     "output_type": "execute_result"
    }
   ],
   "source": [
    "s8 = sf.shape(7)\n",
    "s8"
   ]
  },
  {
   "cell_type": "code",
   "execution_count": 21,
   "metadata": {},
   "outputs": [
    {
     "data": {
      "text/plain": [
       "['75.163', '30.548', '75.165', '30.549']"
      ]
     },
     "execution_count": 21,
     "metadata": {},
     "output_type": "execute_result"
    }
   ],
   "source": [
    "s = sf.shape(7)\n",
    "\n",
    "# reading the bbox of the 8th shape to verify\n",
    "# round the cordinates to 3 \n",
    "\n",
    "['%.3f' % coord for coord in s.bbox]"
   ]
  },
  {
   "cell_type": "code",
   "execution_count": 24,
   "metadata": {},
   "outputs": [
    {
     "data": {
      "text/plain": [
       "[75.16311780062131, 30.547750225654802, 75.16473476813272, 30.548558709410507]"
      ]
     },
     "execution_count": 24,
     "metadata": {},
     "output_type": "execute_result"
    }
   ],
   "source": [
    "# bbox: If the shape type contains multiple points this tuple describes the lower left (x,y)\n",
    "# coordinate and upper right corner coordinate creating a complete box around the points.\n",
    "# If the shapeType is a Null (shapeType == 0) then an AttributeError is raised.\n",
    "\n",
    "# get the bounding box of the 4th shape\n",
    "\n",
    "bbox = shapes[7].bbox\n",
    "bbox"
   ]
  },
  {
   "cell_type": "code",
   "execution_count": 26,
   "metadata": {},
   "outputs": [
    {
     "data": {
      "text/plain": [
       "[0]"
      ]
     },
     "execution_count": 26,
     "metadata": {},
     "output_type": "execute_result"
    }
   ],
   "source": [
    "# parts: Parts simply group collections of points into shapes. If the shape record has multiple parts \n",
    "# this attribute contains the index of the first point of each part. If there is only one part then\n",
    "# a list containing 0 is returned.\n",
    "\n",
    "shapes[7].parts"
   ]
  },
  {
   "cell_type": "code",
   "execution_count": 31,
   "metadata": {},
   "outputs": [
    {
     "data": {
      "text/plain": [
       "13"
      ]
     },
     "execution_count": 31,
     "metadata": {},
     "output_type": "execute_result"
    }
   ],
   "source": [
    "# points: The points attribute contains a list of tuples containing an (x,y) coordinate for each point in the shape.\n",
    "\n",
    "len(shapes[7].points)"
   ]
  },
  {
   "cell_type": "code",
   "execution_count": 32,
   "metadata": {},
   "outputs": [
    {
     "data": {
      "text/plain": [
       "[(75.16392628437701, 30.548558709410507),\n",
       " (75.16473476813272, 30.548558709410507),\n",
       " (75.16473476813272, 30.548289214825274),\n",
       " (75.16446527354749, 30.548289214825274),\n",
       " (75.16419577896225, 30.548289214825274),\n",
       " (75.16419577896225, 30.547750225654802),\n",
       " (75.16392628437701, 30.547750225654802),\n",
       " (75.16392628437701, 30.548019720240035),\n",
       " (75.16311780062131, 30.548019720240035),\n",
       " (75.16311780062131, 30.548289214825274),\n",
       " (75.16365678979179, 30.548289214825274),\n",
       " (75.16392628437701, 30.548289214825274),\n",
       " (75.16392628437701, 30.548558709410507)]"
      ]
     },
     "execution_count": 32,
     "metadata": {},
     "output_type": "execute_result"
    }
   ],
   "source": [
    "shapes[7].points"
   ]
  },
  {
   "cell_type": "code",
   "execution_count": 35,
   "metadata": {},
   "outputs": [
    {
     "data": {
      "text/plain": [
       "(75.16392628437701, 30.548019720240035)"
      ]
     },
     "execution_count": 35,
     "metadata": {},
     "output_type": "execute_result"
    }
   ],
   "source": [
    "# get the 8th point of the eighth shape\n",
    "\n",
    "shape = shapes[7].points[7] \n",
    "shape"
   ]
  },
  {
   "cell_type": "code",
   "execution_count": 37,
   "metadata": {},
   "outputs": [
    {
     "data": {
      "text/plain": [
       "shapefile.Reader"
      ]
     },
     "execution_count": 37,
     "metadata": {},
     "output_type": "execute_result"
    }
   ],
   "source": [
    "type(sf)"
   ]
  },
  {
   "cell_type": "code",
   "execution_count": null,
   "metadata": {},
   "outputs": [],
   "source": []
  }
 ],
 "metadata": {
  "kernelspec": {
   "display_name": "Python 3",
   "language": "python",
   "name": "python3"
  },
  "language_info": {
   "codemirror_mode": {
    "name": "ipython",
    "version": 3
   },
   "file_extension": ".py",
   "mimetype": "text/x-python",
   "name": "python",
   "nbconvert_exporter": "python",
   "pygments_lexer": "ipython3",
   "version": "3.7.7"
  }
 },
 "nbformat": 4,
 "nbformat_minor": 4
}
