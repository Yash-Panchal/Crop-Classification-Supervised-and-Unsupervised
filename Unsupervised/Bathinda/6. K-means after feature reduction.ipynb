{
 "cells": [
  {
   "cell_type": "markdown",
   "metadata": {},
   "source": [
    "## now we having reduced the features to 6 from 30\n",
    "## by neglecting the features whose correlation is <abs(0.1) with the prediction from 10% k-means\n",
    "## Once we have all features whose correlation is >abs(0.1), then again we checked intercorrelation of these features\n",
    "## and we clubbed features to one which were having intercorrelation >abs(0.8)"
   ]
  },
  {
   "cell_type": "code",
   "execution_count": 1,
   "metadata": {},
   "outputs": [],
   "source": [
    "import numpy as np\n",
    "import matplotlib.pyplot as plt\n",
    "import h5py\n",
    "import pandas as pd\n",
    "import scipy\n",
    "from PIL import Image\n",
    "from scipy import ndimage\n",
    "import gdal\n",
    "import os\n",
    "import geopandas as gpd\n",
    "from skimage import io\n",
    "from skimage.io import imread\n",
    "%matplotlib inline"
   ]
  },
  {
   "cell_type": "code",
   "execution_count": 2,
   "metadata": {},
   "outputs": [],
   "source": [
    "np.random.seed(1)"
   ]
  },
  {
   "cell_type": "code",
   "execution_count": 3,
   "metadata": {},
   "outputs": [
    {
     "name": "stderr",
     "output_type": "stream",
     "text": [
      "C:\\Users\\Lenovo\\anaconda3\\envs\\env_1\\lib\\site-packages\\sklearn\\utils\\deprecation.py:144: FutureWarning: The sklearn.datasets.samples_generator module is  deprecated in version 0.22 and will be removed in version 0.24. The corresponding classes / functions should instead be imported from sklearn.datasets. Anything that cannot be imported from sklearn.datasets is now part of the private API.\n",
      "  warnings.warn(message, FutureWarning)\n"
     ]
    }
   ],
   "source": [
    "from sklearn.datasets.samples_generator import make_blobs\n",
    "from sklearn.cluster import KMeans"
   ]
  },
  {
   "cell_type": "markdown",
   "metadata": {},
   "source": [
    "# reading the masked tif images and forming a dataset."
   ]
  },
  {
   "cell_type": "code",
   "execution_count": 13,
   "metadata": {},
   "outputs": [],
   "source": [
    "path = [\"E:\\\\Internship_Harvesting\\\\Dataset\\\\Bathinda_Cropland\\\\Masked_images\\\\I1B1.tif\",\n",
    "       \"E:\\\\Internship_Harvesting\\\\Dataset\\\\Bathinda_Cropland\\\\Masked_images\\\\I3B1.tif\",\n",
    "       \"E:\\\\Internship_Harvesting\\\\Dataset\\\\Bathinda_Cropland\\\\Masked_images\\\\I4B4.tif\",\n",
    "       \"E:\\\\Internship_Harvesting\\\\Dataset\\\\Bathinda_Cropland\\\\Masked_images\\\\I4B5.tif\",\n",
    "       \"E:\\\\Internship_Harvesting\\\\Dataset\\\\Bathinda_Cropland\\\\Masked_images\\\\I5B1.tif\",\n",
    "       \"E:\\\\Internship_Harvesting\\\\Dataset\\\\Bathinda_Cropland\\\\Masked_images\\\\I5B5.tif\"]"
   ]
  },
  {
   "cell_type": "code",
   "execution_count": 5,
   "metadata": {},
   "outputs": [
    {
     "data": {
      "text/plain": [
       "<osgeo.gdal.Dataset; proxy of <Swig Object of type 'GDALDatasetShadow *' at 0x00000186D2EAA2D0> >"
      ]
     },
     "execution_count": 5,
     "metadata": {},
     "output_type": "execute_result"
    }
   ],
   "source": [
    "I1B1 = gdal.Open(path[0])\n",
    "I1B1"
   ]
  },
  {
   "cell_type": "code",
   "execution_count": 6,
   "metadata": {},
   "outputs": [
    {
     "data": {
      "text/plain": [
       "(8963, 8298, 1)"
      ]
     },
     "execution_count": 6,
     "metadata": {},
     "output_type": "execute_result"
    }
   ],
   "source": [
    "I1B1.RasterYSize, I1B1.RasterXSize, I1B1.RasterCount"
   ]
  },
  {
   "cell_type": "code",
   "execution_count": 7,
   "metadata": {},
   "outputs": [
    {
     "data": {
      "text/plain": [
       "array([[nan, nan, nan, ..., nan, nan, nan],\n",
       "       [nan, nan, nan, ..., nan, nan, nan],\n",
       "       [nan, nan, nan, ..., nan, nan, nan],\n",
       "       ...,\n",
       "       [nan, nan, nan, ..., nan, nan, nan],\n",
       "       [nan, nan, nan, ..., nan, nan, nan],\n",
       "       [nan, nan, nan, ..., nan, nan, nan]])"
      ]
     },
     "execution_count": 7,
     "metadata": {},
     "output_type": "execute_result"
    }
   ],
   "source": [
    "I1B1_array = I1B1.GetRasterBand(1).ReadAsArray()\n",
    "I1B1_array"
   ]
  },
  {
   "cell_type": "code",
   "execution_count": 8,
   "metadata": {},
   "outputs": [
    {
     "data": {
      "text/plain": [
       "(40574909, 33800065)"
      ]
     },
     "execution_count": 8,
     "metadata": {},
     "output_type": "execute_result"
    }
   ],
   "source": [
    "np.count_nonzero(np.isnan(I1B1_array)), np.count_nonzero(~np.isnan(I1B1_array))"
   ]
  },
  {
   "cell_type": "markdown",
   "metadata": {},
   "source": [
    "# creating an array which only consists the non-nan values indices"
   ]
  },
  {
   "cell_type": "code",
   "execution_count": 9,
   "metadata": {},
   "outputs": [],
   "source": [
    "# I1B1_nan_index = np.argwhere(np.isnan(I1B1))\n",
    "\n",
    "I1B1_non_nan_index = np.argwhere(~np.isnan(I1B1_array))"
   ]
  },
  {
   "cell_type": "code",
   "execution_count": 10,
   "metadata": {},
   "outputs": [
    {
     "data": {
      "text/plain": [
       "array([[   0, 5738],\n",
       "       [   0, 5739],\n",
       "       [   0, 5740],\n",
       "       ...,\n",
       "       [8962, 5788],\n",
       "       [8962, 5789],\n",
       "       [8962, 5790]], dtype=int64)"
      ]
     },
     "execution_count": 10,
     "metadata": {},
     "output_type": "execute_result"
    }
   ],
   "source": [
    "I1B1_non_nan_index"
   ]
  },
  {
   "cell_type": "code",
   "execution_count": 11,
   "metadata": {},
   "outputs": [
    {
     "data": {
      "text/plain": [
       "(1249.0, 1242.0, 1248.0, 1237.0)"
      ]
     },
     "execution_count": 11,
     "metadata": {},
     "output_type": "execute_result"
    }
   ],
   "source": [
    "I1B1_array[0, 5738], I1B1_array[0, 5739], I1B1_array[8962, 5789], I1B1_array[8962, 5790]"
   ]
  },
  {
   "cell_type": "code",
   "execution_count": 14,
   "metadata": {},
   "outputs": [
    {
     "data": {
      "text/plain": [
       "(33800065, 2)"
      ]
     },
     "execution_count": 14,
     "metadata": {},
     "output_type": "execute_result"
    }
   ],
   "source": [
    "I1B1_non_nan_index.shape"
   ]
  },
  {
   "cell_type": "markdown",
   "metadata": {},
   "source": [
    "# we have randomly sampled indices now we will make the sample dataset using this indices"
   ]
  },
  {
   "cell_type": "code",
   "execution_count": 15,
   "metadata": {},
   "outputs": [],
   "source": [
    "test_x = np.zeros((1, 33800065))"
   ]
  },
  {
   "cell_type": "code",
   "execution_count": 16,
   "metadata": {
    "scrolled": true
   },
   "outputs": [
    {
     "name": "stdout",
     "output_type": "stream",
     "text": [
      "E:\\Internship_Harvesting\\Dataset\\Bathinda_Cropland\\Masked_images\\I1B1.tif\n",
      "(8963, 8298)\n",
      "(2, 33800065)\n",
      "***************\n",
      "E:\\Internship_Harvesting\\Dataset\\Bathinda_Cropland\\Masked_images\\I3B1.tif\n",
      "(8963, 8298)\n",
      "(3, 33800065)\n",
      "***************\n",
      "E:\\Internship_Harvesting\\Dataset\\Bathinda_Cropland\\Masked_images\\I4B4.tif\n",
      "(8963, 8298)\n",
      "(4, 33800065)\n",
      "***************\n",
      "E:\\Internship_Harvesting\\Dataset\\Bathinda_Cropland\\Masked_images\\I4B5.tif\n",
      "(8963, 8298)\n",
      "(5, 33800065)\n",
      "***************\n",
      "E:\\Internship_Harvesting\\Dataset\\Bathinda_Cropland\\Masked_images\\I5B1.tif\n",
      "(8963, 8298)\n",
      "(6, 33800065)\n",
      "***************\n",
      "E:\\Internship_Harvesting\\Dataset\\Bathinda_Cropland\\Masked_images\\I5B5.tif\n",
      "(8963, 8298)\n",
      "(7, 33800065)\n",
      "***************\n"
     ]
    }
   ],
   "source": [
    "for p in path:\n",
    "    print(p)\n",
    "    \n",
    "    image = gdal.Open(p)\n",
    "    \n",
    "    image_array = image.GetRasterBand(1).ReadAsArray()\n",
    "    print(image_array.shape)\n",
    "    sample = []\n",
    "    \n",
    "    for i in range(I1B1_non_nan_index.shape[0]):\n",
    "        sample.append(image_array[I1B1_non_nan_index[i,0], I1B1_non_nan_index[i,1]])\n",
    "        \n",
    "    sample = np.array(sample)\n",
    "    \n",
    "    sample = sample.reshape(1, 33800065)\n",
    "        \n",
    "    test_x = np.concatenate((sample, test_x), axis = 0)\n",
    "    \n",
    "    print(test_x.shape)\n",
    "    \n",
    "    print(\"***************\")\n",
    "    "
   ]
  },
  {
   "cell_type": "code",
   "execution_count": 18,
   "metadata": {},
   "outputs": [],
   "source": [
    "test_x = test_x[:6, :]"
   ]
  },
  {
   "cell_type": "code",
   "execution_count": 24,
   "metadata": {},
   "outputs": [
    {
     "data": {
      "text/plain": [
       "(6, 33800065)"
      ]
     },
     "execution_count": 24,
     "metadata": {},
     "output_type": "execute_result"
    }
   ],
   "source": [
    "test_x.shape"
   ]
  },
  {
   "cell_type": "markdown",
   "metadata": {},
   "source": [
    "# feature normalizing"
   ]
  },
  {
   "cell_type": "code",
   "execution_count": 25,
   "metadata": {},
   "outputs": [],
   "source": [
    "for i in range(test_x.shape[0]):\n",
    "    averg = np.mean(test_x[i, :])\n",
    "    \n",
    "    std_dev = np.std(test_x[i, :])\n",
    "    \n",
    "    test_x[i, :] = (test_x[i, :] - averg) / std_dev"
   ]
  },
  {
   "cell_type": "code",
   "execution_count": 44,
   "metadata": {},
   "outputs": [],
   "source": [
    "test_x = test_x.T"
   ]
  },
  {
   "cell_type": "code",
   "execution_count": 45,
   "metadata": {},
   "outputs": [
    {
     "data": {
      "text/plain": [
       "(33800065, 6)"
      ]
     },
     "execution_count": 45,
     "metadata": {},
     "output_type": "execute_result"
    }
   ],
   "source": [
    "test_x.shape"
   ]
  },
  {
   "cell_type": "markdown",
   "metadata": {},
   "source": [
    "# we have our test data, we will apply K-means unsupervised algorithm on this and capture details"
   ]
  },
  {
   "cell_type": "markdown",
   "metadata": {},
   "source": [
    "# https://towardsdatascience.com/machine-learning-algorithms-part-9-k-means-example-in-python-f2ad05ed5203\n",
    "\n",
    "# reference for the below mentioned code"
   ]
  },
  {
   "cell_type": "code",
   "execution_count": 46,
   "metadata": {},
   "outputs": [],
   "source": [
    "wcss = []"
   ]
  },
  {
   "cell_type": "code",
   "execution_count": 51,
   "metadata": {},
   "outputs": [
    {
     "name": "stdout",
     "output_type": "stream",
     "text": [
      "1 1\n",
      "2 1\n",
      "3 1\n",
      "1 2\n",
      "2 2\n",
      "3 2\n",
      "1 3\n",
      "2 3\n",
      "3 3\n"
     ]
    }
   ],
   "source": [
    "for i in range(1, 4):\n",
    "    \n",
    "    kmeans = KMeans(n_clusters=i, init='k-means++', max_iter=100, n_init=10, random_state=0)\n",
    "    print(\"1\", i)\n",
    "    kmeans.fit(test_x)\n",
    "    print(\"2\", i)\n",
    "    wcss.append(kmeans.inertia_)\n",
    "    print(\"3\", i)"
   ]
  },
  {
   "cell_type": "code",
   "execution_count": 52,
   "metadata": {},
   "outputs": [
    {
     "data": {
      "text/plain": [
       "[202800389.99999905,\n",
       " 130633135.31588425,\n",
       " 108003766.97196347,\n",
       " 202800389.99999905,\n",
       " 130632923.03674513,\n",
       " 108003766.97196347]"
      ]
     },
     "execution_count": 52,
     "metadata": {},
     "output_type": "execute_result"
    }
   ],
   "source": [
    "wcss"
   ]
  },
  {
   "cell_type": "code",
   "execution_count": 54,
   "metadata": {},
   "outputs": [
    {
     "data": {
      "image/png": "[encoded data removed]",
      "text/plain": [
       "<Figure size 432x288 with 1 Axes>"
      ]
     },
     "metadata": {
      "needs_background": "light"
     },
     "output_type": "display_data"
    }
   ],
   "source": [
    "plt.plot(range(1, 7), wcss)\n",
    "plt.title('Elbow Method')\n",
    "plt.xlabel('Number of clusters')\n",
    "plt.ylabel('WCSS')\n",
    "plt.show()"
   ]
  },
  {
   "cell_type": "code",
   "execution_count": 55,
   "metadata": {},
   "outputs": [],
   "source": [
    "kmeans = KMeans(n_clusters=2, init='k-means++', max_iter=50, n_init=5, random_state=0)\n",
    "test_y = kmeans.fit_predict(test_x)"
   ]
  },
  {
   "cell_type": "code",
   "execution_count": 56,
   "metadata": {},
   "outputs": [
    {
     "data": {
      "text/plain": [
       "array([0, 1])"
      ]
     },
     "execution_count": 56,
     "metadata": {},
     "output_type": "execute_result"
    }
   ],
   "source": [
    "np.unique(test_y)"
   ]
  },
  {
   "cell_type": "code",
   "execution_count": 57,
   "metadata": {},
   "outputs": [
    {
     "data": {
      "text/plain": [
       "((33800065,), (33800065, 6))"
      ]
     },
     "execution_count": 57,
     "metadata": {},
     "output_type": "execute_result"
    }
   ],
   "source": [
    "test_y.shape, test_x.shape"
   ]
  },
  {
   "cell_type": "code",
   "execution_count": 58,
   "metadata": {},
   "outputs": [
    {
     "data": {
      "text/plain": [
       "(33800065, 1)"
      ]
     },
     "execution_count": 58,
     "metadata": {},
     "output_type": "execute_result"
    }
   ],
   "source": [
    "test_y = test_y.reshape(33800065, 1)\n",
    "test_y.shape"
   ]
  },
  {
   "cell_type": "code",
   "execution_count": 60,
   "metadata": {},
   "outputs": [
    {
     "data": {
      "text/plain": [
       "(33800065, 2)"
      ]
     },
     "execution_count": 60,
     "metadata": {},
     "output_type": "execute_result"
    }
   ],
   "source": [
    "I1B1_non_nan_index.shape"
   ]
  },
  {
   "cell_type": "code",
   "execution_count": 62,
   "metadata": {},
   "outputs": [
    {
     "data": {
      "text/plain": [
       "array([[   0, 5738,    0],\n",
       "       [   0, 5739,    0],\n",
       "       [   0, 5740,    0],\n",
       "       ...,\n",
       "       [8962, 5788,    1],\n",
       "       [8962, 5789,    1],\n",
       "       [8962, 5790,    1]], dtype=int64)"
      ]
     },
     "execution_count": 62,
     "metadata": {},
     "output_type": "execute_result"
    }
   ],
   "source": [
    "result_index = np.concatenate((I1B1_non_nan_index, test_y), axis = 1)\n",
    "result_index"
   ]
  },
  {
   "cell_type": "code",
   "execution_count": 63,
   "metadata": {},
   "outputs": [],
   "source": [
    "result = np.zeros((8963, 8298))"
   ]
  },
  {
   "cell_type": "code",
   "execution_count": 64,
   "metadata": {},
   "outputs": [],
   "source": [
    "result[:] = 128"
   ]
  },
  {
   "cell_type": "code",
   "execution_count": 66,
   "metadata": {},
   "outputs": [],
   "source": [
    "result = result.astype(\"int\")"
   ]
  },
  {
   "cell_type": "code",
   "execution_count": 67,
   "metadata": {},
   "outputs": [],
   "source": [
    "for i in range(result_index.shape[0]):\n",
    "    result[result_index[i,0], result_index[i,1]] = result_index[i, 2]"
   ]
  },
  {
   "cell_type": "code",
   "execution_count": 68,
   "metadata": {},
   "outputs": [
    {
     "data": {
      "text/plain": [
       "array([[128, 128, 128, ..., 128, 128, 128],\n",
       "       [128, 128, 128, ..., 128, 128, 128],\n",
       "       [128, 128, 128, ..., 128, 128, 128],\n",
       "       ...,\n",
       "       [128, 128, 128, ..., 128, 128, 128],\n",
       "       [128, 128, 128, ..., 128, 128, 128],\n",
       "       [128, 128, 128, ..., 128, 128, 128]])"
      ]
     },
     "execution_count": 68,
     "metadata": {},
     "output_type": "execute_result"
    }
   ],
   "source": [
    "result"
   ]
  },
  {
   "cell_type": "code",
   "execution_count": 69,
   "metadata": {},
   "outputs": [
    {
     "data": {
      "text/plain": [
       "array([  0,   1, 128])"
      ]
     },
     "execution_count": 69,
     "metadata": {},
     "output_type": "execute_result"
    }
   ],
   "source": [
    "np.unique(result)"
   ]
  },
  {
   "cell_type": "code",
   "execution_count": 70,
   "metadata": {},
   "outputs": [],
   "source": [
    "result[result[:] == 0] = 255"
   ]
  },
  {
   "cell_type": "code",
   "execution_count": 71,
   "metadata": {},
   "outputs": [
    {
     "data": {
      "text/plain": [
       "array([  1, 128, 255])"
      ]
     },
     "execution_count": 71,
     "metadata": {},
     "output_type": "execute_result"
    }
   ],
   "source": [
    "np.unique(result)"
   ]
  },
  {
   "cell_type": "code",
   "execution_count": 72,
   "metadata": {},
   "outputs": [],
   "source": [
    "result[result[:] == 1] = 0"
   ]
  },
  {
   "cell_type": "code",
   "execution_count": 73,
   "metadata": {},
   "outputs": [
    {
     "data": {
      "text/plain": [
       "array([  0, 128, 255])"
      ]
     },
     "execution_count": 73,
     "metadata": {},
     "output_type": "execute_result"
    }
   ],
   "source": [
    "np.unique(result)"
   ]
  },
  {
   "cell_type": "code",
   "execution_count": 74,
   "metadata": {},
   "outputs": [],
   "source": [
    "# here 0 --> 1 during classification(minority)\n",
    "# 255 --> 0 during classification(majority)\n",
    "# 128 --> nan values (non-agri plus outside boundary)"
   ]
  },
  {
   "cell_type": "code",
   "execution_count": 75,
   "metadata": {},
   "outputs": [],
   "source": [
    "result = result.astype(\"uint8\")"
   ]
  },
  {
   "cell_type": "code",
   "execution_count": 77,
   "metadata": {},
   "outputs": [
    {
     "data": {
      "text/plain": [
       "(8963, 8298)"
      ]
     },
     "execution_count": 77,
     "metadata": {},
     "output_type": "execute_result"
    }
   ],
   "source": [
    "result.shape"
   ]
  },
  {
   "cell_type": "code",
   "execution_count": 78,
   "metadata": {},
   "outputs": [],
   "source": [
    "io.imsave(\"E:\\\\Internship_Harvesting\\\\Unsupervised_Result_Image\\\\feature_red_kmeans_result.jpg\", result)"
   ]
  },
  {
   "cell_type": "code",
   "execution_count": null,
   "metadata": {},
   "outputs": [],
   "source": []
  }
 ],
 "metadata": {
  "kernelspec": {
   "display_name": "Python 3",
   "language": "python",
   "name": "python3"
  },
  "language_info": {
   "codemirror_mode": {
    "name": "ipython",
    "version": 3
   },
   "file_extension": ".py",
   "mimetype": "text/x-python",
   "name": "python",
   "nbconvert_exporter": "python",
   "pygments_lexer": "ipython3",
   "version": "3.7.6"
  }
 },
 "nbformat": 4,
 "nbformat_minor": 4
}
