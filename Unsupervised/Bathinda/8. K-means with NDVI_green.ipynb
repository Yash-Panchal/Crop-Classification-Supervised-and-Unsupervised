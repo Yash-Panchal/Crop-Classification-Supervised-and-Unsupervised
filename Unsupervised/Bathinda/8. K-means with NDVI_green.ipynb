{
 "cells": [
  {
   "cell_type": "markdown",
   "metadata": {},
   "source": [
    "## using NDVI for feature reduction"
   ]
  },
  {
   "cell_type": "markdown",
   "metadata": {},
   "source": [
    "### NDVI = (NIR - GREEN) / (GREEN + NIR)\n",
    "\n",
    "### NDVI = (BAND5 - BAND2) / (BAND2 + BAND5)"
   ]
  },
  {
   "cell_type": "code",
   "execution_count": 1,
   "metadata": {},
   "outputs": [],
   "source": [
    "import numpy as np\n",
    "import matplotlib.pyplot as plt\n",
    "import h5py\n",
    "import pandas as pd\n",
    "import scipy\n",
    "from PIL import Image\n",
    "from scipy import ndimage\n",
    "import gdal\n",
    "import os\n",
    "import geopandas as gpd\n",
    "from skimage import io\n",
    "from skimage.io import imread\n",
    "%matplotlib inline"
   ]
  },
  {
   "cell_type": "code",
   "execution_count": 2,
   "metadata": {},
   "outputs": [],
   "source": [
    "np.random.seed(1)"
   ]
  },
  {
   "cell_type": "code",
   "execution_count": 3,
   "metadata": {},
   "outputs": [
    {
     "name": "stderr",
     "output_type": "stream",
     "text": [
      "C:\\Users\\Lenovo\\anaconda3\\envs\\env_1\\lib\\site-packages\\sklearn\\utils\\deprecation.py:144: FutureWarning: The sklearn.datasets.samples_generator module is  deprecated in version 0.22 and will be removed in version 0.24. The corresponding classes / functions should instead be imported from sklearn.datasets. Anything that cannot be imported from sklearn.datasets is now part of the private API.\n",
      "  warnings.warn(message, FutureWarning)\n"
     ]
    }
   ],
   "source": [
    "from sklearn.datasets.samples_generator import make_blobs\n",
    "from sklearn.cluster import KMeans"
   ]
  },
  {
   "cell_type": "markdown",
   "metadata": {},
   "source": [
    "# reading the masked tif images and forming a dataset."
   ]
  },
  {
   "cell_type": "code",
   "execution_count": 4,
   "metadata": {},
   "outputs": [],
   "source": [
    "path = [\"E:\\\\Internship_Harvesting\\\\Dataset\\\\Bathinda_Cropland\\\\Masked_images\\\\I1B2.tif\",\n",
    "       \"E:\\\\Internship_Harvesting\\\\Dataset\\\\Bathinda_Cropland\\\\Masked_images\\\\I1B5.tif\",\n",
    "       \"E:\\\\Internship_Harvesting\\\\Dataset\\\\Bathinda_Cropland\\\\Masked_images\\\\I2B2.tif\",\n",
    "       \"E:\\\\Internship_Harvesting\\\\Dataset\\\\Bathinda_Cropland\\\\Masked_images\\\\I2B5.tif\",\n",
    "       \"E:\\\\Internship_Harvesting\\\\Dataset\\\\Bathinda_Cropland\\\\Masked_images\\\\I3B2.tif\",\n",
    "       \"E:\\\\Internship_Harvesting\\\\Dataset\\\\Bathinda_Cropland\\\\Masked_images\\\\I3B5.tif\",\n",
    "       \"E:\\\\Internship_Harvesting\\\\Dataset\\\\Bathinda_Cropland\\\\Masked_images\\\\I4B2.tif\",\n",
    "       \"E:\\\\Internship_Harvesting\\\\Dataset\\\\Bathinda_Cropland\\\\Masked_images\\\\I4B5.tif\",\n",
    "       \"E:\\\\Internship_Harvesting\\\\Dataset\\\\Bathinda_Cropland\\\\Masked_images\\\\I5B2.tif\",\n",
    "       \"E:\\\\Internship_Harvesting\\\\Dataset\\\\Bathinda_Cropland\\\\Masked_images\\\\I5B5.tif\",\n",
    "       \"E:\\\\Internship_Harvesting\\\\Dataset\\\\Bathinda_Cropland\\\\Masked_images\\\\I6B2.tif\",\n",
    "       \"E:\\\\Internship_Harvesting\\\\Dataset\\\\Bathinda_Cropland\\\\Masked_images\\\\I6B5.tif\"]"
   ]
  },
  {
   "cell_type": "code",
   "execution_count": 5,
   "metadata": {},
   "outputs": [
    {
     "data": {
      "text/plain": [
       "<osgeo.gdal.Dataset; proxy of <Swig Object of type 'GDALDatasetShadow *' at 0x000002893C18B1E0> >"
      ]
     },
     "execution_count": 5,
     "metadata": {},
     "output_type": "execute_result"
    }
   ],
   "source": [
    "I1B1 = gdal.Open(path[0])\n",
    "I1B1"
   ]
  },
  {
   "cell_type": "code",
   "execution_count": 6,
   "metadata": {},
   "outputs": [
    {
     "data": {
      "text/plain": [
       "(8963, 8298, 1)"
      ]
     },
     "execution_count": 6,
     "metadata": {},
     "output_type": "execute_result"
    }
   ],
   "source": [
    "I1B1.RasterYSize, I1B1.RasterXSize, I1B1.RasterCount"
   ]
  },
  {
   "cell_type": "code",
   "execution_count": 7,
   "metadata": {},
   "outputs": [
    {
     "data": {
      "text/plain": [
       "array([[nan, nan, nan, ..., nan, nan, nan],\n",
       "       [nan, nan, nan, ..., nan, nan, nan],\n",
       "       [nan, nan, nan, ..., nan, nan, nan],\n",
       "       ...,\n",
       "       [nan, nan, nan, ..., nan, nan, nan],\n",
       "       [nan, nan, nan, ..., nan, nan, nan],\n",
       "       [nan, nan, nan, ..., nan, nan, nan]])"
      ]
     },
     "execution_count": 7,
     "metadata": {},
     "output_type": "execute_result"
    }
   ],
   "source": [
    "I1B1_array = I1B1.GetRasterBand(1).ReadAsArray()\n",
    "I1B1_array"
   ]
  },
  {
   "cell_type": "code",
   "execution_count": 8,
   "metadata": {},
   "outputs": [
    {
     "data": {
      "text/plain": [
       "(40574909, 33800065)"
      ]
     },
     "execution_count": 8,
     "metadata": {},
     "output_type": "execute_result"
    }
   ],
   "source": [
    "np.count_nonzero(np.isnan(I1B1_array)), np.count_nonzero(~np.isnan(I1B1_array))"
   ]
  },
  {
   "cell_type": "markdown",
   "metadata": {},
   "source": [
    "# creating an array which only consists the non-nan values indices"
   ]
  },
  {
   "cell_type": "code",
   "execution_count": 9,
   "metadata": {},
   "outputs": [],
   "source": [
    "# I1B1_nan_index = np.argwhere(np.isnan(I1B1))\n",
    "\n",
    "I1B1_non_nan_index = np.argwhere(~np.isnan(I1B1_array))"
   ]
  },
  {
   "cell_type": "code",
   "execution_count": 10,
   "metadata": {},
   "outputs": [
    {
     "data": {
      "text/plain": [
       "array([[   0, 5738],\n",
       "       [   0, 5739],\n",
       "       [   0, 5740],\n",
       "       ...,\n",
       "       [8962, 5788],\n",
       "       [8962, 5789],\n",
       "       [8962, 5790]], dtype=int64)"
      ]
     },
     "execution_count": 10,
     "metadata": {},
     "output_type": "execute_result"
    }
   ],
   "source": [
    "I1B1_non_nan_index"
   ]
  },
  {
   "cell_type": "code",
   "execution_count": 11,
   "metadata": {},
   "outputs": [
    {
     "data": {
      "text/plain": [
       "(1200.0, 1182.0, 1130.0, 1144.0)"
      ]
     },
     "execution_count": 11,
     "metadata": {},
     "output_type": "execute_result"
    }
   ],
   "source": [
    "I1B1_array[0, 5738], I1B1_array[0, 5739], I1B1_array[8962, 5789], I1B1_array[8962, 5790]"
   ]
  },
  {
   "cell_type": "code",
   "execution_count": 12,
   "metadata": {},
   "outputs": [
    {
     "data": {
      "text/plain": [
       "(33800065, 2)"
      ]
     },
     "execution_count": 12,
     "metadata": {},
     "output_type": "execute_result"
    }
   ],
   "source": [
    "I1B1_non_nan_index.shape"
   ]
  },
  {
   "cell_type": "markdown",
   "metadata": {},
   "source": [
    "# we have indices now we will make the dataset using this indices"
   ]
  },
  {
   "cell_type": "code",
   "execution_count": 13,
   "metadata": {},
   "outputs": [],
   "source": [
    "test_x = np.zeros((1, 33800065))"
   ]
  },
  {
   "cell_type": "code",
   "execution_count": 14,
   "metadata": {
    "scrolled": true
   },
   "outputs": [
    {
     "name": "stdout",
     "output_type": "stream",
     "text": [
      "E:\\Internship_Harvesting\\Dataset\\Bathinda_Cropland\\Masked_images\\I1B2.tif\n",
      "(8963, 8298)\n",
      "(2, 33800065)\n",
      "***************\n",
      "E:\\Internship_Harvesting\\Dataset\\Bathinda_Cropland\\Masked_images\\I1B5.tif\n",
      "(8963, 8298)\n",
      "(3, 33800065)\n",
      "***************\n",
      "E:\\Internship_Harvesting\\Dataset\\Bathinda_Cropland\\Masked_images\\I2B2.tif\n",
      "(8963, 8298)\n",
      "(4, 33800065)\n",
      "***************\n",
      "E:\\Internship_Harvesting\\Dataset\\Bathinda_Cropland\\Masked_images\\I2B5.tif\n",
      "(8963, 8298)\n",
      "(5, 33800065)\n",
      "***************\n",
      "E:\\Internship_Harvesting\\Dataset\\Bathinda_Cropland\\Masked_images\\I3B2.tif\n",
      "(8963, 8298)\n",
      "(6, 33800065)\n",
      "***************\n",
      "E:\\Internship_Harvesting\\Dataset\\Bathinda_Cropland\\Masked_images\\I3B5.tif\n",
      "(8963, 8298)\n",
      "(7, 33800065)\n",
      "***************\n",
      "E:\\Internship_Harvesting\\Dataset\\Bathinda_Cropland\\Masked_images\\I4B2.tif\n",
      "(8963, 8298)\n",
      "(8, 33800065)\n",
      "***************\n",
      "E:\\Internship_Harvesting\\Dataset\\Bathinda_Cropland\\Masked_images\\I4B5.tif\n",
      "(8963, 8298)\n",
      "(9, 33800065)\n",
      "***************\n",
      "E:\\Internship_Harvesting\\Dataset\\Bathinda_Cropland\\Masked_images\\I5B2.tif\n",
      "(8963, 8298)\n",
      "(10, 33800065)\n",
      "***************\n",
      "E:\\Internship_Harvesting\\Dataset\\Bathinda_Cropland\\Masked_images\\I5B5.tif\n",
      "(8963, 8298)\n",
      "(11, 33800065)\n",
      "***************\n",
      "E:\\Internship_Harvesting\\Dataset\\Bathinda_Cropland\\Masked_images\\I6B2.tif\n",
      "(8963, 8298)\n",
      "(12, 33800065)\n",
      "***************\n",
      "E:\\Internship_Harvesting\\Dataset\\Bathinda_Cropland\\Masked_images\\I6B5.tif\n",
      "(8963, 8298)\n",
      "(13, 33800065)\n",
      "***************\n"
     ]
    }
   ],
   "source": [
    "for p in path:\n",
    "    print(p)\n",
    "    \n",
    "    image = gdal.Open(p)\n",
    "    \n",
    "    image_array = image.GetRasterBand(1).ReadAsArray()\n",
    "    print(image_array.shape)\n",
    "    sample = []\n",
    "    \n",
    "    for i in range(I1B1_non_nan_index.shape[0]):\n",
    "        sample.append(image_array[I1B1_non_nan_index[i,0], I1B1_non_nan_index[i,1]])\n",
    "        \n",
    "    sample = np.array(sample)\n",
    "    \n",
    "    sample = sample.reshape(1, 33800065)\n",
    "        \n",
    "    test_x = np.concatenate((sample, test_x), axis = 0)\n",
    "    \n",
    "    print(test_x.shape)\n",
    "    \n",
    "    print(\"***************\")\n",
    "    "
   ]
  },
  {
   "cell_type": "code",
   "execution_count": 15,
   "metadata": {},
   "outputs": [],
   "source": [
    "test_x = test_x[:12, :]"
   ]
  },
  {
   "cell_type": "code",
   "execution_count": 16,
   "metadata": {},
   "outputs": [
    {
     "data": {
      "text/plain": [
       "(12, 33800065)"
      ]
     },
     "execution_count": 16,
     "metadata": {},
     "output_type": "execute_result"
    }
   ],
   "source": [
    "test_x.shape"
   ]
  },
  {
   "cell_type": "code",
   "execution_count": 17,
   "metadata": {},
   "outputs": [
    {
     "data": {
      "text/plain": [
       "array([[2929.5, 3312. , 3197.5, ..., 3368.5, 3290. , 3261. ],\n",
       "       [1006.5, 1001. ,  955. , ...,  849.5,  850.5,  861. ],\n",
       "       [2953. , 3448. , 3508. , ..., 3022. , 2969.5, 2969. ],\n",
       "       ...,\n",
       "       [1322.5, 1367. , 1398.5, ..., 1120. , 1125. , 1121. ],\n",
       "       [2622. , 2757. , 2787. , ..., 2800. , 2755.5, 2731. ],\n",
       "       [1200. , 1182. , 1184. , ..., 1139. , 1130. , 1144. ]])"
      ]
     },
     "execution_count": 17,
     "metadata": {},
     "output_type": "execute_result"
    }
   ],
   "source": [
    "test_x"
   ]
  },
  {
   "cell_type": "markdown",
   "metadata": {},
   "source": [
    "## forming an array which consist NDVI of each image."
   ]
  },
  {
   "cell_type": "code",
   "execution_count": 18,
   "metadata": {},
   "outputs": [],
   "source": [
    "test_NDVI = np.zeros((6, 33800065))"
   ]
  },
  {
   "cell_type": "code",
   "execution_count": 19,
   "metadata": {},
   "outputs": [
    {
     "data": {
      "text/plain": [
       "array([[-0.48856707, -0.53582193, -0.54003612, ..., -0.59720247,\n",
       "        -0.58918005, -0.58224163],\n",
       "       [-0.46405553, -0.54861891, -0.54912784, ..., -0.50310868,\n",
       "        -0.49164888, -0.4919598 ],\n",
       "       [-0.40422345, -0.46852352, -0.45760234, ..., -0.3180593 ,\n",
       "        -0.2977058 , -0.29591281],\n",
       "       [-0.02903444, -0.03978422, -0.03464514, ..., -0.11183311,\n",
       "        -0.11402314, -0.11167685],\n",
       "       [-0.16138237, -0.15591232, -0.16904337, ..., -0.37691238,\n",
       "        -0.37062937, -0.37163677],\n",
       "       [-0.37205651, -0.39984768, -0.40367666, ..., -0.42168063,\n",
       "        -0.41835028, -0.40954839]])"
      ]
     },
     "execution_count": 19,
     "metadata": {},
     "output_type": "execute_result"
    }
   ],
   "source": [
    "for i in range(test_NDVI.shape[0]):\n",
    "    \n",
    "    test_NDVI[i, :] = (test_x[i*2+1, :] - test_x[i*2, :]) / (test_x[i*2+1, :] + test_x[i*2, :])\n",
    "\n",
    "test_NDVI"
   ]
  },
  {
   "cell_type": "code",
   "execution_count": 20,
   "metadata": {},
   "outputs": [],
   "source": [
    "test_NDVI = test_NDVI.T"
   ]
  },
  {
   "cell_type": "code",
   "execution_count": 21,
   "metadata": {},
   "outputs": [
    {
     "data": {
      "text/plain": [
       "(33800065, 6)"
      ]
     },
     "execution_count": 21,
     "metadata": {},
     "output_type": "execute_result"
    }
   ],
   "source": [
    "test_NDVI.shape"
   ]
  },
  {
   "cell_type": "markdown",
   "metadata": {},
   "source": [
    "# we have our test data, we will apply K-means unsupervised algorithm on this and capture details"
   ]
  },
  {
   "cell_type": "markdown",
   "metadata": {},
   "source": [
    "# https://towardsdatascience.com/machine-learning-algorithms-part-9-k-means-example-in-python-f2ad05ed5203\n",
    "\n",
    "# reference for the below mentioned code"
   ]
  },
  {
   "cell_type": "code",
   "execution_count": 22,
   "metadata": {},
   "outputs": [],
   "source": [
    "kmeans = KMeans(n_clusters=2, init='k-means++', max_iter=50, n_init=5, random_state=0)\n",
    "test_NDVI_predict = kmeans.fit_predict(test_NDVI)"
   ]
  },
  {
   "cell_type": "code",
   "execution_count": 23,
   "metadata": {},
   "outputs": [
    {
     "data": {
      "text/plain": [
       "array([0, 1])"
      ]
     },
     "execution_count": 23,
     "metadata": {},
     "output_type": "execute_result"
    }
   ],
   "source": [
    "np.unique(test_NDVI_predict)"
   ]
  },
  {
   "cell_type": "code",
   "execution_count": 24,
   "metadata": {},
   "outputs": [
    {
     "data": {
      "text/plain": [
       "((33800065,), (33800065, 6))"
      ]
     },
     "execution_count": 24,
     "metadata": {},
     "output_type": "execute_result"
    }
   ],
   "source": [
    "test_NDVI_predict.shape, test_NDVI.shape"
   ]
  },
  {
   "cell_type": "code",
   "execution_count": 25,
   "metadata": {},
   "outputs": [
    {
     "data": {
      "text/plain": [
       "(33800065, 1)"
      ]
     },
     "execution_count": 25,
     "metadata": {},
     "output_type": "execute_result"
    }
   ],
   "source": [
    "test_NDVI_predict = test_NDVI_predict.reshape(33800065, 1)\n",
    "test_NDVI_predict.shape"
   ]
  },
  {
   "cell_type": "code",
   "execution_count": 26,
   "metadata": {},
   "outputs": [
    {
     "data": {
      "text/plain": [
       "(33800065, 2)"
      ]
     },
     "execution_count": 26,
     "metadata": {},
     "output_type": "execute_result"
    }
   ],
   "source": [
    "I1B1_non_nan_index.shape"
   ]
  },
  {
   "cell_type": "code",
   "execution_count": 27,
   "metadata": {},
   "outputs": [
    {
     "data": {
      "text/plain": [
       "array([[   0, 5738],\n",
       "       [   0, 5739],\n",
       "       [   0, 5740],\n",
       "       ...,\n",
       "       [8962, 5788],\n",
       "       [8962, 5789],\n",
       "       [8962, 5790]], dtype=int64)"
      ]
     },
     "execution_count": 27,
     "metadata": {},
     "output_type": "execute_result"
    }
   ],
   "source": [
    "I1B1_non_nan_index"
   ]
  },
  {
   "cell_type": "code",
   "execution_count": 28,
   "metadata": {},
   "outputs": [
    {
     "data": {
      "text/plain": [
       "array([[   0, 5738,    1],\n",
       "       [   0, 5739,    1],\n",
       "       [   0, 5740,    1],\n",
       "       ...,\n",
       "       [8962, 5788,    0],\n",
       "       [8962, 5789,    0],\n",
       "       [8962, 5790,    0]], dtype=int64)"
      ]
     },
     "execution_count": 28,
     "metadata": {},
     "output_type": "execute_result"
    }
   ],
   "source": [
    "result_index = np.concatenate((I1B1_non_nan_index, test_NDVI_predict), axis = 1)\n",
    "result_index"
   ]
  },
  {
   "cell_type": "code",
   "execution_count": 29,
   "metadata": {},
   "outputs": [
    {
     "data": {
      "text/plain": [
       "(33800065, 3)"
      ]
     },
     "execution_count": 29,
     "metadata": {},
     "output_type": "execute_result"
    }
   ],
   "source": [
    "result_index.shape"
   ]
  },
  {
   "cell_type": "code",
   "execution_count": 47,
   "metadata": {},
   "outputs": [],
   "source": [
    "result = np.zeros((8963, 8298))"
   ]
  },
  {
   "cell_type": "code",
   "execution_count": 48,
   "metadata": {},
   "outputs": [],
   "source": [
    "result[:] = 128"
   ]
  },
  {
   "cell_type": "code",
   "execution_count": 49,
   "metadata": {},
   "outputs": [],
   "source": [
    "result = result.astype(\"int\")"
   ]
  },
  {
   "cell_type": "code",
   "execution_count": 50,
   "metadata": {},
   "outputs": [],
   "source": [
    "for i in range(result_index.shape[0]):\n",
    "    result[result_index[i,0], result_index[i,1]] = result_index[i, 2]"
   ]
  },
  {
   "cell_type": "code",
   "execution_count": 51,
   "metadata": {},
   "outputs": [
    {
     "data": {
      "text/plain": [
       "array([[128, 128, 128, ..., 128, 128, 128],\n",
       "       [128, 128, 128, ..., 128, 128, 128],\n",
       "       [128, 128, 128, ..., 128, 128, 128],\n",
       "       ...,\n",
       "       [128, 128, 128, ..., 128, 128, 128],\n",
       "       [128, 128, 128, ..., 128, 128, 128],\n",
       "       [128, 128, 128, ..., 128, 128, 128]])"
      ]
     },
     "execution_count": 51,
     "metadata": {},
     "output_type": "execute_result"
    }
   ],
   "source": [
    "result"
   ]
  },
  {
   "cell_type": "code",
   "execution_count": 52,
   "metadata": {},
   "outputs": [
    {
     "data": {
      "text/plain": [
       "array([  0,   1, 128])"
      ]
     },
     "execution_count": 52,
     "metadata": {},
     "output_type": "execute_result"
    }
   ],
   "source": [
    "np.unique(result)"
   ]
  },
  {
   "cell_type": "code",
   "execution_count": 53,
   "metadata": {},
   "outputs": [
    {
     "data": {
      "text/plain": [
       "10394141"
      ]
     },
     "execution_count": 53,
     "metadata": {},
     "output_type": "execute_result"
    }
   ],
   "source": [
    "# counting numbers of pixels having value = 0\n",
    "np.count_nonzero(result == 0)"
   ]
  },
  {
   "cell_type": "code",
   "execution_count": 54,
   "metadata": {},
   "outputs": [
    {
     "data": {
      "text/plain": [
       "23405924"
      ]
     },
     "execution_count": 54,
     "metadata": {},
     "output_type": "execute_result"
    }
   ],
   "source": [
    "# counting numbers of pixels having value = 1\n",
    "np.count_nonzero(result == 1)"
   ]
  },
  {
   "cell_type": "code",
   "execution_count": 55,
   "metadata": {},
   "outputs": [],
   "source": [
    "result[result[:] == 1] = 255"
   ]
  },
  {
   "cell_type": "code",
   "execution_count": 56,
   "metadata": {},
   "outputs": [
    {
     "data": {
      "text/plain": [
       "array([  0, 128, 255])"
      ]
     },
     "execution_count": 56,
     "metadata": {},
     "output_type": "execute_result"
    }
   ],
   "source": [
    "np.unique(result)"
   ]
  },
  {
   "cell_type": "code",
   "execution_count": 57,
   "metadata": {},
   "outputs": [],
   "source": [
    "# here 0 --> 0 during classification(minority)\n",
    "# 255 --> 1 during classification(majority)\n",
    "# 128 --> nan values (non-agri plus outside boundary)"
   ]
  },
  {
   "cell_type": "code",
   "execution_count": 58,
   "metadata": {},
   "outputs": [
    {
     "data": {
      "text/plain": [
       "23405924"
      ]
     },
     "execution_count": 58,
     "metadata": {},
     "output_type": "execute_result"
    }
   ],
   "source": [
    "# number of pixels belonging to majority class\n",
    "np.count_nonzero(result == 255)"
   ]
  },
  {
   "cell_type": "code",
   "execution_count": 59,
   "metadata": {},
   "outputs": [
    {
     "data": {
      "text/plain": [
       "10394141"
      ]
     },
     "execution_count": 59,
     "metadata": {},
     "output_type": "execute_result"
    }
   ],
   "source": [
    "# number of pixels belonging to minority class\n",
    "np.count_nonzero(result == 0)"
   ]
  },
  {
   "cell_type": "code",
   "execution_count": 60,
   "metadata": {},
   "outputs": [
    {
     "data": {
      "text/plain": [
       "40574909"
      ]
     },
     "execution_count": 60,
     "metadata": {},
     "output_type": "execute_result"
    }
   ],
   "source": [
    "# number of pixels belonging to non-agriculture class\n",
    "np.count_nonzero(result == 128)"
   ]
  },
  {
   "cell_type": "code",
   "execution_count": 61,
   "metadata": {},
   "outputs": [],
   "source": [
    "result = result.astype(\"uint8\")"
   ]
  },
  {
   "cell_type": "code",
   "execution_count": 62,
   "metadata": {},
   "outputs": [
    {
     "data": {
      "text/plain": [
       "(8963, 8298)"
      ]
     },
     "execution_count": 62,
     "metadata": {},
     "output_type": "execute_result"
    }
   ],
   "source": [
    "result.shape"
   ]
  },
  {
   "cell_type": "code",
   "execution_count": 63,
   "metadata": {},
   "outputs": [],
   "source": [
    "io.imsave(\"E:\\\\Internship_Harvesting\\\\Unsupervised_Result_Image\\\\NDVI_green_kmeans_result.jpg\", result)"
   ]
  },
  {
   "cell_type": "code",
   "execution_count": null,
   "metadata": {},
   "outputs": [],
   "source": []
  }
 ],
 "metadata": {
  "kernelspec": {
   "display_name": "Python 3",
   "language": "python",
   "name": "python3"
  },
  "language_info": {
   "codemirror_mode": {
    "name": "ipython",
    "version": 3
   },
   "file_extension": ".py",
   "mimetype": "text/x-python",
   "name": "python",
   "nbconvert_exporter": "python",
   "pygments_lexer": "ipython3",
   "version": "3.7.7"
  }
 },
 "nbformat": 4,
 "nbformat_minor": 4
}
