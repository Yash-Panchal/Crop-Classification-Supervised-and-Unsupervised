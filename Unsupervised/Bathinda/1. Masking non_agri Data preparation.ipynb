{
 "cells": [
  {
   "cell_type": "code",
   "execution_count": 1,
   "metadata": {},
   "outputs": [],
   "source": [
    "import numpy as np\n",
    "import matplotlib.pyplot as plt\n",
    "import h5py\n",
    "import pandas as pd\n",
    "import scipy\n",
    "from PIL import Image\n",
    "from scipy import ndimage"
   ]
  },
  {
   "cell_type": "code",
   "execution_count": 3,
   "metadata": {},
   "outputs": [],
   "source": [
    "import gdal\n",
    "import os\n",
    "import geopandas as gpd\n",
    "from skimage import io\n",
    "from skimage.io import imread\n",
    "%matplotlib inline"
   ]
  },
  {
   "cell_type": "markdown",
   "metadata": {},
   "source": [
    "# first check for one image if it works then make a for loop and apply to all images"
   ]
  },
  {
   "cell_type": "markdown",
   "metadata": {},
   "source": [
    "# reading the input image 10_2019, and extracting the nan indices form it"
   ]
  },
  {
   "cell_type": "code",
   "execution_count": 4,
   "metadata": {},
   "outputs": [
    {
     "data": {
      "text/plain": [
       "<osgeo.gdal.Dataset; proxy of <Swig Object of type 'GDALDatasetShadow *' at 0x0000020F8F647A50> >"
      ]
     },
     "execution_count": 4,
     "metadata": {},
     "output_type": "execute_result"
    }
   ],
   "source": [
    "image_test = gdal.Open(\"E:\\\\Internship_Harvesting\\\\Dataset\\\\10_2019.tif\")\n",
    "image_test"
   ]
  },
  {
   "cell_type": "code",
   "execution_count": 5,
   "metadata": {},
   "outputs": [
    {
     "data": {
      "text/plain": [
       "(8963, 8298, 5)"
      ]
     },
     "execution_count": 5,
     "metadata": {},
     "output_type": "execute_result"
    }
   ],
   "source": [
    "image_test.RasterYSize, image_test.RasterXSize, image_test.RasterCount"
   ]
  },
  {
   "cell_type": "code",
   "execution_count": 7,
   "metadata": {},
   "outputs": [],
   "source": [
    "image_zero = np.zeros((image_test.RasterYSize, image_test.RasterXSize, image_test.RasterCount))"
   ]
  },
  {
   "cell_type": "code",
   "execution_count": 8,
   "metadata": {},
   "outputs": [
    {
     "data": {
      "text/plain": [
       "(8963, 8298, 5)"
      ]
     },
     "execution_count": 8,
     "metadata": {},
     "output_type": "execute_result"
    }
   ],
   "source": [
    "image_zero.shape"
   ]
  },
  {
   "cell_type": "code",
   "execution_count": 10,
   "metadata": {},
   "outputs": [],
   "source": [
    "for b in range(image_zero.shape[2]):\n",
    "    image_zero[:, :, b] = image_test.GetRasterBand(b + 1).ReadAsArray()"
   ]
  },
  {
   "cell_type": "markdown",
   "metadata": {},
   "source": [
    "# extracting nan indices for one band of the image 10_2019"
   ]
  },
  {
   "cell_type": "code",
   "execution_count": 11,
   "metadata": {},
   "outputs": [
    {
     "data": {
      "text/plain": [
       "(8963, 8298)"
      ]
     },
     "execution_count": 11,
     "metadata": {},
     "output_type": "execute_result"
    }
   ],
   "source": [
    "I1B1 = image_zero[:,:,0]\n",
    "I1B1.shape"
   ]
  },
  {
   "cell_type": "code",
   "execution_count": 14,
   "metadata": {},
   "outputs": [
    {
     "data": {
      "text/plain": [
       "(35318365, 39056609)"
      ]
     },
     "execution_count": 14,
     "metadata": {},
     "output_type": "execute_result"
    }
   ],
   "source": [
    "np.count_nonzero(np.isnan(I1B1)), np.count_nonzero(~np.isnan(I1B1))"
   ]
  },
  {
   "cell_type": "code",
   "execution_count": 44,
   "metadata": {},
   "outputs": [],
   "source": [
    "I1B1_nan_index = np.argwhere(np.isnan(I1B1))"
   ]
  },
  {
   "cell_type": "markdown",
   "metadata": {},
   "source": [
    "# once we have the nan indices, we will map these indices in polytoras image and make corresponding values as NaN.\n",
    "## here polytoras is the image obtained from converting the .shp file consisting of polygon to .tif file using QGIS software "
   ]
  },
  {
   "cell_type": "code",
   "execution_count": 37,
   "metadata": {},
   "outputs": [
    {
     "data": {
      "text/plain": [
       "<osgeo.gdal.Dataset; proxy of <Swig Object of type 'GDALDatasetShadow *' at 0x0000020F8EB43120> >"
      ]
     },
     "execution_count": 37,
     "metadata": {},
     "output_type": "execute_result"
    }
   ],
   "source": [
    "polytoras = gdal.Open(\"E:\\\\Internship_Harvesting\\\\Dataset\\\\Bathinda_Cropland\\\\polytoras.tif\")\n",
    "polytoras"
   ]
  },
  {
   "cell_type": "code",
   "execution_count": 38,
   "metadata": {},
   "outputs": [
    {
     "data": {
      "text/plain": [
       "(8963, 8298, 1)"
      ]
     },
     "execution_count": 38,
     "metadata": {},
     "output_type": "execute_result"
    }
   ],
   "source": [
    "polytoras.RasterYSize, polytoras.RasterXSize, polytoras.RasterCount"
   ]
  },
  {
   "cell_type": "code",
   "execution_count": 40,
   "metadata": {},
   "outputs": [],
   "source": [
    "polytoras_array = polytoras.GetRasterBand(1).ReadAsArray()"
   ]
  },
  {
   "cell_type": "code",
   "execution_count": 42,
   "metadata": {},
   "outputs": [
    {
     "data": {
      "text/plain": [
       "(8963, 8298)"
      ]
     },
     "execution_count": 42,
     "metadata": {},
     "output_type": "execute_result"
    }
   ],
   "source": [
    "polytoras_array.shape"
   ]
  },
  {
   "cell_type": "code",
   "execution_count": 46,
   "metadata": {},
   "outputs": [
    {
     "data": {
      "text/plain": [
       "(35318365, 2)"
      ]
     },
     "execution_count": 46,
     "metadata": {},
     "output_type": "execute_result"
    }
   ],
   "source": [
    "I1B1_nan_index.shape"
   ]
  },
  {
   "cell_type": "code",
   "execution_count": 47,
   "metadata": {},
   "outputs": [],
   "source": [
    "for i in range(I1B1_nan_index.shape[0]):\n",
    "    polytoras_array[I1B1_nan_index[i,0], I1B1_nan_index[i,1]] = np.NaN"
   ]
  },
  {
   "cell_type": "code",
   "execution_count": 49,
   "metadata": {},
   "outputs": [
    {
     "data": {
      "text/plain": [
       "array([ 0.,  2., nan, ..., nan, nan, nan], dtype=float32)"
      ]
     },
     "execution_count": 49,
     "metadata": {},
     "output_type": "execute_result"
    }
   ],
   "source": [
    "np.unique(polytoras_array)"
   ]
  },
  {
   "cell_type": "markdown",
   "metadata": {},
   "source": [
    "# now extract all the zero value indices from polytoras_array and store that in some numpy array\n",
    "## here zero value indices in polytoras image are non-agriculture points, which must be masked"
   ]
  },
  {
   "cell_type": "code",
   "execution_count": 52,
   "metadata": {},
   "outputs": [],
   "source": [
    "polytoras_0_index = np.argwhere((polytoras_array == 0.))"
   ]
  },
  {
   "cell_type": "code",
   "execution_count": 56,
   "metadata": {},
   "outputs": [
    {
     "data": {
      "text/plain": [
       "(5256544, 2)"
      ]
     },
     "execution_count": 56,
     "metadata": {},
     "output_type": "execute_result"
    }
   ],
   "source": [
    "polytoras_0_index.shape"
   ]
  },
  {
   "cell_type": "code",
   "execution_count": 61,
   "metadata": {},
   "outputs": [
    {
     "data": {
      "text/plain": [
       "array([[   0, 5731],\n",
       "       [   0, 5732],\n",
       "       [   0, 5733],\n",
       "       ...,\n",
       "       [8961, 5785],\n",
       "       [8961, 5792],\n",
       "       [8961, 5793]], dtype=int64)"
      ]
     },
     "execution_count": 61,
     "metadata": {},
     "output_type": "execute_result"
    }
   ],
   "source": [
    "polytoras_0_index"
   ]
  },
  {
   "cell_type": "markdown",
   "metadata": {},
   "source": [
    "# now make all the values corresponding the indices polytoras_0_index to NaN in the input image 10_2019, thus 10_2019 image will have 40574909 NaN values in total, 35318365 (outside the boundary) plus 5256544(non-agriculture inside the boundary)\n",
    "# non-nan pixels would belong to agriculture part which needs to be classify in wheat and non-wheat"
   ]
  },
  {
   "cell_type": "code",
   "execution_count": 66,
   "metadata": {},
   "outputs": [],
   "source": [
    "for i in range(polytoras_0_index.shape[0]):\n",
    "    I1B1[polytoras_0_index[i,0], polytoras_0_index[i,1]] = np.NaN"
   ]
  },
  {
   "cell_type": "code",
   "execution_count": 68,
   "metadata": {},
   "outputs": [
    {
     "data": {
      "text/plain": [
       "(40574909, 33800065)"
      ]
     },
     "execution_count": 68,
     "metadata": {},
     "output_type": "execute_result"
    }
   ],
   "source": [
    "np.count_nonzero(np.isnan(I1B1)), np.count_nonzero(~np.isnan(I1B1)) "
   ]
  },
  {
   "cell_type": "markdown",
   "metadata": {},
   "source": [
    "# at this poin I1B1 has all pixel values as NaN for non-agriculture and outside map, it has numeric pixel values only for agriculture part"
   ]
  },
  {
   "cell_type": "markdown",
   "metadata": {},
   "source": [
    "# this process has to done on all the bands of each image, trying to making a for loop"
   ]
  },
  {
   "cell_type": "code",
   "execution_count": 70,
   "metadata": {},
   "outputs": [],
   "source": [
    "image = [\"E:\\\\Internship_Harvesting\\\\Dataset\\\\10_2019.tif\",\n",
    "        \"E:\\\\Internship_Harvesting\\\\Dataset\\\\11_2019.tif\",\n",
    "        \"E:\\\\Internship_Harvesting\\\\Dataset\\\\12_2019.tif\",\n",
    "        \"E:\\\\Internship_Harvesting\\\\Dataset\\\\01_2020.tif\",\n",
    "        \"E:\\\\Internship_Harvesting\\\\Dataset\\\\02_2020.tif\",\n",
    "        \"E:\\\\Internship_Harvesting\\\\Dataset\\\\03_2020.tif\"]"
   ]
  },
  {
   "cell_type": "code",
   "execution_count": 74,
   "metadata": {},
   "outputs": [],
   "source": [
    "path_results = 'E:\\\\Internship_Harvesting\\\\Dataset\\\\Bathinda_Cropland\\\\Masked_images\\\\'"
   ]
  },
  {
   "cell_type": "markdown",
   "metadata": {},
   "source": [
    "# doing for all the bands for image 10_2019\n",
    "### also saving the masked image band as a separate image, therefore we will have 30 masked images, 5 for each input image"
   ]
  },
  {
   "cell_type": "code",
   "execution_count": 91,
   "metadata": {},
   "outputs": [
    {
     "name": "stdout",
     "output_type": "stream",
     "text": [
      "<osgeo.gdal.Dataset; proxy of <Swig Object of type 'GDALDatasetShadow *' at 0x0000020F8FA72BA0> >\n",
      "0\n",
      "40574909\n",
      "1\n",
      "40574909\n",
      "2\n",
      "40574909\n",
      "3\n",
      "40574909\n",
      "4\n",
      "40574909\n",
      "202874545\n"
     ]
    }
   ],
   "source": [
    "input_image = gdal.Open(image[0])\n",
    "print(input_image)\n",
    "    \n",
    "image_zero = np.zeros((input_image.RasterYSize, input_image.RasterXSize, input_image.RasterCount))\n",
    "\n",
    "for b in range(image_zero.shape[2]):\n",
    "    image_zero[:, :, b] = input_image.GetRasterBand(b + 1).ReadAsArray()\n",
    "    \n",
    "    print(b)\n",
    "        \n",
    "    for i in range(polytoras_0_index.shape[0]):\n",
    "        image_zero[:, :, b][polytoras_0_index[i,0], polytoras_0_index[i,1]] = np.NaN\n",
    "        \n",
    "    print(np.count_nonzero(np.isnan(image_zero[:, :, b])))\n",
    "    \n",
    "    io.imsave(path_results+'I1B{:d}.tif'.format(b+1), image_zero[:, :, b])\n",
    "    \n",
    "print(np.count_nonzero(np.isnan(image_zero)))"
   ]
  },
  {
   "cell_type": "markdown",
   "metadata": {},
   "source": [
    "# doing for all the bands for image 11_2019"
   ]
  },
  {
   "cell_type": "code",
   "execution_count": 92,
   "metadata": {},
   "outputs": [
    {
     "name": "stdout",
     "output_type": "stream",
     "text": [
      "<osgeo.gdal.Dataset; proxy of <Swig Object of type 'GDALDatasetShadow *' at 0x000002105CCC5840> >\n",
      "0\n",
      "40574909\n",
      "1\n",
      "40574909\n",
      "2\n",
      "40574909\n",
      "3\n",
      "40574909\n",
      "4\n",
      "40574909\n",
      "202874545\n"
     ]
    }
   ],
   "source": [
    "input_image = gdal.Open(image[1])\n",
    "print(input_image)\n",
    "    \n",
    "image_zero = np.zeros((input_image.RasterYSize, input_image.RasterXSize, input_image.RasterCount))\n",
    "\n",
    "for b in range(image_zero.shape[2]):\n",
    "    image_zero[:, :, b] = input_image.GetRasterBand(b + 1).ReadAsArray()\n",
    "    \n",
    "    print(b)\n",
    "        \n",
    "    for i in range(polytoras_0_index.shape[0]):\n",
    "        image_zero[:, :, b][polytoras_0_index[i,0], polytoras_0_index[i,1]] = np.NaN\n",
    "        \n",
    "    print(np.count_nonzero(np.isnan(image_zero[:, :, b])))\n",
    "    \n",
    "    io.imsave(path_results+'I2B{:d}.tif'.format(b+1), image_zero[:, :, b])\n",
    "    \n",
    "print(np.count_nonzero(np.isnan(image_zero)))"
   ]
  },
  {
   "cell_type": "markdown",
   "metadata": {},
   "source": [
    "# doing for all bands for image 12_2019"
   ]
  },
  {
   "cell_type": "code",
   "execution_count": 93,
   "metadata": {},
   "outputs": [
    {
     "name": "stdout",
     "output_type": "stream",
     "text": [
      "<osgeo.gdal.Dataset; proxy of <Swig Object of type 'GDALDatasetShadow *' at 0x0000020F8EB431E0> >\n",
      "0\n",
      "40574909\n",
      "1\n",
      "40574909\n",
      "2\n",
      "40574909\n",
      "3\n",
      "40574909\n",
      "4\n",
      "40574909\n",
      "202874545\n"
     ]
    }
   ],
   "source": [
    "input_image = gdal.Open(image[2])\n",
    "print(input_image)\n",
    "    \n",
    "image_zero = np.zeros((input_image.RasterYSize, input_image.RasterXSize, input_image.RasterCount))\n",
    "\n",
    "for b in range(image_zero.shape[2]):\n",
    "    image_zero[:, :, b] = input_image.GetRasterBand(b + 1).ReadAsArray()\n",
    "    \n",
    "    print(b)\n",
    "        \n",
    "    for i in range(polytoras_0_index.shape[0]):\n",
    "        image_zero[:, :, b][polytoras_0_index[i,0], polytoras_0_index[i,1]] = np.NaN\n",
    "        \n",
    "    print(np.count_nonzero(np.isnan(image_zero[:, :, b])))\n",
    "    \n",
    "    io.imsave(path_results+'I3B{:d}.tif'.format(b+1), image_zero[:, :, b])\n",
    "    \n",
    "print(np.count_nonzero(np.isnan(image_zero)))"
   ]
  },
  {
   "cell_type": "markdown",
   "metadata": {},
   "source": [
    "# doing for all bands of image 01_2020"
   ]
  },
  {
   "cell_type": "code",
   "execution_count": 94,
   "metadata": {},
   "outputs": [
    {
     "name": "stdout",
     "output_type": "stream",
     "text": [
      "<osgeo.gdal.Dataset; proxy of <Swig Object of type 'GDALDatasetShadow *' at 0x000002105CCC5F00> >\n",
      "0\n",
      "40574909\n",
      "1\n",
      "40574909\n",
      "2\n",
      "40574909\n",
      "3\n",
      "40574909\n",
      "4\n",
      "40574909\n",
      "202874545\n"
     ]
    }
   ],
   "source": [
    "input_image = gdal.Open(image[3])\n",
    "print(input_image)\n",
    "    \n",
    "image_zero = np.zeros((input_image.RasterYSize, input_image.RasterXSize, input_image.RasterCount))\n",
    "\n",
    "for b in range(image_zero.shape[2]):\n",
    "    image_zero[:, :, b] = input_image.GetRasterBand(b + 1).ReadAsArray()\n",
    "    \n",
    "    print(b)\n",
    "        \n",
    "    for i in range(polytoras_0_index.shape[0]):\n",
    "        image_zero[:, :, b][polytoras_0_index[i,0], polytoras_0_index[i,1]] = np.NaN\n",
    "        \n",
    "    print(np.count_nonzero(np.isnan(image_zero[:, :, b])))\n",
    "    \n",
    "    io.imsave(path_results+'I4B{:d}.tif'.format(b+1), image_zero[:, :, b])\n",
    "    \n",
    "print(np.count_nonzero(np.isnan(image_zero)))"
   ]
  },
  {
   "cell_type": "markdown",
   "metadata": {},
   "source": [
    "# doing for all bands of image 02_2020"
   ]
  },
  {
   "cell_type": "code",
   "execution_count": 95,
   "metadata": {},
   "outputs": [
    {
     "name": "stdout",
     "output_type": "stream",
     "text": [
      "<osgeo.gdal.Dataset; proxy of <Swig Object of type 'GDALDatasetShadow *' at 0x000002105CCC59C0> >\n",
      "0\n",
      "40574909\n",
      "1\n",
      "40574909\n",
      "2\n",
      "40574909\n",
      "3\n",
      "40574909\n",
      "4\n",
      "40574909\n",
      "202874545\n"
     ]
    }
   ],
   "source": [
    "input_image = gdal.Open(image[4])\n",
    "print(input_image)\n",
    "    \n",
    "image_zero = np.zeros((input_image.RasterYSize, input_image.RasterXSize, input_image.RasterCount))\n",
    "\n",
    "for b in range(image_zero.shape[2]):\n",
    "    image_zero[:, :, b] = input_image.GetRasterBand(b + 1).ReadAsArray()\n",
    "    \n",
    "    print(b)\n",
    "        \n",
    "    for i in range(polytoras_0_index.shape[0]):\n",
    "        image_zero[:, :, b][polytoras_0_index[i,0], polytoras_0_index[i,1]] = np.NaN\n",
    "        \n",
    "    print(np.count_nonzero(np.isnan(image_zero[:, :, b])))\n",
    "    \n",
    "    io.imsave(path_results+'I5B{:d}.tif'.format(b+1), image_zero[:, :, b])\n",
    "    \n",
    "print(np.count_nonzero(np.isnan(image_zero)))"
   ]
  },
  {
   "cell_type": "markdown",
   "metadata": {},
   "source": [
    "# doing for all bands of image 03_2020"
   ]
  },
  {
   "cell_type": "code",
   "execution_count": 96,
   "metadata": {},
   "outputs": [
    {
     "name": "stdout",
     "output_type": "stream",
     "text": [
      "<osgeo.gdal.Dataset; proxy of <Swig Object of type 'GDALDatasetShadow *' at 0x000002105CCC5570> >\n",
      "0\n",
      "40574909\n",
      "1\n",
      "40574909\n",
      "2\n",
      "40574909\n",
      "3\n",
      "40574909\n",
      "4\n",
      "40574909\n",
      "202874545\n"
     ]
    }
   ],
   "source": [
    "input_image = gdal.Open(image[5])\n",
    "print(input_image)\n",
    "    \n",
    "image_zero = np.zeros((input_image.RasterYSize, input_image.RasterXSize, input_image.RasterCount))\n",
    "\n",
    "for b in range(image_zero.shape[2]):\n",
    "    image_zero[:, :, b] = input_image.GetRasterBand(b + 1).ReadAsArray()\n",
    "    \n",
    "    print(b)\n",
    "        \n",
    "    for i in range(polytoras_0_index.shape[0]):\n",
    "        image_zero[:, :, b][polytoras_0_index[i,0], polytoras_0_index[i,1]] = np.NaN\n",
    "        \n",
    "    print(np.count_nonzero(np.isnan(image_zero[:, :, b])))\n",
    "    \n",
    "    io.imsave(path_results+'I6B{:d}.tif'.format(b+1), image_zero[:, :, b])\n",
    "    \n",
    "print(np.count_nonzero(np.isnan(image_zero)))"
   ]
  },
  {
   "cell_type": "markdown",
   "metadata": {},
   "source": [
    "### this completes the masking of the images, which will be used as the input data for classification process"
   ]
  },
  {
   "cell_type": "code",
   "execution_count": null,
   "metadata": {},
   "outputs": [],
   "source": []
  }
 ],
 "metadata": {
  "kernelspec": {
   "display_name": "Python 3",
   "language": "python",
   "name": "python3"
  },
  "language_info": {
   "codemirror_mode": {
    "name": "ipython",
    "version": 3
   },
   "file_extension": ".py",
   "mimetype": "text/x-python",
   "name": "python",
   "nbconvert_exporter": "python",
   "pygments_lexer": "ipython3",
   "version": "3.7.7"
  }
 },
 "nbformat": 4,
 "nbformat_minor": 4
}
