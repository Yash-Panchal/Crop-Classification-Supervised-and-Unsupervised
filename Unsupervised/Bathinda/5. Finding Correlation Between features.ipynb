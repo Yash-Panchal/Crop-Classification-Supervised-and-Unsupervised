{
 "cells": [
  {
   "cell_type": "code",
   "execution_count": 1,
   "metadata": {},
   "outputs": [],
   "source": [
    "import numpy as np\n",
    "import matplotlib.pyplot as plt\n",
    "import h5py\n",
    "import pandas as pd\n",
    "import scipy\n",
    "from PIL import Image\n",
    "from scipy import ndimage\n",
    "import gdal\n",
    "import os\n",
    "import geopandas as gpd\n",
    "from skimage import io\n",
    "from skimage.io import imread\n",
    "%matplotlib inline"
   ]
  },
  {
   "cell_type": "code",
   "execution_count": 2,
   "metadata": {},
   "outputs": [],
   "source": [
    "np.random.seed(1)"
   ]
  },
  {
   "cell_type": "code",
   "execution_count": 3,
   "metadata": {},
   "outputs": [
    {
     "name": "stderr",
     "output_type": "stream",
     "text": [
      "C:\\Users\\Lenovo\\anaconda3\\envs\\env_1\\lib\\site-packages\\sklearn\\utils\\deprecation.py:144: FutureWarning: The sklearn.datasets.samples_generator module is  deprecated in version 0.22 and will be removed in version 0.24. The corresponding classes / functions should instead be imported from sklearn.datasets. Anything that cannot be imported from sklearn.datasets is now part of the private API.\n",
      "  warnings.warn(message, FutureWarning)\n"
     ]
    }
   ],
   "source": [
    "from sklearn.datasets.samples_generator import make_blobs\n",
    "from sklearn.cluster import KMeans"
   ]
  },
  {
   "cell_type": "markdown",
   "metadata": {},
   "source": [
    "# reading the masked tif images and forming a dataset."
   ]
  },
  {
   "cell_type": "code",
   "execution_count": 4,
   "metadata": {},
   "outputs": [],
   "source": [
    "path = [\"E:\\\\Internship_Harvesting\\\\Dataset\\\\Bathinda_Cropland\\\\Masked_images\\\\I1B1.tif\",\n",
    "       \"E:\\\\Internship_Harvesting\\\\Dataset\\\\Bathinda_Cropland\\\\Masked_images\\\\I1B2.tif\",\n",
    "       \"E:\\\\Internship_Harvesting\\\\Dataset\\\\Bathinda_Cropland\\\\Masked_images\\\\I1B3.tif\",\n",
    "       \"E:\\\\Internship_Harvesting\\\\Dataset\\\\Bathinda_Cropland\\\\Masked_images\\\\I1B4.tif\",\n",
    "       \"E:\\\\Internship_Harvesting\\\\Dataset\\\\Bathinda_Cropland\\\\Masked_images\\\\I1B5.tif\",\n",
    "       \"E:\\\\Internship_Harvesting\\\\Dataset\\\\Bathinda_Cropland\\\\Masked_images\\\\I2B1.tif\",\n",
    "       \"E:\\\\Internship_Harvesting\\\\Dataset\\\\Bathinda_Cropland\\\\Masked_images\\\\I2B2.tif\",\n",
    "       \"E:\\\\Internship_Harvesting\\\\Dataset\\\\Bathinda_Cropland\\\\Masked_images\\\\I2B3.tif\",\n",
    "       \"E:\\\\Internship_Harvesting\\\\Dataset\\\\Bathinda_Cropland\\\\Masked_images\\\\I2B4.tif\",\n",
    "       \"E:\\\\Internship_Harvesting\\\\Dataset\\\\Bathinda_Cropland\\\\Masked_images\\\\I2B5.tif\",\n",
    "       \"E:\\\\Internship_Harvesting\\\\Dataset\\\\Bathinda_Cropland\\\\Masked_images\\\\I3B1.tif\",\n",
    "       \"E:\\\\Internship_Harvesting\\\\Dataset\\\\Bathinda_Cropland\\\\Masked_images\\\\I3B2.tif\",\n",
    "       \"E:\\\\Internship_Harvesting\\\\Dataset\\\\Bathinda_Cropland\\\\Masked_images\\\\I3B3.tif\",\n",
    "       \"E:\\\\Internship_Harvesting\\\\Dataset\\\\Bathinda_Cropland\\\\Masked_images\\\\I3B4.tif\",\n",
    "       \"E:\\\\Internship_Harvesting\\\\Dataset\\\\Bathinda_Cropland\\\\Masked_images\\\\I3B5.tif\",\n",
    "       \"E:\\\\Internship_Harvesting\\\\Dataset\\\\Bathinda_Cropland\\\\Masked_images\\\\I4B1.tif\",\n",
    "       \"E:\\\\Internship_Harvesting\\\\Dataset\\\\Bathinda_Cropland\\\\Masked_images\\\\I4B2.tif\",\n",
    "       \"E:\\\\Internship_Harvesting\\\\Dataset\\\\Bathinda_Cropland\\\\Masked_images\\\\I4B3.tif\",\n",
    "       \"E:\\\\Internship_Harvesting\\\\Dataset\\\\Bathinda_Cropland\\\\Masked_images\\\\I4B4.tif\",\n",
    "       \"E:\\\\Internship_Harvesting\\\\Dataset\\\\Bathinda_Cropland\\\\Masked_images\\\\I4B5.tif\",\n",
    "       \"E:\\\\Internship_Harvesting\\\\Dataset\\\\Bathinda_Cropland\\\\Masked_images\\\\I5B1.tif\",\n",
    "       \"E:\\\\Internship_Harvesting\\\\Dataset\\\\Bathinda_Cropland\\\\Masked_images\\\\I5B2.tif\",\n",
    "       \"E:\\\\Internship_Harvesting\\\\Dataset\\\\Bathinda_Cropland\\\\Masked_images\\\\I5B3.tif\",\n",
    "       \"E:\\\\Internship_Harvesting\\\\Dataset\\\\Bathinda_Cropland\\\\Masked_images\\\\I5B4.tif\",\n",
    "       \"E:\\\\Internship_Harvesting\\\\Dataset\\\\Bathinda_Cropland\\\\Masked_images\\\\I5B5.tif\",\n",
    "       \"E:\\\\Internship_Harvesting\\\\Dataset\\\\Bathinda_Cropland\\\\Masked_images\\\\I6B1.tif\",\n",
    "       \"E:\\\\Internship_Harvesting\\\\Dataset\\\\Bathinda_Cropland\\\\Masked_images\\\\I6B2.tif\",\n",
    "       \"E:\\\\Internship_Harvesting\\\\Dataset\\\\Bathinda_Cropland\\\\Masked_images\\\\I6B3.tif\",\n",
    "       \"E:\\\\Internship_Harvesting\\\\Dataset\\\\Bathinda_Cropland\\\\Masked_images\\\\I6B4.tif\",\n",
    "       \"E:\\\\Internship_Harvesting\\\\Dataset\\\\Bathinda_Cropland\\\\Masked_images\\\\I6B5.tif\"]"
   ]
  },
  {
   "cell_type": "code",
   "execution_count": 5,
   "metadata": {},
   "outputs": [
    {
     "data": {
      "text/plain": [
       "<osgeo.gdal.Dataset; proxy of <Swig Object of type 'GDALDatasetShadow *' at 0x000002339FCB44E0> >"
      ]
     },
     "execution_count": 5,
     "metadata": {},
     "output_type": "execute_result"
    }
   ],
   "source": [
    "I1B1 = gdal.Open(path[0])\n",
    "I1B1"
   ]
  },
  {
   "cell_type": "code",
   "execution_count": 6,
   "metadata": {},
   "outputs": [
    {
     "data": {
      "text/plain": [
       "(8963, 8298, 1)"
      ]
     },
     "execution_count": 6,
     "metadata": {},
     "output_type": "execute_result"
    }
   ],
   "source": [
    "I1B1.RasterYSize, I1B1.RasterXSize, I1B1.RasterCount"
   ]
  },
  {
   "cell_type": "code",
   "execution_count": 7,
   "metadata": {},
   "outputs": [
    {
     "data": {
      "text/plain": [
       "array([[nan, nan, nan, ..., nan, nan, nan],\n",
       "       [nan, nan, nan, ..., nan, nan, nan],\n",
       "       [nan, nan, nan, ..., nan, nan, nan],\n",
       "       ...,\n",
       "       [nan, nan, nan, ..., nan, nan, nan],\n",
       "       [nan, nan, nan, ..., nan, nan, nan],\n",
       "       [nan, nan, nan, ..., nan, nan, nan]])"
      ]
     },
     "execution_count": 7,
     "metadata": {},
     "output_type": "execute_result"
    }
   ],
   "source": [
    "I1B1_array = I1B1.GetRasterBand(1).ReadAsArray()\n",
    "I1B1_array"
   ]
  },
  {
   "cell_type": "code",
   "execution_count": 8,
   "metadata": {},
   "outputs": [
    {
     "data": {
      "text/plain": [
       "(40574909, 33800065)"
      ]
     },
     "execution_count": 8,
     "metadata": {},
     "output_type": "execute_result"
    }
   ],
   "source": [
    "np.count_nonzero(np.isnan(I1B1_array)), np.count_nonzero(~np.isnan(I1B1_array))"
   ]
  },
  {
   "cell_type": "markdown",
   "metadata": {},
   "source": [
    "# creating an array which only consists the non-nan values indices"
   ]
  },
  {
   "cell_type": "code",
   "execution_count": 9,
   "metadata": {},
   "outputs": [],
   "source": [
    "# I1B1_nan_index = np.argwhere(np.isnan(I1B1))\n",
    "\n",
    "I1B1_non_nan_index = np.argwhere(~np.isnan(I1B1_array))"
   ]
  },
  {
   "cell_type": "code",
   "execution_count": 10,
   "metadata": {},
   "outputs": [
    {
     "data": {
      "text/plain": [
       "array([[   0, 5738],\n",
       "       [   0, 5739],\n",
       "       [   0, 5740],\n",
       "       ...,\n",
       "       [8962, 5788],\n",
       "       [8962, 5789],\n",
       "       [8962, 5790]], dtype=int64)"
      ]
     },
     "execution_count": 10,
     "metadata": {},
     "output_type": "execute_result"
    }
   ],
   "source": [
    "I1B1_non_nan_index"
   ]
  },
  {
   "cell_type": "code",
   "execution_count": 11,
   "metadata": {},
   "outputs": [
    {
     "data": {
      "text/plain": [
       "(1249.0, 1242.0, 1248.0, 1237.0)"
      ]
     },
     "execution_count": 11,
     "metadata": {},
     "output_type": "execute_result"
    }
   ],
   "source": [
    "I1B1_array[0, 5738], I1B1_array[0, 5739], I1B1_array[8962, 5789], I1B1_array[8962, 5790]"
   ]
  },
  {
   "cell_type": "code",
   "execution_count": 12,
   "metadata": {},
   "outputs": [
    {
     "data": {
      "text/plain": [
       "(33800065, 2)"
      ]
     },
     "execution_count": 12,
     "metadata": {},
     "output_type": "execute_result"
    }
   ],
   "source": [
    "I1B1_non_nan_index.shape"
   ]
  },
  {
   "cell_type": "markdown",
   "metadata": {},
   "source": [
    "# using these indices, creating a numpy array for each band of image"
   ]
  },
  {
   "cell_type": "markdown",
   "metadata": {},
   "source": [
    "### IMAGE 1 BAND 1"
   ]
  },
  {
   "cell_type": "code",
   "execution_count": 13,
   "metadata": {},
   "outputs": [],
   "source": [
    "I1B1_array_non_nan = np.zeros((1, 33800065))"
   ]
  },
  {
   "cell_type": "code",
   "execution_count": 14,
   "metadata": {},
   "outputs": [],
   "source": [
    "sample = []\n",
    "\n",
    "for i in range(I1B1_non_nan_index.shape[0]):\n",
    "    sample.append(I1B1_array[I1B1_non_nan_index[i,0], I1B1_non_nan_index[i,1]])\n",
    "    \n",
    "sample = np.array(sample)\n",
    "\n",
    "sample = sample.reshape(1, 33800065)\n",
    "\n",
    "I1B1_array_non_nan = np.concatenate((sample, I1B1_array_non_nan), axis = 0)"
   ]
  },
  {
   "cell_type": "code",
   "execution_count": 15,
   "metadata": {},
   "outputs": [
    {
     "name": "stdout",
     "output_type": "stream",
     "text": [
      "(2, 33800065)\n",
      "\n",
      "**************\n",
      "\n"
     ]
    },
    {
     "data": {
      "text/plain": [
       "array([[1249., 1242., 1209., ..., 1251., 1248., 1237.],\n",
       "       [   0.,    0.,    0., ...,    0.,    0.,    0.]])"
      ]
     },
     "execution_count": 15,
     "metadata": {},
     "output_type": "execute_result"
    }
   ],
   "source": [
    "print(I1B1_array_non_nan.shape)\n",
    "print(\"\\n**************\\n\")\n",
    "I1B1_array_non_nan"
   ]
  },
  {
   "cell_type": "code",
   "execution_count": 16,
   "metadata": {},
   "outputs": [
    {
     "data": {
      "text/plain": [
       "(1, 33800065)"
      ]
     },
     "execution_count": 16,
     "metadata": {},
     "output_type": "execute_result"
    }
   ],
   "source": [
    "I1B1_array_non_nan = I1B1_array_non_nan[:1, :]\n",
    "I1B1_array_non_nan.shape"
   ]
  },
  {
   "cell_type": "code",
   "execution_count": 17,
   "metadata": {},
   "outputs": [
    {
     "data": {
      "text/plain": [
       "array([[1249., 1242., 1209., ..., 1251., 1248., 1237.]])"
      ]
     },
     "execution_count": 17,
     "metadata": {},
     "output_type": "execute_result"
    }
   ],
   "source": [
    "I1B1_array_non_nan"
   ]
  },
  {
   "cell_type": "markdown",
   "metadata": {},
   "source": [
    "### IMAGE 1 BAND 2"
   ]
  },
  {
   "cell_type": "code",
   "execution_count": 18,
   "metadata": {},
   "outputs": [
    {
     "name": "stdout",
     "output_type": "stream",
     "text": [
      "8963 8298 1\n",
      "\n",
      "***************************\n",
      "\n",
      "40574909 33800065\n"
     ]
    }
   ],
   "source": [
    "I1B2 = gdal.Open(path[1])\n",
    "\n",
    "print(I1B2.RasterYSize, I1B2.RasterXSize, I1B2.RasterCount)\n",
    "print(\"\\n***************************\\n\")\n",
    "\n",
    "I1B2_array = I1B2.GetRasterBand(1).ReadAsArray()\n",
    "\n",
    "print(np.count_nonzero(np.isnan(I1B2_array)), np.count_nonzero(~np.isnan(I1B2_array)))"
   ]
  },
  {
   "cell_type": "code",
   "execution_count": 19,
   "metadata": {},
   "outputs": [
    {
     "name": "stdout",
     "output_type": "stream",
     "text": [
      "(2, 33800065)\n",
      "\n",
      "**************\n",
      "\n",
      "[[1200. 1182. 1184. ... 1139. 1130. 1144.]\n",
      " [   0.    0.    0. ...    0.    0.    0.]]\n",
      "\n",
      "**************\n",
      "\n",
      "(1, 33800065)\n",
      "\n",
      "**************\n",
      "\n",
      "0 33800065\n",
      "\n",
      "**************\n",
      "\n"
     ]
    },
    {
     "data": {
      "text/plain": [
       "array([[1200., 1182., 1184., ..., 1139., 1130., 1144.]])"
      ]
     },
     "execution_count": 19,
     "metadata": {},
     "output_type": "execute_result"
    }
   ],
   "source": [
    "I1B2_array_non_nan = np.zeros((1, 33800065))\n",
    "\n",
    "sample = []\n",
    "\n",
    "for i in range(I1B1_non_nan_index.shape[0]):\n",
    "    sample.append(I1B2_array[I1B1_non_nan_index[i,0], I1B1_non_nan_index[i,1]])\n",
    "    \n",
    "sample = np.array(sample)\n",
    "\n",
    "sample = sample.reshape(1, 33800065)\n",
    "\n",
    "I1B2_array_non_nan = np.concatenate((sample, I1B2_array_non_nan), axis = 0)\n",
    "\n",
    "print(I1B2_array_non_nan.shape)\n",
    "print(\"\\n**************\\n\")\n",
    "print(I1B2_array_non_nan)\n",
    "print(\"\\n**************\\n\")\n",
    "\n",
    "I1B2_array_non_nan = I1B2_array_non_nan[:1, :]\n",
    "print(I1B2_array_non_nan.shape)\n",
    "print(\"\\n**************\\n\")\n",
    "\n",
    "print(np.count_nonzero(np.isnan(I1B2_array_non_nan)), np.count_nonzero(~np.isnan(I1B2_array_non_nan)))\n",
    "print(\"\\n**************\\n\")\n",
    "I1B2_array_non_nan"
   ]
  },
  {
   "cell_type": "code",
   "execution_count": 20,
   "metadata": {},
   "outputs": [
    {
     "data": {
      "text/plain": [
       "(1200.0, 1182.0, 1130.0, 1144.0)"
      ]
     },
     "execution_count": 20,
     "metadata": {},
     "output_type": "execute_result"
    }
   ],
   "source": [
    "I1B2_array[0, 5738], I1B2_array[0, 5739], I1B2_array[8962, 5789], I1B2_array[8962, 5790]"
   ]
  },
  {
   "cell_type": "markdown",
   "metadata": {},
   "source": [
    "### correlation between band 1 and band 2  of image 1"
   ]
  },
  {
   "cell_type": "code",
   "execution_count": 21,
   "metadata": {},
   "outputs": [
    {
     "data": {
      "text/plain": [
       "array([[1.        , 0.84473379],\n",
       "       [0.84473379, 1.        ]])"
      ]
     },
     "execution_count": 21,
     "metadata": {},
     "output_type": "execute_result"
    }
   ],
   "source": [
    "np.corrcoef(I1B1_array_non_nan, I1B2_array_non_nan)"
   ]
  },
  {
   "cell_type": "markdown",
   "metadata": {},
   "source": [
    "### IMAGE 1 BAND 3"
   ]
  },
  {
   "cell_type": "code",
   "execution_count": 22,
   "metadata": {},
   "outputs": [
    {
     "name": "stdout",
     "output_type": "stream",
     "text": [
      "8963 8298 1\n",
      "\n",
      "***************************\n",
      "\n",
      "40574909 33800065\n"
     ]
    }
   ],
   "source": [
    "I1B3 = gdal.Open(path[2])\n",
    "\n",
    "print(I1B3.RasterYSize, I1B3.RasterXSize, I1B3.RasterCount)\n",
    "print(\"\\n***************************\\n\")\n",
    "\n",
    "I1B3_array = I1B3.GetRasterBand(1).ReadAsArray()\n",
    "\n",
    "print(np.count_nonzero(np.isnan(I1B3_array)), np.count_nonzero(~np.isnan(I1B3_array)))"
   ]
  },
  {
   "cell_type": "code",
   "execution_count": 23,
   "metadata": {},
   "outputs": [
    {
     "name": "stdout",
     "output_type": "stream",
     "text": [
      "(2, 33800065)\n",
      "\n",
      "**************\n",
      "\n",
      "[[978.  968.  954.  ... 983.5 960.  949. ]\n",
      " [  0.    0.    0.  ...   0.    0.    0. ]]\n",
      "\n",
      "**************\n",
      "\n",
      "(1, 33800065)\n",
      "\n",
      "**************\n",
      "\n",
      "0 33800065\n",
      "\n",
      "**************\n",
      "\n"
     ]
    },
    {
     "data": {
      "text/plain": [
       "array([[978. , 968. , 954. , ..., 983.5, 960. , 949. ]])"
      ]
     },
     "execution_count": 23,
     "metadata": {},
     "output_type": "execute_result"
    }
   ],
   "source": [
    "I1B3_array_non_nan = np.zeros((1, 33800065))\n",
    "\n",
    "sample = []\n",
    "\n",
    "for i in range(I1B1_non_nan_index.shape[0]):\n",
    "    sample.append(I1B3_array[I1B1_non_nan_index[i,0], I1B1_non_nan_index[i,1]])\n",
    "    \n",
    "sample = np.array(sample)\n",
    "\n",
    "sample = sample.reshape(1, 33800065)\n",
    "\n",
    "I1B3_array_non_nan = np.concatenate((sample, I1B3_array_non_nan), axis = 0)\n",
    "\n",
    "print(I1B3_array_non_nan.shape)\n",
    "print(\"\\n**************\\n\")\n",
    "print(I1B3_array_non_nan)\n",
    "print(\"\\n**************\\n\")\n",
    "\n",
    "I1B3_array_non_nan = I1B3_array_non_nan[:1, :]\n",
    "print(I1B3_array_non_nan.shape)\n",
    "print(\"\\n**************\\n\")\n",
    "\n",
    "print(np.count_nonzero(np.isnan(I1B3_array_non_nan)), np.count_nonzero(~np.isnan(I1B3_array_non_nan)))\n",
    "print(\"\\n**************\\n\")\n",
    "I1B3_array_non_nan"
   ]
  },
  {
   "cell_type": "code",
   "execution_count": 24,
   "metadata": {},
   "outputs": [
    {
     "data": {
      "text/plain": [
       "(978.0, 968.0, 960.0, 949.0)"
      ]
     },
     "execution_count": 24,
     "metadata": {},
     "output_type": "execute_result"
    }
   ],
   "source": [
    "I1B3_array[0, 5738], I1B3_array[0, 5739], I1B3_array[8962, 5789], I1B3_array[8962, 5790]"
   ]
  },
  {
   "cell_type": "markdown",
   "metadata": {},
   "source": [
    "### IMAGE 1 BAND 4"
   ]
  },
  {
   "cell_type": "code",
   "execution_count": 25,
   "metadata": {},
   "outputs": [
    {
     "name": "stdout",
     "output_type": "stream",
     "text": [
      "8963 8298 1\n",
      "***************************\n",
      "40574909 33800065\n"
     ]
    }
   ],
   "source": [
    "I1B4 = gdal.Open(path[3])\n",
    "\n",
    "print(I1B4.RasterYSize, I1B4.RasterXSize, I1B4.RasterCount)\n",
    "print(\"***************************\")\n",
    "\n",
    "I1B4_array = I1B4.GetRasterBand(1).ReadAsArray()\n",
    "\n",
    "print(np.count_nonzero(np.isnan(I1B4_array)), np.count_nonzero(~np.isnan(I1B4_array)))"
   ]
  },
  {
   "cell_type": "code",
   "execution_count": 26,
   "metadata": {},
   "outputs": [
    {
     "name": "stdout",
     "output_type": "stream",
     "text": [
      "0 33800065\n",
      "**************\n"
     ]
    },
    {
     "data": {
      "text/plain": [
       "array([[1405., 1405., 1404., ..., 1338., 1338., 1342.]])"
      ]
     },
     "execution_count": 26,
     "metadata": {},
     "output_type": "execute_result"
    }
   ],
   "source": [
    "I1B4_array_non_nan = np.zeros((1, 33800065))\n",
    "\n",
    "sample = []\n",
    "\n",
    "for i in range(I1B1_non_nan_index.shape[0]):\n",
    "    sample.append(I1B4_array[I1B1_non_nan_index[i,0], I1B1_non_nan_index[i,1]])\n",
    "    \n",
    "sample = np.array(sample)\n",
    "\n",
    "sample = sample.reshape(1, 33800065)\n",
    "\n",
    "I1B4_array_non_nan = np.concatenate((sample, I1B4_array_non_nan), axis = 0)\n",
    "\n",
    "I1B4_array_non_nan = I1B4_array_non_nan[:1, :]\n",
    "\n",
    "print(np.count_nonzero(np.isnan(I1B4_array_non_nan)), np.count_nonzero(~np.isnan(I1B4_array_non_nan)))\n",
    "print(\"**************\")\n",
    "I1B4_array_non_nan"
   ]
  },
  {
   "cell_type": "code",
   "execution_count": 27,
   "metadata": {},
   "outputs": [
    {
     "data": {
      "text/plain": [
       "(1405.0, 1405.0, 1338.0, 1342.0)"
      ]
     },
     "execution_count": 27,
     "metadata": {},
     "output_type": "execute_result"
    }
   ],
   "source": [
    "I1B4_array[0, 5738], I1B4_array[0, 5739], I1B4_array[8962, 5789], I1B4_array[8962, 5790]"
   ]
  },
  {
   "cell_type": "markdown",
   "metadata": {},
   "source": [
    "### IMAGE 1 BAND 5"
   ]
  },
  {
   "cell_type": "code",
   "execution_count": 28,
   "metadata": {},
   "outputs": [
    {
     "name": "stdout",
     "output_type": "stream",
     "text": [
      "8963 8298 1\n",
      "***************************\n",
      "40574909 33800065\n"
     ]
    }
   ],
   "source": [
    "I1B5 = gdal.Open(path[4])\n",
    "\n",
    "print(I1B5.RasterYSize, I1B5.RasterXSize, I1B5.RasterCount)\n",
    "print(\"***************************\")\n",
    "\n",
    "I1B5_array = I1B5.GetRasterBand(1).ReadAsArray()\n",
    "\n",
    "print(np.count_nonzero(np.isnan(I1B5_array)), np.count_nonzero(~np.isnan(I1B5_array)))"
   ]
  },
  {
   "cell_type": "code",
   "execution_count": 29,
   "metadata": {},
   "outputs": [
    {
     "name": "stdout",
     "output_type": "stream",
     "text": [
      "0 33800065\n",
      "**************\n"
     ]
    },
    {
     "data": {
      "text/plain": [
       "array([[2622. , 2757. , 2787. , ..., 2800. , 2755.5, 2731. ]])"
      ]
     },
     "execution_count": 29,
     "metadata": {},
     "output_type": "execute_result"
    }
   ],
   "source": [
    "I1B5_array_non_nan = np.zeros((1, 33800065))\n",
    "\n",
    "sample = []\n",
    "\n",
    "for i in range(I1B1_non_nan_index.shape[0]):\n",
    "    sample.append(I1B5_array[I1B1_non_nan_index[i,0], I1B1_non_nan_index[i,1]])\n",
    "    \n",
    "sample = np.array(sample)\n",
    "\n",
    "sample = sample.reshape(1, 33800065)\n",
    "\n",
    "I1B5_array_non_nan = np.concatenate((sample, I1B5_array_non_nan), axis = 0)\n",
    "\n",
    "I1B5_array_non_nan = I1B5_array_non_nan[:1, :]\n",
    "\n",
    "print(np.count_nonzero(np.isnan(I1B5_array_non_nan)), np.count_nonzero(~np.isnan(I1B5_array_non_nan)))\n",
    "print(\"**************\")\n",
    "I1B5_array_non_nan"
   ]
  },
  {
   "cell_type": "code",
   "execution_count": 30,
   "metadata": {},
   "outputs": [
    {
     "data": {
      "text/plain": [
       "(2622.0, 2757.0, 2755.5, 2731.0)"
      ]
     },
     "execution_count": 30,
     "metadata": {},
     "output_type": "execute_result"
    }
   ],
   "source": [
    "I1B5_array[0, 5738], I1B5_array[0, 5739], I1B5_array[8962, 5789], I1B5_array[8962, 5790]"
   ]
  },
  {
   "cell_type": "markdown",
   "metadata": {},
   "source": [
    "### creating a numpy with combining all the arrays of each band in one."
   ]
  },
  {
   "cell_type": "code",
   "execution_count": 31,
   "metadata": {},
   "outputs": [],
   "source": [
    "IMAGE1_non_nan_array = np.concatenate((I1B1_array_non_nan, I1B2_array_non_nan, I1B3_array_non_nan,\n",
    "                                      I1B4_array_non_nan, I1B5_array_non_nan), axis = 0)"
   ]
  },
  {
   "cell_type": "code",
   "execution_count": 32,
   "metadata": {},
   "outputs": [
    {
     "data": {
      "text/plain": [
       "(5, 33800065)"
      ]
     },
     "execution_count": 32,
     "metadata": {},
     "output_type": "execute_result"
    }
   ],
   "source": [
    "IMAGE1_non_nan_array.shape"
   ]
  },
  {
   "cell_type": "code",
   "execution_count": 33,
   "metadata": {},
   "outputs": [
    {
     "data": {
      "text/plain": [
       "array([[1249. , 1242. , 1209. , ..., 1251. , 1248. , 1237. ],\n",
       "       [1200. , 1182. , 1184. , ..., 1139. , 1130. , 1144. ],\n",
       "       [ 978. ,  968. ,  954. , ...,  983.5,  960. ,  949. ],\n",
       "       [1405. , 1405. , 1404. , ..., 1338. , 1338. , 1342. ],\n",
       "       [2622. , 2757. , 2787. , ..., 2800. , 2755.5, 2731. ]])"
      ]
     },
     "execution_count": 33,
     "metadata": {},
     "output_type": "execute_result"
    }
   ],
   "source": [
    "IMAGE1_non_nan_array"
   ]
  },
  {
   "cell_type": "markdown",
   "metadata": {},
   "source": [
    "### correlation matrix of all bands for image 1"
   ]
  },
  {
   "cell_type": "code",
   "execution_count": 34,
   "metadata": {},
   "outputs": [
    {
     "data": {
      "text/plain": [
       "array([[ 1.        ,  0.84473379,  0.8491875 ,  0.53175924, -0.19103249],\n",
       "       [ 0.84473379,  1.        ,  0.87377881,  0.82273054,  0.07250003],\n",
       "       [ 0.8491875 ,  0.87377881,  1.        ,  0.70709481, -0.26158604],\n",
       "       [ 0.53175924,  0.82273054,  0.70709481,  1.        ,  0.23400101],\n",
       "       [-0.19103249,  0.07250003, -0.26158604,  0.23400101,  1.        ]])"
      ]
     },
     "execution_count": 34,
     "metadata": {},
     "output_type": "execute_result"
    }
   ],
   "source": [
    "np.corrcoef(IMAGE1_non_nan_array)"
   ]
  },
  {
   "cell_type": "markdown",
   "metadata": {},
   "source": [
    "#### Observation ::: band 2 is showing high collinearity with band1, band3, and band4\n",
    "#### Also band5 is not showing any significant collinearity with any other bands."
   ]
  },
  {
   "cell_type": "markdown",
   "metadata": {},
   "source": [
    "### IMAGE 2 BAND 1"
   ]
  },
  {
   "cell_type": "code",
   "execution_count": 36,
   "metadata": {},
   "outputs": [
    {
     "name": "stdout",
     "output_type": "stream",
     "text": [
      "8963 8298 1\n",
      "\n",
      "***************************\n",
      "\n",
      "40574909 33800065\n"
     ]
    }
   ],
   "source": [
    "I2B1 = gdal.Open(path[5])\n",
    "\n",
    "print(I2B1.RasterYSize, I2B1.RasterXSize, I2B1.RasterCount)\n",
    "print(\"***************************\")\n",
    "\n",
    "I2B1_array = I2B1.GetRasterBand(1).ReadAsArray()\n",
    "\n",
    "print(np.count_nonzero(np.isnan(I2B1_array)), np.count_nonzero(~np.isnan(I2B1_array)))"
   ]
  },
  {
   "cell_type": "code",
   "execution_count": 37,
   "metadata": {},
   "outputs": [
    {
     "name": "stdout",
     "output_type": "stream",
     "text": [
      "0 33800065\n",
      "**************\n"
     ]
    },
    {
     "data": {
      "text/plain": [
       "array([[1447., 1467., 1492., ..., 1253., 1236., 1277.]])"
      ]
     },
     "execution_count": 37,
     "metadata": {},
     "output_type": "execute_result"
    }
   ],
   "source": [
    "I2B1_array_non_nan = np.zeros((1, 33800065))\n",
    "\n",
    "sample = []\n",
    "\n",
    "for i in range(I1B1_non_nan_index.shape[0]):\n",
    "    sample.append(I2B1_array[I1B1_non_nan_index[i,0], I1B1_non_nan_index[i,1]])\n",
    "    \n",
    "sample = np.array(sample)\n",
    "\n",
    "sample = sample.reshape(1, 33800065)\n",
    "\n",
    "I2B1_array_non_nan = np.concatenate((sample, I2B1_array_non_nan), axis = 0)\n",
    "\n",
    "I2B1_array_non_nan = I2B1_array_non_nan[:1, :]\n",
    "\n",
    "print(np.count_nonzero(np.isnan(I2B1_array_non_nan)), np.count_nonzero(~np.isnan(I2B1_array_non_nan)))\n",
    "print(\"**************\")\n",
    "I2B1_array_non_nan"
   ]
  },
  {
   "cell_type": "code",
   "execution_count": 38,
   "metadata": {},
   "outputs": [
    {
     "data": {
      "text/plain": [
       "(1447.0, 1467.0, 1236.0, 1277.0)"
      ]
     },
     "execution_count": 38,
     "metadata": {},
     "output_type": "execute_result"
    }
   ],
   "source": [
    "I2B1_array[0, 5738], I2B1_array[0, 5739], I2B1_array[8962, 5789], I2B1_array[8962, 5790]"
   ]
  },
  {
   "cell_type": "markdown",
   "metadata": {},
   "source": [
    "### IMAGE 2 BAND 2"
   ]
  },
  {
   "cell_type": "code",
   "execution_count": 40,
   "metadata": {},
   "outputs": [
    {
     "name": "stdout",
     "output_type": "stream",
     "text": [
      "8963 8298 1\n",
      "***************************\n",
      "40574909 33800065\n"
     ]
    }
   ],
   "source": [
    "I2B2 = gdal.Open(path[6])\n",
    "\n",
    "print(I2B2.RasterYSize, I2B2.RasterXSize, I2B2.RasterCount)\n",
    "print(\"***************************\")\n",
    "\n",
    "I2B2_array = I2B2.GetRasterBand(1).ReadAsArray()\n",
    "\n",
    "print(np.count_nonzero(np.isnan(I2B2_array)), np.count_nonzero(~np.isnan(I2B2_array)))"
   ]
  },
  {
   "cell_type": "code",
   "execution_count": 41,
   "metadata": {},
   "outputs": [
    {
     "name": "stdout",
     "output_type": "stream",
     "text": [
      "0 33800065\n",
      "**************\n"
     ]
    },
    {
     "data": {
      "text/plain": [
       "array([[1322.5, 1367. , 1398.5, ..., 1120. , 1125. , 1121. ]])"
      ]
     },
     "execution_count": 41,
     "metadata": {},
     "output_type": "execute_result"
    }
   ],
   "source": [
    "I2B2_array_non_nan = np.zeros((1, 33800065))\n",
    "\n",
    "sample = []\n",
    "\n",
    "for i in range(I1B1_non_nan_index.shape[0]):\n",
    "    sample.append(I2B2_array[I1B1_non_nan_index[i,0], I1B1_non_nan_index[i,1]])\n",
    "    \n",
    "sample = np.array(sample)\n",
    "\n",
    "sample = sample.reshape(1, 33800065)\n",
    "\n",
    "I2B2_array_non_nan = np.concatenate((sample, I2B2_array_non_nan), axis = 0)\n",
    "\n",
    "I2B2_array_non_nan = I2B2_array_non_nan[:1, :]\n",
    "\n",
    "print(np.count_nonzero(np.isnan(I2B2_array_non_nan)), np.count_nonzero(~np.isnan(I2B2_array_non_nan)))\n",
    "print(\"**************\")\n",
    "I2B2_array_non_nan"
   ]
  },
  {
   "cell_type": "code",
   "execution_count": 42,
   "metadata": {},
   "outputs": [
    {
     "data": {
      "text/plain": [
       "(1322.5, 1367.0, 1125.0, 1121.0)"
      ]
     },
     "execution_count": 42,
     "metadata": {},
     "output_type": "execute_result"
    }
   ],
   "source": [
    "I2B2_array[0, 5738], I2B2_array[0, 5739], I2B2_array[8962, 5789], I2B2_array[8962, 5790]"
   ]
  },
  {
   "cell_type": "markdown",
   "metadata": {},
   "source": [
    "### IMAGE 2 BAND 3"
   ]
  },
  {
   "cell_type": "code",
   "execution_count": 44,
   "metadata": {},
   "outputs": [
    {
     "name": "stdout",
     "output_type": "stream",
     "text": [
      "8963 8298 1\n",
      "***************************\n",
      "40574909 33800065\n"
     ]
    }
   ],
   "source": [
    "I2B3 = gdal.Open(path[7])\n",
    "\n",
    "print(I2B3.RasterYSize, I2B3.RasterXSize, I2B3.RasterCount)\n",
    "print(\"***************************\")\n",
    "\n",
    "I2B3_array = I2B3.GetRasterBand(1).ReadAsArray()\n",
    "\n",
    "print(np.count_nonzero(np.isnan(I2B3_array)), np.count_nonzero(~np.isnan(I2B3_array)))"
   ]
  },
  {
   "cell_type": "code",
   "execution_count": 45,
   "metadata": {},
   "outputs": [
    {
     "name": "stdout",
     "output_type": "stream",
     "text": [
      "0 33800065\n",
      "**************\n"
     ]
    },
    {
     "data": {
      "text/plain": [
       "array([[1431. , 1535. , 1592.5, ..., 1029. , 1005. , 1019. ]])"
      ]
     },
     "execution_count": 45,
     "metadata": {},
     "output_type": "execute_result"
    }
   ],
   "source": [
    "I2B3_array_non_nan = np.zeros((1, 33800065))\n",
    "\n",
    "sample = []\n",
    "\n",
    "for i in range(I1B1_non_nan_index.shape[0]):\n",
    "    sample.append(I2B3_array[I1B1_non_nan_index[i,0], I1B1_non_nan_index[i,1]])\n",
    "    \n",
    "sample = np.array(sample)\n",
    "\n",
    "sample = sample.reshape(1, 33800065)\n",
    "\n",
    "I2B3_array_non_nan = np.concatenate((sample, I2B3_array_non_nan), axis = 0)\n",
    "\n",
    "I2B3_array_non_nan = I2B3_array_non_nan[:1, :]\n",
    "\n",
    "print(np.count_nonzero(np.isnan(I2B3_array_non_nan)), np.count_nonzero(~np.isnan(I2B3_array_non_nan)))\n",
    "print(\"**************\")\n",
    "I2B3_array_non_nan"
   ]
  },
  {
   "cell_type": "code",
   "execution_count": 46,
   "metadata": {},
   "outputs": [
    {
     "data": {
      "text/plain": [
       "(1431.0, 1535.0, 1005.0, 1019.0)"
      ]
     },
     "execution_count": 46,
     "metadata": {},
     "output_type": "execute_result"
    }
   ],
   "source": [
    "I2B3_array[0, 5738], I2B3_array[0, 5739], I2B3_array[8962, 5789], I2B3_array[8962, 5790]"
   ]
  },
  {
   "cell_type": "markdown",
   "metadata": {},
   "source": [
    "### IMAGE 2 BAND 4"
   ]
  },
  {
   "cell_type": "code",
   "execution_count": 48,
   "metadata": {},
   "outputs": [
    {
     "name": "stdout",
     "output_type": "stream",
     "text": [
      "8963 8298 1\n",
      "***************************\n",
      "40574909 33800065\n"
     ]
    }
   ],
   "source": [
    "I2B4 = gdal.Open(path[8])\n",
    "\n",
    "print(I2B4.RasterYSize, I2B4.RasterXSize, I2B4.RasterCount)\n",
    "print(\"***************************\")\n",
    "\n",
    "I2B4_array = I2B4.GetRasterBand(1).ReadAsArray()\n",
    "\n",
    "print(np.count_nonzero(np.isnan(I2B4_array)), np.count_nonzero(~np.isnan(I2B4_array)))"
   ]
  },
  {
   "cell_type": "code",
   "execution_count": 49,
   "metadata": {},
   "outputs": [
    {
     "name": "stdout",
     "output_type": "stream",
     "text": [
      "0 33800065\n",
      "**************\n"
     ]
    },
    {
     "data": {
      "text/plain": [
       "array([[1626.5, 1626.5, 1761. , ..., 1240. , 1240. , 1242. ]])"
      ]
     },
     "execution_count": 49,
     "metadata": {},
     "output_type": "execute_result"
    }
   ],
   "source": [
    "I2B4_array_non_nan = np.zeros((1, 33800065))\n",
    "\n",
    "sample = []\n",
    "\n",
    "for i in range(I1B1_non_nan_index.shape[0]):\n",
    "    sample.append(I2B4_array[I1B1_non_nan_index[i,0], I1B1_non_nan_index[i,1]])\n",
    "    \n",
    "sample = np.array(sample)\n",
    "\n",
    "sample = sample.reshape(1, 33800065)\n",
    "\n",
    "I2B4_array_non_nan = np.concatenate((sample, I2B4_array_non_nan), axis = 0)\n",
    "\n",
    "I2B4_array_non_nan = I2B4_array_non_nan[:1, :]\n",
    "\n",
    "print(np.count_nonzero(np.isnan(I2B4_array_non_nan)), np.count_nonzero(~np.isnan(I2B4_array_non_nan)))\n",
    "print(\"**************\")\n",
    "I2B4_array_non_nan"
   ]
  },
  {
   "cell_type": "code",
   "execution_count": 50,
   "metadata": {},
   "outputs": [
    {
     "data": {
      "text/plain": [
       "(1626.5, 1626.5, 1240.0, 1242.0)"
      ]
     },
     "execution_count": 50,
     "metadata": {},
     "output_type": "execute_result"
    }
   ],
   "source": [
    "I2B4_array[0, 5738], I2B4_array[0, 5739], I2B4_array[8962, 5789], I2B4_array[8962, 5790]"
   ]
  },
  {
   "cell_type": "markdown",
   "metadata": {},
   "source": [
    "### IMAGE 2 BAND 5"
   ]
  },
  {
   "cell_type": "code",
   "execution_count": 52,
   "metadata": {},
   "outputs": [
    {
     "name": "stdout",
     "output_type": "stream",
     "text": [
      "8963 8298 1\n",
      "***************************\n",
      "40574909 33800065\n"
     ]
    }
   ],
   "source": [
    "I2B5 = gdal.Open(path[9])\n",
    "\n",
    "print(I2B5.RasterYSize, I2B5.RasterXSize, I2B5.RasterCount)\n",
    "print(\"***************************\")\n",
    "\n",
    "I2B5_array = I2B5.GetRasterBand(1).ReadAsArray()\n",
    "\n",
    "print(np.count_nonzero(np.isnan(I2B5_array)), np.count_nonzero(~np.isnan(I2B5_array)))"
   ]
  },
  {
   "cell_type": "code",
   "execution_count": 53,
   "metadata": {},
   "outputs": [
    {
     "name": "stdout",
     "output_type": "stream",
     "text": [
      "0 33800065\n",
      "**************\n"
     ]
    },
    {
     "data": {
      "text/plain": [
       "array([[1831.5, 1872. , 1967.5, ..., 2475. , 2450. , 2447. ]])"
      ]
     },
     "execution_count": 53,
     "metadata": {},
     "output_type": "execute_result"
    }
   ],
   "source": [
    "I2B5_array_non_nan = np.zeros((1, 33800065))\n",
    "\n",
    "sample = []\n",
    "\n",
    "for i in range(I1B1_non_nan_index.shape[0]):\n",
    "    sample.append(I2B5_array[I1B1_non_nan_index[i,0], I1B1_non_nan_index[i,1]])\n",
    "    \n",
    "sample = np.array(sample)\n",
    "\n",
    "sample = sample.reshape(1, 33800065)\n",
    "\n",
    "I2B5_array_non_nan = np.concatenate((sample, I2B5_array_non_nan), axis = 0)\n",
    "\n",
    "I2B5_array_non_nan = I2B5_array_non_nan[:1, :]\n",
    "\n",
    "print(np.count_nonzero(np.isnan(I2B5_array_non_nan)), np.count_nonzero(~np.isnan(I2B5_array_non_nan)))\n",
    "print(\"**************\")\n",
    "I2B5_array_non_nan"
   ]
  },
  {
   "cell_type": "code",
   "execution_count": 54,
   "metadata": {},
   "outputs": [
    {
     "data": {
      "text/plain": [
       "(1831.5, 1872.0, 2450.0, 2447.0)"
      ]
     },
     "execution_count": 54,
     "metadata": {},
     "output_type": "execute_result"
    }
   ],
   "source": [
    "I2B5_array[0, 5738], I2B5_array[0, 5739], I2B5_array[8962, 5789], I2B5_array[8962, 5790]"
   ]
  },
  {
   "cell_type": "markdown",
   "metadata": {},
   "source": [
    "### concatenating all arrays of image 2 in one"
   ]
  },
  {
   "cell_type": "code",
   "execution_count": 55,
   "metadata": {},
   "outputs": [],
   "source": [
    "IMAGE2_non_nan_array = np.concatenate((I2B1_array_non_nan, I2B2_array_non_nan, I2B3_array_non_nan,\n",
    "                                      I2B4_array_non_nan, I2B5_array_non_nan), axis = 0)"
   ]
  },
  {
   "cell_type": "markdown",
   "metadata": {},
   "source": [
    "### correlation of all bands of image 2"
   ]
  },
  {
   "cell_type": "code",
   "execution_count": 58,
   "metadata": {},
   "outputs": [
    {
     "data": {
      "text/plain": [
       "array([[1.        , 0.92952375, 0.79378606, 0.68593218, 0.1192663 ],\n",
       "       [0.92952375, 1.        , 0.91431244, 0.82980288, 0.22165909],\n",
       "       [0.79378606, 0.91431244, 1.        , 0.90258291, 0.16519888],\n",
       "       [0.68593218, 0.82980288, 0.90258291, 1.        , 0.44213763],\n",
       "       [0.1192663 , 0.22165909, 0.16519888, 0.44213763, 1.        ]])"
      ]
     },
     "execution_count": 58,
     "metadata": {},
     "output_type": "execute_result"
    }
   ],
   "source": [
    "np.corrcoef(IMAGE2_non_nan_array)"
   ]
  },
  {
   "cell_type": "markdown",
   "metadata": {},
   "source": [
    "### Observation ::: it is clear that band1, band2, band3 and band4 are higly correlated with one another.\n",
    "### band5 does not show much collinearity with other bands"
   ]
  },
  {
   "cell_type": "markdown",
   "metadata": {},
   "source": [
    "# In order to reduce the feature we would randomly sample 1% of non-nan values and merge them having all 30 features, also we will merge the output(prediction) from k-means with 30 features and will find correlation matrix"
   ]
  },
  {
   "cell_type": "code",
   "execution_count": 59,
   "metadata": {},
   "outputs": [],
   "source": [
    "np.random.seed(1)"
   ]
  },
  {
   "cell_type": "code",
   "execution_count": 60,
   "metadata": {},
   "outputs": [],
   "source": [
    "a = np.arange(I1B1_non_nan_index.shape[0])\n",
    "\n",
    "a_rand = np.random.choice(a, 338000)"
   ]
  },
  {
   "cell_type": "code",
   "execution_count": 61,
   "metadata": {},
   "outputs": [
    {
     "data": {
      "text/plain": [
       "array([[2643, 3574],\n",
       "       [ 767, 4965],\n",
       "       [3732, 6427],\n",
       "       ...,\n",
       "       [3434, 3074],\n",
       "       [5842, 4036],\n",
       "       [6873, 4799]], dtype=int64)"
      ]
     },
     "execution_count": 61,
     "metadata": {},
     "output_type": "execute_result"
    }
   ],
   "source": [
    "rand_index = I1B1_non_nan_index[a_rand, :]\n",
    "rand_index"
   ]
  },
  {
   "cell_type": "code",
   "execution_count": 63,
   "metadata": {},
   "outputs": [
    {
     "data": {
      "text/plain": [
       "(338000, 2)"
      ]
     },
     "execution_count": 63,
     "metadata": {},
     "output_type": "execute_result"
    }
   ],
   "source": [
    "rand_index.shape"
   ]
  },
  {
   "cell_type": "code",
   "execution_count": 64,
   "metadata": {},
   "outputs": [],
   "source": [
    "test_x_sample = np.zeros((1, 338000))"
   ]
  },
  {
   "cell_type": "code",
   "execution_count": 65,
   "metadata": {
    "collapsed": true
   },
   "outputs": [
    {
     "name": "stdout",
     "output_type": "stream",
     "text": [
      "E:\\Internship_Harvesting\\Dataset\\Bathinda_Cropland\\Masked_images\\I1B1.tif\n",
      "(8963, 8298)\n",
      "(2, 338000)\n",
      "***************\n",
      "E:\\Internship_Harvesting\\Dataset\\Bathinda_Cropland\\Masked_images\\I1B2.tif\n",
      "(8963, 8298)\n",
      "(3, 338000)\n",
      "***************\n",
      "E:\\Internship_Harvesting\\Dataset\\Bathinda_Cropland\\Masked_images\\I1B3.tif\n",
      "(8963, 8298)\n",
      "(4, 338000)\n",
      "***************\n",
      "E:\\Internship_Harvesting\\Dataset\\Bathinda_Cropland\\Masked_images\\I1B4.tif\n",
      "(8963, 8298)\n",
      "(5, 338000)\n",
      "***************\n",
      "E:\\Internship_Harvesting\\Dataset\\Bathinda_Cropland\\Masked_images\\I1B5.tif\n",
      "(8963, 8298)\n",
      "(6, 338000)\n",
      "***************\n",
      "E:\\Internship_Harvesting\\Dataset\\Bathinda_Cropland\\Masked_images\\I2B1.tif\n",
      "(8963, 8298)\n",
      "(7, 338000)\n",
      "***************\n",
      "E:\\Internship_Harvesting\\Dataset\\Bathinda_Cropland\\Masked_images\\I2B2.tif\n",
      "(8963, 8298)\n",
      "(8, 338000)\n",
      "***************\n",
      "E:\\Internship_Harvesting\\Dataset\\Bathinda_Cropland\\Masked_images\\I2B3.tif\n",
      "(8963, 8298)\n",
      "(9, 338000)\n",
      "***************\n",
      "E:\\Internship_Harvesting\\Dataset\\Bathinda_Cropland\\Masked_images\\I2B4.tif\n",
      "(8963, 8298)\n",
      "(10, 338000)\n",
      "***************\n",
      "E:\\Internship_Harvesting\\Dataset\\Bathinda_Cropland\\Masked_images\\I2B5.tif\n",
      "(8963, 8298)\n",
      "(11, 338000)\n",
      "***************\n",
      "E:\\Internship_Harvesting\\Dataset\\Bathinda_Cropland\\Masked_images\\I3B1.tif\n",
      "(8963, 8298)\n",
      "(12, 338000)\n",
      "***************\n",
      "E:\\Internship_Harvesting\\Dataset\\Bathinda_Cropland\\Masked_images\\I3B2.tif\n",
      "(8963, 8298)\n",
      "(13, 338000)\n",
      "***************\n",
      "E:\\Internship_Harvesting\\Dataset\\Bathinda_Cropland\\Masked_images\\I3B3.tif\n",
      "(8963, 8298)\n",
      "(14, 338000)\n",
      "***************\n",
      "E:\\Internship_Harvesting\\Dataset\\Bathinda_Cropland\\Masked_images\\I3B4.tif\n",
      "(8963, 8298)\n",
      "(15, 338000)\n",
      "***************\n",
      "E:\\Internship_Harvesting\\Dataset\\Bathinda_Cropland\\Masked_images\\I3B5.tif\n",
      "(8963, 8298)\n",
      "(16, 338000)\n",
      "***************\n",
      "E:\\Internship_Harvesting\\Dataset\\Bathinda_Cropland\\Masked_images\\I4B1.tif\n",
      "(8963, 8298)\n",
      "(17, 338000)\n",
      "***************\n",
      "E:\\Internship_Harvesting\\Dataset\\Bathinda_Cropland\\Masked_images\\I4B2.tif\n",
      "(8963, 8298)\n",
      "(18, 338000)\n",
      "***************\n",
      "E:\\Internship_Harvesting\\Dataset\\Bathinda_Cropland\\Masked_images\\I4B3.tif\n",
      "(8963, 8298)\n",
      "(19, 338000)\n",
      "***************\n",
      "E:\\Internship_Harvesting\\Dataset\\Bathinda_Cropland\\Masked_images\\I4B4.tif\n",
      "(8963, 8298)\n",
      "(20, 338000)\n",
      "***************\n",
      "E:\\Internship_Harvesting\\Dataset\\Bathinda_Cropland\\Masked_images\\I4B5.tif\n",
      "(8963, 8298)\n",
      "(21, 338000)\n",
      "***************\n",
      "E:\\Internship_Harvesting\\Dataset\\Bathinda_Cropland\\Masked_images\\I5B1.tif\n",
      "(8963, 8298)\n",
      "(22, 338000)\n",
      "***************\n",
      "E:\\Internship_Harvesting\\Dataset\\Bathinda_Cropland\\Masked_images\\I5B2.tif\n",
      "(8963, 8298)\n",
      "(23, 338000)\n",
      "***************\n",
      "E:\\Internship_Harvesting\\Dataset\\Bathinda_Cropland\\Masked_images\\I5B3.tif\n",
      "(8963, 8298)\n",
      "(24, 338000)\n",
      "***************\n",
      "E:\\Internship_Harvesting\\Dataset\\Bathinda_Cropland\\Masked_images\\I5B4.tif\n",
      "(8963, 8298)\n",
      "(25, 338000)\n",
      "***************\n",
      "E:\\Internship_Harvesting\\Dataset\\Bathinda_Cropland\\Masked_images\\I5B5.tif\n",
      "(8963, 8298)\n",
      "(26, 338000)\n",
      "***************\n",
      "E:\\Internship_Harvesting\\Dataset\\Bathinda_Cropland\\Masked_images\\I6B1.tif\n",
      "(8963, 8298)\n",
      "(27, 338000)\n",
      "***************\n",
      "E:\\Internship_Harvesting\\Dataset\\Bathinda_Cropland\\Masked_images\\I6B2.tif\n",
      "(8963, 8298)\n",
      "(28, 338000)\n",
      "***************\n",
      "E:\\Internship_Harvesting\\Dataset\\Bathinda_Cropland\\Masked_images\\I6B3.tif\n",
      "(8963, 8298)\n",
      "(29, 338000)\n",
      "***************\n",
      "E:\\Internship_Harvesting\\Dataset\\Bathinda_Cropland\\Masked_images\\I6B4.tif\n",
      "(8963, 8298)\n",
      "(30, 338000)\n",
      "***************\n",
      "E:\\Internship_Harvesting\\Dataset\\Bathinda_Cropland\\Masked_images\\I6B5.tif\n",
      "(8963, 8298)\n",
      "(31, 338000)\n",
      "***************\n"
     ]
    }
   ],
   "source": [
    "for p in path:\n",
    "    print(p)\n",
    "    \n",
    "    image = gdal.Open(p)\n",
    "    \n",
    "    image_array = image.GetRasterBand(1).ReadAsArray()\n",
    "    print(image_array.shape)\n",
    "    sample = []\n",
    "    \n",
    "    for i in range(rand_index.shape[0]):\n",
    "        sample.append(image_array[rand_index[i,0], rand_index[i,1]])\n",
    "        \n",
    "    sample = np.array(sample)\n",
    "    \n",
    "    sample = sample.reshape(1, 338000)\n",
    "        \n",
    "    test_x_sample = np.concatenate((sample, test_x_sample), axis = 0)\n",
    "    \n",
    "    print(test_x_sample.shape)\n",
    "    \n",
    "    print(\"***************\")\n",
    "    "
   ]
  },
  {
   "cell_type": "code",
   "execution_count": 66,
   "metadata": {},
   "outputs": [
    {
     "data": {
      "text/plain": [
       "(338000, 30)"
      ]
     },
     "execution_count": 66,
     "metadata": {},
     "output_type": "execute_result"
    }
   ],
   "source": [
    "test_x_sample = test_x_sample[:30, :]\n",
    "test_x_sample = test_x_sample.T\n",
    "test_x_sample.shape"
   ]
  },
  {
   "cell_type": "code",
   "execution_count": 67,
   "metadata": {},
   "outputs": [],
   "source": [
    "kmeans = KMeans(n_clusters=2, init='k-means++', max_iter=300, n_init=10, random_state=0)\n",
    "test_y_sample = kmeans.fit_predict(test_x_sample)"
   ]
  },
  {
   "cell_type": "code",
   "execution_count": 68,
   "metadata": {},
   "outputs": [
    {
     "data": {
      "text/plain": [
       "array([0, 1])"
      ]
     },
     "execution_count": 68,
     "metadata": {},
     "output_type": "execute_result"
    }
   ],
   "source": [
    "np.unique(test_y_sample)"
   ]
  },
  {
   "cell_type": "code",
   "execution_count": 70,
   "metadata": {},
   "outputs": [],
   "source": [
    "test_y_sample = test_y_sample.T\n",
    "test_x_sample = test_x_sample.T"
   ]
  },
  {
   "cell_type": "code",
   "execution_count": 71,
   "metadata": {
    "scrolled": true
   },
   "outputs": [
    {
     "data": {
      "text/plain": [
       "((338000,), (30, 338000))"
      ]
     },
     "execution_count": 71,
     "metadata": {},
     "output_type": "execute_result"
    }
   ],
   "source": [
    "test_y_sample.shape, test_x_sample.shape"
   ]
  },
  {
   "cell_type": "code",
   "execution_count": 72,
   "metadata": {},
   "outputs": [
    {
     "data": {
      "text/plain": [
       "(1, 338000)"
      ]
     },
     "execution_count": 72,
     "metadata": {},
     "output_type": "execute_result"
    }
   ],
   "source": [
    "test_y_sample = test_y_sample.reshape(1, 338000)\n",
    "test_y_sample.shape"
   ]
  },
  {
   "cell_type": "code",
   "execution_count": 73,
   "metadata": {},
   "outputs": [
    {
     "data": {
      "text/plain": [
       "(31, 338000)"
      ]
     },
     "execution_count": 73,
     "metadata": {},
     "output_type": "execute_result"
    }
   ],
   "source": [
    "test_x_y_sample = np.concatenate((test_x_sample, test_y_sample), axis = 0)\n",
    "test_x_y_sample.shape"
   ]
  },
  {
   "cell_type": "code",
   "execution_count": 74,
   "metadata": {},
   "outputs": [
    {
     "data": {
      "text/plain": [
       "(31, 31)"
      ]
     },
     "execution_count": 74,
     "metadata": {},
     "output_type": "execute_result"
    }
   ],
   "source": [
    "corr_mat_sample = np.corrcoef(test_x_y_sample)\n",
    "corr_mat_sample.shape"
   ]
  },
  {
   "cell_type": "code",
   "execution_count": 76,
   "metadata": {
    "collapsed": true
   },
   "outputs": [
    {
     "data": {
      "text/html": [
       "<div>\n",
       "<style scoped>\n",
       "    .dataframe tbody tr th:only-of-type {\n",
       "        vertical-align: middle;\n",
       "    }\n",
       "\n",
       "    .dataframe tbody tr th {\n",
       "        vertical-align: top;\n",
       "    }\n",
       "\n",
       "    .dataframe thead th {\n",
       "        text-align: right;\n",
       "    }\n",
       "</style>\n",
       "<table border=\"1\" class=\"dataframe\">\n",
       "  <thead>\n",
       "    <tr style=\"text-align: right;\">\n",
       "      <th></th>\n",
       "      <th>0</th>\n",
       "      <th>1</th>\n",
       "      <th>2</th>\n",
       "      <th>3</th>\n",
       "      <th>4</th>\n",
       "      <th>5</th>\n",
       "      <th>6</th>\n",
       "      <th>7</th>\n",
       "      <th>8</th>\n",
       "      <th>9</th>\n",
       "      <th>...</th>\n",
       "      <th>21</th>\n",
       "      <th>22</th>\n",
       "      <th>23</th>\n",
       "      <th>24</th>\n",
       "      <th>25</th>\n",
       "      <th>26</th>\n",
       "      <th>27</th>\n",
       "      <th>28</th>\n",
       "      <th>29</th>\n",
       "      <th>30</th>\n",
       "    </tr>\n",
       "  </thead>\n",
       "  <tbody>\n",
       "    <tr>\n",
       "      <th>0</th>\n",
       "      <td>1.000000</td>\n",
       "      <td>-0.455118</td>\n",
       "      <td>-0.580124</td>\n",
       "      <td>-0.443235</td>\n",
       "      <td>-0.497289</td>\n",
       "      <td>0.493684</td>\n",
       "      <td>-0.403528</td>\n",
       "      <td>-0.467211</td>\n",
       "      <td>-0.330251</td>\n",
       "      <td>-0.337118</td>\n",
       "      <td>...</td>\n",
       "      <td>0.190948</td>\n",
       "      <td>0.136024</td>\n",
       "      <td>0.122808</td>\n",
       "      <td>0.065186</td>\n",
       "      <td>0.373229</td>\n",
       "      <td>-0.007675</td>\n",
       "      <td>-0.265050</td>\n",
       "      <td>-0.169739</td>\n",
       "      <td>-0.264249</td>\n",
       "      <td>-0.038321</td>\n",
       "    </tr>\n",
       "    <tr>\n",
       "      <th>1</th>\n",
       "      <td>-0.455118</td>\n",
       "      <td>1.000000</td>\n",
       "      <td>0.916599</td>\n",
       "      <td>0.927931</td>\n",
       "      <td>0.878158</td>\n",
       "      <td>-0.399705</td>\n",
       "      <td>0.856344</td>\n",
       "      <td>0.808258</td>\n",
       "      <td>0.761455</td>\n",
       "      <td>0.698897</td>\n",
       "      <td>...</td>\n",
       "      <td>0.037783</td>\n",
       "      <td>0.033131</td>\n",
       "      <td>0.101049</td>\n",
       "      <td>0.117518</td>\n",
       "      <td>-0.299864</td>\n",
       "      <td>0.230072</td>\n",
       "      <td>0.574325</td>\n",
       "      <td>0.492662</td>\n",
       "      <td>0.600995</td>\n",
       "      <td>-0.035206</td>\n",
       "    </tr>\n",
       "    <tr>\n",
       "      <th>2</th>\n",
       "      <td>-0.580124</td>\n",
       "      <td>0.916599</td>\n",
       "      <td>1.000000</td>\n",
       "      <td>0.965013</td>\n",
       "      <td>0.955924</td>\n",
       "      <td>-0.464752</td>\n",
       "      <td>0.823747</td>\n",
       "      <td>0.878110</td>\n",
       "      <td>0.811862</td>\n",
       "      <td>0.758427</td>\n",
       "      <td>...</td>\n",
       "      <td>0.024034</td>\n",
       "      <td>0.039953</td>\n",
       "      <td>0.103246</td>\n",
       "      <td>0.125152</td>\n",
       "      <td>-0.323323</td>\n",
       "      <td>0.223069</td>\n",
       "      <td>0.618023</td>\n",
       "      <td>0.530604</td>\n",
       "      <td>0.646819</td>\n",
       "      <td>-0.030843</td>\n",
       "    </tr>\n",
       "    <tr>\n",
       "      <th>3</th>\n",
       "      <td>-0.443235</td>\n",
       "      <td>0.927931</td>\n",
       "      <td>0.965013</td>\n",
       "      <td>1.000000</td>\n",
       "      <td>0.966011</td>\n",
       "      <td>-0.445237</td>\n",
       "      <td>0.836009</td>\n",
       "      <td>0.874683</td>\n",
       "      <td>0.847655</td>\n",
       "      <td>0.794100</td>\n",
       "      <td>...</td>\n",
       "      <td>0.025673</td>\n",
       "      <td>0.025272</td>\n",
       "      <td>0.104607</td>\n",
       "      <td>0.122878</td>\n",
       "      <td>-0.293488</td>\n",
       "      <td>0.205299</td>\n",
       "      <td>0.600490</td>\n",
       "      <td>0.530118</td>\n",
       "      <td>0.662744</td>\n",
       "      <td>-0.057057</td>\n",
       "    </tr>\n",
       "    <tr>\n",
       "      <th>4</th>\n",
       "      <td>-0.497289</td>\n",
       "      <td>0.878158</td>\n",
       "      <td>0.955924</td>\n",
       "      <td>0.966011</td>\n",
       "      <td>1.000000</td>\n",
       "      <td>-0.510134</td>\n",
       "      <td>0.829382</td>\n",
       "      <td>0.891161</td>\n",
       "      <td>0.859423</td>\n",
       "      <td>0.845383</td>\n",
       "      <td>...</td>\n",
       "      <td>0.003528</td>\n",
       "      <td>-0.001423</td>\n",
       "      <td>0.081839</td>\n",
       "      <td>0.107560</td>\n",
       "      <td>-0.310494</td>\n",
       "      <td>0.183024</td>\n",
       "      <td>0.594893</td>\n",
       "      <td>0.520711</td>\n",
       "      <td>0.697668</td>\n",
       "      <td>-0.100016</td>\n",
       "    </tr>\n",
       "    <tr>\n",
       "      <th>5</th>\n",
       "      <td>0.493684</td>\n",
       "      <td>-0.399705</td>\n",
       "      <td>-0.464752</td>\n",
       "      <td>-0.445237</td>\n",
       "      <td>-0.510134</td>\n",
       "      <td>1.000000</td>\n",
       "      <td>-0.491375</td>\n",
       "      <td>-0.640733</td>\n",
       "      <td>-0.472276</td>\n",
       "      <td>-0.552160</td>\n",
       "      <td>...</td>\n",
       "      <td>0.296577</td>\n",
       "      <td>0.430898</td>\n",
       "      <td>0.331304</td>\n",
       "      <td>0.272398</td>\n",
       "      <td>0.380050</td>\n",
       "      <td>0.304873</td>\n",
       "      <td>-0.098735</td>\n",
       "      <td>0.037104</td>\n",
       "      <td>-0.284996</td>\n",
       "      <td>0.143222</td>\n",
       "    </tr>\n",
       "    <tr>\n",
       "      <th>6</th>\n",
       "      <td>-0.403528</td>\n",
       "      <td>0.856344</td>\n",
       "      <td>0.823747</td>\n",
       "      <td>0.836009</td>\n",
       "      <td>0.829382</td>\n",
       "      <td>-0.491375</td>\n",
       "      <td>1.000000</td>\n",
       "      <td>0.904312</td>\n",
       "      <td>0.907433</td>\n",
       "      <td>0.831543</td>\n",
       "      <td>...</td>\n",
       "      <td>0.012670</td>\n",
       "      <td>-0.059586</td>\n",
       "      <td>0.034875</td>\n",
       "      <td>0.048645</td>\n",
       "      <td>-0.249331</td>\n",
       "      <td>0.155082</td>\n",
       "      <td>0.506382</td>\n",
       "      <td>0.424138</td>\n",
       "      <td>0.595169</td>\n",
       "      <td>-0.095141</td>\n",
       "    </tr>\n",
       "    <tr>\n",
       "      <th>7</th>\n",
       "      <td>-0.467211</td>\n",
       "      <td>0.808258</td>\n",
       "      <td>0.878110</td>\n",
       "      <td>0.874683</td>\n",
       "      <td>0.891161</td>\n",
       "      <td>-0.640733</td>\n",
       "      <td>0.904312</td>\n",
       "      <td>1.000000</td>\n",
       "      <td>0.932560</td>\n",
       "      <td>0.908205</td>\n",
       "      <td>...</td>\n",
       "      <td>-0.033577</td>\n",
       "      <td>-0.086929</td>\n",
       "      <td>0.011952</td>\n",
       "      <td>0.038497</td>\n",
       "      <td>-0.307913</td>\n",
       "      <td>0.101866</td>\n",
       "      <td>0.533962</td>\n",
       "      <td>0.435920</td>\n",
       "      <td>0.644599</td>\n",
       "      <td>-0.123913</td>\n",
       "    </tr>\n",
       "    <tr>\n",
       "      <th>8</th>\n",
       "      <td>-0.330251</td>\n",
       "      <td>0.761455</td>\n",
       "      <td>0.811862</td>\n",
       "      <td>0.847655</td>\n",
       "      <td>0.859423</td>\n",
       "      <td>-0.472276</td>\n",
       "      <td>0.907433</td>\n",
       "      <td>0.932560</td>\n",
       "      <td>1.000000</td>\n",
       "      <td>0.943989</td>\n",
       "      <td>...</td>\n",
       "      <td>0.018078</td>\n",
       "      <td>-0.031165</td>\n",
       "      <td>0.075607</td>\n",
       "      <td>0.093697</td>\n",
       "      <td>-0.219488</td>\n",
       "      <td>0.171264</td>\n",
       "      <td>0.543836</td>\n",
       "      <td>0.482647</td>\n",
       "      <td>0.665830</td>\n",
       "      <td>-0.151268</td>\n",
       "    </tr>\n",
       "    <tr>\n",
       "      <th>9</th>\n",
       "      <td>-0.337118</td>\n",
       "      <td>0.698897</td>\n",
       "      <td>0.758427</td>\n",
       "      <td>0.794100</td>\n",
       "      <td>0.845383</td>\n",
       "      <td>-0.552160</td>\n",
       "      <td>0.831543</td>\n",
       "      <td>0.908205</td>\n",
       "      <td>0.943989</td>\n",
       "      <td>1.000000</td>\n",
       "      <td>...</td>\n",
       "      <td>-0.032871</td>\n",
       "      <td>-0.085874</td>\n",
       "      <td>0.028694</td>\n",
       "      <td>0.060005</td>\n",
       "      <td>-0.234161</td>\n",
       "      <td>0.119455</td>\n",
       "      <td>0.501147</td>\n",
       "      <td>0.442224</td>\n",
       "      <td>0.684361</td>\n",
       "      <td>-0.223539</td>\n",
       "    </tr>\n",
       "    <tr>\n",
       "      <th>10</th>\n",
       "      <td>0.158810</td>\n",
       "      <td>-0.117864</td>\n",
       "      <td>-0.173874</td>\n",
       "      <td>-0.181876</td>\n",
       "      <td>-0.268627</td>\n",
       "      <td>0.810033</td>\n",
       "      <td>-0.266774</td>\n",
       "      <td>-0.411743</td>\n",
       "      <td>-0.298899</td>\n",
       "      <td>-0.415819</td>\n",
       "      <td>...</td>\n",
       "      <td>0.172424</td>\n",
       "      <td>0.339364</td>\n",
       "      <td>0.258077</td>\n",
       "      <td>0.241686</td>\n",
       "      <td>0.257363</td>\n",
       "      <td>0.353545</td>\n",
       "      <td>0.073753</td>\n",
       "      <td>0.160579</td>\n",
       "      <td>-0.143636</td>\n",
       "      <td>0.196309</td>\n",
       "    </tr>\n",
       "    <tr>\n",
       "      <th>11</th>\n",
       "      <td>-0.124402</td>\n",
       "      <td>0.529065</td>\n",
       "      <td>0.513937</td>\n",
       "      <td>0.553405</td>\n",
       "      <td>0.561676</td>\n",
       "      <td>-0.585445</td>\n",
       "      <td>0.770648</td>\n",
       "      <td>0.720229</td>\n",
       "      <td>0.737179</td>\n",
       "      <td>0.682630</td>\n",
       "      <td>...</td>\n",
       "      <td>-0.085672</td>\n",
       "      <td>-0.249851</td>\n",
       "      <td>-0.134878</td>\n",
       "      <td>-0.105217</td>\n",
       "      <td>-0.170001</td>\n",
       "      <td>-0.027490</td>\n",
       "      <td>0.279414</td>\n",
       "      <td>0.187230</td>\n",
       "      <td>0.418842</td>\n",
       "      <td>-0.143145</td>\n",
       "    </tr>\n",
       "    <tr>\n",
       "      <th>12</th>\n",
       "      <td>-0.147855</td>\n",
       "      <td>0.483138</td>\n",
       "      <td>0.535413</td>\n",
       "      <td>0.568791</td>\n",
       "      <td>0.591743</td>\n",
       "      <td>-0.682370</td>\n",
       "      <td>0.713031</td>\n",
       "      <td>0.778024</td>\n",
       "      <td>0.758241</td>\n",
       "      <td>0.735059</td>\n",
       "      <td>...</td>\n",
       "      <td>-0.113462</td>\n",
       "      <td>-0.268037</td>\n",
       "      <td>-0.147553</td>\n",
       "      <td>-0.113101</td>\n",
       "      <td>-0.196659</td>\n",
       "      <td>-0.075598</td>\n",
       "      <td>0.278137</td>\n",
       "      <td>0.185018</td>\n",
       "      <td>0.441692</td>\n",
       "      <td>-0.166311</td>\n",
       "    </tr>\n",
       "    <tr>\n",
       "      <th>13</th>\n",
       "      <td>-0.099708</td>\n",
       "      <td>0.484975</td>\n",
       "      <td>0.529475</td>\n",
       "      <td>0.577886</td>\n",
       "      <td>0.586541</td>\n",
       "      <td>-0.561592</td>\n",
       "      <td>0.715366</td>\n",
       "      <td>0.739318</td>\n",
       "      <td>0.771376</td>\n",
       "      <td>0.709433</td>\n",
       "      <td>...</td>\n",
       "      <td>-0.068817</td>\n",
       "      <td>-0.205933</td>\n",
       "      <td>-0.088721</td>\n",
       "      <td>-0.059877</td>\n",
       "      <td>-0.159028</td>\n",
       "      <td>-0.010651</td>\n",
       "      <td>0.315914</td>\n",
       "      <td>0.237315</td>\n",
       "      <td>0.452891</td>\n",
       "      <td>-0.138312</td>\n",
       "    </tr>\n",
       "    <tr>\n",
       "      <th>14</th>\n",
       "      <td>-0.149763</td>\n",
       "      <td>0.489248</td>\n",
       "      <td>0.546332</td>\n",
       "      <td>0.586287</td>\n",
       "      <td>0.615175</td>\n",
       "      <td>-0.647394</td>\n",
       "      <td>0.703839</td>\n",
       "      <td>0.767388</td>\n",
       "      <td>0.763546</td>\n",
       "      <td>0.739448</td>\n",
       "      <td>...</td>\n",
       "      <td>-0.101243</td>\n",
       "      <td>-0.240117</td>\n",
       "      <td>-0.117996</td>\n",
       "      <td>-0.077976</td>\n",
       "      <td>-0.203002</td>\n",
       "      <td>-0.048403</td>\n",
       "      <td>0.306761</td>\n",
       "      <td>0.219823</td>\n",
       "      <td>0.472597</td>\n",
       "      <td>-0.165509</td>\n",
       "    </tr>\n",
       "    <tr>\n",
       "      <th>15</th>\n",
       "      <td>-0.056342</td>\n",
       "      <td>-0.003830</td>\n",
       "      <td>-0.004094</td>\n",
       "      <td>-0.030815</td>\n",
       "      <td>-0.082166</td>\n",
       "      <td>0.137198</td>\n",
       "      <td>-0.071436</td>\n",
       "      <td>-0.104597</td>\n",
       "      <td>-0.137853</td>\n",
       "      <td>-0.219778</td>\n",
       "      <td>...</td>\n",
       "      <td>0.066361</td>\n",
       "      <td>0.084915</td>\n",
       "      <td>0.009586</td>\n",
       "      <td>-0.015933</td>\n",
       "      <td>0.043471</td>\n",
       "      <td>-0.001732</td>\n",
       "      <td>-0.066280</td>\n",
       "      <td>-0.051492</td>\n",
       "      <td>-0.208284</td>\n",
       "      <td>0.861807</td>\n",
       "    </tr>\n",
       "    <tr>\n",
       "      <th>16</th>\n",
       "      <td>-0.038088</td>\n",
       "      <td>-0.026486</td>\n",
       "      <td>-0.023957</td>\n",
       "      <td>-0.052619</td>\n",
       "      <td>-0.101973</td>\n",
       "      <td>0.163644</td>\n",
       "      <td>-0.094787</td>\n",
       "      <td>-0.129478</td>\n",
       "      <td>-0.159332</td>\n",
       "      <td>-0.243112</td>\n",
       "      <td>...</td>\n",
       "      <td>0.095443</td>\n",
       "      <td>0.119410</td>\n",
       "      <td>0.034021</td>\n",
       "      <td>0.002725</td>\n",
       "      <td>0.048785</td>\n",
       "      <td>0.009335</td>\n",
       "      <td>-0.072684</td>\n",
       "      <td>-0.054798</td>\n",
       "      <td>-0.225298</td>\n",
       "      <td>0.872880</td>\n",
       "    </tr>\n",
       "    <tr>\n",
       "      <th>17</th>\n",
       "      <td>-0.035320</td>\n",
       "      <td>-0.031478</td>\n",
       "      <td>-0.025830</td>\n",
       "      <td>-0.055538</td>\n",
       "      <td>-0.104986</td>\n",
       "      <td>0.170552</td>\n",
       "      <td>-0.101615</td>\n",
       "      <td>-0.133878</td>\n",
       "      <td>-0.164090</td>\n",
       "      <td>-0.249376</td>\n",
       "      <td>...</td>\n",
       "      <td>0.101952</td>\n",
       "      <td>0.129932</td>\n",
       "      <td>0.041510</td>\n",
       "      <td>0.008380</td>\n",
       "      <td>0.049129</td>\n",
       "      <td>0.010556</td>\n",
       "      <td>-0.071676</td>\n",
       "      <td>-0.053733</td>\n",
       "      <td>-0.228301</td>\n",
       "      <td>0.874491</td>\n",
       "    </tr>\n",
       "    <tr>\n",
       "      <th>18</th>\n",
       "      <td>-0.040848</td>\n",
       "      <td>-0.034309</td>\n",
       "      <td>-0.030293</td>\n",
       "      <td>-0.061646</td>\n",
       "      <td>-0.115186</td>\n",
       "      <td>0.177820</td>\n",
       "      <td>-0.111749</td>\n",
       "      <td>-0.145352</td>\n",
       "      <td>-0.178908</td>\n",
       "      <td>-0.267817</td>\n",
       "      <td>...</td>\n",
       "      <td>0.095001</td>\n",
       "      <td>0.125123</td>\n",
       "      <td>0.034272</td>\n",
       "      <td>0.001827</td>\n",
       "      <td>0.050466</td>\n",
       "      <td>0.008363</td>\n",
       "      <td>-0.078706</td>\n",
       "      <td>-0.059785</td>\n",
       "      <td>-0.242159</td>\n",
       "      <td>0.876847</td>\n",
       "    </tr>\n",
       "    <tr>\n",
       "      <th>19</th>\n",
       "      <td>-0.042883</td>\n",
       "      <td>-0.039096</td>\n",
       "      <td>-0.035301</td>\n",
       "      <td>-0.068429</td>\n",
       "      <td>-0.124434</td>\n",
       "      <td>0.182561</td>\n",
       "      <td>-0.120753</td>\n",
       "      <td>-0.154788</td>\n",
       "      <td>-0.191699</td>\n",
       "      <td>-0.283563</td>\n",
       "      <td>...</td>\n",
       "      <td>0.092733</td>\n",
       "      <td>0.123852</td>\n",
       "      <td>0.029250</td>\n",
       "      <td>-0.003712</td>\n",
       "      <td>0.051558</td>\n",
       "      <td>0.003987</td>\n",
       "      <td>-0.087355</td>\n",
       "      <td>-0.068270</td>\n",
       "      <td>-0.257016</td>\n",
       "      <td>0.876697</td>\n",
       "    </tr>\n",
       "    <tr>\n",
       "      <th>20</th>\n",
       "      <td>0.114393</td>\n",
       "      <td>0.126767</td>\n",
       "      <td>0.121697</td>\n",
       "      <td>0.161072</td>\n",
       "      <td>0.162721</td>\n",
       "      <td>-0.322171</td>\n",
       "      <td>0.270274</td>\n",
       "      <td>0.285471</td>\n",
       "      <td>0.269007</td>\n",
       "      <td>0.258916</td>\n",
       "      <td>...</td>\n",
       "      <td>0.440173</td>\n",
       "      <td>0.163857</td>\n",
       "      <td>0.220876</td>\n",
       "      <td>0.119418</td>\n",
       "      <td>0.048060</td>\n",
       "      <td>-0.232191</td>\n",
       "      <td>-0.075617</td>\n",
       "      <td>-0.074656</td>\n",
       "      <td>0.070321</td>\n",
       "      <td>-0.060611</td>\n",
       "    </tr>\n",
       "    <tr>\n",
       "      <th>21</th>\n",
       "      <td>0.190948</td>\n",
       "      <td>0.037783</td>\n",
       "      <td>0.024034</td>\n",
       "      <td>0.025673</td>\n",
       "      <td>0.003528</td>\n",
       "      <td>0.296577</td>\n",
       "      <td>0.012670</td>\n",
       "      <td>-0.033577</td>\n",
       "      <td>0.018078</td>\n",
       "      <td>-0.032871</td>\n",
       "      <td>...</td>\n",
       "      <td>1.000000</td>\n",
       "      <td>0.902930</td>\n",
       "      <td>0.830772</td>\n",
       "      <td>0.687120</td>\n",
       "      <td>0.124213</td>\n",
       "      <td>0.298422</td>\n",
       "      <td>0.169713</td>\n",
       "      <td>0.235541</td>\n",
       "      <td>0.076842</td>\n",
       "      <td>0.062404</td>\n",
       "    </tr>\n",
       "    <tr>\n",
       "      <th>22</th>\n",
       "      <td>0.136024</td>\n",
       "      <td>0.033131</td>\n",
       "      <td>0.039953</td>\n",
       "      <td>0.025272</td>\n",
       "      <td>-0.001423</td>\n",
       "      <td>0.430898</td>\n",
       "      <td>-0.059586</td>\n",
       "      <td>-0.086929</td>\n",
       "      <td>-0.031165</td>\n",
       "      <td>-0.085874</td>\n",
       "      <td>...</td>\n",
       "      <td>0.902930</td>\n",
       "      <td>1.000000</td>\n",
       "      <td>0.914817</td>\n",
       "      <td>0.794276</td>\n",
       "      <td>0.104651</td>\n",
       "      <td>0.408910</td>\n",
       "      <td>0.272145</td>\n",
       "      <td>0.335728</td>\n",
       "      <td>0.112856</td>\n",
       "      <td>0.084759</td>\n",
       "    </tr>\n",
       "    <tr>\n",
       "      <th>23</th>\n",
       "      <td>0.122808</td>\n",
       "      <td>0.101049</td>\n",
       "      <td>0.103246</td>\n",
       "      <td>0.104607</td>\n",
       "      <td>0.081839</td>\n",
       "      <td>0.331304</td>\n",
       "      <td>0.034875</td>\n",
       "      <td>0.011952</td>\n",
       "      <td>0.075607</td>\n",
       "      <td>0.028694</td>\n",
       "      <td>...</td>\n",
       "      <td>0.830772</td>\n",
       "      <td>0.914817</td>\n",
       "      <td>1.000000</td>\n",
       "      <td>0.929545</td>\n",
       "      <td>0.074431</td>\n",
       "      <td>0.396372</td>\n",
       "      <td>0.313103</td>\n",
       "      <td>0.375541</td>\n",
       "      <td>0.212936</td>\n",
       "      <td>0.004345</td>\n",
       "    </tr>\n",
       "    <tr>\n",
       "      <th>24</th>\n",
       "      <td>0.065186</td>\n",
       "      <td>0.117518</td>\n",
       "      <td>0.125152</td>\n",
       "      <td>0.122878</td>\n",
       "      <td>0.107560</td>\n",
       "      <td>0.272398</td>\n",
       "      <td>0.048645</td>\n",
       "      <td>0.038497</td>\n",
       "      <td>0.093697</td>\n",
       "      <td>0.060005</td>\n",
       "      <td>...</td>\n",
       "      <td>0.687120</td>\n",
       "      <td>0.794276</td>\n",
       "      <td>0.929545</td>\n",
       "      <td>1.000000</td>\n",
       "      <td>0.041466</td>\n",
       "      <td>0.396564</td>\n",
       "      <td>0.332437</td>\n",
       "      <td>0.380154</td>\n",
       "      <td>0.250516</td>\n",
       "      <td>-0.019246</td>\n",
       "    </tr>\n",
       "    <tr>\n",
       "      <th>25</th>\n",
       "      <td>0.373229</td>\n",
       "      <td>-0.299864</td>\n",
       "      <td>-0.323323</td>\n",
       "      <td>-0.293488</td>\n",
       "      <td>-0.310494</td>\n",
       "      <td>0.380050</td>\n",
       "      <td>-0.249331</td>\n",
       "      <td>-0.307913</td>\n",
       "      <td>-0.219488</td>\n",
       "      <td>-0.234161</td>\n",
       "      <td>...</td>\n",
       "      <td>0.124213</td>\n",
       "      <td>0.104651</td>\n",
       "      <td>0.074431</td>\n",
       "      <td>0.041466</td>\n",
       "      <td>1.000000</td>\n",
       "      <td>0.232782</td>\n",
       "      <td>-0.261946</td>\n",
       "      <td>0.071396</td>\n",
       "      <td>-0.191790</td>\n",
       "      <td>0.041644</td>\n",
       "    </tr>\n",
       "    <tr>\n",
       "      <th>26</th>\n",
       "      <td>-0.007675</td>\n",
       "      <td>0.230072</td>\n",
       "      <td>0.223069</td>\n",
       "      <td>0.205299</td>\n",
       "      <td>0.183024</td>\n",
       "      <td>0.304873</td>\n",
       "      <td>0.155082</td>\n",
       "      <td>0.101866</td>\n",
       "      <td>0.171264</td>\n",
       "      <td>0.119455</td>\n",
       "      <td>...</td>\n",
       "      <td>0.298422</td>\n",
       "      <td>0.408910</td>\n",
       "      <td>0.396372</td>\n",
       "      <td>0.396564</td>\n",
       "      <td>0.232782</td>\n",
       "      <td>1.000000</td>\n",
       "      <td>0.708901</td>\n",
       "      <td>0.823185</td>\n",
       "      <td>0.532819</td>\n",
       "      <td>-0.008215</td>\n",
       "    </tr>\n",
       "    <tr>\n",
       "      <th>27</th>\n",
       "      <td>-0.265050</td>\n",
       "      <td>0.574325</td>\n",
       "      <td>0.618023</td>\n",
       "      <td>0.600490</td>\n",
       "      <td>0.594893</td>\n",
       "      <td>-0.098735</td>\n",
       "      <td>0.506382</td>\n",
       "      <td>0.533962</td>\n",
       "      <td>0.543836</td>\n",
       "      <td>0.501147</td>\n",
       "      <td>...</td>\n",
       "      <td>0.169713</td>\n",
       "      <td>0.272145</td>\n",
       "      <td>0.313103</td>\n",
       "      <td>0.332437</td>\n",
       "      <td>-0.261946</td>\n",
       "      <td>0.708901</td>\n",
       "      <td>1.000000</td>\n",
       "      <td>0.874354</td>\n",
       "      <td>0.849048</td>\n",
       "      <td>-0.076951</td>\n",
       "    </tr>\n",
       "    <tr>\n",
       "      <th>28</th>\n",
       "      <td>-0.169739</td>\n",
       "      <td>0.492662</td>\n",
       "      <td>0.530604</td>\n",
       "      <td>0.530118</td>\n",
       "      <td>0.520711</td>\n",
       "      <td>0.037104</td>\n",
       "      <td>0.424138</td>\n",
       "      <td>0.435920</td>\n",
       "      <td>0.482647</td>\n",
       "      <td>0.442224</td>\n",
       "      <td>...</td>\n",
       "      <td>0.235541</td>\n",
       "      <td>0.335728</td>\n",
       "      <td>0.375541</td>\n",
       "      <td>0.380154</td>\n",
       "      <td>0.071396</td>\n",
       "      <td>0.823185</td>\n",
       "      <td>0.874354</td>\n",
       "      <td>1.000000</td>\n",
       "      <td>0.845271</td>\n",
       "      <td>-0.066206</td>\n",
       "    </tr>\n",
       "    <tr>\n",
       "      <th>29</th>\n",
       "      <td>-0.264249</td>\n",
       "      <td>0.600995</td>\n",
       "      <td>0.646819</td>\n",
       "      <td>0.662744</td>\n",
       "      <td>0.697668</td>\n",
       "      <td>-0.284996</td>\n",
       "      <td>0.595169</td>\n",
       "      <td>0.644599</td>\n",
       "      <td>0.665830</td>\n",
       "      <td>0.684361</td>\n",
       "      <td>...</td>\n",
       "      <td>0.076842</td>\n",
       "      <td>0.112856</td>\n",
       "      <td>0.212936</td>\n",
       "      <td>0.250516</td>\n",
       "      <td>-0.191790</td>\n",
       "      <td>0.532819</td>\n",
       "      <td>0.849048</td>\n",
       "      <td>0.845271</td>\n",
       "      <td>1.000000</td>\n",
       "      <td>-0.214257</td>\n",
       "    </tr>\n",
       "    <tr>\n",
       "      <th>30</th>\n",
       "      <td>-0.038321</td>\n",
       "      <td>-0.035206</td>\n",
       "      <td>-0.030843</td>\n",
       "      <td>-0.057057</td>\n",
       "      <td>-0.100016</td>\n",
       "      <td>0.143222</td>\n",
       "      <td>-0.095141</td>\n",
       "      <td>-0.123913</td>\n",
       "      <td>-0.151268</td>\n",
       "      <td>-0.223539</td>\n",
       "      <td>...</td>\n",
       "      <td>0.062404</td>\n",
       "      <td>0.084759</td>\n",
       "      <td>0.004345</td>\n",
       "      <td>-0.019246</td>\n",
       "      <td>0.041644</td>\n",
       "      <td>-0.008215</td>\n",
       "      <td>-0.076951</td>\n",
       "      <td>-0.066206</td>\n",
       "      <td>-0.214257</td>\n",
       "      <td>1.000000</td>\n",
       "    </tr>\n",
       "  </tbody>\n",
       "</table>\n",
       "<p>31 rows × 31 columns</p>\n",
       "</div>"
      ],
      "text/plain": [
       "          0         1         2         3         4         5         6   \\\n",
       "0   1.000000 -0.455118 -0.580124 -0.443235 -0.497289  0.493684 -0.403528   \n",
       "1  -0.455118  1.000000  0.916599  0.927931  0.878158 -0.399705  0.856344   \n",
       "2  -0.580124  0.916599  1.000000  0.965013  0.955924 -0.464752  0.823747   \n",
       "3  -0.443235  0.927931  0.965013  1.000000  0.966011 -0.445237  0.836009   \n",
       "4  -0.497289  0.878158  0.955924  0.966011  1.000000 -0.510134  0.829382   \n",
       "5   0.493684 -0.399705 -0.464752 -0.445237 -0.510134  1.000000 -0.491375   \n",
       "6  -0.403528  0.856344  0.823747  0.836009  0.829382 -0.491375  1.000000   \n",
       "7  -0.467211  0.808258  0.878110  0.874683  0.891161 -0.640733  0.904312   \n",
       "8  -0.330251  0.761455  0.811862  0.847655  0.859423 -0.472276  0.907433   \n",
       "9  -0.337118  0.698897  0.758427  0.794100  0.845383 -0.552160  0.831543   \n",
       "10  0.158810 -0.117864 -0.173874 -0.181876 -0.268627  0.810033 -0.266774   \n",
       "11 -0.124402  0.529065  0.513937  0.553405  0.561676 -0.585445  0.770648   \n",
       "12 -0.147855  0.483138  0.535413  0.568791  0.591743 -0.682370  0.713031   \n",
       "13 -0.099708  0.484975  0.529475  0.577886  0.586541 -0.561592  0.715366   \n",
       "14 -0.149763  0.489248  0.546332  0.586287  0.615175 -0.647394  0.703839   \n",
       "15 -0.056342 -0.003830 -0.004094 -0.030815 -0.082166  0.137198 -0.071436   \n",
       "16 -0.038088 -0.026486 -0.023957 -0.052619 -0.101973  0.163644 -0.094787   \n",
       "17 -0.035320 -0.031478 -0.025830 -0.055538 -0.104986  0.170552 -0.101615   \n",
       "18 -0.040848 -0.034309 -0.030293 -0.061646 -0.115186  0.177820 -0.111749   \n",
       "19 -0.042883 -0.039096 -0.035301 -0.068429 -0.124434  0.182561 -0.120753   \n",
       "20  0.114393  0.126767  0.121697  0.161072  0.162721 -0.322171  0.270274   \n",
       "21  0.190948  0.037783  0.024034  0.025673  0.003528  0.296577  0.012670   \n",
       "22  0.136024  0.033131  0.039953  0.025272 -0.001423  0.430898 -0.059586   \n",
       "23  0.122808  0.101049  0.103246  0.104607  0.081839  0.331304  0.034875   \n",
       "24  0.065186  0.117518  0.125152  0.122878  0.107560  0.272398  0.048645   \n",
       "25  0.373229 -0.299864 -0.323323 -0.293488 -0.310494  0.380050 -0.249331   \n",
       "26 -0.007675  0.230072  0.223069  0.205299  0.183024  0.304873  0.155082   \n",
       "27 -0.265050  0.574325  0.618023  0.600490  0.594893 -0.098735  0.506382   \n",
       "28 -0.169739  0.492662  0.530604  0.530118  0.520711  0.037104  0.424138   \n",
       "29 -0.264249  0.600995  0.646819  0.662744  0.697668 -0.284996  0.595169   \n",
       "30 -0.038321 -0.035206 -0.030843 -0.057057 -0.100016  0.143222 -0.095141   \n",
       "\n",
       "          7         8         9   ...        21        22        23        24  \\\n",
       "0  -0.467211 -0.330251 -0.337118  ...  0.190948  0.136024  0.122808  0.065186   \n",
       "1   0.808258  0.761455  0.698897  ...  0.037783  0.033131  0.101049  0.117518   \n",
       "2   0.878110  0.811862  0.758427  ...  0.024034  0.039953  0.103246  0.125152   \n",
       "3   0.874683  0.847655  0.794100  ...  0.025673  0.025272  0.104607  0.122878   \n",
       "4   0.891161  0.859423  0.845383  ...  0.003528 -0.001423  0.081839  0.107560   \n",
       "5  -0.640733 -0.472276 -0.552160  ...  0.296577  0.430898  0.331304  0.272398   \n",
       "6   0.904312  0.907433  0.831543  ...  0.012670 -0.059586  0.034875  0.048645   \n",
       "7   1.000000  0.932560  0.908205  ... -0.033577 -0.086929  0.011952  0.038497   \n",
       "8   0.932560  1.000000  0.943989  ...  0.018078 -0.031165  0.075607  0.093697   \n",
       "9   0.908205  0.943989  1.000000  ... -0.032871 -0.085874  0.028694  0.060005   \n",
       "10 -0.411743 -0.298899 -0.415819  ...  0.172424  0.339364  0.258077  0.241686   \n",
       "11  0.720229  0.737179  0.682630  ... -0.085672 -0.249851 -0.134878 -0.105217   \n",
       "12  0.778024  0.758241  0.735059  ... -0.113462 -0.268037 -0.147553 -0.113101   \n",
       "13  0.739318  0.771376  0.709433  ... -0.068817 -0.205933 -0.088721 -0.059877   \n",
       "14  0.767388  0.763546  0.739448  ... -0.101243 -0.240117 -0.117996 -0.077976   \n",
       "15 -0.104597 -0.137853 -0.219778  ...  0.066361  0.084915  0.009586 -0.015933   \n",
       "16 -0.129478 -0.159332 -0.243112  ...  0.095443  0.119410  0.034021  0.002725   \n",
       "17 -0.133878 -0.164090 -0.249376  ...  0.101952  0.129932  0.041510  0.008380   \n",
       "18 -0.145352 -0.178908 -0.267817  ...  0.095001  0.125123  0.034272  0.001827   \n",
       "19 -0.154788 -0.191699 -0.283563  ...  0.092733  0.123852  0.029250 -0.003712   \n",
       "20  0.285471  0.269007  0.258916  ...  0.440173  0.163857  0.220876  0.119418   \n",
       "21 -0.033577  0.018078 -0.032871  ...  1.000000  0.902930  0.830772  0.687120   \n",
       "22 -0.086929 -0.031165 -0.085874  ...  0.902930  1.000000  0.914817  0.794276   \n",
       "23  0.011952  0.075607  0.028694  ...  0.830772  0.914817  1.000000  0.929545   \n",
       "24  0.038497  0.093697  0.060005  ...  0.687120  0.794276  0.929545  1.000000   \n",
       "25 -0.307913 -0.219488 -0.234161  ...  0.124213  0.104651  0.074431  0.041466   \n",
       "26  0.101866  0.171264  0.119455  ...  0.298422  0.408910  0.396372  0.396564   \n",
       "27  0.533962  0.543836  0.501147  ...  0.169713  0.272145  0.313103  0.332437   \n",
       "28  0.435920  0.482647  0.442224  ...  0.235541  0.335728  0.375541  0.380154   \n",
       "29  0.644599  0.665830  0.684361  ...  0.076842  0.112856  0.212936  0.250516   \n",
       "30 -0.123913 -0.151268 -0.223539  ...  0.062404  0.084759  0.004345 -0.019246   \n",
       "\n",
       "          25        26        27        28        29        30  \n",
       "0   0.373229 -0.007675 -0.265050 -0.169739 -0.264249 -0.038321  \n",
       "1  -0.299864  0.230072  0.574325  0.492662  0.600995 -0.035206  \n",
       "2  -0.323323  0.223069  0.618023  0.530604  0.646819 -0.030843  \n",
       "3  -0.293488  0.205299  0.600490  0.530118  0.662744 -0.057057  \n",
       "4  -0.310494  0.183024  0.594893  0.520711  0.697668 -0.100016  \n",
       "5   0.380050  0.304873 -0.098735  0.037104 -0.284996  0.143222  \n",
       "6  -0.249331  0.155082  0.506382  0.424138  0.595169 -0.095141  \n",
       "7  -0.307913  0.101866  0.533962  0.435920  0.644599 -0.123913  \n",
       "8  -0.219488  0.171264  0.543836  0.482647  0.665830 -0.151268  \n",
       "9  -0.234161  0.119455  0.501147  0.442224  0.684361 -0.223539  \n",
       "10  0.257363  0.353545  0.073753  0.160579 -0.143636  0.196309  \n",
       "11 -0.170001 -0.027490  0.279414  0.187230  0.418842 -0.143145  \n",
       "12 -0.196659 -0.075598  0.278137  0.185018  0.441692 -0.166311  \n",
       "13 -0.159028 -0.010651  0.315914  0.237315  0.452891 -0.138312  \n",
       "14 -0.203002 -0.048403  0.306761  0.219823  0.472597 -0.165509  \n",
       "15  0.043471 -0.001732 -0.066280 -0.051492 -0.208284  0.861807  \n",
       "16  0.048785  0.009335 -0.072684 -0.054798 -0.225298  0.872880  \n",
       "17  0.049129  0.010556 -0.071676 -0.053733 -0.228301  0.874491  \n",
       "18  0.050466  0.008363 -0.078706 -0.059785 -0.242159  0.876847  \n",
       "19  0.051558  0.003987 -0.087355 -0.068270 -0.257016  0.876697  \n",
       "20  0.048060 -0.232191 -0.075617 -0.074656  0.070321 -0.060611  \n",
       "21  0.124213  0.298422  0.169713  0.235541  0.076842  0.062404  \n",
       "22  0.104651  0.408910  0.272145  0.335728  0.112856  0.084759  \n",
       "23  0.074431  0.396372  0.313103  0.375541  0.212936  0.004345  \n",
       "24  0.041466  0.396564  0.332437  0.380154  0.250516 -0.019246  \n",
       "25  1.000000  0.232782 -0.261946  0.071396 -0.191790  0.041644  \n",
       "26  0.232782  1.000000  0.708901  0.823185  0.532819 -0.008215  \n",
       "27 -0.261946  0.708901  1.000000  0.874354  0.849048 -0.076951  \n",
       "28  0.071396  0.823185  0.874354  1.000000  0.845271 -0.066206  \n",
       "29 -0.191790  0.532819  0.849048  0.845271  1.000000 -0.214257  \n",
       "30  0.041644 -0.008215 -0.076951 -0.066206 -0.214257  1.000000  \n",
       "\n",
       "[31 rows x 31 columns]"
      ]
     },
     "execution_count": 76,
     "metadata": {},
     "output_type": "execute_result"
    }
   ],
   "source": [
    "corr_mat_sample_df = pd.DataFrame(data = corr_mat_sample)"
   ]
  },
  {
   "cell_type": "code",
   "execution_count": 77,
   "metadata": {},
   "outputs": [],
   "source": [
    "corr_mat_sample_df.to_csv(\"E:\\\\Internship_Harvesting\\\\Unsupervised_correlation_matrix\\\\corr_mat.csv\")"
   ]
  },
  {
   "cell_type": "markdown",
   "metadata": {},
   "source": [
    "## doing the same process for another sample but now with 10%"
   ]
  },
  {
   "cell_type": "code",
   "execution_count": 13,
   "metadata": {},
   "outputs": [],
   "source": [
    "a = np.arange(I1B1_non_nan_index.shape[0])\n",
    "\n",
    "a_rand = np.random.choice(a, 3380000)"
   ]
  },
  {
   "cell_type": "code",
   "execution_count": 14,
   "metadata": {},
   "outputs": [
    {
     "data": {
      "text/plain": [
       "array([[2643, 3574],\n",
       "       [ 767, 4965],\n",
       "       [3732, 6427],\n",
       "       ...,\n",
       "       [3759, 5550],\n",
       "       [2416, 2802],\n",
       "       [6447, 2610]], dtype=int64)"
      ]
     },
     "execution_count": 14,
     "metadata": {},
     "output_type": "execute_result"
    }
   ],
   "source": [
    "rand_index = I1B1_non_nan_index[a_rand, :]\n",
    "rand_index"
   ]
  },
  {
   "cell_type": "code",
   "execution_count": 15,
   "metadata": {},
   "outputs": [
    {
     "data": {
      "text/plain": [
       "(3380000, 2)"
      ]
     },
     "execution_count": 15,
     "metadata": {},
     "output_type": "execute_result"
    }
   ],
   "source": [
    "rand_index.shape"
   ]
  },
  {
   "cell_type": "code",
   "execution_count": 16,
   "metadata": {},
   "outputs": [],
   "source": [
    "test_x_sample = np.zeros((1, 3380000))"
   ]
  },
  {
   "cell_type": "code",
   "execution_count": 17,
   "metadata": {},
   "outputs": [
    {
     "name": "stdout",
     "output_type": "stream",
     "text": [
      "E:\\Internship_Harvesting\\Dataset\\Bathinda_Cropland\\Masked_images\\I1B1.tif\n",
      "(8963, 8298)\n",
      "(2, 3380000)\n",
      "***************\n",
      "E:\\Internship_Harvesting\\Dataset\\Bathinda_Cropland\\Masked_images\\I1B2.tif\n",
      "(8963, 8298)\n",
      "(3, 3380000)\n",
      "***************\n",
      "E:\\Internship_Harvesting\\Dataset\\Bathinda_Cropland\\Masked_images\\I1B3.tif\n",
      "(8963, 8298)\n",
      "(4, 3380000)\n",
      "***************\n",
      "E:\\Internship_Harvesting\\Dataset\\Bathinda_Cropland\\Masked_images\\I1B4.tif\n",
      "(8963, 8298)\n",
      "(5, 3380000)\n",
      "***************\n",
      "E:\\Internship_Harvesting\\Dataset\\Bathinda_Cropland\\Masked_images\\I1B5.tif\n",
      "(8963, 8298)\n",
      "(6, 3380000)\n",
      "***************\n",
      "E:\\Internship_Harvesting\\Dataset\\Bathinda_Cropland\\Masked_images\\I2B1.tif\n",
      "(8963, 8298)\n",
      "(7, 3380000)\n",
      "***************\n",
      "E:\\Internship_Harvesting\\Dataset\\Bathinda_Cropland\\Masked_images\\I2B2.tif\n",
      "(8963, 8298)\n",
      "(8, 3380000)\n",
      "***************\n",
      "E:\\Internship_Harvesting\\Dataset\\Bathinda_Cropland\\Masked_images\\I2B3.tif\n",
      "(8963, 8298)\n",
      "(9, 3380000)\n",
      "***************\n",
      "E:\\Internship_Harvesting\\Dataset\\Bathinda_Cropland\\Masked_images\\I2B4.tif\n",
      "(8963, 8298)\n",
      "(10, 3380000)\n",
      "***************\n",
      "E:\\Internship_Harvesting\\Dataset\\Bathinda_Cropland\\Masked_images\\I2B5.tif\n",
      "(8963, 8298)\n",
      "(11, 3380000)\n",
      "***************\n",
      "E:\\Internship_Harvesting\\Dataset\\Bathinda_Cropland\\Masked_images\\I3B1.tif\n",
      "(8963, 8298)\n",
      "(12, 3380000)\n",
      "***************\n",
      "E:\\Internship_Harvesting\\Dataset\\Bathinda_Cropland\\Masked_images\\I3B2.tif\n",
      "(8963, 8298)\n",
      "(13, 3380000)\n",
      "***************\n",
      "E:\\Internship_Harvesting\\Dataset\\Bathinda_Cropland\\Masked_images\\I3B3.tif\n",
      "(8963, 8298)\n",
      "(14, 3380000)\n",
      "***************\n",
      "E:\\Internship_Harvesting\\Dataset\\Bathinda_Cropland\\Masked_images\\I3B4.tif\n",
      "(8963, 8298)\n",
      "(15, 3380000)\n",
      "***************\n",
      "E:\\Internship_Harvesting\\Dataset\\Bathinda_Cropland\\Masked_images\\I3B5.tif\n",
      "(8963, 8298)\n",
      "(16, 3380000)\n",
      "***************\n",
      "E:\\Internship_Harvesting\\Dataset\\Bathinda_Cropland\\Masked_images\\I4B1.tif\n",
      "(8963, 8298)\n",
      "(17, 3380000)\n",
      "***************\n",
      "E:\\Internship_Harvesting\\Dataset\\Bathinda_Cropland\\Masked_images\\I4B2.tif\n",
      "(8963, 8298)\n",
      "(18, 3380000)\n",
      "***************\n",
      "E:\\Internship_Harvesting\\Dataset\\Bathinda_Cropland\\Masked_images\\I4B3.tif\n",
      "(8963, 8298)\n",
      "(19, 3380000)\n",
      "***************\n",
      "E:\\Internship_Harvesting\\Dataset\\Bathinda_Cropland\\Masked_images\\I4B4.tif\n",
      "(8963, 8298)\n",
      "(20, 3380000)\n",
      "***************\n",
      "E:\\Internship_Harvesting\\Dataset\\Bathinda_Cropland\\Masked_images\\I4B5.tif\n",
      "(8963, 8298)\n",
      "(21, 3380000)\n",
      "***************\n",
      "E:\\Internship_Harvesting\\Dataset\\Bathinda_Cropland\\Masked_images\\I5B1.tif\n",
      "(8963, 8298)\n",
      "(22, 3380000)\n",
      "***************\n",
      "E:\\Internship_Harvesting\\Dataset\\Bathinda_Cropland\\Masked_images\\I5B2.tif\n",
      "(8963, 8298)\n",
      "(23, 3380000)\n",
      "***************\n",
      "E:\\Internship_Harvesting\\Dataset\\Bathinda_Cropland\\Masked_images\\I5B3.tif\n",
      "(8963, 8298)\n",
      "(24, 3380000)\n",
      "***************\n",
      "E:\\Internship_Harvesting\\Dataset\\Bathinda_Cropland\\Masked_images\\I5B4.tif\n",
      "(8963, 8298)\n",
      "(25, 3380000)\n",
      "***************\n",
      "E:\\Internship_Harvesting\\Dataset\\Bathinda_Cropland\\Masked_images\\I5B5.tif\n",
      "(8963, 8298)\n",
      "(26, 3380000)\n",
      "***************\n",
      "E:\\Internship_Harvesting\\Dataset\\Bathinda_Cropland\\Masked_images\\I6B1.tif\n",
      "(8963, 8298)\n",
      "(27, 3380000)\n",
      "***************\n",
      "E:\\Internship_Harvesting\\Dataset\\Bathinda_Cropland\\Masked_images\\I6B2.tif\n",
      "(8963, 8298)\n",
      "(28, 3380000)\n",
      "***************\n",
      "E:\\Internship_Harvesting\\Dataset\\Bathinda_Cropland\\Masked_images\\I6B3.tif\n",
      "(8963, 8298)\n",
      "(29, 3380000)\n",
      "***************\n",
      "E:\\Internship_Harvesting\\Dataset\\Bathinda_Cropland\\Masked_images\\I6B4.tif\n",
      "(8963, 8298)\n",
      "(30, 3380000)\n",
      "***************\n",
      "E:\\Internship_Harvesting\\Dataset\\Bathinda_Cropland\\Masked_images\\I6B5.tif\n",
      "(8963, 8298)\n",
      "(31, 3380000)\n",
      "***************\n"
     ]
    }
   ],
   "source": [
    "for p in path:\n",
    "    print(p)\n",
    "    \n",
    "    image = gdal.Open(p)\n",
    "    \n",
    "    image_array = image.GetRasterBand(1).ReadAsArray()\n",
    "    print(image_array.shape)\n",
    "    sample = []\n",
    "    \n",
    "    for i in range(rand_index.shape[0]):\n",
    "        sample.append(image_array[rand_index[i,0], rand_index[i,1]])\n",
    "        \n",
    "    sample = np.array(sample)\n",
    "    \n",
    "    sample = sample.reshape(1, 3380000)\n",
    "        \n",
    "    test_x_sample = np.concatenate((sample, test_x_sample), axis = 0)\n",
    "    \n",
    "    print(test_x_sample.shape)\n",
    "    \n",
    "    print(\"***************\")\n",
    "    "
   ]
  },
  {
   "cell_type": "code",
   "execution_count": 18,
   "metadata": {},
   "outputs": [
    {
     "data": {
      "text/plain": [
       "(3380000, 30)"
      ]
     },
     "execution_count": 18,
     "metadata": {},
     "output_type": "execute_result"
    }
   ],
   "source": [
    "test_x_sample = test_x_sample[:30, :]\n",
    "test_x_sample = test_x_sample.T\n",
    "test_x_sample.shape"
   ]
  },
  {
   "cell_type": "code",
   "execution_count": 19,
   "metadata": {},
   "outputs": [],
   "source": [
    "kmeans = KMeans(n_clusters=2, init='k-means++', max_iter=300, n_init=10, random_state=0)\n",
    "test_y_sample = kmeans.fit_predict(test_x_sample)"
   ]
  },
  {
   "cell_type": "code",
   "execution_count": 20,
   "metadata": {},
   "outputs": [
    {
     "data": {
      "text/plain": [
       "array([0, 1])"
      ]
     },
     "execution_count": 20,
     "metadata": {},
     "output_type": "execute_result"
    }
   ],
   "source": [
    "np.unique(test_y_sample)"
   ]
  },
  {
   "cell_type": "code",
   "execution_count": 21,
   "metadata": {},
   "outputs": [],
   "source": [
    "test_y_sample = test_y_sample.T\n",
    "test_x_sample = test_x_sample.T"
   ]
  },
  {
   "cell_type": "code",
   "execution_count": 22,
   "metadata": {
    "scrolled": true
   },
   "outputs": [
    {
     "data": {
      "text/plain": [
       "((3380000,), (30, 3380000))"
      ]
     },
     "execution_count": 22,
     "metadata": {},
     "output_type": "execute_result"
    }
   ],
   "source": [
    "test_y_sample.shape, test_x_sample.shape"
   ]
  },
  {
   "cell_type": "code",
   "execution_count": 24,
   "metadata": {},
   "outputs": [
    {
     "data": {
      "text/plain": [
       "(1, 3380000)"
      ]
     },
     "execution_count": 24,
     "metadata": {},
     "output_type": "execute_result"
    }
   ],
   "source": [
    "test_y_sample = test_y_sample.reshape(1, 3380000)\n",
    "test_y_sample.shape"
   ]
  },
  {
   "cell_type": "code",
   "execution_count": 25,
   "metadata": {},
   "outputs": [
    {
     "data": {
      "text/plain": [
       "(31, 3380000)"
      ]
     },
     "execution_count": 25,
     "metadata": {},
     "output_type": "execute_result"
    }
   ],
   "source": [
    "test_x_y_sample = np.concatenate((test_x_sample, test_y_sample), axis = 0)\n",
    "test_x_y_sample.shape"
   ]
  },
  {
   "cell_type": "code",
   "execution_count": 26,
   "metadata": {},
   "outputs": [
    {
     "data": {
      "text/plain": [
       "array([[3.1460e+03, 3.2075e+03, 3.5260e+03, ..., 2.5835e+03, 2.6545e+03,\n",
       "        3.5235e+03],\n",
       "       [1.0870e+03, 9.0100e+02, 9.1600e+02, ..., 1.8830e+03, 9.7350e+02,\n",
       "        8.9200e+02],\n",
       "       [7.6950e+02, 6.1050e+02, 5.9000e+02, ..., 1.7395e+03, 6.7500e+02,\n",
       "        5.7550e+02],\n",
       "       ...,\n",
       "       [1.2340e+03, 1.1230e+03, 1.1740e+03, ..., 1.7260e+03, 1.3650e+03,\n",
       "        1.3050e+03],\n",
       "       [1.2490e+03, 1.1330e+03, 1.2120e+03, ..., 1.6620e+03, 1.2980e+03,\n",
       "        1.2630e+03],\n",
       "       [0.0000e+00, 0.0000e+00, 1.0000e+00, ..., 0.0000e+00, 0.0000e+00,\n",
       "        0.0000e+00]])"
      ]
     },
     "execution_count": 26,
     "metadata": {},
     "output_type": "execute_result"
    }
   ],
   "source": [
    "test_x_y_sample"
   ]
  },
  {
   "cell_type": "code",
   "execution_count": 27,
   "metadata": {},
   "outputs": [],
   "source": [
    "# feature normalizing\n",
    "\n",
    "for i in range(test_x_y_sample.shape[0]):\n",
    "    averg = np.mean(test_x_y_sample[i, :])\n",
    "    std_dev = np.std(test_x_y_sample[i, :])\n",
    "    test_x_y_sample[i, :] = (test_x_y_sample[i, :] - averg) / std_dev"
   ]
  },
  {
   "cell_type": "code",
   "execution_count": 28,
   "metadata": {},
   "outputs": [
    {
     "data": {
      "text/plain": [
       "array([[-2.48263675e-01, -1.07242106e-01,  6.23089106e-01, ...,\n",
       "        -1.53809509e+00, -1.37528971e+00,  6.17356522e-01],\n",
       "       [ 5.80737755e-01, -5.67356207e-01, -4.74767984e-01, ...,\n",
       "         5.49408611e+00, -1.19846464e-01, -6.22909141e-01],\n",
       "       [ 4.14644634e-01, -4.11012564e-01, -5.17465222e-01, ...,\n",
       "         5.45167282e+00, -7.60761536e-02, -5.92761004e-01],\n",
       "       ...,\n",
       "       [-8.92756485e-02, -1.20449977e+00, -6.92099499e-01, ...,\n",
       "         4.85387993e+00,  1.22688976e+00,  6.24065908e-01],\n",
       "       [-1.63676071e-01, -1.56068708e+00, -6.09274408e-01, ...,\n",
       "         4.81016483e+00,  4.26440647e-01,  4.92870563e-03],\n",
       "       [-4.83985963e-01, -4.83985963e-01,  2.06617563e+00, ...,\n",
       "        -4.83985963e-01, -4.83985963e-01, -4.83985963e-01]])"
      ]
     },
     "execution_count": 28,
     "metadata": {},
     "output_type": "execute_result"
    }
   ],
   "source": [
    "test_x_y_sample"
   ]
  },
  {
   "cell_type": "code",
   "execution_count": 29,
   "metadata": {},
   "outputs": [
    {
     "data": {
      "text/plain": [
       "(31, 31)"
      ]
     },
     "execution_count": 29,
     "metadata": {},
     "output_type": "execute_result"
    }
   ],
   "source": [
    "corr_mat_sample = np.corrcoef(test_x_y_sample)\n",
    "corr_mat_sample.shape"
   ]
  },
  {
   "cell_type": "code",
   "execution_count": 30,
   "metadata": {},
   "outputs": [],
   "source": [
    "corr_mat_sample_df = pd.DataFrame(data = corr_mat_sample)"
   ]
  },
  {
   "cell_type": "code",
   "execution_count": 33,
   "metadata": {},
   "outputs": [],
   "source": [
    "corr_mat_sample_df.to_csv(\"E:\\\\Internship_Harvesting\\\\Unsupervised_correlation_matrix\\\\corr_mat_10percent.csv\")"
   ]
  },
  {
   "cell_type": "code",
   "execution_count": null,
   "metadata": {},
   "outputs": [],
   "source": []
  }
 ],
 "metadata": {
  "kernelspec": {
   "display_name": "Python 3",
   "language": "python",
   "name": "python3"
  },
  "language_info": {
   "codemirror_mode": {
    "name": "ipython",
    "version": 3
   },
   "file_extension": ".py",
   "mimetype": "text/x-python",
   "name": "python",
   "nbconvert_exporter": "python",
   "pygments_lexer": "ipython3",
   "version": "3.7.7"
  }
 },
 "nbformat": 4,
 "nbformat_minor": 4
}
