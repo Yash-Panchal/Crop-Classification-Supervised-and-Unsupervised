{
 "cells": [
  {
   "cell_type": "code",
   "execution_count": 2,
   "metadata": {},
   "outputs": [],
   "source": [
    "import shapefile"
   ]
  },
  {
   "cell_type": "code",
   "execution_count": 5,
   "metadata": {},
   "outputs": [],
   "source": [
    "sf = shapefile.Reader(\"Bathinda\\Wheat_points_Bathinda.shp\")"
   ]
  },
  {
   "cell_type": "code",
   "execution_count": 6,
   "metadata": {},
   "outputs": [
    {
     "name": "stdout",
     "output_type": "stream",
     "text": [
      "shapefile Reader\n",
      "    161 shapes (type 'POINT')\n",
      "    161 records (2 fields)\n"
     ]
    }
   ],
   "source": [
    "print(sf)"
   ]
  },
  {
   "cell_type": "code",
   "execution_count": 7,
   "metadata": {},
   "outputs": [],
   "source": [
    "myshp = open(\"Bathinda\\Wheat_points_Bathinda.shp\", \"rb\")\n",
    "mydbf = open(\"Bathinda\\Wheat_points_Bathinda.dbf\", \"rb\")\n",
    "r = shapefile.Reader(shp=myshp, dbf=mydbf)"
   ]
  },
  {
   "cell_type": "code",
   "execution_count": 8,
   "metadata": {},
   "outputs": [
    {
     "name": "stdout",
     "output_type": "stream",
     "text": [
      "shapefile Reader\n",
      "    161 shapes (type 'POINT')\n",
      "    161 records (2 fields)\n"
     ]
    }
   ],
   "source": [
    "print(r)"
   ]
  },
  {
   "cell_type": "code",
   "execution_count": 11,
   "metadata": {},
   "outputs": [
    {
     "data": {
      "text/plain": [
       "1"
      ]
     },
     "execution_count": 11,
     "metadata": {},
     "output_type": "execute_result"
    }
   ],
   "source": [
    "# Shape types are represented by numbers between 0 and 31 as defined by the shapefile specification and listed below. \n",
    "# It is important to note that the numbering system has several reserved numbers that have not been used yet,\n",
    "# therefore the numbers of the existing shape types are not sequential:\n",
    "\n",
    "# NULL = 0\n",
    "# POINT = 1\n",
    "# POLYLINE = 3\n",
    "# POLYGON = 5\n",
    "# MULTIPOINT = 8\n",
    "# POINTZ = 11\n",
    "# POLYLINEZ = 13\n",
    "# POLYGONZ = 15\n",
    "# MULTIPOINTZ = 18\n",
    "# POINTM = 21\n",
    "# POLYLINEM = 23\n",
    "# POLYGONM = 25\n",
    "# MULTIPOINTM = 28\n",
    "# MULTIPATCH = 31\n",
    "\n",
    "r.shapeType"
   ]
  },
  {
   "cell_type": "code",
   "execution_count": 12,
   "metadata": {},
   "outputs": [
    {
     "data": {
      "text/plain": [
       "161"
      ]
     },
     "execution_count": 12,
     "metadata": {},
     "output_type": "execute_result"
    }
   ],
   "source": [
    "len(sf)"
   ]
  },
  {
   "cell_type": "code",
   "execution_count": 13,
   "metadata": {},
   "outputs": [
    {
     "data": {
      "text/plain": [
       "[74.70965805089659, 30.05653705562903, 75.33445668647444, 30.574962759523007]"
      ]
     },
     "execution_count": 13,
     "metadata": {},
     "output_type": "execute_result"
    }
   ],
   "source": [
    "# bounding box area the shapefile covers\n",
    "\n",
    "sf.bbox"
   ]
  },
  {
   "cell_type": "code",
   "execution_count": 24,
   "metadata": {
    "collapsed": true
   },
   "outputs": [
    {
     "data": {
      "text/plain": [
       "Shapes: [<shapefile.Shape object at 0x00000151A27984C8>, <shapefile.Shape object at 0x00000151A279D688>, <shapefile.Shape object at 0x00000151A279D708>, <shapefile.Shape object at 0x00000151A279D7C8>, <shapefile.Shape object at 0x00000151A279D888>, <shapefile.Shape object at 0x00000151A279D988>, <shapefile.Shape object at 0x00000151A26310C8>, <shapefile.Shape object at 0x00000151A279DA48>, <shapefile.Shape object at 0x00000151A279DB08>, <shapefile.Shape object at 0x00000151A279D948>, <shapefile.Shape object at 0x00000151A279DD48>, <shapefile.Shape object at 0x00000151A279DD88>, <shapefile.Shape object at 0x00000151A279DDC8>, <shapefile.Shape object at 0x00000151A279DE88>, <shapefile.Shape object at 0x00000151A279DF48>, <shapefile.Shape object at 0x00000151A27A0048>, <shapefile.Shape object at 0x00000151A27A0108>, <shapefile.Shape object at 0x00000151A27A01C8>, <shapefile.Shape object at 0x00000151A27A0288>, <shapefile.Shape object at 0x00000151A27A0348>, <shapefile.Shape object at 0x00000151A27A0408>, <shapefile.Shape object at 0x00000151A27A04C8>, <shapefile.Shape object at 0x00000151A27A0588>, <shapefile.Shape object at 0x00000151A27A0648>, <shapefile.Shape object at 0x00000151A27A0708>, <shapefile.Shape object at 0x00000151A27699C8>, <shapefile.Shape object at 0x00000151A27A0788>, <shapefile.Shape object at 0x00000151A27A0848>, <shapefile.Shape object at 0x00000151A27A0908>, <shapefile.Shape object at 0x00000151A27A09C8>, <shapefile.Shape object at 0x00000151A27A0A88>, <shapefile.Shape object at 0x00000151A27A0B48>, <shapefile.Shape object at 0x00000151A27A0C08>, <shapefile.Shape object at 0x00000151A27A0CC8>, <shapefile.Shape object at 0x00000151A27A0D88>, <shapefile.Shape object at 0x00000151A27A0E48>, <shapefile.Shape object at 0x00000151A27A0F08>, <shapefile.Shape object at 0x00000151A27A0FC8>, <shapefile.Shape object at 0x00000151A27A30C8>, <shapefile.Shape object at 0x00000151A27A3188>, <shapefile.Shape object at 0x00000151A27A3248>, <shapefile.Shape object at 0x00000151A27A3308>, <shapefile.Shape object at 0x00000151A27A33C8>, <shapefile.Shape object at 0x00000151A27A3488>, <shapefile.Shape object at 0x00000151A27A3548>, <shapefile.Shape object at 0x00000151A27A3608>, <shapefile.Shape object at 0x00000151A27A36C8>, <shapefile.Shape object at 0x00000151A27A3788>, <shapefile.Shape object at 0x00000151A27A3848>, <shapefile.Shape object at 0x00000151A27A3908>, <shapefile.Shape object at 0x00000151A27A39C8>, <shapefile.Shape object at 0x00000151A27A3A88>, <shapefile.Shape object at 0x00000151A27A3B48>, <shapefile.Shape object at 0x00000151A27A3C08>, <shapefile.Shape object at 0x00000151A27A3CC8>, <shapefile.Shape object at 0x00000151A27A3D88>, <shapefile.Shape object at 0x00000151A27A3E48>, <shapefile.Shape object at 0x00000151A27A3F08>, <shapefile.Shape object at 0x00000151A27A3FC8>, <shapefile.Shape object at 0x00000151A27A50C8>, <shapefile.Shape object at 0x00000151A27A5188>, <shapefile.Shape object at 0x00000151A27A5248>, <shapefile.Shape object at 0x00000151A27A5308>, <shapefile.Shape object at 0x00000151A27A53C8>, <shapefile.Shape object at 0x00000151A27A5488>, <shapefile.Shape object at 0x00000151A27A5548>, <shapefile.Shape object at 0x00000151A27A5608>, <shapefile.Shape object at 0x00000151A27A56C8>, <shapefile.Shape object at 0x00000151A27A5788>, <shapefile.Shape object at 0x00000151A27A5848>, <shapefile.Shape object at 0x00000151A27A5908>, <shapefile.Shape object at 0x00000151A27A59C8>, <shapefile.Shape object at 0x00000151A27A5A88>, <shapefile.Shape object at 0x00000151A27A5B48>, <shapefile.Shape object at 0x00000151A27A5C08>, <shapefile.Shape object at 0x00000151A27A5CC8>, <shapefile.Shape object at 0x00000151A27A5D88>, <shapefile.Shape object at 0x00000151A27A5E48>, <shapefile.Shape object at 0x00000151A27A5F08>, <shapefile.Shape object at 0x00000151A27A5FC8>, <shapefile.Shape object at 0x00000151A27A70C8>, <shapefile.Shape object at 0x00000151A27A7188>, <shapefile.Shape object at 0x00000151A27A7248>, <shapefile.Shape object at 0x00000151A27A7308>, <shapefile.Shape object at 0x00000151A27A73C8>, <shapefile.Shape object at 0x00000151A27A7488>, <shapefile.Shape object at 0x00000151A27A7548>, <shapefile.Shape object at 0x00000151A27A7608>, <shapefile.Shape object at 0x00000151A27A76C8>, <shapefile.Shape object at 0x00000151A27A7788>, <shapefile.Shape object at 0x00000151A27A7848>, <shapefile.Shape object at 0x00000151A27A7908>, <shapefile.Shape object at 0x00000151A27A79C8>, <shapefile.Shape object at 0x00000151A27A7A88>, <shapefile.Shape object at 0x00000151A277F948>, <shapefile.Shape object at 0x00000151A277FAC8>, <shapefile.Shape object at 0x00000151A277F708>, <shapefile.Shape object at 0x00000151A277F808>, <shapefile.Shape object at 0x00000151A2798608>, <shapefile.Shape object at 0x00000151A2798048>, <shapefile.Shape object at 0x00000151A27985C8>, <shapefile.Shape object at 0x00000151A27A7B88>, <shapefile.Shape object at 0x00000151A27A7C48>, <shapefile.Shape object at 0x00000151A27A7D08>, <shapefile.Shape object at 0x00000151A27A7DC8>, <shapefile.Shape object at 0x00000151A27A7E88>, <shapefile.Shape object at 0x00000151A27A7F48>, <shapefile.Shape object at 0x00000151A2778048>, <shapefile.Shape object at 0x00000151A2778108>, <shapefile.Shape object at 0x00000151A27781C8>, <shapefile.Shape object at 0x00000151A2778288>, <shapefile.Shape object at 0x00000151A2778348>, <shapefile.Shape object at 0x00000151A2778408>, <shapefile.Shape object at 0x00000151A27784C8>, <shapefile.Shape object at 0x00000151A2778588>, <shapefile.Shape object at 0x00000151A2778648>, <shapefile.Shape object at 0x00000151A2778708>, <shapefile.Shape object at 0x00000151A27787C8>, <shapefile.Shape object at 0x00000151A2778888>, <shapefile.Shape object at 0x00000151A2778948>, <shapefile.Shape object at 0x00000151A2778A08>, <shapefile.Shape object at 0x00000151A2778AC8>, <shapefile.Shape object at 0x00000151A2778B88>, <shapefile.Shape object at 0x00000151A2778C48>, <shapefile.Shape object at 0x00000151A2778D08>, <shapefile.Shape object at 0x00000151A2778DC8>, <shapefile.Shape object at 0x00000151A2778E88>, <shapefile.Shape object at 0x00000151A2778F48>, <shapefile.Shape object at 0x00000151A27A9048>, <shapefile.Shape object at 0x00000151A27A9108>, <shapefile.Shape object at 0x00000151A27A91C8>, <shapefile.Shape object at 0x00000151A27A9288>, <shapefile.Shape object at 0x00000151A27A9348>, <shapefile.Shape object at 0x00000151A27A9408>, <shapefile.Shape object at 0x00000151A27A94C8>, <shapefile.Shape object at 0x00000151A27A9588>, <shapefile.Shape object at 0x00000151A27A9648>, <shapefile.Shape object at 0x00000151A27A9708>, <shapefile.Shape object at 0x00000151A27A97C8>, <shapefile.Shape object at 0x00000151A27A9888>, <shapefile.Shape object at 0x00000151A27A9948>, <shapefile.Shape object at 0x00000151A27A9A08>, <shapefile.Shape object at 0x00000151A27A9AC8>, <shapefile.Shape object at 0x00000151A27A9B88>, <shapefile.Shape object at 0x00000151A27A9C48>, <shapefile.Shape object at 0x00000151A27A9D08>, <shapefile.Shape object at 0x00000151A27A9DC8>, <shapefile.Shape object at 0x00000151A27A9E88>, <shapefile.Shape object at 0x00000151A27A9F48>, <shapefile.Shape object at 0x00000151A27AC048>, <shapefile.Shape object at 0x00000151A27AC108>, <shapefile.Shape object at 0x00000151A27AC1C8>, <shapefile.Shape object at 0x00000151A27AC288>, <shapefile.Shape object at 0x00000151A27AC348>, <shapefile.Shape object at 0x00000151A27AC408>, <shapefile.Shape object at 0x00000151A27AC4C8>, <shapefile.Shape object at 0x00000151A27AC588>, <shapefile.Shape object at 0x00000151A27AC648>, <shapefile.Shape object at 0x00000151A27AC708>, <shapefile.Shape object at 0x00000151A27AC7C8>, <shapefile.Shape object at 0x00000151A27AC888>]"
      ]
     },
     "execution_count": 24,
     "metadata": {},
     "output_type": "execute_result"
    }
   ],
   "source": [
    "# To read a single shape by calling its index use the shape() method. The index is the shape's\n",
    "# count from 0. So to read the 8th shape record you would use its index which is 7.\n",
    "\n",
    "shapes = sf.shapes()\n",
    "shapes"
   ]
  },
  {
   "cell_type": "code",
   "execution_count": 26,
   "metadata": {},
   "outputs": [
    {
     "data": {
      "text/plain": [
       "<shapefile.Shape at 0x151a2798a88>"
      ]
     },
     "execution_count": 26,
     "metadata": {},
     "output_type": "execute_result"
    }
   ],
   "source": [
    "s8 = sf.shape(7)\n",
    "s8"
   ]
  },
  {
   "cell_type": "code",
   "execution_count": 19,
   "metadata": {},
   "outputs": [
    {
     "data": {
      "text/plain": [
       "'FeatureCollection'"
      ]
     },
     "execution_count": 19,
     "metadata": {},
     "output_type": "execute_result"
    }
   ],
   "source": [
    "sf.__geo_interface__['type']"
   ]
  },
  {
   "cell_type": "code",
   "execution_count": 31,
   "metadata": {},
   "outputs": [
    {
     "ename": "AttributeError",
     "evalue": "'Shape' object has no attribute 'bbox'",
     "output_type": "error",
     "traceback": [
      "\u001b[1;31m---------------------------------------------------------------------------\u001b[0m",
      "\u001b[1;31mAttributeError\u001b[0m                            Traceback (most recent call last)",
      "\u001b[1;32m<ipython-input-31-73dc7ee78beb>\u001b[0m in \u001b[0;36m<module>\u001b[1;34m\u001b[0m\n\u001b[0;32m      4\u001b[0m \u001b[1;31m# round the cordinates to 3\u001b[0m\u001b[1;33m\u001b[0m\u001b[1;33m\u001b[0m\u001b[1;33m\u001b[0m\u001b[0m\n\u001b[0;32m      5\u001b[0m \u001b[1;33m\u001b[0m\u001b[0m\n\u001b[1;32m----> 6\u001b[1;33m \u001b[1;33m[\u001b[0m\u001b[1;34m'%.3f'\u001b[0m \u001b[1;33m%\u001b[0m \u001b[0mcoord\u001b[0m \u001b[1;32mfor\u001b[0m \u001b[0mcoord\u001b[0m \u001b[1;32min\u001b[0m \u001b[0ms\u001b[0m\u001b[1;33m.\u001b[0m\u001b[0mbbox\u001b[0m\u001b[1;33m]\u001b[0m\u001b[1;33m\u001b[0m\u001b[1;33m\u001b[0m\u001b[0m\n\u001b[0m",
      "\u001b[1;31mAttributeError\u001b[0m: 'Shape' object has no attribute 'bbox'"
     ]
    }
   ],
   "source": [
    "s = sf.shape(7)\n",
    "\n",
    "# reading the bbox of the 8th shape to verify\n",
    "# round the cordinates to 3 \n",
    "\n",
    "['%.3f' % coord for coord in s.bbox]"
   ]
  },
  {
   "cell_type": "code",
   "execution_count": 32,
   "metadata": {},
   "outputs": [],
   "source": [
    "# Each shape record (except Points) contains the following attributes.\n",
    "# Records of shapeType Point do not have a bounding box 'bbox'."
   ]
  },
  {
   "cell_type": "code",
   "execution_count": 34,
   "metadata": {},
   "outputs": [
    {
     "name": "stdout",
     "output_type": "stream",
     "text": [
      "parts\n",
      "points\n",
      "shapeType\n",
      "shapeTypeName\n"
     ]
    }
   ],
   "source": [
    "for name in dir(shapes[3]):\n",
    "    if not name.startswith(\"_\"):\n",
    "        print(name)"
   ]
  },
  {
   "cell_type": "code",
   "execution_count": 37,
   "metadata": {},
   "outputs": [
    {
     "name": "stdout",
     "output_type": "stream",
     "text": [
      "1\n"
     ]
    },
    {
     "data": {
      "text/plain": [
       "'POINT'"
      ]
     },
     "execution_count": 37,
     "metadata": {},
     "output_type": "execute_result"
    }
   ],
   "source": [
    "print(shapes[3].shapeType)\n",
    "shapes[3].shapeTypeName"
   ]
  },
  {
   "cell_type": "code",
   "execution_count": 39,
   "metadata": {},
   "outputs": [
    {
     "ename": "AttributeError",
     "evalue": "'Shapes' object has no attribute 'bbox'",
     "output_type": "error",
     "traceback": [
      "\u001b[1;31m---------------------------------------------------------------------------\u001b[0m",
      "\u001b[1;31mAttributeError\u001b[0m                            Traceback (most recent call last)",
      "\u001b[1;32m<ipython-input-39-4b2eea4ae413>\u001b[0m in \u001b[0;36m<module>\u001b[1;34m\u001b[0m\n\u001b[0;32m      5\u001b[0m \u001b[1;31m# get the bounding box of the 4th shape\u001b[0m\u001b[1;33m\u001b[0m\u001b[1;33m\u001b[0m\u001b[1;33m\u001b[0m\u001b[0m\n\u001b[0;32m      6\u001b[0m \u001b[1;33m\u001b[0m\u001b[0m\n\u001b[1;32m----> 7\u001b[1;33m \u001b[0mbbox\u001b[0m \u001b[1;33m=\u001b[0m \u001b[0mshapes\u001b[0m\u001b[1;33m.\u001b[0m\u001b[0mbbox\u001b[0m\u001b[1;33m\u001b[0m\u001b[1;33m\u001b[0m\u001b[0m\n\u001b[0m",
      "\u001b[1;31mAttributeError\u001b[0m: 'Shapes' object has no attribute 'bbox'"
     ]
    }
   ],
   "source": [
    "# bbox: If the shape type contains multiple points this tuple describes the lower left (x,y)\n",
    "# coordinate and upper right corner coordinate creating a complete box around the points.\n",
    "# If the shapeType is a Null (shapeType == 0) then an AttributeError is raised.\n",
    "\n",
    "# get the bounding box of the 4th shape\n",
    "\n",
    "bbox = shapes[3].bbox"
   ]
  },
  {
   "cell_type": "code",
   "execution_count": 40,
   "metadata": {},
   "outputs": [
    {
     "data": {
      "text/plain": [
       "[]"
      ]
     },
     "execution_count": 40,
     "metadata": {},
     "output_type": "execute_result"
    }
   ],
   "source": [
    "# parts: Parts simply group collections of points into shapes. If the shape record has multiple parts \n",
    "# this attribute contains the index of the first point of each part. If there is only one part then\n",
    "# a list containing 0 is returned.\n",
    "\n",
    "shapes[3].parts"
   ]
  },
  {
   "cell_type": "code",
   "execution_count": 42,
   "metadata": {},
   "outputs": [
    {
     "data": {
      "text/plain": [
       "1"
      ]
     },
     "execution_count": 42,
     "metadata": {},
     "output_type": "execute_result"
    }
   ],
   "source": [
    "# points: The points attribute contains a list of tuples containing an (x,y) coordinate for each point in the shape.\n",
    "\n",
    "len(shapes[3].points)"
   ]
  },
  {
   "cell_type": "code",
   "execution_count": 47,
   "metadata": {},
   "outputs": [
    {
     "ename": "IndexError",
     "evalue": "list index out of range",
     "output_type": "error",
     "traceback": [
      "\u001b[1;31m---------------------------------------------------------------------------\u001b[0m",
      "\u001b[1;31mIndexError\u001b[0m                                Traceback (most recent call last)",
      "\u001b[1;32m<ipython-input-47-dd27a9d5b9b6>\u001b[0m in \u001b[0;36m<module>\u001b[1;34m\u001b[0m\n\u001b[0;32m      1\u001b[0m \u001b[1;31m# get the 8th point of the fourth shape\u001b[0m\u001b[1;33m\u001b[0m\u001b[1;33m\u001b[0m\u001b[1;33m\u001b[0m\u001b[0m\n\u001b[0;32m      2\u001b[0m \u001b[1;33m\u001b[0m\u001b[0m\n\u001b[1;32m----> 3\u001b[1;33m \u001b[0mshape\u001b[0m \u001b[1;33m=\u001b[0m \u001b[0mshapes\u001b[0m\u001b[1;33m[\u001b[0m\u001b[1;36m3\u001b[0m\u001b[1;33m]\u001b[0m\u001b[1;33m.\u001b[0m\u001b[0mpoints\u001b[0m\u001b[1;33m[\u001b[0m\u001b[1;36m7\u001b[0m\u001b[1;33m]\u001b[0m \u001b[1;31m# error as there is no 8th point in the shape, there is only one point\u001b[0m\u001b[1;33m\u001b[0m\u001b[1;33m\u001b[0m\u001b[0m\n\u001b[0m",
      "\u001b[1;31mIndexError\u001b[0m: list index out of range"
     ]
    }
   ],
   "source": [
    "# get the 8th point of the fourth shape\n",
    "\n",
    "shape = shapes[3].points[7] # error as there is no 8th point in the shape, there is only one point"
   ]
  },
  {
   "cell_type": "code",
   "execution_count": 49,
   "metadata": {},
   "outputs": [
    {
     "data": {
      "text/plain": [
       "[75.0614356222765, 30.417239451484942]"
      ]
     },
     "execution_count": 49,
     "metadata": {},
     "output_type": "execute_result"
    }
   ],
   "source": [
    "shape = shapes[3].points[0]\n",
    "shape"
   ]
  },
  {
   "cell_type": "code",
   "execution_count": 52,
   "metadata": {},
   "outputs": [
    {
     "data": {
      "text/plain": [
       "<shapefile.Shape at 0x151a27af1c8>"
      ]
     },
     "execution_count": 52,
     "metadata": {},
     "output_type": "execute_result"
    }
   ],
   "source": [
    "s = sf.shape(0)\n",
    "s"
   ]
  },
  {
   "cell_type": "code",
   "execution_count": 54,
   "metadata": {},
   "outputs": [
    {
     "data": {
      "text/plain": [
       "{'type': 'Point', 'coordinates': (75.07612827814357, 30.418668167796366)}"
      ]
     },
     "execution_count": 54,
     "metadata": {},
     "output_type": "execute_result"
    }
   ],
   "source": [
    "geoj = s.__geo_interface__\n",
    "geoj"
   ]
  },
  {
   "cell_type": "code",
   "execution_count": 55,
   "metadata": {},
   "outputs": [
    {
     "data": {
      "text/plain": [
       "'Point'"
      ]
     },
     "execution_count": 55,
     "metadata": {},
     "output_type": "execute_result"
    }
   ],
   "source": [
    "geoj[\"type\"]"
   ]
  },
  {
   "cell_type": "code",
   "execution_count": 56,
   "metadata": {},
   "outputs": [
    {
     "data": {
      "text/plain": [
       "'GeometryCollection'"
      ]
     },
     "execution_count": 56,
     "metadata": {},
     "output_type": "execute_result"
    }
   ],
   "source": [
    "# The results from the shapes() method similiarly supports converting to GeoJSON:\n",
    "\n",
    "shapes.__geo_interface__['type']"
   ]
  },
  {
   "cell_type": "code",
   "execution_count": 57,
   "metadata": {},
   "outputs": [
    {
     "data": {
      "text/plain": [
       "[('DeletionFlag', 'C', 1, 0), ['class', 'N', 1, 0]]"
      ]
     },
     "execution_count": 57,
     "metadata": {},
     "output_type": "execute_result"
    }
   ],
   "source": [
    "fields = sf.fields\n",
    "fields"
   ]
  },
  {
   "cell_type": "code",
   "execution_count": 59,
   "metadata": {},
   "outputs": [],
   "source": [
    "assert fields == [('DeletionFlag', 'C', 1, 0), ['class', 'N', 1, 0]]"
   ]
  },
  {
   "cell_type": "code",
   "execution_count": 62,
   "metadata": {
    "collapsed": true
   },
   "outputs": [
    {
     "data": {
      "text/plain": [
       "[Record #0: [1],\n",
       " Record #1: [1],\n",
       " Record #2: [1],\n",
       " Record #3: [1],\n",
       " Record #4: [1],\n",
       " Record #5: [1],\n",
       " Record #6: [1],\n",
       " Record #7: [1],\n",
       " Record #8: [1],\n",
       " Record #9: [1],\n",
       " Record #10: [1],\n",
       " Record #11: [1],\n",
       " Record #12: [1],\n",
       " Record #13: [1],\n",
       " Record #14: [1],\n",
       " Record #15: [1],\n",
       " Record #16: [1],\n",
       " Record #17: [1],\n",
       " Record #18: [1],\n",
       " Record #19: [1],\n",
       " Record #20: [1],\n",
       " Record #21: [1],\n",
       " Record #22: [1],\n",
       " Record #23: [1],\n",
       " Record #24: [1],\n",
       " Record #25: [1],\n",
       " Record #26: [1],\n",
       " Record #27: [1],\n",
       " Record #28: [1],\n",
       " Record #29: [1],\n",
       " Record #30: [1],\n",
       " Record #31: [1],\n",
       " Record #32: [1],\n",
       " Record #33: [1],\n",
       " Record #34: [1],\n",
       " Record #35: [1],\n",
       " Record #36: [1],\n",
       " Record #37: [1],\n",
       " Record #38: [1],\n",
       " Record #39: [1],\n",
       " Record #40: [1],\n",
       " Record #41: [1],\n",
       " Record #42: [1],\n",
       " Record #43: [1],\n",
       " Record #44: [1],\n",
       " Record #45: [1],\n",
       " Record #46: [1],\n",
       " Record #47: [1],\n",
       " Record #48: [1],\n",
       " Record #49: [1],\n",
       " Record #50: [1],\n",
       " Record #51: [1],\n",
       " Record #52: [1],\n",
       " Record #53: [1],\n",
       " Record #54: [1],\n",
       " Record #55: [1],\n",
       " Record #56: [1],\n",
       " Record #57: [1],\n",
       " Record #58: [1],\n",
       " Record #59: [1],\n",
       " Record #60: [1],\n",
       " Record #61: [1],\n",
       " Record #62: [1],\n",
       " Record #63: [1],\n",
       " Record #64: [2],\n",
       " Record #65: [2],\n",
       " Record #66: [2],\n",
       " Record #67: [2],\n",
       " Record #68: [2],\n",
       " Record #69: [2],\n",
       " Record #70: [2],\n",
       " Record #71: [2],\n",
       " Record #72: [2],\n",
       " Record #73: [2],\n",
       " Record #74: [2],\n",
       " Record #75: [2],\n",
       " Record #76: [2],\n",
       " Record #77: [2],\n",
       " Record #78: [2],\n",
       " Record #79: [2],\n",
       " Record #80: [2],\n",
       " Record #81: [2],\n",
       " Record #82: [2],\n",
       " Record #83: [2],\n",
       " Record #84: [2],\n",
       " Record #85: [2],\n",
       " Record #86: [2],\n",
       " Record #87: [2],\n",
       " Record #88: [2],\n",
       " Record #89: [2],\n",
       " Record #90: [2],\n",
       " Record #91: [2],\n",
       " Record #92: [2],\n",
       " Record #93: [2],\n",
       " Record #94: [2],\n",
       " Record #95: [2],\n",
       " Record #96: [2],\n",
       " Record #97: [2],\n",
       " Record #98: [2],\n",
       " Record #99: [2],\n",
       " Record #100: [2],\n",
       " Record #101: [2],\n",
       " Record #102: [2],\n",
       " Record #103: [2],\n",
       " Record #104: [2],\n",
       " Record #105: [2],\n",
       " Record #106: [2],\n",
       " Record #107: [2],\n",
       " Record #108: [2],\n",
       " Record #109: [2],\n",
       " Record #110: [2],\n",
       " Record #111: [2],\n",
       " Record #112: [2],\n",
       " Record #113: [2],\n",
       " Record #114: [2],\n",
       " Record #115: [2],\n",
       " Record #116: [2],\n",
       " Record #117: [2],\n",
       " Record #118: [2],\n",
       " Record #119: [2],\n",
       " Record #120: [2],\n",
       " Record #121: [2],\n",
       " Record #122: [2],\n",
       " Record #123: [2],\n",
       " Record #124: [2],\n",
       " Record #125: [2],\n",
       " Record #126: [2],\n",
       " Record #127: [2],\n",
       " Record #128: [2],\n",
       " Record #129: [2],\n",
       " Record #130: [2],\n",
       " Record #131: [2],\n",
       " Record #132: [2],\n",
       " Record #133: [2],\n",
       " Record #134: [2],\n",
       " Record #135: [2],\n",
       " Record #136: [2],\n",
       " Record #137: [2],\n",
       " Record #138: [2],\n",
       " Record #139: [2],\n",
       " Record #140: [2],\n",
       " Record #141: [2],\n",
       " Record #142: [2],\n",
       " Record #143: [2],\n",
       " Record #144: [2],\n",
       " Record #145: [2],\n",
       " Record #146: [2],\n",
       " Record #147: [2],\n",
       " Record #148: [2],\n",
       " Record #149: [2],\n",
       " Record #150: [2],\n",
       " Record #151: [2],\n",
       " Record #152: [2],\n",
       " Record #153: [2],\n",
       " Record #154: [2],\n",
       " Record #155: [2],\n",
       " Record #156: [2],\n",
       " Record #157: [2],\n",
       " Record #158: [2],\n",
       " Record #159: [2],\n",
       " Record #160: [2]]"
      ]
     },
     "execution_count": 62,
     "metadata": {},
     "output_type": "execute_result"
    }
   ],
   "source": [
    "# You can get a list of the shapefile's records by calling the records() method:\n",
    "\n",
    "records = sf.records()\n",
    "records"
   ]
  },
  {
   "cell_type": "code",
   "execution_count": 63,
   "metadata": {},
   "outputs": [
    {
     "data": {
      "text/plain": [
       "161"
      ]
     },
     "execution_count": 63,
     "metadata": {},
     "output_type": "execute_result"
    }
   ],
   "source": [
    "len(records)"
   ]
  },
  {
   "cell_type": "code",
   "execution_count": 65,
   "metadata": {},
   "outputs": [
    {
     "data": {
      "text/plain": [
       "Record #3: [1]"
      ]
     },
     "execution_count": 65,
     "metadata": {},
     "output_type": "execute_result"
    }
   ],
   "source": [
    "rec = sf.record(3) # reading a particualr record\n",
    "rec"
   ]
  },
  {
   "cell_type": "code",
   "execution_count": 66,
   "metadata": {},
   "outputs": [
    {
     "data": {
      "text/plain": [
       "1"
      ]
     },
     "execution_count": 66,
     "metadata": {},
     "output_type": "execute_result"
    }
   ],
   "source": [
    "len(rec)"
   ]
  },
  {
   "cell_type": "code",
   "execution_count": null,
   "metadata": {},
   "outputs": [],
   "source": []
  }
 ],
 "metadata": {
  "kernelspec": {
   "display_name": "Python 3",
   "language": "python",
   "name": "python3"
  },
  "language_info": {
   "codemirror_mode": {
    "name": "ipython",
    "version": 3
   },
   "file_extension": ".py",
   "mimetype": "text/x-python",
   "name": "python",
   "nbconvert_exporter": "python",
   "pygments_lexer": "ipython3",
   "version": "3.7.7"
  }
 },
 "nbformat": 4,
 "nbformat_minor": 4
}
