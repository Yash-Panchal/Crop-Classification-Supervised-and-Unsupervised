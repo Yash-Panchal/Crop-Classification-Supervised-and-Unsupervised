{
 "cells": [
  {
   "cell_type": "code",
   "execution_count": 0,
   "metadata": {
    "colab": {},
    "colab_type": "code",
    "id": "xbQOGENVzTVy"
   },
   "outputs": [],
   "source": [
    "import numpy as np"
   ]
  },
  {
   "cell_type": "code",
   "execution_count": 0,
   "metadata": {
    "colab": {},
    "colab_type": "code",
    "id": "UYmk9_dXzYL5"
   },
   "outputs": [],
   "source": [
    "import gdal"
   ]
  },
  {
   "cell_type": "code",
   "execution_count": 0,
   "metadata": {
    "colab": {},
    "colab_type": "code",
    "id": "UJu1Kpv5zeDg"
   },
   "outputs": [],
   "source": [
    "import os"
   ]
  },
  {
   "cell_type": "code",
   "execution_count": 0,
   "metadata": {
    "colab": {},
    "colab_type": "code",
    "id": "-Vl7vCgPBLxc"
   },
   "outputs": [],
   "source": [
    "\n",
    "import pandas as pd"
   ]
  },
  {
   "cell_type": "code",
   "execution_count": 0,
   "metadata": {
    "colab": {},
    "colab_type": "code",
    "id": "TGWHgrt6znmw"
   },
   "outputs": [],
   "source": [
    "pip install geopandas"
   ]
  },
  {
   "cell_type": "code",
   "execution_count": 0,
   "metadata": {
    "colab": {},
    "colab_type": "code",
    "id": "KY7dH4wjzfqY"
   },
   "outputs": [],
   "source": [
    "import geopandas as gpd"
   ]
  },
  {
   "cell_type": "code",
   "execution_count": 9,
   "metadata": {
    "colab": {
     "base_uri": "https://localhost:8080/",
     "height": 121
    },
    "colab_type": "code",
    "executionInfo": {
     "elapsed": 27617,
     "status": "ok",
     "timestamp": 1589033473340,
     "user": {
      "displayName": "yash panchal",
      "photoUrl": "",
      "userId": "16904878738716686041"
     },
     "user_tz": -330
    },
    "id": "UOqgiPh4zjjO",
    "outputId": "4a6bd0f9-b6de-4c11-98ec-7033257250c4"
   },
   "outputs": [
    {
     "name": "stdout",
     "output_type": "stream",
     "text": [
      "Go to this URL in a browser: https://accounts.google.com/o/oauth2/auth?client_id=947318989803-6bn6qk8qdgf4n4g3pfee6491hc0brc4i.apps.googleusercontent.com&redirect_uri=urn%3aietf%3awg%3aoauth%3a2.0%3aoob&response_type=code&scope=email%20https%3a%2f%2fwww.googleapis.com%2fauth%2fdocs.test%20https%3a%2f%2fwww.googleapis.com%2fauth%2fdrive%20https%3a%2f%2fwww.googleapis.com%2fauth%2fdrive.photos.readonly%20https%3a%2f%2fwww.googleapis.com%2fauth%2fpeopleapi.readonly\n",
      "\n",
      "Enter your authorization code:\n",
      "··········\n",
      "Mounted at /content/gdrive\n"
     ]
    }
   ],
   "source": [
    "from google.colab import drive\n",
    "drive.mount('/content/gdrive')"
   ]
  },
  {
   "cell_type": "code",
   "execution_count": 0,
   "metadata": {
    "colab": {},
    "colab_type": "code",
    "id": "4hNkkO0jz4yp"
   },
   "outputs": [],
   "source": [
    "path = os.path.join('/content/gdrive/My Drive/Harvesting/Bathinda')"
   ]
  },
  {
   "cell_type": "code",
   "execution_count": 11,
   "metadata": {
    "colab": {
     "base_uri": "https://localhost:8080/",
     "height": 34
    },
    "colab_type": "code",
    "executionInfo": {
     "elapsed": 31727,
     "status": "ok",
     "timestamp": 1589033478581,
     "user": {
      "displayName": "yash panchal",
      "photoUrl": "",
      "userId": "16904878738716686041"
     },
     "user_tz": -330
    },
    "id": "7M8OP9Yi0niX",
    "outputId": "5f3725b9-d569-4e62-92d6-81f055319466"
   },
   "outputs": [
    {
     "data": {
      "text/plain": [
       "geopandas.geodataframe.GeoDataFrame"
      ]
     },
     "execution_count": 11,
     "metadata": {
      "tags": []
     },
     "output_type": "execute_result"
    }
   ],
   "source": [
    "points = gpd.read_file(path)\n",
    "type(points)"
   ]
  },
  {
   "cell_type": "code",
   "execution_count": 12,
   "metadata": {
    "colab": {
     "base_uri": "https://localhost:8080/",
     "height": 402
    },
    "colab_type": "code",
    "executionInfo": {
     "elapsed": 31125,
     "status": "ok",
     "timestamp": 1589033478582,
     "user": {
      "displayName": "yash panchal",
      "photoUrl": "",
      "userId": "16904878738716686041"
     },
     "user_tz": -330
    },
    "id": "ZroJRYPM0u1w",
    "outputId": "f9d41398-3444-475f-aa5f-1b789937c371"
   },
   "outputs": [
    {
     "data": {
      "text/html": [
       "<div>\n",
       "<style scoped>\n",
       "    .dataframe tbody tr th:only-of-type {\n",
       "        vertical-align: middle;\n",
       "    }\n",
       "\n",
       "    .dataframe tbody tr th {\n",
       "        vertical-align: top;\n",
       "    }\n",
       "\n",
       "    .dataframe thead th {\n",
       "        text-align: right;\n",
       "    }\n",
       "</style>\n",
       "<table border=\"1\" class=\"dataframe\">\n",
       "  <thead>\n",
       "    <tr style=\"text-align: right;\">\n",
       "      <th></th>\n",
       "      <th>class</th>\n",
       "      <th>geometry</th>\n",
       "    </tr>\n",
       "  </thead>\n",
       "  <tbody>\n",
       "    <tr>\n",
       "      <th>0</th>\n",
       "      <td>1</td>\n",
       "      <td>POINT (75.07613 30.41867)</td>\n",
       "    </tr>\n",
       "    <tr>\n",
       "      <th>1</th>\n",
       "      <td>1</td>\n",
       "      <td>POINT (75.07975 30.41471)</td>\n",
       "    </tr>\n",
       "    <tr>\n",
       "      <th>2</th>\n",
       "      <td>1</td>\n",
       "      <td>POINT (75.06798 30.41998)</td>\n",
       "    </tr>\n",
       "    <tr>\n",
       "      <th>3</th>\n",
       "      <td>1</td>\n",
       "      <td>POINT (75.06144 30.41724)</td>\n",
       "    </tr>\n",
       "    <tr>\n",
       "      <th>4</th>\n",
       "      <td>1</td>\n",
       "      <td>POINT (75.07176 30.42369)</td>\n",
       "    </tr>\n",
       "    <tr>\n",
       "      <th>...</th>\n",
       "      <td>...</td>\n",
       "      <td>...</td>\n",
       "    </tr>\n",
       "    <tr>\n",
       "      <th>156</th>\n",
       "      <td>2</td>\n",
       "      <td>POINT (75.07848 30.36952)</td>\n",
       "    </tr>\n",
       "    <tr>\n",
       "      <th>157</th>\n",
       "      <td>2</td>\n",
       "      <td>POINT (74.73571 30.05672)</td>\n",
       "    </tr>\n",
       "    <tr>\n",
       "      <th>158</th>\n",
       "      <td>2</td>\n",
       "      <td>POINT (75.11021 30.08836)</td>\n",
       "    </tr>\n",
       "    <tr>\n",
       "      <th>159</th>\n",
       "      <td>2</td>\n",
       "      <td>POINT (74.89842 30.29340)</td>\n",
       "    </tr>\n",
       "    <tr>\n",
       "      <th>160</th>\n",
       "      <td>2</td>\n",
       "      <td>POINT (74.87244 30.35578)</td>\n",
       "    </tr>\n",
       "  </tbody>\n",
       "</table>\n",
       "<p>161 rows × 2 columns</p>\n",
       "</div>"
      ],
      "text/plain": [
       "     class                   geometry\n",
       "0        1  POINT (75.07613 30.41867)\n",
       "1        1  POINT (75.07975 30.41471)\n",
       "2        1  POINT (75.06798 30.41998)\n",
       "3        1  POINT (75.06144 30.41724)\n",
       "4        1  POINT (75.07176 30.42369)\n",
       "..     ...                        ...\n",
       "156      2  POINT (75.07848 30.36952)\n",
       "157      2  POINT (74.73571 30.05672)\n",
       "158      2  POINT (75.11021 30.08836)\n",
       "159      2  POINT (74.89842 30.29340)\n",
       "160      2  POINT (74.87244 30.35578)\n",
       "\n",
       "[161 rows x 2 columns]"
      ]
     },
     "execution_count": 12,
     "metadata": {
      "tags": []
     },
     "output_type": "execute_result"
    }
   ],
   "source": [
    "points"
   ]
  },
  {
   "cell_type": "code",
   "execution_count": 13,
   "metadata": {
    "colab": {
     "base_uri": "https://localhost:8080/",
     "height": 121
    },
    "colab_type": "code",
    "executionInfo": {
     "elapsed": 1924,
     "status": "ok",
     "timestamp": 1589033483552,
     "user": {
      "displayName": "yash panchal",
      "photoUrl": "",
      "userId": "16904878738716686041"
     },
     "user_tz": -330
    },
    "id": "ubP4jt801Xn4",
    "outputId": "cb24b364-0aa6-4766-c56a-a47106ad0d23"
   },
   "outputs": [
    {
     "data": {
      "image/svg+xml": [
       "<svg xmlns=\"http://www.w3.org/2000/svg\" xmlns:xlink=\"http://www.w3.org/1999/xlink\" width=\"100.0\" height=\"100.0\" viewBox=\"74.07612827814357 29.418668167796366 2.0 2.0\" preserveAspectRatio=\"xMinYMin meet\"><g transform=\"matrix(1,0,0,-1,0,60.83733633559273)\"><circle cx=\"75.07612827814357\" cy=\"30.418668167796366\" r=\"0.06\" stroke=\"#555555\" stroke-width=\"0.02\" fill=\"#66cc99\" opacity=\"0.6\" /></g></svg>"
      ],
      "text/plain": [
       "<shapely.geometry.point.Point at 0x7f4349400208>"
      ]
     },
     "execution_count": 13,
     "metadata": {
      "tags": []
     },
     "output_type": "execute_result"
    }
   ],
   "source": [
    "np.array(points[\"geometry\"])[0]"
   ]
  },
  {
   "cell_type": "code",
   "execution_count": 0,
   "metadata": {
    "colab": {},
    "colab_type": "code",
    "id": "80vwSYH21AtS"
   },
   "outputs": [],
   "source": [
    "x = []\n",
    "y = []"
   ]
  },
  {
   "cell_type": "code",
   "execution_count": 0,
   "metadata": {
    "colab": {},
    "colab_type": "code",
    "id": "yofZNpIZ1Ic6"
   },
   "outputs": [],
   "source": [
    "for i in points[\"geometry\"]:\n",
    "  x.append(np.array(i)[0])\n",
    "  y.append(np.array(i)[1])"
   ]
  },
  {
   "cell_type": "code",
   "execution_count": 16,
   "metadata": {
    "colab": {
     "base_uri": "https://localhost:8080/",
     "height": 1000
    },
    "colab_type": "code",
    "executionInfo": {
     "elapsed": 1281,
     "status": "ok",
     "timestamp": 1589033483554,
     "user": {
      "displayName": "yash panchal",
      "photoUrl": "",
      "userId": "16904878738716686041"
     },
     "user_tz": -330
    },
    "id": "k07GhLEv1xGE",
    "outputId": "293d0a10-fbd1-4655-a812-aba57b0455b1"
   },
   "outputs": [
    {
     "data": {
      "text/plain": [
       "[75.07612827814357,\n",
       " 75.07974629435017,\n",
       " 75.06798021227284,\n",
       " 75.0614356222765,\n",
       " 75.07175676256581,\n",
       " 75.07438826539453,\n",
       " 75.08540830400162,\n",
       " 75.12549123552017,\n",
       " 75.1372929551857,\n",
       " 75.14777784840794,\n",
       " 75.15432243840428,\n",
       " 75.1346208499212,\n",
       " 75.14864499941353,\n",
       " 75.15244769677506,\n",
       " 75.13214377321361,\n",
       " 75.12655188892771,\n",
       " 75.14571626366617,\n",
       " 75.06786782921793,\n",
       " 75.11499857296427,\n",
       " 75.12510396720116,\n",
       " 75.11278726340477,\n",
       " 75.06576715524905,\n",
       " 75.0701337915253,\n",
       " 75.04178312434804,\n",
       " 75.0397369434158,\n",
       " 75.07069617545375,\n",
       " 75.11844454528669,\n",
       " 75.11209307433943,\n",
       " 75.14164979592177,\n",
       " 75.14201956222766,\n",
       " 75.26636546255169,\n",
       " 75.26175206304607,\n",
       " 75.27785075652801,\n",
       " 75.28424514281951,\n",
       " 75.27883780944549,\n",
       " 75.29956592071258,\n",
       " 75.26888144958221,\n",
       " 75.274245867612,\n",
       " 75.29364419410383,\n",
       " 75.26175809333479,\n",
       " 75.31632495353377,\n",
       " 75.31761241386091,\n",
       " 75.33231091926253,\n",
       " 75.31342816779768,\n",
       " 75.33445668647444,\n",
       " 75.1850157309371,\n",
       " 75.19720368870077,\n",
       " 75.08106878788921,\n",
       " 74.7455331360558,\n",
       " 74.71394744269642,\n",
       " 74.70965805089659,\n",
       " 74.7367673714019,\n",
       " 74.74389131854545,\n",
       " 74.75035007785331,\n",
       " 74.73404331835476,\n",
       " 75.07185721726977,\n",
       " 75.13484161828559,\n",
       " 75.15846479622527,\n",
       " 75.19657833931254,\n",
       " 75.22835605271025,\n",
       " 74.83280592084584,\n",
       " 74.81250696302114,\n",
       " 74.87688564370461,\n",
       " 74.87879028364486,\n",
       " 75.1583653248835,\n",
       " 75.15847350717648,\n",
       " 75.15785123468503,\n",
       " 75.15817309976681,\n",
       " 75.15778686166867,\n",
       " 75.13991479224512,\n",
       " 75.15733799724016,\n",
       " 75.17398394616589,\n",
       " 75.16469768388,\n",
       " 75.15272430283751,\n",
       " 75.14641574723449,\n",
       " 75.06696660698893,\n",
       " 75.12401973976372,\n",
       " 75.13552105201958,\n",
       " 75.10338846051516,\n",
       " 75.11931039572899,\n",
       " 75.10999776602928,\n",
       " 75.07540799857323,\n",
       " 75.04416562796776,\n",
       " 75.0703161817383,\n",
       " 75.021784573933,\n",
       " 75.06185561454066,\n",
       " 75.07194072043666,\n",
       " 75.07876426017054,\n",
       " 75.07228404319056,\n",
       " 75.07305651938685,\n",
       " 75.07631808554896,\n",
       " 75.08593112265834,\n",
       " 75.08721858298549,\n",
       " 75.09108096396693,\n",
       " 75.09966403281459,\n",
       " 75.06511718070277,\n",
       " 75.06086856162318,\n",
       " 75.09541046139918,\n",
       " 75.11841736610786,\n",
       " 75.14965973671333,\n",
       " 75.12803040321724,\n",
       " 75.15652619179146,\n",
       " 75.15330754097359,\n",
       " 75.15130574837538,\n",
       " 75.17684037819716,\n",
       " 75.1658969654164,\n",
       " 75.17679746285292,\n",
       " 75.15452439919325,\n",
       " 75.15555436745497,\n",
       " 75.25776093603191,\n",
       " 75.26550715566692,\n",
       " 75.2696270287138,\n",
       " 75.26956265569744,\n",
       " 75.27655785680828,\n",
       " 75.26119416357098,\n",
       " 75.24879162908611,\n",
       " 75.24638836980877,\n",
       " 75.25437062383709,\n",
       " 75.2860261296054,\n",
       " 75.28162730682098,\n",
       " 75.28081191528045,\n",
       " 75.28836501586639,\n",
       " 75.2907253597995,\n",
       " 75.28664840209686,\n",
       " 75.27793658721649,\n",
       " 75.28484595763885,\n",
       " 75.29772056091034,\n",
       " 75.29960883605682,\n",
       " 75.29480231750213,\n",
       " 75.28922332275116,\n",
       " 75.30398620116912,\n",
       " 75.29355777251922,\n",
       " 75.29209865081512,\n",
       " 75.28930915343963,\n",
       " 75.28227103698455,\n",
       " 75.27540458190643,\n",
       " 75.30947936523162,\n",
       " 75.31510127532684,\n",
       " 75.31347049224578,\n",
       " 75.31321300018035,\n",
       " 75.30759109008514,\n",
       " 75.3044153546115,\n",
       " 75.30617488372528,\n",
       " 75.30596030700409,\n",
       " 75.30231250274383,\n",
       " 75.29411567199432,\n",
       " 75.29793513763153,\n",
       " 75.28943789947235,\n",
       " 75.29617560851776,\n",
       " 75.28583301055633,\n",
       " 75.28106940734588,\n",
       " 75.29205573547088,\n",
       " 75.2979249996916,\n",
       " 75.29553246925032,\n",
       " 75.31707597205794,\n",
       " 75.19870572574911,\n",
       " 75.07848313839885,\n",
       " 74.735705216632,\n",
       " 75.11020807693933,\n",
       " 74.89841555286138,\n",
       " 74.87244394305637]"
      ]
     },
     "execution_count": 16,
     "metadata": {
      "tags": []
     },
     "output_type": "execute_result"
    }
   ],
   "source": [
    "x"
   ]
  },
  {
   "cell_type": "code",
   "execution_count": 17,
   "metadata": {
    "colab": {
     "base_uri": "https://localhost:8080/",
     "height": 1000
    },
    "colab_type": "code",
    "executionInfo": {
     "elapsed": 1094,
     "status": "ok",
     "timestamp": 1589033483555,
     "user": {
      "displayName": "yash panchal",
      "photoUrl": "",
      "userId": "16904878738716686041"
     },
     "user_tz": -330
    },
    "id": "hHw_bGQK10Px",
    "outputId": "247eb40e-3f4a-49f2-9c6b-1025696bcf67"
   },
   "outputs": [
    {
     "data": {
      "text/plain": [
       "[30.418668167796366,\n",
       " 30.414709378063765,\n",
       " 30.419978044658528,\n",
       " 30.417239451484942,\n",
       " 30.423687975660684,\n",
       " 30.43512367901437,\n",
       " 30.4279726496538,\n",
       " 30.56776762381319,\n",
       " 30.56981840062137,\n",
       " 30.574962759523007,\n",
       " 30.573595652314665,\n",
       " 30.512848755190067,\n",
       " 30.53219769012476,\n",
       " 30.541680228143033,\n",
       " 30.54206805321558,\n",
       " 30.50644520903341,\n",
       " 30.52607120439921,\n",
       " 30.49846306180684,\n",
       " 30.47542180500063,\n",
       " 30.458031076244275,\n",
       " 30.5006103037199,\n",
       " 30.458729797655277,\n",
       " 30.469457116508377,\n",
       " 30.44982750379057,\n",
       " 30.428295418679024,\n",
       " 30.406389657350744,\n",
       " 30.39337588546307,\n",
       " 30.402000601149474,\n",
       " 30.392280531757393,\n",
       " 30.415094699537818,\n",
       " 30.29307663065061,\n",
       " 30.292057598190294,\n",
       " 30.29216451192957,\n",
       " 30.291756896425237,\n",
       " 30.281087671840574,\n",
       " 30.277233349679264,\n",
       " 30.267300360313197,\n",
       " 30.256416040691484,\n",
       " 30.25227972300133,\n",
       " 30.24227005992045,\n",
       " 30.259082004559957,\n",
       " 30.26325210772008,\n",
       " 30.273000191288055,\n",
       " 30.284489084851412,\n",
       " 30.27122114558215,\n",
       " 30.430626490466945,\n",
       " 30.432439643031,\n",
       " 30.368651985184474,\n",
       " 30.068413888280094,\n",
       " 30.073836198754936,\n",
       " 30.057456943393568,\n",
       " 30.05842212545938,\n",
       " 30.05653705562903,\n",
       " 30.058821421358928,\n",
       " 30.089615646301144,\n",
       " 30.08528456616381,\n",
       " 30.086037542647755,\n",
       " 30.07967108057997,\n",
       " 30.06658136762788,\n",
       " 30.175381195053912,\n",
       " 30.305129803198145,\n",
       " 30.309483196509138,\n",
       " 30.298064108624594,\n",
       " 30.34981265314076,\n",
       " 30.53609740522177,\n",
       " 30.521984266364832,\n",
       " 30.522039719476872,\n",
       " 30.523296648196194,\n",
       " 30.523315132320757,\n",
       " 30.5147352607931,\n",
       " 30.501840131664846,\n",
       " 30.494777380478503,\n",
       " 30.492805872873316,\n",
       " 30.552325202913806,\n",
       " 30.55291651639281,\n",
       " 30.50769677065042,\n",
       " 30.469361100662248,\n",
       " 30.460372418632197,\n",
       " 30.458633771234616,\n",
       " 30.446414564065172,\n",
       " 30.454664649927327,\n",
       " 30.502680986958865,\n",
       " 30.464662137405305,\n",
       " 30.457841966615604,\n",
       " 30.442298492205484,\n",
       " 30.403502628050184,\n",
       " 30.403391586756964,\n",
       " 30.399431031396688,\n",
       " 30.398024440373767,\n",
       " 30.401429836421904,\n",
       " 30.407611067125767,\n",
       " 30.40413185965998,\n",
       " 30.40894349672558,\n",
       " 30.402799364393697,\n",
       " 30.39991222893798,\n",
       " 30.41183036513768,\n",
       " 30.412570574055366,\n",
       " 30.389092741948716,\n",
       " 30.391169487468332,\n",
       " 30.38598677154422,\n",
       " 30.380285466511523,\n",
       " 30.383173182059448,\n",
       " 30.389947872050346,\n",
       " 30.399128621065366,\n",
       " 30.39894354388351,\n",
       " 30.392021405437742,\n",
       " 30.385506003510606,\n",
       " 30.40619830679686,\n",
       " 30.403681409295807,\n",
       " 30.292020542264954,\n",
       " 30.290186256462903,\n",
       " 30.29124236459899,\n",
       " 30.286443465902618,\n",
       " 30.284627605175743,\n",
       " 30.285498481351212,\n",
       " 30.289871274641964,\n",
       " 30.29209465410161,\n",
       " 30.29713412761397,\n",
       " 30.286365095591954,\n",
       " 30.28855149728799,\n",
       " 30.287328600649907,\n",
       " 30.28536452263125,\n",
       " 30.289496452430406,\n",
       " 30.27567675358648,\n",
       " 30.277678086885405,\n",
       " 30.281606511339444,\n",
       " 30.2750837581048,\n",
       " 30.27997586367637,\n",
       " 30.27986468216712,\n",
       " 30.281347091932947,\n",
       " 30.269005347853255,\n",
       " 30.267522751671557,\n",
       " 30.268078727863486,\n",
       " 30.270636177792802,\n",
       " 30.2713403914367,\n",
       " 30.265447079403348,\n",
       " 30.274453696479796,\n",
       " 30.26974663754795,\n",
       " 30.274416633905293,\n",
       " 30.27182221891379,\n",
       " 30.278271066691786,\n",
       " 30.27730747268693,\n",
       " 30.280309407448343,\n",
       " 30.284126549880863,\n",
       " 30.28234770586454,\n",
       " 30.283051835477345,\n",
       " 30.283237131904013,\n",
       " 30.26392736295384,\n",
       " 30.264372160446936,\n",
       " 30.25812121722476,\n",
       " 30.261568548916557,\n",
       " 30.259826364153763,\n",
       " 30.24621843769466,\n",
       " 30.245337944658388,\n",
       " 30.27678055635152,\n",
       " 30.45286303277049,\n",
       " 30.36952211457227,\n",
       " 30.056722778388398,\n",
       " 30.088358360088034,\n",
       " 30.293402467144443,\n",
       " 30.355778377474586]"
      ]
     },
     "execution_count": 17,
     "metadata": {
      "tags": []
     },
     "output_type": "execute_result"
    }
   ],
   "source": [
    "y"
   ]
  },
  {
   "cell_type": "code",
   "execution_count": 18,
   "metadata": {
    "colab": {
     "base_uri": "https://localhost:8080/",
     "height": 571
    },
    "colab_type": "code",
    "executionInfo": {
     "elapsed": 946,
     "status": "ok",
     "timestamp": 1589033483556,
     "user": {
      "displayName": "yash panchal",
      "photoUrl": "",
      "userId": "16904878738716686041"
     },
     "user_tz": -330
    },
    "id": "C0gMqXh616by",
    "outputId": "7556eda4-cb33-4245-c893-267c66d70553"
   },
   "outputs": [
    {
     "data": {
      "text/plain": [
       "array([75.07612828, 75.07974629, 75.06798021, 75.06143562, 75.07175676,\n",
       "       75.07438827, 75.0854083 , 75.12549124, 75.13729296, 75.14777785,\n",
       "       75.15432244, 75.13462085, 75.148645  , 75.1524477 , 75.13214377,\n",
       "       75.12655189, 75.14571626, 75.06786783, 75.11499857, 75.12510397,\n",
       "       75.11278726, 75.06576716, 75.07013379, 75.04178312, 75.03973694,\n",
       "       75.07069618, 75.11844455, 75.11209307, 75.1416498 , 75.14201956,\n",
       "       75.26636546, 75.26175206, 75.27785076, 75.28424514, 75.27883781,\n",
       "       75.29956592, 75.26888145, 75.27424587, 75.29364419, 75.26175809,\n",
       "       75.31632495, 75.31761241, 75.33231092, 75.31342817, 75.33445669,\n",
       "       75.18501573, 75.19720369, 75.08106879, 74.74553314, 74.71394744,\n",
       "       74.70965805, 74.73676737, 74.74389132, 74.75035008, 74.73404332,\n",
       "       75.07185722, 75.13484162, 75.1584648 , 75.19657834, 75.22835605,\n",
       "       74.83280592, 74.81250696, 74.87688564, 74.87879028, 75.15836532,\n",
       "       75.15847351, 75.15785123, 75.1581731 , 75.15778686, 75.13991479,\n",
       "       75.157338  , 75.17398395, 75.16469768, 75.1527243 , 75.14641575,\n",
       "       75.06696661, 75.12401974, 75.13552105, 75.10338846, 75.1193104 ,\n",
       "       75.10999777, 75.075408  , 75.04416563, 75.07031618, 75.02178457,\n",
       "       75.06185561, 75.07194072, 75.07876426, 75.07228404, 75.07305652,\n",
       "       75.07631809, 75.08593112, 75.08721858, 75.09108096, 75.09966403,\n",
       "       75.06511718, 75.06086856, 75.09541046, 75.11841737, 75.14965974,\n",
       "       75.1280304 , 75.15652619, 75.15330754, 75.15130575, 75.17684038,\n",
       "       75.16589697, 75.17679746, 75.1545244 , 75.15555437, 75.25776094,\n",
       "       75.26550716, 75.26962703, 75.26956266, 75.27655786, 75.26119416,\n",
       "       75.24879163, 75.24638837, 75.25437062, 75.28602613, 75.28162731,\n",
       "       75.28081192, 75.28836502, 75.29072536, 75.2866484 , 75.27793659,\n",
       "       75.28484596, 75.29772056, 75.29960884, 75.29480232, 75.28922332,\n",
       "       75.3039862 , 75.29355777, 75.29209865, 75.28930915, 75.28227104,\n",
       "       75.27540458, 75.30947937, 75.31510128, 75.31347049, 75.313213  ,\n",
       "       75.30759109, 75.30441535, 75.30617488, 75.30596031, 75.3023125 ,\n",
       "       75.29411567, 75.29793514, 75.2894379 , 75.29617561, 75.28583301,\n",
       "       75.28106941, 75.29205574, 75.297925  , 75.29553247, 75.31707597,\n",
       "       75.19870573, 75.07848314, 74.73570522, 75.11020808, 74.89841555,\n",
       "       74.87244394])"
      ]
     },
     "execution_count": 18,
     "metadata": {
      "tags": []
     },
     "output_type": "execute_result"
    }
   ],
   "source": [
    "x = np.array(x)\n",
    "x"
   ]
  },
  {
   "cell_type": "code",
   "execution_count": 0,
   "metadata": {
    "colab": {},
    "colab_type": "code",
    "id": "tqLcpziJ19wL"
   },
   "outputs": [],
   "source": [
    "y = np.array(y)"
   ]
  },
  {
   "cell_type": "code",
   "execution_count": 20,
   "metadata": {
    "colab": {
     "base_uri": "https://localhost:8080/",
     "height": 34
    },
    "colab_type": "code",
    "executionInfo": {
     "elapsed": 1453,
     "status": "ok",
     "timestamp": 1589033484415,
     "user": {
      "displayName": "yash panchal",
      "photoUrl": "",
      "userId": "16904878738716686041"
     },
     "user_tz": -330
    },
    "id": "fzvvQv5F2Bja",
    "outputId": "874dc106-513b-4110-8346-b017c95a7ae8"
   },
   "outputs": [
    {
     "data": {
      "text/plain": [
       "161"
      ]
     },
     "execution_count": 20,
     "metadata": {
      "tags": []
     },
     "output_type": "execute_result"
    }
   ],
   "source": [
    "len(x)"
   ]
  },
  {
   "cell_type": "code",
   "execution_count": 0,
   "metadata": {
    "colab": {},
    "colab_type": "code",
    "id": "MGRkZYW12ElL"
   },
   "outputs": [],
   "source": [
    "ds1 = gdal.Open('/content/gdrive/My Drive/Harvesting/1.tif')"
   ]
  },
  {
   "cell_type": "code",
   "execution_count": 22,
   "metadata": {
    "colab": {
     "base_uri": "https://localhost:8080/",
     "height": 34
    },
    "colab_type": "code",
    "executionInfo": {
     "elapsed": 1905,
     "status": "ok",
     "timestamp": 1589033485215,
     "user": {
      "displayName": "yash panchal",
      "photoUrl": "",
      "userId": "16904878738716686041"
     },
     "user_tz": -330
    },
    "id": "VkgN7sGbHqjj",
    "outputId": "1720c443-1738-4c4c-92ae-b402595fb1d7"
   },
   "outputs": [
    {
     "data": {
      "text/plain": [
       "(8298, 8963, 5)"
      ]
     },
     "execution_count": 22,
     "metadata": {
      "tags": []
     },
     "output_type": "execute_result"
    }
   ],
   "source": [
    "ds1.RasterXSize, ds1.RasterYSize, ds1.RasterCount"
   ]
  },
  {
   "cell_type": "code",
   "execution_count": 23,
   "metadata": {
    "colab": {
     "base_uri": "https://localhost:8080/",
     "height": 118
    },
    "colab_type": "code",
    "executionInfo": {
     "elapsed": 2721,
     "status": "ok",
     "timestamp": 1589033486185,
     "user": {
      "displayName": "yash panchal",
      "photoUrl": "",
      "userId": "16904878738716686041"
     },
     "user_tz": -330
    },
    "id": "Naat0PoS3SVl",
    "outputId": "4539073a-ccb3-4ff1-8bdb-8771d7ccff5d"
   },
   "outputs": [
    {
     "data": {
      "text/plain": [
       "(74.62179301041088,\n",
       " 8.983152841195215e-05,\n",
       " 0.0,\n",
       " 30.582155701036577,\n",
       " 0.0,\n",
       " -8.983152841195215e-05)"
      ]
     },
     "execution_count": 23,
     "metadata": {
      "tags": []
     },
     "output_type": "execute_result"
    }
   ],
   "source": [
    "ds1.GetGeoTransform()"
   ]
  },
  {
   "cell_type": "code",
   "execution_count": 0,
   "metadata": {
    "colab": {},
    "colab_type": "code",
    "id": "oUQNNizP4pel"
   },
   "outputs": [],
   "source": [
    "# 1. The Upper Left easting coordinate (i.e., horizontal)\n",
    "# 2. The E-W pixel spacing\n",
    "# 3. The rotation (0 degrees if image is \"North Up\")\n",
    "# 4. The Upper left northing coordinate (i.e., vertical)\n",
    "# 5. The rotation (0 degrees)\n",
    "# 6. The N-S pixel spacing, negative as we will be counting from the UL corner"
   ]
  },
  {
   "cell_type": "code",
   "execution_count": 36,
   "metadata": {
    "colab": {
     "base_uri": "https://localhost:8080/",
     "height": 34
    },
    "colab_type": "code",
    "executionInfo": {
     "elapsed": 1354,
     "status": "ok",
     "timestamp": 1589033527645,
     "user": {
      "displayName": "yash panchal",
      "photoUrl": "",
      "userId": "16904878738716686041"
     },
     "user_tz": -330
    },
    "id": "a9mpZwBz6Bf-",
    "outputId": "4e9bbcf2-da1b-4eee-90ef-3636c040527d"
   },
   "outputs": [
    {
     "name": "stdout",
     "output_type": "stream",
     "text": [
      "74.62179301041088 30.582155701036577 8.983152841195215e-05 -8.983152841195215e-05 0.0 0.0\n"
     ]
    }
   ],
   "source": [
    "x_min = ds1.GetGeoTransform()[0]\n",
    "y_max = ds1.GetGeoTransform()[3]\n",
    "\n",
    "x_ran = ds1.GetGeoTransform()[1]\n",
    "y_ran = ds1.GetGeoTransform()[5]\n",
    "\n",
    "x_rot = ds1.GetGeoTransform()[2]\n",
    "y_rot = ds1.GetGeoTransform()[4]\n",
    "\n",
    "print(x_min, y_max, x_ran, y_ran, x_rot, y_rot)"
   ]
  },
  {
   "cell_type": "code",
   "execution_count": 0,
   "metadata": {
    "colab": {},
    "colab_type": "code",
    "id": "IyF-W2i26n1Z"
   },
   "outputs": [],
   "source": [
    "# to get pixel location in the image\n",
    "def get_pixels(x, y, x_UL, y_UL, w, h):\n",
    "  \"\"\"\n",
    "  returns i and j indices as an array to the corresponding x and y coordinates arrays\n",
    " \n",
    "  x = array of x coordinates longitude\n",
    "  y = array of y coordinates latitude\n",
    "  x_UL = upper left x coordinate\n",
    "  y_UL = upper left y coordinate\n",
    "  w = width of the raster\n",
    "  h = height of the raster\n",
    " \n",
    "  \"\"\"\n",
    "\n",
    "  i = np.round((x - x_UL) / w)\n",
    "  j = np.round((y_UL - y) / h)\n",
    "\n",
    "  i = i.astype(\"int\")\n",
    "  j = j.astype(\"int\")\n",
    "\n",
    "  return i, j"
   ]
  },
  {
   "cell_type": "code",
   "execution_count": 38,
   "metadata": {
    "colab": {
     "base_uri": "https://localhost:8080/",
     "height": 521
    },
    "colab_type": "code",
    "executionInfo": {
     "elapsed": 1632,
     "status": "ok",
     "timestamp": 1589033530174,
     "user": {
      "displayName": "yash panchal",
      "photoUrl": "",
      "userId": "16904878738716686041"
     },
     "user_tz": -330
    },
    "id": "F0WmURMN_N0H",
    "outputId": "fd1bd071-77a8-4fd6-cd53-db270d1bb6ee"
   },
   "outputs": [
    {
     "data": {
      "text/plain": [
       "(array([5058, 5098, 4967, 4894, 5009, 5038, 5161, 5607, 5739, 5855, 5928,\n",
       "        5709, 5865, 5907, 5681, 5619, 5832, 4966, 5490, 5603, 5466, 4942,\n",
       "        4991, 4675, 4653, 4997, 5529, 5458, 5787, 5791, 7175, 7124, 7303,\n",
       "        7374, 7314, 7545, 7203, 7263, 7479, 7124, 7731, 7746, 7909, 7699,\n",
       "        7933, 6270, 6405, 5113, 1377, 1026,  978, 1280, 1359, 1431, 1250,\n",
       "        5010, 5711, 5974, 6398, 6752, 2349, 2123, 2840, 2861, 5973, 5974,\n",
       "        5967, 5971, 5967, 5768, 5962, 6147, 6044, 5910, 5840, 4956, 5591,\n",
       "        5719, 5361, 5538, 5435, 5050, 4702, 4993, 4453, 4899, 5011, 5087,\n",
       "        5015, 5023, 5060, 5167, 5181, 5224, 5320, 4935, 4888, 5272, 5528,\n",
       "        5876, 5635, 5953, 5917, 5895, 6179, 6057, 6178, 5930, 5942, 7080,\n",
       "        7166, 7212, 7211, 7289, 7118, 6980, 6953, 7042, 7394, 7345, 7336,\n",
       "        7420, 7447, 7401, 7304, 7381, 7524, 7545, 7492, 7430, 7594, 7478,\n",
       "        7462, 7431, 7352, 7276, 7655, 7718, 7700, 7697, 7634, 7599, 7619,\n",
       "        7616, 7576, 7484, 7527, 7432, 7507, 7392, 7339, 7461, 7527, 7500,\n",
       "        7740, 6422, 5084, 1268, 5437, 3079, 2790]),\n",
       " array([1820, 1864, 1805, 1836, 1764, 1637, 1716,  160,  137,   80,   95,\n",
       "         772,  556,  451,  446,  843,  624,  932, 1188, 1382,  908, 1374,\n",
       "        1255, 1473, 1713, 1957, 2101, 2005, 2114, 1860, 3218, 3229, 3228,\n",
       "        3233, 3351, 3394, 3505, 3626, 3672, 3784, 3596, 3550, 3442, 3314,\n",
       "        3461, 1687, 1667, 2377, 5719, 5659, 5841, 5830, 5851, 5826, 5483,\n",
       "        5531, 5523, 5594, 5739, 4528, 3084, 3035, 3162, 2586,  513,  670,\n",
       "         669,  655,  655,  751,  894,  973,  995,  332,  325,  829, 1256,\n",
       "        1356, 1375, 1511, 1419,  885, 1308, 1384, 1557, 1989, 1990, 2034,\n",
       "        2050, 2012, 1943, 1982, 1928, 1997, 2029, 1896, 1888, 2149, 2126,\n",
       "        2184, 2247, 2215, 2140, 2037, 2040, 2117, 2189, 1959, 1987, 3230,\n",
       "        3250, 3238, 3292, 3312, 3302, 3254, 3229, 3173, 3293, 3268, 3282,\n",
       "        3304, 3258, 3412, 3389, 3346, 3418, 3364, 3365, 3349, 3486, 3502,\n",
       "        3496, 3468, 3460, 3526, 3425, 3478, 3426, 3455, 3383, 3394, 3360,\n",
       "        3318, 3337, 3330, 3328, 3543, 3538, 3607, 3569, 3588, 3740, 3749,\n",
       "        3399, 1439, 2367, 5849, 5497, 3214, 2520]))"
      ]
     },
     "execution_count": 38,
     "metadata": {
      "tags": []
     },
     "output_type": "execute_result"
    }
   ],
   "source": [
    "pixels = get_pixels(x, y, x_min, y_max, x_ran, -y_ran)\n",
    "pixels"
   ]
  },
  {
   "cell_type": "code",
   "execution_count": 39,
   "metadata": {
    "colab": {
     "base_uri": "https://localhost:8080/",
     "height": 34
    },
    "colab_type": "code",
    "executionInfo": {
     "elapsed": 827,
     "status": "ok",
     "timestamp": 1589033530175,
     "user": {
      "displayName": "yash panchal",
      "photoUrl": "",
      "userId": "16904878738716686041"
     },
     "user_tz": -330
    },
    "id": "il0AXMPS_i9w",
    "outputId": "ee389899-46d6-4a50-b10d-20740095f1a1"
   },
   "outputs": [
    {
     "data": {
      "text/plain": [
       "tuple"
      ]
     },
     "execution_count": 39,
     "metadata": {
      "tags": []
     },
     "output_type": "execute_result"
    }
   ],
   "source": [
    "type(pixels)"
   ]
  },
  {
   "cell_type": "code",
   "execution_count": 0,
   "metadata": {
    "colab": {},
    "colab_type": "code",
    "id": "2tuUpfnB_p-3"
   },
   "outputs": [],
   "source": [
    "x_pixel = pixels[0]\n",
    "y_pixel = pixels[1]"
   ]
  },
  {
   "cell_type": "code",
   "execution_count": 41,
   "metadata": {
    "colab": {
     "base_uri": "https://localhost:8080/",
     "height": 34
    },
    "colab_type": "code",
    "executionInfo": {
     "elapsed": 1112,
     "status": "ok",
     "timestamp": 1589033531690,
     "user": {
      "displayName": "yash panchal",
      "photoUrl": "",
      "userId": "16904878738716686041"
     },
     "user_tz": -330
    },
    "id": "Qu2Yob7U_10M",
    "outputId": "ef540581-42a2-4ddb-bc9a-cd9799c798e2"
   },
   "outputs": [
    {
     "data": {
      "text/plain": [
       "numpy.ndarray"
      ]
     },
     "execution_count": 41,
     "metadata": {
      "tags": []
     },
     "output_type": "execute_result"
    }
   ],
   "source": [
    "type(x_pixel)"
   ]
  },
  {
   "cell_type": "code",
   "execution_count": 42,
   "metadata": {
    "colab": {
     "base_uri": "https://localhost:8080/",
     "height": 218
    },
    "colab_type": "code",
    "executionInfo": {
     "elapsed": 1573,
     "status": "ok",
     "timestamp": 1589033532602,
     "user": {
      "displayName": "yash panchal",
      "photoUrl": "",
      "userId": "16904878738716686041"
     },
     "user_tz": -330
    },
    "id": "KjEPv5hS_3dO",
    "outputId": "35d023e4-009a-4143-de50-a803041e613c"
   },
   "outputs": [
    {
     "data": {
      "text/plain": [
       "0      1\n",
       "1      1\n",
       "2      1\n",
       "3      1\n",
       "4      1\n",
       "      ..\n",
       "156    2\n",
       "157    2\n",
       "158    2\n",
       "159    2\n",
       "160    2\n",
       "Name: class, Length: 161, dtype: int64"
      ]
     },
     "execution_count": 42,
     "metadata": {
      "tags": []
     },
     "output_type": "execute_result"
    }
   ],
   "source": [
    "classes = points[\"class\"]\n",
    "classes"
   ]
  },
  {
   "cell_type": "code",
   "execution_count": 43,
   "metadata": {
    "colab": {
     "base_uri": "https://localhost:8080/",
     "height": 34
    },
    "colab_type": "code",
    "executionInfo": {
     "elapsed": 1918,
     "status": "ok",
     "timestamp": 1589033533344,
     "user": {
      "displayName": "yash panchal",
      "photoUrl": "",
      "userId": "16904878738716686041"
     },
     "user_tz": -330
    },
    "id": "DCWEtTRvAu-V",
    "outputId": "4420673b-9e5a-4949-9742-9b23fa85ea30"
   },
   "outputs": [
    {
     "data": {
      "text/plain": [
       "pandas.core.series.Series"
      ]
     },
     "execution_count": 43,
     "metadata": {
      "tags": []
     },
     "output_type": "execute_result"
    }
   ],
   "source": [
    "type(classes)"
   ]
  },
  {
   "cell_type": "code",
   "execution_count": 0,
   "metadata": {
    "colab": {},
    "colab_type": "code",
    "id": "eSwZR-qlAw-u"
   },
   "outputs": [],
   "source": [
    "classes = np.array(classes)"
   ]
  },
  {
   "cell_type": "code",
   "execution_count": 45,
   "metadata": {
    "colab": {
     "base_uri": "https://localhost:8080/",
     "height": 151
    },
    "colab_type": "code",
    "executionInfo": {
     "elapsed": 917,
     "status": "ok",
     "timestamp": 1589033533350,
     "user": {
      "displayName": "yash panchal",
      "photoUrl": "",
      "userId": "16904878738716686041"
     },
     "user_tz": -330
    },
    "id": "0yqKnGNlA17G",
    "outputId": "1e5a6fdf-9a65-4620-de58-0d8c885674aa"
   },
   "outputs": [
    {
     "data": {
      "text/plain": [
       "array([1, 1, 1, 1, 1, 1, 1, 1, 1, 1, 1, 1, 1, 1, 1, 1, 1, 1, 1, 1, 1, 1,\n",
       "       1, 1, 1, 1, 1, 1, 1, 1, 1, 1, 1, 1, 1, 1, 1, 1, 1, 1, 1, 1, 1, 1,\n",
       "       1, 1, 1, 1, 1, 1, 1, 1, 1, 1, 1, 1, 1, 1, 1, 1, 1, 1, 1, 1, 2, 2,\n",
       "       2, 2, 2, 2, 2, 2, 2, 2, 2, 2, 2, 2, 2, 2, 2, 2, 2, 2, 2, 2, 2, 2,\n",
       "       2, 2, 2, 2, 2, 2, 2, 2, 2, 2, 2, 2, 2, 2, 2, 2, 2, 2, 2, 2, 2, 2,\n",
       "       2, 2, 2, 2, 2, 2, 2, 2, 2, 2, 2, 2, 2, 2, 2, 2, 2, 2, 2, 2, 2, 2,\n",
       "       2, 2, 2, 2, 2, 2, 2, 2, 2, 2, 2, 2, 2, 2, 2, 2, 2, 2, 2, 2, 2, 2,\n",
       "       2, 2, 2, 2, 2, 2, 2])"
      ]
     },
     "execution_count": 45,
     "metadata": {
      "tags": []
     },
     "output_type": "execute_result"
    }
   ],
   "source": [
    "classes"
   ]
  },
  {
   "cell_type": "code",
   "execution_count": 46,
   "metadata": {
    "colab": {
     "base_uri": "https://localhost:8080/",
     "height": 402
    },
    "colab_type": "code",
    "executionInfo": {
     "elapsed": 1219,
     "status": "ok",
     "timestamp": 1589033534022,
     "user": {
      "displayName": "yash panchal",
      "photoUrl": "",
      "userId": "16904878738716686041"
     },
     "user_tz": -330
    },
    "id": "yO8sfbRUCSCH",
    "outputId": "79deee6e-333c-49f8-d656-608fdf564fbc"
   },
   "outputs": [
    {
     "data": {
      "text/html": [
       "<div>\n",
       "<style scoped>\n",
       "    .dataframe tbody tr th:only-of-type {\n",
       "        vertical-align: middle;\n",
       "    }\n",
       "\n",
       "    .dataframe tbody tr th {\n",
       "        vertical-align: top;\n",
       "    }\n",
       "\n",
       "    .dataframe thead th {\n",
       "        text-align: right;\n",
       "    }\n",
       "</style>\n",
       "<table border=\"1\" class=\"dataframe\">\n",
       "  <thead>\n",
       "    <tr style=\"text-align: right;\">\n",
       "      <th></th>\n",
       "      <th>0</th>\n",
       "    </tr>\n",
       "  </thead>\n",
       "  <tbody>\n",
       "    <tr>\n",
       "      <th>0</th>\n",
       "      <td>5058</td>\n",
       "    </tr>\n",
       "    <tr>\n",
       "      <th>1</th>\n",
       "      <td>5098</td>\n",
       "    </tr>\n",
       "    <tr>\n",
       "      <th>2</th>\n",
       "      <td>4967</td>\n",
       "    </tr>\n",
       "    <tr>\n",
       "      <th>3</th>\n",
       "      <td>4894</td>\n",
       "    </tr>\n",
       "    <tr>\n",
       "      <th>4</th>\n",
       "      <td>5009</td>\n",
       "    </tr>\n",
       "    <tr>\n",
       "      <th>...</th>\n",
       "      <td>...</td>\n",
       "    </tr>\n",
       "    <tr>\n",
       "      <th>156</th>\n",
       "      <td>5084</td>\n",
       "    </tr>\n",
       "    <tr>\n",
       "      <th>157</th>\n",
       "      <td>1268</td>\n",
       "    </tr>\n",
       "    <tr>\n",
       "      <th>158</th>\n",
       "      <td>5437</td>\n",
       "    </tr>\n",
       "    <tr>\n",
       "      <th>159</th>\n",
       "      <td>3079</td>\n",
       "    </tr>\n",
       "    <tr>\n",
       "      <th>160</th>\n",
       "      <td>2790</td>\n",
       "    </tr>\n",
       "  </tbody>\n",
       "</table>\n",
       "<p>161 rows × 1 columns</p>\n",
       "</div>"
      ],
      "text/plain": [
       "        0\n",
       "0    5058\n",
       "1    5098\n",
       "2    4967\n",
       "3    4894\n",
       "4    5009\n",
       "..    ...\n",
       "156  5084\n",
       "157  1268\n",
       "158  5437\n",
       "159  3079\n",
       "160  2790\n",
       "\n",
       "[161 rows x 1 columns]"
      ]
     },
     "execution_count": 46,
     "metadata": {
      "tags": []
     },
     "output_type": "execute_result"
    }
   ],
   "source": [
    "x_pixel = pd.DataFrame(x_pixel)\n",
    "x_pixel"
   ]
  },
  {
   "cell_type": "code",
   "execution_count": 0,
   "metadata": {
    "colab": {},
    "colab_type": "code",
    "id": "KuXIsb5FCf_b"
   },
   "outputs": [],
   "source": [
    "y_pixel = pd.DataFrame(y_pixel)\n",
    "classes = pd.DataFrame(classes)"
   ]
  },
  {
   "cell_type": "code",
   "execution_count": 0,
   "metadata": {
    "colab": {},
    "colab_type": "code",
    "id": "hRI7qERUA4RE"
   },
   "outputs": [],
   "source": [
    "df = pd.DataFrame()"
   ]
  },
  {
   "cell_type": "code",
   "execution_count": 49,
   "metadata": {
    "colab": {
     "base_uri": "https://localhost:8080/",
     "height": 402
    },
    "colab_type": "code",
    "executionInfo": {
     "elapsed": 1898,
     "status": "ok",
     "timestamp": 1589033537547,
     "user": {
      "displayName": "yash panchal",
      "photoUrl": "",
      "userId": "16904878738716686041"
     },
     "user_tz": -330
    },
    "id": "5PHFlJolBQ1f",
    "outputId": "cc7ea3de-0015-4dd8-f514-e5c5416bb97d"
   },
   "outputs": [
    {
     "data": {
      "text/html": [
       "<div>\n",
       "<style scoped>\n",
       "    .dataframe tbody tr th:only-of-type {\n",
       "        vertical-align: middle;\n",
       "    }\n",
       "\n",
       "    .dataframe tbody tr th {\n",
       "        vertical-align: top;\n",
       "    }\n",
       "\n",
       "    .dataframe thead th {\n",
       "        text-align: right;\n",
       "    }\n",
       "</style>\n",
       "<table border=\"1\" class=\"dataframe\">\n",
       "  <thead>\n",
       "    <tr style=\"text-align: right;\">\n",
       "      <th></th>\n",
       "      <th>0</th>\n",
       "      <th>0</th>\n",
       "      <th>0</th>\n",
       "    </tr>\n",
       "  </thead>\n",
       "  <tbody>\n",
       "    <tr>\n",
       "      <th>0</th>\n",
       "      <td>5058</td>\n",
       "      <td>1820</td>\n",
       "      <td>1</td>\n",
       "    </tr>\n",
       "    <tr>\n",
       "      <th>1</th>\n",
       "      <td>5098</td>\n",
       "      <td>1864</td>\n",
       "      <td>1</td>\n",
       "    </tr>\n",
       "    <tr>\n",
       "      <th>2</th>\n",
       "      <td>4967</td>\n",
       "      <td>1805</td>\n",
       "      <td>1</td>\n",
       "    </tr>\n",
       "    <tr>\n",
       "      <th>3</th>\n",
       "      <td>4894</td>\n",
       "      <td>1836</td>\n",
       "      <td>1</td>\n",
       "    </tr>\n",
       "    <tr>\n",
       "      <th>4</th>\n",
       "      <td>5009</td>\n",
       "      <td>1764</td>\n",
       "      <td>1</td>\n",
       "    </tr>\n",
       "    <tr>\n",
       "      <th>...</th>\n",
       "      <td>...</td>\n",
       "      <td>...</td>\n",
       "      <td>...</td>\n",
       "    </tr>\n",
       "    <tr>\n",
       "      <th>156</th>\n",
       "      <td>5084</td>\n",
       "      <td>2367</td>\n",
       "      <td>2</td>\n",
       "    </tr>\n",
       "    <tr>\n",
       "      <th>157</th>\n",
       "      <td>1268</td>\n",
       "      <td>5849</td>\n",
       "      <td>2</td>\n",
       "    </tr>\n",
       "    <tr>\n",
       "      <th>158</th>\n",
       "      <td>5437</td>\n",
       "      <td>5497</td>\n",
       "      <td>2</td>\n",
       "    </tr>\n",
       "    <tr>\n",
       "      <th>159</th>\n",
       "      <td>3079</td>\n",
       "      <td>3214</td>\n",
       "      <td>2</td>\n",
       "    </tr>\n",
       "    <tr>\n",
       "      <th>160</th>\n",
       "      <td>2790</td>\n",
       "      <td>2520</td>\n",
       "      <td>2</td>\n",
       "    </tr>\n",
       "  </tbody>\n",
       "</table>\n",
       "<p>161 rows × 3 columns</p>\n",
       "</div>"
      ],
      "text/plain": [
       "        0     0  0\n",
       "0    5058  1820  1\n",
       "1    5098  1864  1\n",
       "2    4967  1805  1\n",
       "3    4894  1836  1\n",
       "4    5009  1764  1\n",
       "..    ...   ... ..\n",
       "156  5084  2367  2\n",
       "157  1268  5849  2\n",
       "158  5437  5497  2\n",
       "159  3079  3214  2\n",
       "160  2790  2520  2\n",
       "\n",
       "[161 rows x 3 columns]"
      ]
     },
     "execution_count": 49,
     "metadata": {
      "tags": []
     },
     "output_type": "execute_result"
    }
   ],
   "source": [
    "df = pd.concat([df, x_pixel, y_pixel, classes], axis = 1)\n",
    "df"
   ]
  },
  {
   "cell_type": "code",
   "execution_count": 50,
   "metadata": {
    "colab": {
     "base_uri": "https://localhost:8080/",
     "height": 402
    },
    "colab_type": "code",
    "executionInfo": {
     "elapsed": 1593,
     "status": "ok",
     "timestamp": 1589033537550,
     "user": {
      "displayName": "yash panchal",
      "photoUrl": "",
      "userId": "16904878738716686041"
     },
     "user_tz": -330
    },
    "id": "ToE1AfTcCH5j",
    "outputId": "4df4f8e3-42f6-411a-9470-3d531e957387"
   },
   "outputs": [
    {
     "data": {
      "text/html": [
       "<div>\n",
       "<style scoped>\n",
       "    .dataframe tbody tr th:only-of-type {\n",
       "        vertical-align: middle;\n",
       "    }\n",
       "\n",
       "    .dataframe tbody tr th {\n",
       "        vertical-align: top;\n",
       "    }\n",
       "\n",
       "    .dataframe thead th {\n",
       "        text-align: right;\n",
       "    }\n",
       "</style>\n",
       "<table border=\"1\" class=\"dataframe\">\n",
       "  <thead>\n",
       "    <tr style=\"text-align: right;\">\n",
       "      <th></th>\n",
       "      <th>x_pixel</th>\n",
       "      <th>y_pixel</th>\n",
       "      <th>class</th>\n",
       "    </tr>\n",
       "  </thead>\n",
       "  <tbody>\n",
       "    <tr>\n",
       "      <th>0</th>\n",
       "      <td>5058</td>\n",
       "      <td>1820</td>\n",
       "      <td>1</td>\n",
       "    </tr>\n",
       "    <tr>\n",
       "      <th>1</th>\n",
       "      <td>5098</td>\n",
       "      <td>1864</td>\n",
       "      <td>1</td>\n",
       "    </tr>\n",
       "    <tr>\n",
       "      <th>2</th>\n",
       "      <td>4967</td>\n",
       "      <td>1805</td>\n",
       "      <td>1</td>\n",
       "    </tr>\n",
       "    <tr>\n",
       "      <th>3</th>\n",
       "      <td>4894</td>\n",
       "      <td>1836</td>\n",
       "      <td>1</td>\n",
       "    </tr>\n",
       "    <tr>\n",
       "      <th>4</th>\n",
       "      <td>5009</td>\n",
       "      <td>1764</td>\n",
       "      <td>1</td>\n",
       "    </tr>\n",
       "    <tr>\n",
       "      <th>...</th>\n",
       "      <td>...</td>\n",
       "      <td>...</td>\n",
       "      <td>...</td>\n",
       "    </tr>\n",
       "    <tr>\n",
       "      <th>156</th>\n",
       "      <td>5084</td>\n",
       "      <td>2367</td>\n",
       "      <td>2</td>\n",
       "    </tr>\n",
       "    <tr>\n",
       "      <th>157</th>\n",
       "      <td>1268</td>\n",
       "      <td>5849</td>\n",
       "      <td>2</td>\n",
       "    </tr>\n",
       "    <tr>\n",
       "      <th>158</th>\n",
       "      <td>5437</td>\n",
       "      <td>5497</td>\n",
       "      <td>2</td>\n",
       "    </tr>\n",
       "    <tr>\n",
       "      <th>159</th>\n",
       "      <td>3079</td>\n",
       "      <td>3214</td>\n",
       "      <td>2</td>\n",
       "    </tr>\n",
       "    <tr>\n",
       "      <th>160</th>\n",
       "      <td>2790</td>\n",
       "      <td>2520</td>\n",
       "      <td>2</td>\n",
       "    </tr>\n",
       "  </tbody>\n",
       "</table>\n",
       "<p>161 rows × 3 columns</p>\n",
       "</div>"
      ],
      "text/plain": [
       "     x_pixel  y_pixel  class\n",
       "0       5058     1820      1\n",
       "1       5098     1864      1\n",
       "2       4967     1805      1\n",
       "3       4894     1836      1\n",
       "4       5009     1764      1\n",
       "..       ...      ...    ...\n",
       "156     5084     2367      2\n",
       "157     1268     5849      2\n",
       "158     5437     5497      2\n",
       "159     3079     3214      2\n",
       "160     2790     2520      2\n",
       "\n",
       "[161 rows x 3 columns]"
      ]
     },
     "execution_count": 50,
     "metadata": {
      "tags": []
     },
     "output_type": "execute_result"
    }
   ],
   "source": [
    "df.columns = [\"x_pixel\", \"y_pixel\", \"class\"]\n",
    "df"
   ]
  },
  {
   "cell_type": "code",
   "execution_count": 51,
   "metadata": {
    "colab": {
     "base_uri": "https://localhost:8080/",
     "height": 84
    },
    "colab_type": "code",
    "executionInfo": {
     "elapsed": 1058,
     "status": "ok",
     "timestamp": 1589033537553,
     "user": {
      "displayName": "yash panchal",
      "photoUrl": "",
      "userId": "16904878738716686041"
     },
     "user_tz": -330
    },
    "id": "INnhAaRLDEOQ",
    "outputId": "fa36555e-b2cf-40ef-cad3-4f0c33cd173d"
   },
   "outputs": [
    {
     "data": {
      "text/plain": [
       "class\n",
       "1    64\n",
       "2    97\n",
       "dtype: int64"
      ]
     },
     "execution_count": 51,
     "metadata": {
      "tags": []
     },
     "output_type": "execute_result"
    }
   ],
   "source": [
    "df.pivot_table(index=['class'], aggfunc='size')"
   ]
  },
  {
   "cell_type": "code",
   "execution_count": 0,
   "metadata": {
    "colab": {},
    "colab_type": "code",
    "id": "_09YglkgFD6t"
   },
   "outputs": [],
   "source": [
    "# making an empty dataframe of dimension 8298 x 8963\n",
    "\n",
    "label = np.zeros((8298, 8963))"
   ]
  },
  {
   "cell_type": "code",
   "execution_count": 56,
   "metadata": {
    "colab": {
     "base_uri": "https://localhost:8080/",
     "height": 34
    },
    "colab_type": "code",
    "executionInfo": {
     "elapsed": 2499,
     "status": "ok",
     "timestamp": 1589033588149,
     "user": {
      "displayName": "yash panchal",
      "photoUrl": "",
      "userId": "16904878738716686041"
     },
     "user_tz": -330
    },
    "id": "RITYEFwcxPqD",
    "outputId": "b03f330e-28d1-4f40-c02f-c9aa8c81b61e"
   },
   "outputs": [
    {
     "data": {
      "text/plain": [
       "(74374974, (8298, 8963))"
      ]
     },
     "execution_count": 56,
     "metadata": {
      "tags": []
     },
     "output_type": "execute_result"
    }
   ],
   "source": [
    "label.size, label.shape"
   ]
  },
  {
   "cell_type": "code",
   "execution_count": 0,
   "metadata": {
    "colab": {},
    "colab_type": "code",
    "id": "0RcsWFty1Fcq"
   },
   "outputs": [],
   "source": [
    "a = (df[\"x_pixel\"].values)\n",
    "b = (df[\"y_pixel\"].values)"
   ]
  },
  {
   "cell_type": "code",
   "execution_count": 68,
   "metadata": {
    "colab": {
     "base_uri": "https://localhost:8080/",
     "height": 34
    },
    "colab_type": "code",
    "executionInfo": {
     "elapsed": 1478,
     "status": "ok",
     "timestamp": 1589034648220,
     "user": {
      "displayName": "yash panchal",
      "photoUrl": "",
      "userId": "16904878738716686041"
     },
     "user_tz": -330
    },
    "id": "17gK3a9F1w6Z",
    "outputId": "62f1aa8c-a5ea-4200-e5a3-54039ee89ef6"
   },
   "outputs": [
    {
     "data": {
      "text/plain": [
       "numpy.ndarray"
      ]
     },
     "execution_count": 68,
     "metadata": {
      "tags": []
     },
     "output_type": "execute_result"
    }
   ],
   "source": [
    "type(a)"
   ]
  },
  {
   "cell_type": "code",
   "execution_count": 71,
   "metadata": {
    "colab": {
     "base_uri": "https://localhost:8080/",
     "height": 34
    },
    "colab_type": "code",
    "executionInfo": {
     "elapsed": 1914,
     "status": "ok",
     "timestamp": 1589034821642,
     "user": {
      "displayName": "yash panchal",
      "photoUrl": "",
      "userId": "16904878738716686041"
     },
     "user_tz": -330
    },
    "id": "dk7YjdFh2hg-",
    "outputId": "8de947d4-f8ef-4893-c01c-e89d14e7b3ee"
   },
   "outputs": [
    {
     "data": {
      "text/plain": [
       "0.0"
      ]
     },
     "execution_count": 71,
     "metadata": {
      "tags": []
     },
     "output_type": "execute_result"
    }
   ],
   "source": [
    "label[a[0], b[0]]"
   ]
  },
  {
   "cell_type": "code",
   "execution_count": 0,
   "metadata": {
    "colab": {},
    "colab_type": "code",
    "id": "LJOqhbYM2HcM"
   },
   "outputs": [],
   "source": [
    "for i in range(len(a)):\n",
    "  label[a[i], b[i]] = 1"
   ]
  },
  {
   "cell_type": "code",
   "execution_count": 74,
   "metadata": {
    "colab": {
     "base_uri": "https://localhost:8080/",
     "height": 34
    },
    "colab_type": "code",
    "executionInfo": {
     "elapsed": 4311,
     "status": "ok",
     "timestamp": 1589034858094,
     "user": {
      "displayName": "yash panchal",
      "photoUrl": "",
      "userId": "16904878738716686041"
     },
     "user_tz": -330
    },
    "id": "U-wCXZqi2zh0",
    "outputId": "a34f3d73-170f-493b-8186-0806e2d2f6c6"
   },
   "outputs": [
    {
     "data": {
      "text/plain": [
       "1.0"
      ]
     },
     "execution_count": 74,
     "metadata": {
      "tags": []
     },
     "output_type": "execute_result"
    }
   ],
   "source": [
    "np.sum(np.unique(label))"
   ]
  },
  {
   "cell_type": "code",
   "execution_count": 76,
   "metadata": {
    "colab": {
     "base_uri": "https://localhost:8080/",
     "height": 34
    },
    "colab_type": "code",
    "executionInfo": {
     "elapsed": 4065,
     "status": "ok",
     "timestamp": 1589034902845,
     "user": {
      "displayName": "yash panchal",
      "photoUrl": "",
      "userId": "16904878738716686041"
     },
     "user_tz": -330
    },
    "id": "QMYl6Iso216C",
    "outputId": "4cce8a37-e16e-4db8-a502-3fed4ccd3afa"
   },
   "outputs": [
    {
     "data": {
      "text/plain": [
       "array([0., 1.])"
      ]
     },
     "execution_count": 76,
     "metadata": {
      "tags": []
     },
     "output_type": "execute_result"
    }
   ],
   "source": [
    "np.unique(label)"
   ]
  },
  {
   "cell_type": "code",
   "execution_count": 0,
   "metadata": {
    "colab": {},
    "colab_type": "code",
    "id": "UhqREjxv3Bsb"
   },
   "outputs": [],
   "source": [
    "df_2 = df[df[\"class\"] == 2]"
   ]
  },
  {
   "cell_type": "code",
   "execution_count": 78,
   "metadata": {
    "colab": {
     "base_uri": "https://localhost:8080/",
     "height": 402
    },
    "colab_type": "code",
    "executionInfo": {
     "elapsed": 1567,
     "status": "ok",
     "timestamp": 1589034972771,
     "user": {
      "displayName": "yash panchal",
      "photoUrl": "",
      "userId": "16904878738716686041"
     },
     "user_tz": -330
    },
    "id": "2dRlZE053ViN",
    "outputId": "2ce1d1b4-aeab-4724-b004-e8989f6da814"
   },
   "outputs": [
    {
     "data": {
      "text/html": [
       "<div>\n",
       "<style scoped>\n",
       "    .dataframe tbody tr th:only-of-type {\n",
       "        vertical-align: middle;\n",
       "    }\n",
       "\n",
       "    .dataframe tbody tr th {\n",
       "        vertical-align: top;\n",
       "    }\n",
       "\n",
       "    .dataframe thead th {\n",
       "        text-align: right;\n",
       "    }\n",
       "</style>\n",
       "<table border=\"1\" class=\"dataframe\">\n",
       "  <thead>\n",
       "    <tr style=\"text-align: right;\">\n",
       "      <th></th>\n",
       "      <th>x_pixel</th>\n",
       "      <th>y_pixel</th>\n",
       "      <th>class</th>\n",
       "    </tr>\n",
       "  </thead>\n",
       "  <tbody>\n",
       "    <tr>\n",
       "      <th>64</th>\n",
       "      <td>5973</td>\n",
       "      <td>513</td>\n",
       "      <td>2</td>\n",
       "    </tr>\n",
       "    <tr>\n",
       "      <th>65</th>\n",
       "      <td>5974</td>\n",
       "      <td>670</td>\n",
       "      <td>2</td>\n",
       "    </tr>\n",
       "    <tr>\n",
       "      <th>66</th>\n",
       "      <td>5967</td>\n",
       "      <td>669</td>\n",
       "      <td>2</td>\n",
       "    </tr>\n",
       "    <tr>\n",
       "      <th>67</th>\n",
       "      <td>5971</td>\n",
       "      <td>655</td>\n",
       "      <td>2</td>\n",
       "    </tr>\n",
       "    <tr>\n",
       "      <th>68</th>\n",
       "      <td>5967</td>\n",
       "      <td>655</td>\n",
       "      <td>2</td>\n",
       "    </tr>\n",
       "    <tr>\n",
       "      <th>...</th>\n",
       "      <td>...</td>\n",
       "      <td>...</td>\n",
       "      <td>...</td>\n",
       "    </tr>\n",
       "    <tr>\n",
       "      <th>156</th>\n",
       "      <td>5084</td>\n",
       "      <td>2367</td>\n",
       "      <td>2</td>\n",
       "    </tr>\n",
       "    <tr>\n",
       "      <th>157</th>\n",
       "      <td>1268</td>\n",
       "      <td>5849</td>\n",
       "      <td>2</td>\n",
       "    </tr>\n",
       "    <tr>\n",
       "      <th>158</th>\n",
       "      <td>5437</td>\n",
       "      <td>5497</td>\n",
       "      <td>2</td>\n",
       "    </tr>\n",
       "    <tr>\n",
       "      <th>159</th>\n",
       "      <td>3079</td>\n",
       "      <td>3214</td>\n",
       "      <td>2</td>\n",
       "    </tr>\n",
       "    <tr>\n",
       "      <th>160</th>\n",
       "      <td>2790</td>\n",
       "      <td>2520</td>\n",
       "      <td>2</td>\n",
       "    </tr>\n",
       "  </tbody>\n",
       "</table>\n",
       "<p>97 rows × 3 columns</p>\n",
       "</div>"
      ],
      "text/plain": [
       "     x_pixel  y_pixel  class\n",
       "64      5973      513      2\n",
       "65      5974      670      2\n",
       "66      5967      669      2\n",
       "67      5971      655      2\n",
       "68      5967      655      2\n",
       "..       ...      ...    ...\n",
       "156     5084     2367      2\n",
       "157     1268     5849      2\n",
       "158     5437     5497      2\n",
       "159     3079     3214      2\n",
       "160     2790     2520      2\n",
       "\n",
       "[97 rows x 3 columns]"
      ]
     },
     "execution_count": 78,
     "metadata": {
      "tags": []
     },
     "output_type": "execute_result"
    }
   ],
   "source": [
    "df_2"
   ]
  },
  {
   "cell_type": "code",
   "execution_count": 0,
   "metadata": {
    "colab": {},
    "colab_type": "code",
    "id": "gE07wTbL3W02"
   },
   "outputs": [],
   "source": [
    "c = (df_2[\"x_pixel\"].values)\n",
    "d = (df_2[\"y_pixel\"].values)"
   ]
  },
  {
   "cell_type": "code",
   "execution_count": 81,
   "metadata": {
    "colab": {
     "base_uri": "https://localhost:8080/",
     "height": 34
    },
    "colab_type": "code",
    "executionInfo": {
     "elapsed": 2223,
     "status": "ok",
     "timestamp": 1589035052693,
     "user": {
      "displayName": "yash panchal",
      "photoUrl": "",
      "userId": "16904878738716686041"
     },
     "user_tz": -330
    },
    "id": "EQD1xalq3lPf",
    "outputId": "bdbed327-639f-4435-9af3-dc79787a3591"
   },
   "outputs": [
    {
     "data": {
      "text/plain": [
       "(97, 97)"
      ]
     },
     "execution_count": 81,
     "metadata": {
      "tags": []
     },
     "output_type": "execute_result"
    }
   ],
   "source": [
    "len(c), len(d)"
   ]
  },
  {
   "cell_type": "code",
   "execution_count": 82,
   "metadata": {
    "colab": {
     "base_uri": "https://localhost:8080/",
     "height": 34
    },
    "colab_type": "code",
    "executionInfo": {
     "elapsed": 2054,
     "status": "ok",
     "timestamp": 1589035083995,
     "user": {
      "displayName": "yash panchal",
      "photoUrl": "",
      "userId": "16904878738716686041"
     },
     "user_tz": -330
    },
    "id": "bYnokHWb3uzM",
    "outputId": "f1191590-5059-4905-9170-d9cfdb3c2b20"
   },
   "outputs": [
    {
     "data": {
      "text/plain": [
       "(5973, 513)"
      ]
     },
     "execution_count": 82,
     "metadata": {
      "tags": []
     },
     "output_type": "execute_result"
    }
   ],
   "source": [
    "c[0], d[0]"
   ]
  },
  {
   "cell_type": "code",
   "execution_count": 0,
   "metadata": {
    "colab": {},
    "colab_type": "code",
    "id": "lMOBZgDD3mYQ"
   },
   "outputs": [],
   "source": [
    "for i in range(len(c)):\n",
    "  label[c[i], d[i]] = 2"
   ]
  },
  {
   "cell_type": "code",
   "execution_count": 86,
   "metadata": {
    "colab": {
     "base_uri": "https://localhost:8080/",
     "height": 34
    },
    "colab_type": "code",
    "executionInfo": {
     "elapsed": 4366,
     "status": "ok",
     "timestamp": 1589035131713,
     "user": {
      "displayName": "yash panchal",
      "photoUrl": "",
      "userId": "16904878738716686041"
     },
     "user_tz": -330
    },
    "id": "pkfgOwy430iN",
    "outputId": "bb939f6a-a19c-492c-cdc4-3024e38e059a"
   },
   "outputs": [
    {
     "data": {
      "text/plain": [
       "array([0, 1, 2])"
      ]
     },
     "execution_count": 86,
     "metadata": {
      "tags": []
     },
     "output_type": "execute_result"
    }
   ],
   "source": [
    "np.unique(label)"
   ]
  },
  {
   "cell_type": "code",
   "execution_count": 0,
   "metadata": {
    "colab": {},
    "colab_type": "code",
    "id": "L2d7b-uQ32rR"
   },
   "outputs": [],
   "source": [
    "label = label.astype(\"int\")"
   ]
  },
  {
   "cell_type": "code",
   "execution_count": 87,
   "metadata": {
    "colab": {
     "base_uri": "https://localhost:8080/",
     "height": 34
    },
    "colab_type": "code",
    "executionInfo": {
     "elapsed": 2168,
     "status": "ok",
     "timestamp": 1589035150264,
     "user": {
      "displayName": "yash panchal",
      "photoUrl": "",
      "userId": "16904878738716686041"
     },
     "user_tz": -330
    },
    "id": "eFAmhII837wY",
    "outputId": "d318cd64-a82a-4455-ef24-91de7c8aa27d"
   },
   "outputs": [
    {
     "data": {
      "text/plain": [
       "((8298, 8963), 74374974)"
      ]
     },
     "execution_count": 87,
     "metadata": {
      "tags": []
     },
     "output_type": "execute_result"
    }
   ],
   "source": [
    "label.shape, label.size"
   ]
  },
  {
   "cell_type": "code",
   "execution_count": 0,
   "metadata": {
    "colab": {},
    "colab_type": "code",
    "id": "-nmulOOd4B6d"
   },
   "outputs": [],
   "source": [
    "from skimage import io"
   ]
  },
  {
   "cell_type": "code",
   "execution_count": 0,
   "metadata": {
    "colab": {},
    "colab_type": "code",
    "id": "x9W1HFL-4LqF"
   },
   "outputs": [],
   "source": [
    "from skimage.io import imread"
   ]
  },
  {
   "cell_type": "code",
   "execution_count": 0,
   "metadata": {
    "colab": {},
    "colab_type": "code",
    "id": "hr6DwXTS4NF0"
   },
   "outputs": [],
   "source": [
    "#  path_results = 'C:/Users/Mich/Desktop/'\n",
    "\n",
    "path_results = '/content/gdrive/My Drive/Harvesting/Bathinda/label.tif'"
   ]
  },
  {
   "cell_type": "code",
   "execution_count": 91,
   "metadata": {
    "colab": {
     "base_uri": "https://localhost:8080/",
     "height": 50
    },
    "colab_type": "code",
    "executionInfo": {
     "elapsed": 4017,
     "status": "ok",
     "timestamp": 1589035334407,
     "user": {
      "displayName": "yash panchal",
      "photoUrl": "",
      "userId": "16904878738716686041"
     },
     "user_tz": -330
    },
    "id": "iMuT75Cr4Ylb",
    "outputId": "228a0384-3cb8-4c25-8ce5-b0e41c69b987"
   },
   "outputs": [
    {
     "name": "stderr",
     "output_type": "stream",
     "text": [
      "/usr/local/lib/python3.6/dist-packages/ipykernel_launcher.py:1: UserWarning: /content/gdrive/My Drive/Harvesting/Bathinda/label.tif is a low contrast image\n",
      "  \"\"\"Entry point for launching an IPython kernel.\n"
     ]
    }
   ],
   "source": [
    "io.imsave(path_results ,label)"
   ]
  },
  {
   "cell_type": "code",
   "execution_count": 0,
   "metadata": {
    "colab": {},
    "colab_type": "code",
    "id": "rk5UvUh_4urO"
   },
   "outputs": [],
   "source": []
  }
 ],
 "metadata": {
  "colab": {
   "authorship_tag": "ABX9TyO0FRUXxTUpidqRfzGWRG+k",
   "collapsed_sections": [],
   "name": "Shapefile to Pixels.ipynb",
   "provenance": []
  },
  "kernelspec": {
   "display_name": "Python 3",
   "language": "python",
   "name": "python3"
  },
  "language_info": {
   "codemirror_mode": {
    "name": "ipython",
    "version": 3
   },
   "file_extension": ".py",
   "mimetype": "text/x-python",
   "name": "python",
   "nbconvert_exporter": "python",
   "pygments_lexer": "ipython3",
   "version": "3.7.6"
  }
 },
 "nbformat": 4,
 "nbformat_minor": 1
}
