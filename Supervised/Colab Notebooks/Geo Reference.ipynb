{
 "cells": [
  {
   "cell_type": "code",
   "execution_count": 0,
   "metadata": {
    "colab": {},
    "colab_type": "code",
    "id": "m0MVkHuuCsGf"
   },
   "outputs": [],
   "source": [
    "import gdal\n",
    "import os\n",
    "from skimage import io\n",
    "from skimage.io import imread\n",
    "import scipy\n",
    "from PIL import Image\n",
    "from scipy import ndimage\n",
    "import numpy as np\n",
    "import matplotlib.pyplot as plt\n",
    "import h5py\n",
    "import pandas as pd\n",
    "%matplotlib inline"
   ]
  },
  {
   "cell_type": "code",
   "execution_count": 0,
   "metadata": {
    "colab": {},
    "colab_type": "code",
    "id": "kDufHwMhIipI"
   },
   "outputs": [],
   "source": [
    "from osgeo import gdal, osr"
   ]
  },
  {
   "cell_type": "code",
   "execution_count": 14,
   "metadata": {
    "colab": {
     "base_uri": "https://localhost:8080/",
     "height": 34
    },
    "colab_type": "code",
    "executionInfo": {
     "elapsed": 1317,
     "status": "ok",
     "timestamp": 1589567407214,
     "user": {
      "displayName": "yash panchal",
      "photoUrl": "",
      "userId": "16904878738716686041"
     },
     "user_tz": -330
    },
    "id": "oOB0cn-HClZa",
    "outputId": "bc7a84f9-e634-428e-804f-fcae4d52c379"
   },
   "outputs": [
    {
     "name": "stdout",
     "output_type": "stream",
     "text": [
      "Drive already mounted at /content/gdrive; to attempt to forcibly remount, call drive.mount(\"/content/gdrive\", force_remount=True).\n"
     ]
    }
   ],
   "source": [
    "from google.colab import drive\n",
    "drive.mount('/content/gdrive')"
   ]
  },
  {
   "cell_type": "code",
   "execution_count": 0,
   "metadata": {
    "colab": {},
    "colab_type": "code",
    "id": "Mm_hIC_-DJoR"
   },
   "outputs": [],
   "source": [
    "def georeferencer():\n",
    "  src_filename = \"/content/gdrive/My Drive/Harvesting/test.tif\"\n",
    "  dst_filename = \"/content/gdrive/My Drive/Harvesting/test_geo.tif\"\n",
    "\n",
    "  # open source dataset\n",
    "  src_ds = gdal.Open(src_filename)\n",
    "  format = \"GTiff\"\n",
    "  driver = gdal.GetDriverByName(format)\n",
    "\n",
    "  # open destination dataset\n",
    "  dst_ds = driver.CreateCopy(dst_filename, src_ds, 0)\n",
    "\n",
    "  # Specify raster location through geotransform array\n",
    "  im = gdal.Open(\"/content/gdrive/My Drive/Harvesting/1.tif\")\n",
    "  geo_info = im.GetGeoTransform()\n",
    "  gt = list(geo_info)\n",
    "  del im\n",
    "\n",
    "  # Set location\n",
    "  dst_ds.SetGeoTransform(gt)\n",
    "\n",
    "  # Get raster projection\n",
    "  epsg = 4321\n",
    "  srs = osr.SpatialReference()\n",
    "  srs.ImportFromEPSG(epsg)\n",
    "  dest_wkt = srs.ExportToWkt()\n",
    "\n",
    "  # Set Projection\n",
    "  dst_ds.SetProjection(dest_wkt)\n",
    "\n",
    "  # Close files\n",
    "  dst_ds = None\n",
    "  src_ds = None"
   ]
  },
  {
   "cell_type": "code",
   "execution_count": 0,
   "metadata": {
    "colab": {},
    "colab_type": "code",
    "id": "ZcyQH7oiDJr4"
   },
   "outputs": [],
   "source": [
    "georeferencer()"
   ]
  },
  {
   "cell_type": "code",
   "execution_count": 0,
   "metadata": {
    "colab": {},
    "colab_type": "code",
    "id": "wt9AjikdF5Ki"
   },
   "outputs": [],
   "source": [
    "fin = gdal.Open(\"/content/gdrive/My Drive/Harvesting/test_geo.tif\")"
   ]
  },
  {
   "cell_type": "code",
   "execution_count": 23,
   "metadata": {
    "colab": {
     "base_uri": "https://localhost:8080/",
     "height": 34
    },
    "colab_type": "code",
    "executionInfo": {
     "elapsed": 1333,
     "status": "ok",
     "timestamp": 1589567451875,
     "user": {
      "displayName": "yash panchal",
      "photoUrl": "",
      "userId": "16904878738716686041"
     },
     "user_tz": -330
    },
    "id": "32Inqr0BI3kL",
    "outputId": "ee1159b6-fa92-4d0e-dc2a-213005cdae5b"
   },
   "outputs": [
    {
     "data": {
      "text/plain": [
       "<osgeo.gdal.Dataset; proxy of <Swig Object of type 'GDALDatasetShadow *' at 0x7f4d06550150> >"
      ]
     },
     "execution_count": 23,
     "metadata": {
      "tags": []
     },
     "output_type": "execute_result"
    }
   ],
   "source": [
    "fin"
   ]
  },
  {
   "cell_type": "code",
   "execution_count": 24,
   "metadata": {
    "colab": {
     "base_uri": "https://localhost:8080/",
     "height": 118
    },
    "colab_type": "code",
    "executionInfo": {
     "elapsed": 2854,
     "status": "ok",
     "timestamp": 1589567455516,
     "user": {
      "displayName": "yash panchal",
      "photoUrl": "",
      "userId": "16904878738716686041"
     },
     "user_tz": -330
    },
    "id": "qqyVGmUrI4P_",
    "outputId": "36c8c2f3-dfc3-442c-c108-7044c3fe01ad"
   },
   "outputs": [
    {
     "data": {
      "text/plain": [
       "(74.62179301041088,\n",
       " 8.983152841195215e-05,\n",
       " 0.0,\n",
       " 30.582155701036577,\n",
       " 0.0,\n",
       " -8.983152841195215e-05)"
      ]
     },
     "execution_count": 24,
     "metadata": {
      "tags": []
     },
     "output_type": "execute_result"
    }
   ],
   "source": [
    "final.GetGeoTransform()"
   ]
  },
  {
   "cell_type": "code",
   "execution_count": 0,
   "metadata": {
    "colab": {},
    "colab_type": "code",
    "id": "uQmlBhMUI-O9"
   },
   "outputs": [],
   "source": [
    "inp = gdal.Open(\"/content/gdrive/My Drive/Harvesting/1.tif\")"
   ]
  },
  {
   "cell_type": "code",
   "execution_count": 26,
   "metadata": {
    "colab": {
     "base_uri": "https://localhost:8080/",
     "height": 34
    },
    "colab_type": "code",
    "executionInfo": {
     "elapsed": 712,
     "status": "ok",
     "timestamp": 1589567458715,
     "user": {
      "displayName": "yash panchal",
      "photoUrl": "",
      "userId": "16904878738716686041"
     },
     "user_tz": -330
    },
    "id": "li8y91cCJD34",
    "outputId": "3d738deb-2cf1-4e95-daa4-12607001abb4"
   },
   "outputs": [
    {
     "data": {
      "text/plain": [
       "<osgeo.gdal.Dataset; proxy of <Swig Object of type 'GDALDatasetShadow *' at 0x7f4d065506c0> >"
      ]
     },
     "execution_count": 26,
     "metadata": {
      "tags": []
     },
     "output_type": "execute_result"
    }
   ],
   "source": [
    "inp"
   ]
  },
  {
   "cell_type": "code",
   "execution_count": 27,
   "metadata": {
    "colab": {
     "base_uri": "https://localhost:8080/",
     "height": 118
    },
    "colab_type": "code",
    "executionInfo": {
     "elapsed": 1129,
     "status": "ok",
     "timestamp": 1589567461547,
     "user": {
      "displayName": "yash panchal",
      "photoUrl": "",
      "userId": "16904878738716686041"
     },
     "user_tz": -330
    },
    "id": "UIVXVk7LJEmJ",
    "outputId": "0e783440-5a51-458d-f6d4-dfc896ed06ef"
   },
   "outputs": [
    {
     "data": {
      "text/plain": [
       "(74.62179301041088,\n",
       " 8.983152841195215e-05,\n",
       " 0.0,\n",
       " 30.582155701036577,\n",
       " 0.0,\n",
       " -8.983152841195215e-05)"
      ]
     },
     "execution_count": 27,
     "metadata": {
      "tags": []
     },
     "output_type": "execute_result"
    }
   ],
   "source": [
    "inp.GetGeoTransform()"
   ]
  },
  {
   "cell_type": "code",
   "execution_count": 0,
   "metadata": {
    "colab": {},
    "colab_type": "code",
    "id": "fCHP7J9bJHaO"
   },
   "outputs": [],
   "source": []
  }
 ],
 "metadata": {
  "colab": {
   "authorship_tag": "ABX9TyNs19jm06pTVDlbz39DrV6W",
   "collapsed_sections": [],
   "name": "Geo Reference.ipynb",
   "provenance": []
  },
  "kernelspec": {
   "display_name": "Python 3",
   "language": "python",
   "name": "python3"
  },
  "language_info": {
   "codemirror_mode": {
    "name": "ipython",
    "version": 3
   },
   "file_extension": ".py",
   "mimetype": "text/x-python",
   "name": "python",
   "nbconvert_exporter": "python",
   "pygments_lexer": "ipython3",
   "version": "3.7.6"
  }
 },
 "nbformat": 4,
 "nbformat_minor": 1
}
