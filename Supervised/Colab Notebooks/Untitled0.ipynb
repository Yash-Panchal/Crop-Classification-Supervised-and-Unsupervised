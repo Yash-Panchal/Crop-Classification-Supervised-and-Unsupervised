{
 "cells": [
  {
   "cell_type": "code",
   "execution_count": 0,
   "metadata": {
    "colab": {},
    "colab_type": "code",
    "id": "JJOmL6nNJK9A"
   },
   "outputs": [],
   "source": [
    "from osgeo import gdal, ogr\n",
    "import os"
   ]
  },
  {
   "cell_type": "code",
   "execution_count": 0,
   "metadata": {
    "colab": {},
    "colab_type": "code",
    "id": "i--zTWVEJWk8"
   },
   "outputs": [],
   "source": [
    "from google.colab import drive\n",
    "drive.mount('/content/gdrive')"
   ]
  },
  {
   "cell_type": "code",
   "execution_count": 0,
   "metadata": {
    "colab": {},
    "colab_type": "code",
    "id": "AeFprYEeJa5V"
   },
   "outputs": [],
   "source": [
    "path = os.path.join('/content/gdrive/My Drive/Harvesting/Bathinda')"
   ]
  },
  {
   "cell_type": "code",
   "execution_count": 0,
   "metadata": {
    "colab": {},
    "colab_type": "code",
    "id": "9oImH00iJPfb"
   },
   "outputs": [],
   "source": [
    "# Filename of input OGR file\n",
    "\n",
    "sample_vector = path"
   ]
  },
  {
   "cell_type": "code",
   "execution_count": 13,
   "metadata": {
    "colab": {
     "base_uri": "https://localhost:8080/",
     "height": 34
    },
    "colab_type": "code",
    "executionInfo": {
     "elapsed": 1051,
     "status": "ok",
     "timestamp": 1589023282028,
     "user": {
      "displayName": "yash panchal",
      "photoUrl": "",
      "userId": "16904878738716686041"
     },
     "user_tz": -330
    },
    "id": "TxzXNtSSJp8N",
    "outputId": "8983d605-f343-4283-f7a3-6b45d124adeb"
   },
   "outputs": [
    {
     "data": {
      "text/plain": [
       "'/content/gdrive/My Drive/Harvesting/Bathinda'"
      ]
     },
     "execution_count": 13,
     "metadata": {
      "tags": []
     },
     "output_type": "execute_result"
    }
   ],
   "source": [
    "sample_vector"
   ]
  },
  {
   "cell_type": "code",
   "execution_count": 14,
   "metadata": {
    "colab": {
     "base_uri": "https://localhost:8080/",
     "height": 34
    },
    "colab_type": "code",
    "executionInfo": {
     "elapsed": 998,
     "status": "ok",
     "timestamp": 1589023283825,
     "user": {
      "displayName": "yash panchal",
      "photoUrl": "",
      "userId": "16904878738716686041"
     },
     "user_tz": -330
    },
    "id": "5sD1n8ZzJzsN",
    "outputId": "ed1df9a5-b322-47a3-ee5f-1bbd02781946"
   },
   "outputs": [
    {
     "name": "stdout",
     "output_type": "stream",
     "text": [
      "None\n"
     ]
    }
   ],
   "source": [
    "# Open the data source and read in the extent\n",
    "\n",
    "source_ds = ogr.Open(sample_vector)\n",
    "print(source_ds)"
   ]
  },
  {
   "cell_type": "code",
   "execution_count": 0,
   "metadata": {
    "colab": {},
    "colab_type": "code",
    "id": "Pxp2FaLXKg8J"
   },
   "outputs": [],
   "source": [
    "\n",
    "source_layer = source_ds.GetLayer()\n",
    "\n",
    "x_min, x_max, y_min, y_max = source_layer.GetExtent()"
   ]
  }
 ],
 "metadata": {
  "colab": {
   "authorship_tag": "ABX9TyN0DwdMi86ME0AI20fUm1A1",
   "name": "Untitled0.ipynb",
   "provenance": []
  },
  "kernelspec": {
   "display_name": "Python 3",
   "language": "python",
   "name": "python3"
  },
  "language_info": {
   "codemirror_mode": {
    "name": "ipython",
    "version": 3
   },
   "file_extension": ".py",
   "mimetype": "text/x-python",
   "name": "python",
   "nbconvert_exporter": "python",
   "pygments_lexer": "ipython3",
   "version": "3.7.6"
  }
 },
 "nbformat": 4,
 "nbformat_minor": 1
}
