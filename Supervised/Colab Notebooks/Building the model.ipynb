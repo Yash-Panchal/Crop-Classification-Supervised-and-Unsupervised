{
 "cells": [
  {
   "cell_type": "code",
   "execution_count": 0,
   "metadata": {
    "colab": {},
    "colab_type": "code",
    "id": "gn4K7Pp7MkoY"
   },
   "outputs": [],
   "source": [
    "import numpy as np\n",
    "import matplotlib.pyplot as plt\n",
    "import h5py"
   ]
  },
  {
   "cell_type": "code",
   "execution_count": 0,
   "metadata": {
    "colab": {},
    "colab_type": "code",
    "id": "2y_mefWoMpkS"
   },
   "outputs": [],
   "source": [
    "import pandas as pd"
   ]
  },
  {
   "cell_type": "code",
   "execution_count": 0,
   "metadata": {
    "colab": {},
    "colab_type": "code",
    "id": "-P8gX7wMNRqi"
   },
   "outputs": [],
   "source": [
    "import scipy\n",
    "from PIL import Image\n",
    "from scipy import ndimage"
   ]
  },
  {
   "cell_type": "code",
   "execution_count": 4,
   "metadata": {
    "colab": {
     "base_uri": "https://localhost:8080/",
     "height": 252
    },
    "colab_type": "code",
    "executionInfo": {
     "elapsed": 10141,
     "status": "ok",
     "timestamp": 1589545434172,
     "user": {
      "displayName": "yash panchal",
      "photoUrl": "",
      "userId": "16904878738716686041"
     },
     "user_tz": -330
    },
    "id": "rFkrEcwcNdiM",
    "outputId": "c5facf7f-2aab-4124-add1-e4373e486ba9"
   },
   "outputs": [
    {
     "name": "stdout",
     "output_type": "stream",
     "text": [
      "Requirement already satisfied: geopandas in /usr/local/lib/python3.6/dist-packages (0.7.0)\n",
      "Requirement already satisfied: fiona in /usr/local/lib/python3.6/dist-packages (from geopandas) (1.8.13.post1)\n",
      "Requirement already satisfied: pyproj>=2.2.0 in /usr/local/lib/python3.6/dist-packages (from geopandas) (2.6.1.post1)\n",
      "Requirement already satisfied: shapely in /usr/local/lib/python3.6/dist-packages (from geopandas) (1.7.0)\n",
      "Requirement already satisfied: pandas>=0.23.0 in /usr/local/lib/python3.6/dist-packages (from geopandas) (1.0.3)\n",
      "Requirement already satisfied: attrs>=17 in /usr/local/lib/python3.6/dist-packages (from fiona->geopandas) (19.3.0)\n",
      "Requirement already satisfied: cligj>=0.5 in /usr/local/lib/python3.6/dist-packages (from fiona->geopandas) (0.5.0)\n",
      "Requirement already satisfied: click-plugins>=1.0 in /usr/local/lib/python3.6/dist-packages (from fiona->geopandas) (1.1.1)\n",
      "Requirement already satisfied: munch in /usr/local/lib/python3.6/dist-packages (from fiona->geopandas) (2.5.0)\n",
      "Requirement already satisfied: six>=1.7 in /usr/local/lib/python3.6/dist-packages (from fiona->geopandas) (1.12.0)\n",
      "Requirement already satisfied: click<8,>=4.0 in /usr/local/lib/python3.6/dist-packages (from fiona->geopandas) (7.1.2)\n",
      "Requirement already satisfied: pytz>=2017.2 in /usr/local/lib/python3.6/dist-packages (from pandas>=0.23.0->geopandas) (2018.9)\n",
      "Requirement already satisfied: python-dateutil>=2.6.1 in /usr/local/lib/python3.6/dist-packages (from pandas>=0.23.0->geopandas) (2.8.1)\n",
      "Requirement already satisfied: numpy>=1.13.3 in /usr/local/lib/python3.6/dist-packages (from pandas>=0.23.0->geopandas) (1.18.4)\n"
     ]
    }
   ],
   "source": [
    "pip install geopandas"
   ]
  },
  {
   "cell_type": "code",
   "execution_count": 0,
   "metadata": {
    "colab": {},
    "colab_type": "code",
    "id": "a55KUdMtNUpm"
   },
   "outputs": [],
   "source": [
    "import gdal\n",
    "import os\n",
    "import geopandas as gpd\n",
    "from skimage import io\n",
    "from skimage.io import imread\n",
    "%matplotlib inline"
   ]
  },
  {
   "cell_type": "code",
   "execution_count": 5,
   "metadata": {
    "colab": {
     "base_uri": "https://localhost:8080/",
     "height": 34
    },
    "colab_type": "code",
    "executionInfo": {
     "elapsed": 1318,
     "status": "ok",
     "timestamp": 1589547774221,
     "user": {
      "displayName": "yash panchal",
      "photoUrl": "",
      "userId": "16904878738716686041"
     },
     "user_tz": -330
    },
    "id": "pb2AI2VzNsUI",
    "outputId": "4becf496-a207-42b9-92ff-85dc01e3471a"
   },
   "outputs": [
    {
     "name": "stdout",
     "output_type": "stream",
     "text": [
      "Drive already mounted at /content/gdrive; to attempt to forcibly remount, call drive.mount(\"/content/gdrive\", force_remount=True).\n"
     ]
    }
   ],
   "source": [
    "from google.colab import drive\n",
    "drive.mount('/content/gdrive')"
   ]
  },
  {
   "cell_type": "code",
   "execution_count": 0,
   "metadata": {
    "colab": {},
    "colab_type": "code",
    "id": "yiT8Ub20o7e9"
   },
   "outputs": [],
   "source": [
    "del test_y, test_x, train_x, train_y, cv_x, cv_y"
   ]
  },
  {
   "cell_type": "code",
   "execution_count": 0,
   "metadata": {
    "colab": {},
    "colab_type": "code",
    "id": "JNI4q0hKpD2N"
   },
   "outputs": [],
   "source": [
    "del data, train, train_1,sample_test\n",
    "del array_nan, nan_index, x_nan, sample"
   ]
  },
  {
   "cell_type": "code",
   "execution_count": 60,
   "metadata": {
    "colab": {
     "base_uri": "https://localhost:8080/",
     "height": 422
    },
    "colab_type": "code",
    "executionInfo": {
     "elapsed": 1702,
     "status": "ok",
     "timestamp": 1589552651941,
     "user": {
      "displayName": "yash panchal",
      "photoUrl": "",
      "userId": "16904878738716686041"
     },
     "user_tz": -330
    },
    "id": "BXTAMF7yNbzr",
    "outputId": "cd2e2707-49ba-48d4-da40-b65e9687fc2c"
   },
   "outputs": [
    {
     "data": {
      "text/html": [
       "<div>\n",
       "<style scoped>\n",
       "    .dataframe tbody tr th:only-of-type {\n",
       "        vertical-align: middle;\n",
       "    }\n",
       "\n",
       "    .dataframe tbody tr th {\n",
       "        vertical-align: top;\n",
       "    }\n",
       "\n",
       "    .dataframe thead th {\n",
       "        text-align: right;\n",
       "    }\n",
       "</style>\n",
       "<table border=\"1\" class=\"dataframe\">\n",
       "  <thead>\n",
       "    <tr style=\"text-align: right;\">\n",
       "      <th></th>\n",
       "      <th>Image6band5</th>\n",
       "      <th>Image6band4</th>\n",
       "      <th>Image6band3</th>\n",
       "      <th>Image6band2</th>\n",
       "      <th>Image6band1</th>\n",
       "      <th>Image5band5</th>\n",
       "      <th>Image5band4</th>\n",
       "      <th>Image5band3</th>\n",
       "      <th>Image5band2</th>\n",
       "      <th>Image5band1</th>\n",
       "      <th>Image4band5</th>\n",
       "      <th>Image4band4</th>\n",
       "      <th>Image4band3</th>\n",
       "      <th>Image4band2</th>\n",
       "      <th>Image4band1</th>\n",
       "      <th>Image3band5</th>\n",
       "      <th>Image3band4</th>\n",
       "      <th>Image3band3</th>\n",
       "      <th>Image3band2</th>\n",
       "      <th>Image3band1</th>\n",
       "      <th>Image2band5</th>\n",
       "      <th>Image2band4</th>\n",
       "      <th>Image2band3</th>\n",
       "      <th>Image2band2</th>\n",
       "      <th>Image2band1</th>\n",
       "      <th>Image1band5</th>\n",
       "      <th>Image1band4</th>\n",
       "      <th>Image1band3</th>\n",
       "      <th>Image1band2</th>\n",
       "      <th>Image1band1</th>\n",
       "      <th>class</th>\n",
       "    </tr>\n",
       "  </thead>\n",
       "  <tbody>\n",
       "    <tr>\n",
       "      <th>0</th>\n",
       "      <td>3426.0</td>\n",
       "      <td>869.0</td>\n",
       "      <td>573.5</td>\n",
       "      <td>874.0</td>\n",
       "      <td>979.5</td>\n",
       "      <td>4224.0</td>\n",
       "      <td>939.0</td>\n",
       "      <td>580.0</td>\n",
       "      <td>968.0</td>\n",
       "      <td>1103.0</td>\n",
       "      <td>3082.0</td>\n",
       "      <td>899.5</td>\n",
       "      <td>566.0</td>\n",
       "      <td>933.0</td>\n",
       "      <td>1091.0</td>\n",
       "      <td>4789.5</td>\n",
       "      <td>4290.5</td>\n",
       "      <td>4248.0</td>\n",
       "      <td>3948.0</td>\n",
       "      <td>4171.5</td>\n",
       "      <td>1722.5</td>\n",
       "      <td>1565.5</td>\n",
       "      <td>1520.5</td>\n",
       "      <td>1401.5</td>\n",
       "      <td>1480.5</td>\n",
       "      <td>3063.0</td>\n",
       "      <td>1487.0</td>\n",
       "      <td>973.0</td>\n",
       "      <td>1209</td>\n",
       "      <td>1208.0</td>\n",
       "      <td>1</td>\n",
       "    </tr>\n",
       "    <tr>\n",
       "      <th>1</th>\n",
       "      <td>3304.0</td>\n",
       "      <td>937.5</td>\n",
       "      <td>600.5</td>\n",
       "      <td>888.5</td>\n",
       "      <td>1003.0</td>\n",
       "      <td>4176.0</td>\n",
       "      <td>909.0</td>\n",
       "      <td>579.0</td>\n",
       "      <td>945.0</td>\n",
       "      <td>1088.0</td>\n",
       "      <td>3340.0</td>\n",
       "      <td>899.5</td>\n",
       "      <td>532.5</td>\n",
       "      <td>934.5</td>\n",
       "      <td>1080.0</td>\n",
       "      <td>3725.5</td>\n",
       "      <td>3392.0</td>\n",
       "      <td>3276.0</td>\n",
       "      <td>3195.5</td>\n",
       "      <td>3528.5</td>\n",
       "      <td>1255.0</td>\n",
       "      <td>1203.0</td>\n",
       "      <td>1115.0</td>\n",
       "      <td>1068.0</td>\n",
       "      <td>1247.5</td>\n",
       "      <td>3081.0</td>\n",
       "      <td>1494.0</td>\n",
       "      <td>945.0</td>\n",
       "      <td>1195</td>\n",
       "      <td>1191.0</td>\n",
       "      <td>1</td>\n",
       "    </tr>\n",
       "    <tr>\n",
       "      <th>2</th>\n",
       "      <td>3096.0</td>\n",
       "      <td>891.5</td>\n",
       "      <td>595.5</td>\n",
       "      <td>876.0</td>\n",
       "      <td>990.5</td>\n",
       "      <td>4029.0</td>\n",
       "      <td>918.0</td>\n",
       "      <td>574.0</td>\n",
       "      <td>953.0</td>\n",
       "      <td>1107.0</td>\n",
       "      <td>3067.0</td>\n",
       "      <td>893.0</td>\n",
       "      <td>559.0</td>\n",
       "      <td>919.5</td>\n",
       "      <td>1082.5</td>\n",
       "      <td>3509.0</td>\n",
       "      <td>2872.5</td>\n",
       "      <td>2754.0</td>\n",
       "      <td>2784.5</td>\n",
       "      <td>3127.5</td>\n",
       "      <td>1523.0</td>\n",
       "      <td>1365.5</td>\n",
       "      <td>1292.0</td>\n",
       "      <td>1190.5</td>\n",
       "      <td>1341.5</td>\n",
       "      <td>3443.0</td>\n",
       "      <td>1591.0</td>\n",
       "      <td>974.0</td>\n",
       "      <td>1258</td>\n",
       "      <td>1216.0</td>\n",
       "      <td>1</td>\n",
       "    </tr>\n",
       "    <tr>\n",
       "      <th>3</th>\n",
       "      <td>3634.0</td>\n",
       "      <td>929.5</td>\n",
       "      <td>574.0</td>\n",
       "      <td>917.5</td>\n",
       "      <td>1007.0</td>\n",
       "      <td>3305.0</td>\n",
       "      <td>934.0</td>\n",
       "      <td>588.0</td>\n",
       "      <td>989.0</td>\n",
       "      <td>1095.0</td>\n",
       "      <td>2244.0</td>\n",
       "      <td>1060.0</td>\n",
       "      <td>769.5</td>\n",
       "      <td>1034.5</td>\n",
       "      <td>1195.0</td>\n",
       "      <td>2235.0</td>\n",
       "      <td>2134.5</td>\n",
       "      <td>2081.0</td>\n",
       "      <td>2072.0</td>\n",
       "      <td>2374.5</td>\n",
       "      <td>1958.0</td>\n",
       "      <td>1616.0</td>\n",
       "      <td>1618.0</td>\n",
       "      <td>1546.0</td>\n",
       "      <td>1501.0</td>\n",
       "      <td>2838.0</td>\n",
       "      <td>1316.0</td>\n",
       "      <td>874.0</td>\n",
       "      <td>1120</td>\n",
       "      <td>1175.0</td>\n",
       "      <td>1</td>\n",
       "    </tr>\n",
       "    <tr>\n",
       "      <th>4</th>\n",
       "      <td>3329.5</td>\n",
       "      <td>846.5</td>\n",
       "      <td>560.5</td>\n",
       "      <td>866.5</td>\n",
       "      <td>985.0</td>\n",
       "      <td>4186.0</td>\n",
       "      <td>939.0</td>\n",
       "      <td>580.0</td>\n",
       "      <td>968.0</td>\n",
       "      <td>1109.0</td>\n",
       "      <td>2699.5</td>\n",
       "      <td>875.5</td>\n",
       "      <td>558.0</td>\n",
       "      <td>912.0</td>\n",
       "      <td>1093.0</td>\n",
       "      <td>2954.5</td>\n",
       "      <td>2644.5</td>\n",
       "      <td>2613.0</td>\n",
       "      <td>2534.5</td>\n",
       "      <td>2801.5</td>\n",
       "      <td>1640.0</td>\n",
       "      <td>1554.5</td>\n",
       "      <td>1535.0</td>\n",
       "      <td>1425.0</td>\n",
       "      <td>1508.5</td>\n",
       "      <td>3392.0</td>\n",
       "      <td>1614.0</td>\n",
       "      <td>989.0</td>\n",
       "      <td>1243</td>\n",
       "      <td>1197.0</td>\n",
       "      <td>1</td>\n",
       "    </tr>\n",
       "    <tr>\n",
       "      <th>...</th>\n",
       "      <td>...</td>\n",
       "      <td>...</td>\n",
       "      <td>...</td>\n",
       "      <td>...</td>\n",
       "      <td>...</td>\n",
       "      <td>...</td>\n",
       "      <td>...</td>\n",
       "      <td>...</td>\n",
       "      <td>...</td>\n",
       "      <td>...</td>\n",
       "      <td>...</td>\n",
       "      <td>...</td>\n",
       "      <td>...</td>\n",
       "      <td>...</td>\n",
       "      <td>...</td>\n",
       "      <td>...</td>\n",
       "      <td>...</td>\n",
       "      <td>...</td>\n",
       "      <td>...</td>\n",
       "      <td>...</td>\n",
       "      <td>...</td>\n",
       "      <td>...</td>\n",
       "      <td>...</td>\n",
       "      <td>...</td>\n",
       "      <td>...</td>\n",
       "      <td>...</td>\n",
       "      <td>...</td>\n",
       "      <td>...</td>\n",
       "      <td>...</td>\n",
       "      <td>...</td>\n",
       "      <td>...</td>\n",
       "    </tr>\n",
       "    <tr>\n",
       "      <th>156</th>\n",
       "      <td>2019.5</td>\n",
       "      <td>1378.0</td>\n",
       "      <td>1242.5</td>\n",
       "      <td>1262.0</td>\n",
       "      <td>1328.0</td>\n",
       "      <td>3460.0</td>\n",
       "      <td>1340.0</td>\n",
       "      <td>673.0</td>\n",
       "      <td>1157.0</td>\n",
       "      <td>1202.0</td>\n",
       "      <td>3608.5</td>\n",
       "      <td>1267.5</td>\n",
       "      <td>644.0</td>\n",
       "      <td>1107.0</td>\n",
       "      <td>1124.5</td>\n",
       "      <td>3709.0</td>\n",
       "      <td>3358.5</td>\n",
       "      <td>3193.5</td>\n",
       "      <td>3029.5</td>\n",
       "      <td>3261.0</td>\n",
       "      <td>1210.0</td>\n",
       "      <td>1144.5</td>\n",
       "      <td>1125.0</td>\n",
       "      <td>1105.0</td>\n",
       "      <td>1289.0</td>\n",
       "      <td>2825.0</td>\n",
       "      <td>1560.0</td>\n",
       "      <td>1081.0</td>\n",
       "      <td>1218</td>\n",
       "      <td>1221.0</td>\n",
       "      <td>2</td>\n",
       "    </tr>\n",
       "    <tr>\n",
       "      <th>157</th>\n",
       "      <td>3102.5</td>\n",
       "      <td>1002.5</td>\n",
       "      <td>691.0</td>\n",
       "      <td>970.5</td>\n",
       "      <td>1079.5</td>\n",
       "      <td>2549.0</td>\n",
       "      <td>1203.5</td>\n",
       "      <td>880.5</td>\n",
       "      <td>1171.0</td>\n",
       "      <td>1262.5</td>\n",
       "      <td>2151.0</td>\n",
       "      <td>1567.5</td>\n",
       "      <td>1268.0</td>\n",
       "      <td>1318.5</td>\n",
       "      <td>1362.5</td>\n",
       "      <td>1970.0</td>\n",
       "      <td>1813.0</td>\n",
       "      <td>1720.0</td>\n",
       "      <td>1498.0</td>\n",
       "      <td>1525.0</td>\n",
       "      <td>2274.5</td>\n",
       "      <td>1915.5</td>\n",
       "      <td>1900.5</td>\n",
       "      <td>1699.0</td>\n",
       "      <td>1593.0</td>\n",
       "      <td>2650.0</td>\n",
       "      <td>1917.0</td>\n",
       "      <td>1675.0</td>\n",
       "      <td>1574</td>\n",
       "      <td>1559.0</td>\n",
       "      <td>2</td>\n",
       "    </tr>\n",
       "    <tr>\n",
       "      <th>158</th>\n",
       "      <td>2529.0</td>\n",
       "      <td>1846.5</td>\n",
       "      <td>1792.5</td>\n",
       "      <td>1502.5</td>\n",
       "      <td>1420.5</td>\n",
       "      <td>2352.0</td>\n",
       "      <td>1599.0</td>\n",
       "      <td>1427.0</td>\n",
       "      <td>1375.0</td>\n",
       "      <td>1424.0</td>\n",
       "      <td>2303.0</td>\n",
       "      <td>1848.5</td>\n",
       "      <td>1787.0</td>\n",
       "      <td>1544.5</td>\n",
       "      <td>1506.0</td>\n",
       "      <td>5868.0</td>\n",
       "      <td>5670.0</td>\n",
       "      <td>5719.0</td>\n",
       "      <td>5203.0</td>\n",
       "      <td>5322.0</td>\n",
       "      <td>2115.5</td>\n",
       "      <td>1893.0</td>\n",
       "      <td>1785.5</td>\n",
       "      <td>1522.5</td>\n",
       "      <td>1482.5</td>\n",
       "      <td>2681.0</td>\n",
       "      <td>2044.0</td>\n",
       "      <td>1840.0</td>\n",
       "      <td>1676</td>\n",
       "      <td>1575.0</td>\n",
       "      <td>2</td>\n",
       "    </tr>\n",
       "    <tr>\n",
       "      <th>159</th>\n",
       "      <td>2071.0</td>\n",
       "      <td>1186.0</td>\n",
       "      <td>936.5</td>\n",
       "      <td>1025.5</td>\n",
       "      <td>1161.0</td>\n",
       "      <td>2087.0</td>\n",
       "      <td>1192.5</td>\n",
       "      <td>974.5</td>\n",
       "      <td>1090.0</td>\n",
       "      <td>1264.5</td>\n",
       "      <td>1728.5</td>\n",
       "      <td>1208.5</td>\n",
       "      <td>993.5</td>\n",
       "      <td>1027.5</td>\n",
       "      <td>1209.0</td>\n",
       "      <td>2045.0</td>\n",
       "      <td>1529.0</td>\n",
       "      <td>1325.0</td>\n",
       "      <td>1309.0</td>\n",
       "      <td>1483.0</td>\n",
       "      <td>2000.0</td>\n",
       "      <td>1443.0</td>\n",
       "      <td>1211.5</td>\n",
       "      <td>1168.0</td>\n",
       "      <td>1322.5</td>\n",
       "      <td>2481.0</td>\n",
       "      <td>1449.0</td>\n",
       "      <td>1180.0</td>\n",
       "      <td>1296</td>\n",
       "      <td>1350.0</td>\n",
       "      <td>2</td>\n",
       "    </tr>\n",
       "    <tr>\n",
       "      <th>160</th>\n",
       "      <td>2011.5</td>\n",
       "      <td>1218.5</td>\n",
       "      <td>1024.0</td>\n",
       "      <td>1077.5</td>\n",
       "      <td>1150.0</td>\n",
       "      <td>4280.0</td>\n",
       "      <td>1162.5</td>\n",
       "      <td>673.5</td>\n",
       "      <td>1105.0</td>\n",
       "      <td>1195.5</td>\n",
       "      <td>4436.5</td>\n",
       "      <td>1156.0</td>\n",
       "      <td>600.0</td>\n",
       "      <td>1043.0</td>\n",
       "      <td>1116.0</td>\n",
       "      <td>3209.0</td>\n",
       "      <td>1269.0</td>\n",
       "      <td>980.0</td>\n",
       "      <td>1253.0</td>\n",
       "      <td>1418.0</td>\n",
       "      <td>1989.0</td>\n",
       "      <td>1284.5</td>\n",
       "      <td>1211.0</td>\n",
       "      <td>1212.0</td>\n",
       "      <td>1344.0</td>\n",
       "      <td>2736.0</td>\n",
       "      <td>1769.0</td>\n",
       "      <td>1680.0</td>\n",
       "      <td>1527</td>\n",
       "      <td>1506.0</td>\n",
       "      <td>2</td>\n",
       "    </tr>\n",
       "  </tbody>\n",
       "</table>\n",
       "<p>161 rows × 31 columns</p>\n",
       "</div>"
      ],
      "text/plain": [
       "     Image6band5  Image6band4  Image6band3  ...  Image1band2  Image1band1  class\n",
       "0         3426.0        869.0        573.5  ...         1209       1208.0      1\n",
       "1         3304.0        937.5        600.5  ...         1195       1191.0      1\n",
       "2         3096.0        891.5        595.5  ...         1258       1216.0      1\n",
       "3         3634.0        929.5        574.0  ...         1120       1175.0      1\n",
       "4         3329.5        846.5        560.5  ...         1243       1197.0      1\n",
       "..           ...          ...          ...  ...          ...          ...    ...\n",
       "156       2019.5       1378.0       1242.5  ...         1218       1221.0      2\n",
       "157       3102.5       1002.5        691.0  ...         1574       1559.0      2\n",
       "158       2529.0       1846.5       1792.5  ...         1676       1575.0      2\n",
       "159       2071.0       1186.0        936.5  ...         1296       1350.0      2\n",
       "160       2011.5       1218.5       1024.0  ...         1527       1506.0      2\n",
       "\n",
       "[161 rows x 31 columns]"
      ]
     },
     "execution_count": 60,
     "metadata": {
      "tags": []
     },
     "output_type": "execute_result"
    }
   ],
   "source": [
    "# reading the training data\n",
    "\n",
    "data = pd.read_csv(\"/content/gdrive/My Drive/Harvesting/train.csv\")\n",
    "data.drop(data.columns[0], axis = 1, inplace = True)\n",
    "data"
   ]
  },
  {
   "cell_type": "code",
   "execution_count": 0,
   "metadata": {
    "colab": {},
    "colab_type": "code",
    "id": "qfCMzjRqNqXS"
   },
   "outputs": [],
   "source": [
    "train = data.to_numpy()"
   ]
  },
  {
   "cell_type": "code",
   "execution_count": 0,
   "metadata": {
    "colab": {},
    "colab_type": "code",
    "id": "AYafZK_QOH3o"
   },
   "outputs": [],
   "source": [
    "import numpy as np\n",
    "from sklearn.model_selection import train_test_split"
   ]
  },
  {
   "cell_type": "code",
   "execution_count": 0,
   "metadata": {
    "colab": {},
    "colab_type": "code",
    "id": "-RlDGtPJOPzz"
   },
   "outputs": [],
   "source": [
    "cv_size = 20/80\n",
    "\n",
    "train_1, cv = train_test_split(train, test_size = cv_size)"
   ]
  },
  {
   "cell_type": "code",
   "execution_count": 64,
   "metadata": {
    "colab": {
     "base_uri": "https://localhost:8080/",
     "height": 34
    },
    "colab_type": "code",
    "executionInfo": {
     "elapsed": 919,
     "status": "ok",
     "timestamp": 1589552651944,
     "user": {
      "displayName": "yash panchal",
      "photoUrl": "",
      "userId": "16904878738716686041"
     },
     "user_tz": -330
    },
    "id": "AlFY-gafOSRp",
    "outputId": "8bde453a-1b46-412e-c78e-e71f1aa9d73c"
   },
   "outputs": [
    {
     "data": {
      "text/plain": [
       "((120, 30), (120, 1), (41, 30), (41, 1))"
      ]
     },
     "execution_count": 64,
     "metadata": {
      "tags": []
     },
     "output_type": "execute_result"
    }
   ],
   "source": [
    "train_x = train_1[:, :30]\n",
    "train_y = train_1[:, 30:]\n",
    "\n",
    "cv_x = cv[:, :30]\n",
    "cv_y = cv[:, 30:]\n",
    "\n",
    "train_x.shape, train_y.shape, cv_x.shape, cv_y.shape"
   ]
  },
  {
   "cell_type": "code",
   "execution_count": 0,
   "metadata": {
    "colab": {},
    "colab_type": "code",
    "id": "M4Rz6r9AOUtH"
   },
   "outputs": [],
   "source": [
    "train_y = train_y.astype(\"int\")\n",
    "cv_y = cv_y.astype(\"int\")"
   ]
  },
  {
   "cell_type": "code",
   "execution_count": 66,
   "metadata": {
    "colab": {
     "base_uri": "https://localhost:8080/",
     "height": 34
    },
    "colab_type": "code",
    "executionInfo": {
     "elapsed": 2462,
     "status": "ok",
     "timestamp": 1589552653807,
     "user": {
      "displayName": "yash panchal",
      "photoUrl": "",
      "userId": "16904878738716686041"
     },
     "user_tz": -330
    },
    "id": "1pOsVjfxOX9R",
    "outputId": "70ad0718-2720-4947-82f1-89d50cfab33c"
   },
   "outputs": [
    {
     "data": {
      "text/plain": [
       "((120, 30), (120, 1), (41, 30), (41, 1))"
      ]
     },
     "execution_count": 66,
     "metadata": {
      "tags": []
     },
     "output_type": "execute_result"
    }
   ],
   "source": [
    "train_x.shape, train_y.shape, cv_x.shape, cv_y.shape"
   ]
  },
  {
   "cell_type": "code",
   "execution_count": 67,
   "metadata": {
    "colab": {
     "base_uri": "https://localhost:8080/",
     "height": 34
    },
    "colab_type": "code",
    "executionInfo": {
     "elapsed": 2145,
     "status": "ok",
     "timestamp": 1589552653809,
     "user": {
      "displayName": "yash panchal",
      "photoUrl": "",
      "userId": "16904878738716686041"
     },
     "user_tz": -330
    },
    "id": "TN_n-Pc_OaA_",
    "outputId": "3566564a-b324-4bf8-e7cc-062924636a27"
   },
   "outputs": [
    {
     "data": {
      "text/plain": [
       "((30, 120), (1, 120), (30, 41), (1, 41))"
      ]
     },
     "execution_count": 67,
     "metadata": {
      "tags": []
     },
     "output_type": "execute_result"
    }
   ],
   "source": [
    "train_x = train_x.T\n",
    "train_y = train_y.T\n",
    "\n",
    "cv_x = cv_x.T\n",
    "cv_y = cv_y.T\n",
    "\n",
    "train_x.shape, train_y.shape, cv_x.shape, cv_y.shape"
   ]
  },
  {
   "cell_type": "code",
   "execution_count": 0,
   "metadata": {
    "colab": {},
    "colab_type": "code",
    "id": "CE_EATyHOcZo"
   },
   "outputs": [],
   "source": [
    "cv_y[cv_y[:] == 1] = 0"
   ]
  },
  {
   "cell_type": "code",
   "execution_count": 0,
   "metadata": {
    "colab": {},
    "colab_type": "code",
    "id": "uPcBBlYHOfW0"
   },
   "outputs": [],
   "source": [
    "cv_y[cv_y[:] == 2] = 1"
   ]
  },
  {
   "cell_type": "code",
   "execution_count": 0,
   "metadata": {
    "colab": {},
    "colab_type": "code",
    "id": "YL53iyt7OhLo"
   },
   "outputs": [],
   "source": [
    "train_y[train_y[:] == 1] = 0"
   ]
  },
  {
   "cell_type": "code",
   "execution_count": 0,
   "metadata": {
    "colab": {},
    "colab_type": "code",
    "id": "ft5conmAOjpF"
   },
   "outputs": [],
   "source": [
    "train_y[train_y[:] == 2] = 1"
   ]
  },
  {
   "cell_type": "code",
   "execution_count": 0,
   "metadata": {
    "colab": {},
    "colab_type": "code",
    "id": "1___TgvrOlql"
   },
   "outputs": [],
   "source": [
    "# reading the csv file which has the labeled indices..\n",
    "\n",
    "labeled_indices = pd.read_csv(\"/content/gdrive/My Drive/Harvesting/labeled_index.csv\")\n",
    "\n",
    "labeled_indices.drop(labeled_indices.columns[0], axis = 1, inplace = True)"
   ]
  },
  {
   "cell_type": "code",
   "execution_count": 0,
   "metadata": {
    "colab": {},
    "colab_type": "code",
    "id": "O7EDOCIwOvZp"
   },
   "outputs": [],
   "source": [
    "img = [\"/content/gdrive/My Drive/Harvesting/1.tif\",\n",
    "      \"/content/gdrive/My Drive/Harvesting/2.tif\",\n",
    "      \"/content/gdrive/My Drive/Harvesting/3.tif\",\n",
    "      \"/content/gdrive/My Drive/Harvesting/4.tif\",\n",
    "      \"/content/gdrive/My Drive/Harvesting/5.tif\",\n",
    "      \"/content/gdrive/My Drive/Harvesting/6.tif\"]"
   ]
  },
  {
   "cell_type": "code",
   "execution_count": 74,
   "metadata": {
    "colab": {
     "base_uri": "https://localhost:8080/",
     "height": 34
    },
    "colab_type": "code",
    "executionInfo": {
     "elapsed": 1350,
     "status": "ok",
     "timestamp": 1589552656394,
     "user": {
      "displayName": "yash panchal",
      "photoUrl": "",
      "userId": "16904878738716686041"
     },
     "user_tz": -330
    },
    "id": "kPcDQ2jlO88Z",
    "outputId": "dda977fa-0e7b-420c-e392-50e9f620a878"
   },
   "outputs": [
    {
     "data": {
      "text/plain": [
       "(8264808, 1)"
      ]
     },
     "execution_count": 74,
     "metadata": {
      "tags": []
     },
     "output_type": "execute_result"
    }
   ],
   "source": [
    "sample_test = np.zeros((2766*2988, 1))\n",
    "sample_test.shape"
   ]
  },
  {
   "cell_type": "code",
   "execution_count": 75,
   "metadata": {
    "colab": {
     "base_uri": "https://localhost:8080/",
     "height": 1000
    },
    "colab_type": "code",
    "executionInfo": {
     "elapsed": 66070,
     "status": "ok",
     "timestamp": 1589553175744,
     "user": {
      "displayName": "yash panchal",
      "photoUrl": "",
      "userId": "16904878738716686041"
     },
     "user_tz": -330
    },
    "id": "vl55Q8OsPE0i",
    "outputId": "063fa5f5-26b2-4c55-a21e-2abb253b6597"
   },
   "outputs": [
    {
     "name": "stdout",
     "output_type": "stream",
     "text": [
      "<osgeo.gdal.Dataset; proxy of <Swig Object of type 'GDALDatasetShadow *' at 0x7f41fbef5fc0> >\n",
      "(2766, 2988)\n",
      "(8264808, 1)\n",
      "(2766, 2988)\n",
      "(8264808, 1)\n",
      "(2766, 2988)\n",
      "(8264808, 1)\n",
      "(2766, 2988)\n",
      "(8264808, 1)\n",
      "(2766, 2988)\n",
      "(8264808, 1)\n",
      "<osgeo.gdal.Dataset; proxy of <Swig Object of type 'GDALDatasetShadow *' at 0x7f41fbef5750> >\n",
      "(2766, 2988)\n",
      "(8264808, 1)\n",
      "(2766, 2988)\n",
      "(8264808, 1)\n",
      "(2766, 2988)\n",
      "(8264808, 1)\n",
      "(2766, 2988)\n",
      "(8264808, 1)\n",
      "(2766, 2988)\n",
      "(8264808, 1)\n",
      "<osgeo.gdal.Dataset; proxy of <Swig Object of type 'GDALDatasetShadow *' at 0x7f41fbef5fc0> >\n",
      "(2766, 2988)\n",
      "(8264808, 1)\n",
      "(2766, 2988)\n",
      "(8264808, 1)\n",
      "(2766, 2988)\n",
      "(8264808, 1)\n",
      "(2766, 2988)\n",
      "(8264808, 1)\n",
      "(2766, 2988)\n",
      "(8264808, 1)\n",
      "<osgeo.gdal.Dataset; proxy of <Swig Object of type 'GDALDatasetShadow *' at 0x7f41fbef5750> >\n",
      "(2766, 2988)\n",
      "(8264808, 1)\n",
      "(2766, 2988)\n",
      "(8264808, 1)\n",
      "(2766, 2988)\n",
      "(8264808, 1)\n",
      "(2766, 2988)\n",
      "(8264808, 1)\n",
      "(2766, 2988)\n",
      "(8264808, 1)\n",
      "<osgeo.gdal.Dataset; proxy of <Swig Object of type 'GDALDatasetShadow *' at 0x7f41fbef5fc0> >\n",
      "(2766, 2988)\n",
      "(8264808, 1)\n",
      "(2766, 2988)\n",
      "(8264808, 1)\n",
      "(2766, 2988)\n",
      "(8264808, 1)\n",
      "(2766, 2988)\n",
      "(8264808, 1)\n",
      "(2766, 2988)\n",
      "(8264808, 1)\n",
      "<osgeo.gdal.Dataset; proxy of <Swig Object of type 'GDALDatasetShadow *' at 0x7f42039847e0> >\n",
      "(2766, 2988)\n",
      "(8264808, 1)\n",
      "(2766, 2988)\n",
      "(8264808, 1)\n",
      "(2766, 2988)\n",
      "(8264808, 1)\n",
      "(2766, 2988)\n",
      "(8264808, 1)\n",
      "(2766, 2988)\n",
      "(8264808, 1)\n"
     ]
    },
    {
     "data": {
      "text/plain": [
       "array([[   nan,    nan,    nan, ...,    nan,    nan,    0. ],\n",
       "       [   nan,    nan,    nan, ...,    nan,    nan,    0. ],\n",
       "       [   nan,    nan,    nan, ...,    nan,    nan,    0. ],\n",
       "       ...,\n",
       "       [3147. , 1325. ,  846. , ..., 1232. , 1277. ,    0. ],\n",
       "       [3501. , 1024.5,  733.5, ..., 1219. , 1258. ,    0. ],\n",
       "       [3488.5, 1024.5,  717.5, ..., 1246. , 1278. ,    0. ]])"
      ]
     },
     "execution_count": 75,
     "metadata": {
      "tags": []
     },
     "output_type": "execute_result"
    }
   ],
   "source": [
    "for i in img:\n",
    "    image = gdal.Open(i)\n",
    "    print(image)\n",
    "    \n",
    "    image_zero = np.zeros((image.RasterYSize, image.RasterXSize, image.RasterCount))\n",
    "    \n",
    "    for b in range(image_zero.shape[2]):\n",
    "        image_zero[:, :, b] = image.GetRasterBand(b + 1).ReadAsArray()\n",
    "        \n",
    "        for a in range(len(labeled_indices[\"x_index\"].values)):\n",
    "            image_zero[:,:,b].T[labeled_indices.iloc[a,0], labeled_indices.iloc[a,1]] = 0\n",
    "            \n",
    "        sample = image_zero[:,:,b].T[:2766, :2988]\n",
    "        print(sample.shape)\n",
    "        sample = sample.reshape((2766*2988, 1))\n",
    "        print(sample.shape)\n",
    "        \n",
    "        sample_test = np.concatenate((sample, sample_test), axis = 1)\n",
    "        \n",
    "sample_test"
   ]
  },
  {
   "cell_type": "code",
   "execution_count": 76,
   "metadata": {
    "colab": {
     "base_uri": "https://localhost:8080/",
     "height": 34
    },
    "colab_type": "code",
    "executionInfo": {
     "elapsed": 4256,
     "status": "ok",
     "timestamp": 1589553273542,
     "user": {
      "displayName": "yash panchal",
      "photoUrl": "",
      "userId": "16904878738716686041"
     },
     "user_tz": -330
    },
    "id": "MSU2na7nPMsC",
    "outputId": "aab6e7ce-280b-413b-8d47-1f8695b8c473"
   },
   "outputs": [
    {
     "data": {
      "text/plain": [
       "(8264808, 31)"
      ]
     },
     "execution_count": 76,
     "metadata": {
      "tags": []
     },
     "output_type": "execute_result"
    }
   ],
   "source": [
    "sample_test.shape"
   ]
  },
  {
   "cell_type": "code",
   "execution_count": 77,
   "metadata": {
    "colab": {
     "base_uri": "https://localhost:8080/",
     "height": 34
    },
    "colab_type": "code",
    "executionInfo": {
     "elapsed": 3775,
     "status": "ok",
     "timestamp": 1589553273544,
     "user": {
      "displayName": "yash panchal",
      "photoUrl": "",
      "userId": "16904878738716686041"
     },
     "user_tz": -330
    },
    "id": "l9J4_LQ2SoxW",
    "outputId": "3502f32b-9905-4723-f684-8e05a7ec80fe"
   },
   "outputs": [
    {
     "data": {
      "text/plain": [
       "(8264808, 30)"
      ]
     },
     "execution_count": 77,
     "metadata": {
      "tags": []
     },
     "output_type": "execute_result"
    }
   ],
   "source": [
    "sample_test = sample_test[:, :30]\n",
    "sample_test.shape"
   ]
  },
  {
   "cell_type": "code",
   "execution_count": 78,
   "metadata": {
    "colab": {
     "base_uri": "https://localhost:8080/",
     "height": 34
    },
    "colab_type": "code",
    "executionInfo": {
     "elapsed": 3229,
     "status": "ok",
     "timestamp": 1589553273546,
     "user": {
      "displayName": "yash panchal",
      "photoUrl": "",
      "userId": "16904878738716686041"
     },
     "user_tz": -330
    },
    "id": "g5V8pQEQTFdN",
    "outputId": "46a127cd-bf8e-440e-d590-2536f4fec665"
   },
   "outputs": [
    {
     "data": {
      "text/plain": [
       "7361064"
      ]
     },
     "execution_count": 78,
     "metadata": {
      "tags": []
     },
     "output_type": "execute_result"
    }
   ],
   "source": [
    "np.count_nonzero(np.isnan(sample_test[:, 1]))"
   ]
  },
  {
   "cell_type": "code",
   "execution_count": 79,
   "metadata": {
    "colab": {
     "base_uri": "https://localhost:8080/",
     "height": 34
    },
    "colab_type": "code",
    "executionInfo": {
     "elapsed": 4158,
     "status": "ok",
     "timestamp": 1589553280534,
     "user": {
      "displayName": "yash panchal",
      "photoUrl": "",
      "userId": "16904878738716686041"
     },
     "user_tz": -330
    },
    "id": "6SsboLStBTSt",
    "outputId": "9c4feeee-af41-4285-beb6-a41a06c27f24"
   },
   "outputs": [
    {
     "data": {
      "text/plain": [
       "7361064"
      ]
     },
     "execution_count": 79,
     "metadata": {
      "tags": []
     },
     "output_type": "execute_result"
    }
   ],
   "source": [
    "np.count_nonzero(np.isnan(sample_test[:, 2]))"
   ]
  },
  {
   "cell_type": "code",
   "execution_count": 80,
   "metadata": {
    "colab": {
     "base_uri": "https://localhost:8080/",
     "height": 34
    },
    "colab_type": "code",
    "executionInfo": {
     "elapsed": 3793,
     "status": "ok",
     "timestamp": 1589553280537,
     "user": {
      "displayName": "yash panchal",
      "photoUrl": "",
      "userId": "16904878738716686041"
     },
     "user_tz": -330
    },
    "id": "6ClIaM6QBgSH",
    "outputId": "e7bc4237-c66f-419e-9352-6191b705a7db"
   },
   "outputs": [
    {
     "data": {
      "text/plain": [
       "220831920"
      ]
     },
     "execution_count": 80,
     "metadata": {
      "tags": []
     },
     "output_type": "execute_result"
    }
   ],
   "source": [
    "np.count_nonzero(np.isnan(sample_test))"
   ]
  },
  {
   "cell_type": "code",
   "execution_count": 81,
   "metadata": {
    "colab": {
     "base_uri": "https://localhost:8080/",
     "height": 34
    },
    "colab_type": "code",
    "executionInfo": {
     "elapsed": 3140,
     "status": "ok",
     "timestamp": 1589553282439,
     "user": {
      "displayName": "yash panchal",
      "photoUrl": "",
      "userId": "16904878738716686041"
     },
     "user_tz": -330
    },
    "id": "OAqP-qknBtml",
    "outputId": "4e4705cf-d896-424e-fa22-26a97e2ee967"
   },
   "outputs": [
    {
     "data": {
      "text/plain": [
       "(8264808,)"
      ]
     },
     "execution_count": 81,
     "metadata": {
      "tags": []
     },
     "output_type": "execute_result"
    }
   ],
   "source": [
    "array_nan = sample_test[:, 1]\n",
    "array_nan.shape"
   ]
  },
  {
   "cell_type": "code",
   "execution_count": 82,
   "metadata": {
    "colab": {
     "base_uri": "https://localhost:8080/",
     "height": 34
    },
    "colab_type": "code",
    "executionInfo": {
     "elapsed": 4835,
     "status": "ok",
     "timestamp": 1589553284361,
     "user": {
      "displayName": "yash panchal",
      "photoUrl": "",
      "userId": "16904878738716686041"
     },
     "user_tz": -330
    },
    "id": "RJol_W4VCAKg",
    "outputId": "4ddeb6bb-371d-4590-dbfe-24ea50b1dac4"
   },
   "outputs": [
    {
     "data": {
      "text/plain": [
       "(2766, 2988)"
      ]
     },
     "execution_count": 82,
     "metadata": {
      "tags": []
     },
     "output_type": "execute_result"
    }
   ],
   "source": [
    "array_nan = array_nan.reshape((2766, 2988))\n",
    "array_nan.shape"
   ]
  },
  {
   "cell_type": "code",
   "execution_count": 0,
   "metadata": {
    "colab": {},
    "colab_type": "code",
    "id": "j_J-_lViF4UY"
   },
   "outputs": [],
   "source": [
    "nan_index = np.argwhere(np.isnan(array_nan))"
   ]
  },
  {
   "cell_type": "code",
   "execution_count": 84,
   "metadata": {
    "colab": {
     "base_uri": "https://localhost:8080/",
     "height": 134
    },
    "colab_type": "code",
    "executionInfo": {
     "elapsed": 4048,
     "status": "ok",
     "timestamp": 1589553284366,
     "user": {
      "displayName": "yash panchal",
      "photoUrl": "",
      "userId": "16904878738716686041"
     },
     "user_tz": -330
    },
    "id": "GMDFv_ZbGE-m",
    "outputId": "5291b0ce-e90d-46bc-f8b0-cd7bd27536d3"
   },
   "outputs": [
    {
     "data": {
      "text/plain": [
       "array([[   0,    0],\n",
       "       [   0,    1],\n",
       "       [   0,    2],\n",
       "       ...,\n",
       "       [2765, 2161],\n",
       "       [2765, 2162],\n",
       "       [2765, 2163]])"
      ]
     },
     "execution_count": 84,
     "metadata": {
      "tags": []
     },
     "output_type": "execute_result"
    }
   ],
   "source": [
    "nan_index"
   ]
  },
  {
   "cell_type": "code",
   "execution_count": 85,
   "metadata": {
    "colab": {
     "base_uri": "https://localhost:8080/",
     "height": 34
    },
    "colab_type": "code",
    "executionInfo": {
     "elapsed": 3489,
     "status": "ok",
     "timestamp": 1589553284369,
     "user": {
      "displayName": "yash panchal",
      "photoUrl": "",
      "userId": "16904878738716686041"
     },
     "user_tz": -330
    },
    "id": "oqD_mYx_GJ26",
    "outputId": "4253c007-93bf-452e-ac4e-484b661f9246"
   },
   "outputs": [
    {
     "data": {
      "text/plain": [
       "(7361064, 2)"
      ]
     },
     "execution_count": 85,
     "metadata": {
      "tags": []
     },
     "output_type": "execute_result"
    }
   ],
   "source": [
    "nan_index.shape"
   ]
  },
  {
   "cell_type": "code",
   "execution_count": 0,
   "metadata": {
    "colab": {},
    "colab_type": "code",
    "id": "W89XzLjFS5BU"
   },
   "outputs": [],
   "source": [
    "test = sample_test.T"
   ]
  },
  {
   "cell_type": "code",
   "execution_count": 87,
   "metadata": {
    "colab": {
     "base_uri": "https://localhost:8080/",
     "height": 34
    },
    "colab_type": "code",
    "executionInfo": {
     "elapsed": 4361,
     "status": "ok",
     "timestamp": 1589553286209,
     "user": {
      "displayName": "yash panchal",
      "photoUrl": "",
      "userId": "16904878738716686041"
     },
     "user_tz": -330
    },
    "id": "HI-e471SS7x9",
    "outputId": "4ae6e50d-b30a-4cc7-ca15-96c16dc68566"
   },
   "outputs": [
    {
     "data": {
      "text/plain": [
       "(30, 8264808)"
      ]
     },
     "execution_count": 87,
     "metadata": {
      "tags": []
     },
     "output_type": "execute_result"
    }
   ],
   "source": [
    "test.shape"
   ]
  },
  {
   "cell_type": "code",
   "execution_count": 0,
   "metadata": {
    "colab": {},
    "colab_type": "code",
    "id": "1DQ9NGA6j0ca"
   },
   "outputs": [],
   "source": [
    "test_x = test"
   ]
  },
  {
   "cell_type": "code",
   "execution_count": 89,
   "metadata": {
    "colab": {
     "base_uri": "https://localhost:8080/",
     "height": 34
    },
    "colab_type": "code",
    "executionInfo": {
     "elapsed": 3272,
     "status": "ok",
     "timestamp": 1589553286214,
     "user": {
      "displayName": "yash panchal",
      "photoUrl": "",
      "userId": "16904878738716686041"
     },
     "user_tz": -330
    },
    "id": "j1kUN-lcd_sq",
    "outputId": "2466bd96-4e6e-4a13-c7cc-1f8f856db587"
   },
   "outputs": [
    {
     "data": {
      "text/plain": [
       "(30, 120)"
      ]
     },
     "execution_count": 89,
     "metadata": {
      "tags": []
     },
     "output_type": "execute_result"
    }
   ],
   "source": [
    "train_x.shape"
   ]
  },
  {
   "cell_type": "code",
   "execution_count": 0,
   "metadata": {
    "colab": {},
    "colab_type": "code",
    "id": "-cpc2c93jpLO"
   },
   "outputs": [],
   "source": [
    "for i in range(train_x.shape[0]):\n",
    "    a = np.mean(train_x[i, :])\n",
    "    b = np.std(train_x[i, :])\n",
    "    #print(train_x[i, :])\n",
    "    #print(a,\" : \", b ,\"\\n\")\n",
    "    train_x[i, :] = (train_x[i, :] - a) / b\n",
    "    cv_x[i, :] = (cv_x[i, :] - a) / b\n",
    "    test_x[i, :] = (test_x[i, :] - a) / b"
   ]
  },
  {
   "cell_type": "code",
   "execution_count": 0,
   "metadata": {
    "colab": {},
    "colab_type": "code",
    "id": "-tUJh7hmkDZX"
   },
   "outputs": [],
   "source": [
    "# GRADED FUNCTION: sigmoid\n",
    "\n",
    "def sigmoid(z):\n",
    "    \"\"\"\n",
    "    Compute the sigmoid of z\n",
    "\n",
    "    Arguments:\n",
    "    z -- A scalar or numpy array of any size.\n",
    "\n",
    "    Return:\n",
    "    s -- sigmoid(z)\n",
    "    \"\"\"\n",
    "\n",
    "    ### START CODE HERE ### (≈ 1 line of code)\n",
    "    s = 1/(1 + np.exp(-z))\n",
    "    ### END CODE HERE ###\n",
    "    \n",
    "    return s"
   ]
  },
  {
   "cell_type": "code",
   "execution_count": 0,
   "metadata": {
    "colab": {},
    "colab_type": "code",
    "id": "12MyDtfykJni"
   },
   "outputs": [],
   "source": [
    "# GRADED FUNCTION: initialize_with_zeros\n",
    "\n",
    "def initialize_with_zeros(dim):\n",
    "    \"\"\"\n",
    "    This function creates a vector of zeros of shape (dim, 1) for w and initializes b to 0.\n",
    "    \n",
    "    Argument:\n",
    "    dim -- size of the w vector we want (or number of parameters in this case)\n",
    "    \n",
    "    Returns:\n",
    "    w -- initialized vector of shape (dim, 1)\n",
    "    b -- initialized scalar (corresponds to the bias)\n",
    "    \"\"\"\n",
    "    \n",
    "    ### START CODE HERE ### (≈ 1 line of code)\n",
    "    w = np.zeros((dim, 1))\n",
    "    b = 0\n",
    "    ### END CODE HERE ###\n",
    "\n",
    "    assert(w.shape == (dim, 1))\n",
    "    assert(isinstance(b, float) or isinstance(b, int))\n",
    "    \n",
    "    return w, b"
   ]
  },
  {
   "cell_type": "code",
   "execution_count": 0,
   "metadata": {
    "colab": {},
    "colab_type": "code",
    "id": "Ktt59pUckMAw"
   },
   "outputs": [],
   "source": [
    "# GRADED FUNCTION: propagate\n",
    "\n",
    "def propagate(w, b, X, Y):\n",
    "    \"\"\"\n",
    "    Implement the cost function and its gradient for the propagation explained above\n",
    "\n",
    "    Arguments:\n",
    "    w -- weights, a numpy array of size (num_px * num_px * 3, 1)\n",
    "    b -- bias, a scalar\n",
    "    X -- data of size (num_px * num_px * 3, number of examples)\n",
    "    Y -- true \"label\" vector (containing 0 if non-cat, 1 if cat) of size (1, number of examples)\n",
    "\n",
    "    Return:\n",
    "    cost -- negative log-likelihood cost for logistic regression\n",
    "    dw -- gradient of the loss with respect to w, thus same shape as w\n",
    "    db -- gradient of the loss with respect to b, thus same shape as b\n",
    "    \"\"\"\n",
    "    \n",
    "    m = X.shape[1]\n",
    "    \n",
    "    # FORWARD PROPAGATION (FROM X TO COST)\n",
    "    ### START CODE HERE ### (≈ 2 lines of code)\n",
    "    A = sigmoid(np.dot(w.T, X) + b)                                           # compute activation\n",
    "    cost = -1 / m * np.sum(Y * np.log(A) + (1-Y) * np.log(1-A))                                 # compute cost\n",
    "    ### END CODE HERE ###\n",
    "    \n",
    "    # BACKWARD PROPAGATION (TO FIND GRAD)\n",
    "    ### START CODE HERE ### (≈ 2 lines of code)\n",
    "    dw = (1/m)*np.dot(X, (A-Y).T)\n",
    "    db = (1/m)*np.sum((A - Y))\n",
    "    ### END CODE HERE ###\n",
    "\n",
    "    assert(dw.shape == w.shape)\n",
    "    assert(db.dtype == float)\n",
    "    cost = np.squeeze(cost)\n",
    "    assert(cost.shape == ())\n",
    "    \n",
    "    grads = {\"dw\": dw,\n",
    "             \"db\": db}\n",
    "    \n",
    "    return grads, cost"
   ]
  },
  {
   "cell_type": "code",
   "execution_count": 0,
   "metadata": {
    "colab": {},
    "colab_type": "code",
    "id": "gf9iUgjAkOWV"
   },
   "outputs": [],
   "source": [
    "# GRADED FUNCTION: optimize\n",
    "\n",
    "def optimize(w, b, X, Y, num_iterations, learning_rate, print_cost = False):\n",
    "    \"\"\"\n",
    "    This function optimizes w and b by running a gradient descent algorithm\n",
    "    \n",
    "    Arguments:\n",
    "    w -- weights, a numpy array of size (num_px * num_px * 3, 1)\n",
    "    b -- bias, a scalar\n",
    "    X -- data of shape (num_px * num_px * 3, number of examples)\n",
    "    Y -- true \"label\" vector (containing 0 if non-cat, 1 if cat), of shape (1, number of examples)\n",
    "    num_iterations -- number of iterations of the optimization loop\n",
    "    learning_rate -- learning rate of the gradient descent update rule\n",
    "    print_cost -- True to print the loss every 100 steps\n",
    "    \n",
    "    Returns:\n",
    "    params -- dictionary containing the weights w and bias b\n",
    "    grads -- dictionary containing the gradients of the weights and bias with respect to the cost function\n",
    "    costs -- list of all the costs computed during the optimization, this will be used to plot the learning curve.\n",
    "    \n",
    "    Tips:\n",
    "    You basically need to write down two steps and iterate through them:\n",
    "        1) Calculate the cost and the gradient for the current parameters. Use propagate().\n",
    "        2) Update the parameters using gradient descent rule for w and b.\n",
    "    \"\"\"\n",
    "    \n",
    "    costs = []\n",
    "    \n",
    "    for i in range(num_iterations):\n",
    "        \n",
    "        \n",
    "        # Cost and gradient calculation (≈ 1-4 lines of code)\n",
    "        ### START CODE HERE ### \n",
    "        grads, cost = propagate(w, b, X, Y)\n",
    "        ### END CODE HERE ###\n",
    "        \n",
    "        # Retrieve derivatives from grads\n",
    "        dw = grads[\"dw\"]\n",
    "        db = grads[\"db\"]\n",
    "        \n",
    "        # update rule (≈ 2 lines of code)\n",
    "        ### START CODE HERE ###\n",
    "        w = w - learning_rate*dw\n",
    "        b = b - learning_rate*db\n",
    "        ### END CODE HERE ###\n",
    "        \n",
    "        # Record the costs\n",
    "        if i % 100 == 0:\n",
    "            costs.append(cost)\n",
    "        \n",
    "        # Print the cost every 100 training iterations\n",
    "        if print_cost and i % 100 == 0:\n",
    "            print (\"Cost after iteration %i: %f\" %(i, cost))\n",
    "    \n",
    "    params = {\"w\": w,\n",
    "              \"b\": b}\n",
    "    \n",
    "    grads = {\"dw\": dw,\n",
    "             \"db\": db}\n",
    "    \n",
    "    return params, grads, costs"
   ]
  },
  {
   "cell_type": "code",
   "execution_count": 0,
   "metadata": {
    "colab": {},
    "colab_type": "code",
    "id": "rKn9tXjmkR4A"
   },
   "outputs": [],
   "source": [
    "# GRADED FUNCTION: predict\n",
    "\n",
    "def predict(w, b, X):\n",
    "    '''\n",
    "    Predict whether the label is 0 or 1 using learned logistic regression parameters (w, b)\n",
    "    \n",
    "    Arguments:\n",
    "    w -- weights, a numpy array of size (num_px * num_px * 3, 1)\n",
    "    b -- bias, a scalar\n",
    "    X -- data of size (num_px * num_px * 3, number of examples)\n",
    "    \n",
    "    Returns:\n",
    "    Y_prediction -- a numpy array (vector) containing all predictions (0/1) for the examples in X\n",
    "    '''\n",
    "    \n",
    "    m = X.shape[1]\n",
    "    Y_prediction = np.zeros((1,m))\n",
    "    w = w.reshape(X.shape[0], 1)\n",
    "    \n",
    "    # Compute vector \"A\" predicting the probabilities of a cat being present in the picture\n",
    "    ### START CODE HERE ### (≈ 1 line of code)\n",
    "    A = sigmoid(np.dot(w.T, X) + b)\n",
    "    ### END CODE HERE ###\n",
    "    \n",
    "    for i in range(A.shape[1]):\n",
    "        \n",
    "        # Convert probabilities A[0,i] to actual predictions p[0,i]\n",
    "        ### START CODE HERE ### (≈ 4 lines of code)\n",
    "        if A[0, i] > 0.5:\n",
    "            Y_prediction[0, i] = 1\n",
    "        else:\n",
    "            Y_prediction[0, i] = 0\n",
    "        ### END CODE HERE ###\n",
    "    \n",
    "    assert(Y_prediction.shape == (1, m))\n",
    "    \n",
    "    return Y_prediction"
   ]
  },
  {
   "cell_type": "code",
   "execution_count": 0,
   "metadata": {
    "colab": {},
    "colab_type": "code",
    "id": "VVMceUCjkUVx"
   },
   "outputs": [],
   "source": [
    "# GRADED FUNCTION: model\n",
    "\n",
    "def model(X_train, Y_train, X_test, Y_test, num_iterations = 2000, learning_rate = 0.5, print_cost = False):\n",
    "    \"\"\"\n",
    "    Builds the logistic regression model by calling the function you've implemented previously\n",
    "    \n",
    "    Arguments:\n",
    "    X_train -- training set represented by a numpy array of shape (num_px * num_px * 3, m_train)\n",
    "    Y_train -- training labels represented by a numpy array (vector) of shape (1, m_train)\n",
    "    X_test -- test set represented by a numpy array of shape (num_px * num_px * 3, m_test)\n",
    "    Y_test -- test labels represented by a numpy array (vector) of shape (1, m_test)\n",
    "    num_iterations -- hyperparameter representing the number of iterations to optimize the parameters\n",
    "    learning_rate -- hyperparameter representing the learning rate used in the update rule of optimize()\n",
    "    print_cost -- Set to true to print the cost every 100 iterations\n",
    "    \n",
    "    Returns:\n",
    "    d -- dictionary containing information about the model.\n",
    "    \"\"\"\n",
    "    \n",
    "    ### START CODE HERE ###\n",
    "    \n",
    "    # initialize parameters with zeros (≈ 1 line of code)\n",
    "    w, b = initialize_with_zeros(X_train.shape[0])\n",
    "\n",
    "    # Gradient descent (≈ 1 line of code)\n",
    "    parameters, grads, costs = optimize(w, b, X_train, Y_train, num_iterations, learning_rate, print_cost)\n",
    "    \n",
    "    # Retrieve parameters w and b from dictionary \"parameters\"\n",
    "    w = parameters[\"w\"]\n",
    "    b = parameters[\"b\"]\n",
    "    \n",
    "    # Predict test/train set examples (≈ 2 lines of code)\n",
    "    Y_prediction_test = predict(w, b, X_test)\n",
    "    Y_prediction_train = predict(w, b, X_train)\n",
    "\n",
    "    ### END CODE HERE ###\n",
    "\n",
    "    # Print train/test Errors\n",
    "    print(\"train accuracy: {} %\".format(100 - np.mean(np.abs(Y_prediction_train - Y_train)) * 100))\n",
    "    print(\"test accuracy: {} %\".format(100 - np.mean(np.abs(Y_prediction_test - Y_test)) * 100))\n",
    "\n",
    "    \n",
    "    d = {\"costs\": costs,\n",
    "         \"Y_prediction_test\": Y_prediction_test, \n",
    "         \"Y_prediction_train\" : Y_prediction_train, \n",
    "         \"w\" : w, \n",
    "         \"b\" : b,\n",
    "         \"learning_rate\" : learning_rate,\n",
    "         \"num_iterations\": num_iterations}\n",
    "    \n",
    "    return d"
   ]
  },
  {
   "cell_type": "code",
   "execution_count": 97,
   "metadata": {
    "colab": {
     "base_uri": "https://localhost:8080/",
     "height": 386
    },
    "colab_type": "code",
    "executionInfo": {
     "elapsed": 2152,
     "status": "ok",
     "timestamp": 1589553298564,
     "user": {
      "displayName": "yash panchal",
      "photoUrl": "",
      "userId": "16904878738716686041"
     },
     "user_tz": -330
    },
    "id": "ypNsCKAUkXH5",
    "outputId": "e699a1b7-6745-4820-9435-c8912a008051"
   },
   "outputs": [
    {
     "name": "stdout",
     "output_type": "stream",
     "text": [
      "Cost after iteration 0: 0.693147\n",
      "Cost after iteration 100: 0.242041\n",
      "Cost after iteration 200: 0.149701\n",
      "Cost after iteration 300: 0.110390\n",
      "Cost after iteration 400: 0.088393\n",
      "Cost after iteration 500: 0.074210\n",
      "Cost after iteration 600: 0.064238\n",
      "Cost after iteration 700: 0.056807\n",
      "Cost after iteration 800: 0.051033\n",
      "Cost after iteration 900: 0.046404\n",
      "Cost after iteration 1000: 0.042601\n",
      "Cost after iteration 1100: 0.039416\n",
      "Cost after iteration 1200: 0.036704\n",
      "Cost after iteration 1300: 0.034365\n",
      "Cost after iteration 1400: 0.032325\n",
      "Cost after iteration 1500: 0.030528\n",
      "Cost after iteration 1600: 0.028932\n",
      "Cost after iteration 1700: 0.027505\n",
      "Cost after iteration 1800: 0.026219\n",
      "Cost after iteration 1900: 0.025056\n",
      "train accuracy: 100.0 %\n",
      "test accuracy: 100.0 %\n"
     ]
    }
   ],
   "source": [
    "# d = model(train_set_x, train_set_y, test_set_x, test_set_y, num_iterations = 2000, learning_rate = 0.005, print_cost = True)\n",
    "\n",
    "a = model(train_x, train_y, cv_x, cv_y, num_iterations = 2000, learning_rate = 0.005, print_cost = True)"
   ]
  },
  {
   "cell_type": "code",
   "execution_count": 98,
   "metadata": {
    "colab": {
     "base_uri": "https://localhost:8080/",
     "height": 961
    },
    "colab_type": "code",
    "executionInfo": {
     "elapsed": 1927,
     "status": "ok",
     "timestamp": 1589553302490,
     "user": {
      "displayName": "yash panchal",
      "photoUrl": "",
      "userId": "16904878738716686041"
     },
     "user_tz": -330
    },
    "id": "MO8EcxxvkalT",
    "outputId": "7f5d349d-f466-453d-bd61-c6a2a51d6422"
   },
   "outputs": [
    {
     "name": "stdout",
     "output_type": "stream",
     "text": [
      "\n",
      "\n",
      " costs   :::   [0.6931471805599453, 0.24204062910745025, 0.1497007636828668, 0.11039018555600004, 0.08839306086903333, 0.07420975933447342, 0.06423793353192027, 0.05680687666143268, 0.05103313178871622, 0.04640415923116485, 0.04260132650806026, 0.039415646325057715, 0.036704059409791094, 0.03436515829363774, 0.03232494326862626, 0.03052807473808281, 0.028932290749436984, 0.02750472570265272, 0.026219413021777393, 0.025055548612381757]\n",
      "\n",
      "\n",
      " Y_prediction_test   :::   [[1. 1. 1. 1. 0. 1. 1. 1. 1. 0. 0. 1. 1. 1. 0. 1. 1. 0. 0. 1. 0. 1. 1. 1.\n",
      "  1. 0. 1. 1. 1. 1. 0. 0. 0. 1. 0. 1. 1. 1. 0. 1. 0.]]\n",
      "\n",
      "\n",
      " Y_prediction_train   :::   [[0. 1. 1. 0. 1. 1. 1. 0. 0. 0. 1. 1. 1. 1. 1. 1. 0. 1. 1. 1. 1. 1. 1. 1.\n",
      "  0. 0. 1. 0. 0. 1. 0. 0. 0. 0. 0. 1. 0. 0. 1. 0. 1. 1. 0. 0. 1. 1. 0. 1.\n",
      "  1. 1. 1. 1. 1. 1. 1. 1. 1. 0. 0. 1. 1. 0. 1. 0. 0. 0. 1. 0. 0. 1. 1. 0.\n",
      "  0. 1. 0. 1. 0. 0. 1. 0. 1. 1. 0. 1. 1. 0. 1. 0. 1. 1. 1. 0. 1. 0. 0. 0.\n",
      "  1. 0. 1. 0. 1. 1. 0. 1. 1. 1. 1. 1. 0. 1. 0. 1. 1. 1. 1. 0. 0. 1. 0. 1.]]\n",
      "\n",
      "\n",
      " w   :::   [[-0.5613915 ]\n",
      " [ 0.40257015]\n",
      " [ 0.4619737 ]\n",
      " [ 0.41195102]\n",
      " [ 0.44218191]\n",
      " [-0.30173333]\n",
      " [ 0.42373383]\n",
      " [ 0.22779666]\n",
      " [ 0.35075419]\n",
      " [ 0.23011598]\n",
      " [ 0.24726465]\n",
      " [ 0.38489947]\n",
      " [ 0.16644921]\n",
      " [ 0.32264158]\n",
      " [ 0.19878448]\n",
      " [ 0.02312143]\n",
      " [ 0.00320536]\n",
      " [ 0.00500317]\n",
      " [ 0.01275844]\n",
      " [ 0.01977454]\n",
      " [-0.23905947]\n",
      " [-0.31661381]\n",
      " [-0.28899501]\n",
      " [-0.23778938]\n",
      " [-0.17569029]\n",
      " [-0.07866648]\n",
      " [ 0.08036952]\n",
      " [ 0.17271051]\n",
      " [ 0.09169728]\n",
      " [ 0.12464426]]\n",
      "\n",
      "\n",
      " b   :::   0.3127971846030126\n",
      "\n",
      "\n",
      " learning_rate   :::   0.005\n",
      "\n",
      "\n",
      " num_iterations   :::   2000\n"
     ]
    }
   ],
   "source": [
    "for i in a:\n",
    "    print(\"\\n\\n\", i,\"  :::  \", a[i])"
   ]
  },
  {
   "cell_type": "code",
   "execution_count": 0,
   "metadata": {
    "colab": {},
    "colab_type": "code",
    "id": "9c0X_xy-kdTV"
   },
   "outputs": [],
   "source": [
    "test_y = predict(a[\"w\"], a[\"b\"], test_x)"
   ]
  },
  {
   "cell_type": "code",
   "execution_count": 100,
   "metadata": {
    "colab": {
     "base_uri": "https://localhost:8080/",
     "height": 34
    },
    "colab_type": "code",
    "executionInfo": {
     "elapsed": 1697,
     "status": "ok",
     "timestamp": 1589553320078,
     "user": {
      "displayName": "yash panchal",
      "photoUrl": "",
      "userId": "16904878738716686041"
     },
     "user_tz": -330
    },
    "id": "poDR5FvskkbH",
    "outputId": "d6b12ab3-dd89-4b37-c5d1-2786c0cabb08"
   },
   "outputs": [
    {
     "data": {
      "text/plain": [
       "(1, 8264808)"
      ]
     },
     "execution_count": 100,
     "metadata": {
      "tags": []
     },
     "output_type": "execute_result"
    }
   ],
   "source": [
    "test_y.shape"
   ]
  },
  {
   "cell_type": "code",
   "execution_count": 0,
   "metadata": {
    "colab": {},
    "colab_type": "code",
    "id": "upPAvUl3kogu"
   },
   "outputs": [],
   "source": [
    "test_y = test_y.T"
   ]
  },
  {
   "cell_type": "code",
   "execution_count": 0,
   "metadata": {
    "colab": {},
    "colab_type": "code",
    "id": "SmFP7N93kw_Q"
   },
   "outputs": [],
   "source": [
    "test_y = test_y.reshape((2766, 2988))"
   ]
  },
  {
   "cell_type": "code",
   "execution_count": 103,
   "metadata": {
    "colab": {
     "base_uri": "https://localhost:8080/",
     "height": 34
    },
    "colab_type": "code",
    "executionInfo": {
     "elapsed": 972,
     "status": "ok",
     "timestamp": 1589553321425,
     "user": {
      "displayName": "yash panchal",
      "photoUrl": "",
      "userId": "16904878738716686041"
     },
     "user_tz": -330
    },
    "id": "XeztmxOnlFZC",
    "outputId": "599d4843-4c73-49a6-e984-c45737377779"
   },
   "outputs": [
    {
     "data": {
      "text/plain": [
       "(2766, 2988)"
      ]
     },
     "execution_count": 103,
     "metadata": {
      "tags": []
     },
     "output_type": "execute_result"
    }
   ],
   "source": [
    "test_y.shape"
   ]
  },
  {
   "cell_type": "code",
   "execution_count": 0,
   "metadata": {
    "colab": {},
    "colab_type": "code",
    "id": "lE_kEUNpGyS6"
   },
   "outputs": [],
   "source": [
    "x_nan = test_y.copy()"
   ]
  },
  {
   "cell_type": "code",
   "execution_count": 105,
   "metadata": {
    "colab": {
     "base_uri": "https://localhost:8080/",
     "height": 34
    },
    "colab_type": "code",
    "executionInfo": {
     "elapsed": 2368,
     "status": "ok",
     "timestamp": 1589553326668,
     "user": {
      "displayName": "yash panchal",
      "photoUrl": "",
      "userId": "16904878738716686041"
     },
     "user_tz": -330
    },
    "id": "HaeN6woKHoMI",
    "outputId": "d80eb042-3293-44e5-b483-547a21462f4e"
   },
   "outputs": [
    {
     "data": {
      "text/plain": [
       "(2766, 2988)"
      ]
     },
     "execution_count": 105,
     "metadata": {
      "tags": []
     },
     "output_type": "execute_result"
    }
   ],
   "source": [
    "x_nan.shape"
   ]
  },
  {
   "cell_type": "code",
   "execution_count": 0,
   "metadata": {
    "colab": {},
    "colab_type": "code",
    "id": "WXbaYgiUHCGn"
   },
   "outputs": [],
   "source": [
    "for i in range(nan_index.shape[0]):\n",
    "  x_nan[nan_index[i,0], nan_index[i,1]] = 128"
   ]
  },
  {
   "cell_type": "code",
   "execution_count": 107,
   "metadata": {
    "colab": {
     "base_uri": "https://localhost:8080/",
     "height": 134
    },
    "colab_type": "code",
    "executionInfo": {
     "elapsed": 2626,
     "status": "ok",
     "timestamp": 1589553331898,
     "user": {
      "displayName": "yash panchal",
      "photoUrl": "",
      "userId": "16904878738716686041"
     },
     "user_tz": -330
    },
    "id": "iAWlZdy4HCLm",
    "outputId": "9ba76793-98a0-47ad-a6db-8ed3ec860c50"
   },
   "outputs": [
    {
     "data": {
      "text/plain": [
       "array([[128., 128., 128., ..., 128., 128., 128.],\n",
       "       [128., 128., 128., ..., 128., 128., 128.],\n",
       "       [128., 128., 128., ..., 128., 128., 128.],\n",
       "       ...,\n",
       "       [128., 128., 128., ...,   1.,   0.,   0.],\n",
       "       [128., 128., 128., ...,   1.,   1.,   0.],\n",
       "       [128., 128., 128., ...,   1.,   0.,   0.]])"
      ]
     },
     "execution_count": 107,
     "metadata": {
      "tags": []
     },
     "output_type": "execute_result"
    }
   ],
   "source": [
    "x_nan"
   ]
  },
  {
   "cell_type": "code",
   "execution_count": 108,
   "metadata": {
    "colab": {
     "base_uri": "https://localhost:8080/",
     "height": 134
    },
    "colab_type": "code",
    "executionInfo": {
     "elapsed": 2161,
     "status": "ok",
     "timestamp": 1589553331904,
     "user": {
      "displayName": "yash panchal",
      "photoUrl": "",
      "userId": "16904878738716686041"
     },
     "user_tz": -330
    },
    "id": "WZ0SRa_6HCOZ",
    "outputId": "3e31056c-50d7-43e2-d8c7-ca353b22cf9d"
   },
   "outputs": [
    {
     "data": {
      "text/plain": [
       "array([[0., 0., 0., ..., 0., 0., 0.],\n",
       "       [0., 0., 0., ..., 0., 0., 0.],\n",
       "       [0., 0., 0., ..., 0., 0., 0.],\n",
       "       ...,\n",
       "       [0., 0., 0., ..., 1., 0., 0.],\n",
       "       [0., 0., 0., ..., 1., 1., 0.],\n",
       "       [0., 0., 0., ..., 1., 0., 0.]])"
      ]
     },
     "execution_count": 108,
     "metadata": {
      "tags": []
     },
     "output_type": "execute_result"
    }
   ],
   "source": [
    "test_y"
   ]
  },
  {
   "cell_type": "code",
   "execution_count": 109,
   "metadata": {
    "colab": {
     "base_uri": "https://localhost:8080/",
     "height": 134
    },
    "colab_type": "code",
    "executionInfo": {
     "elapsed": 1403,
     "status": "ok",
     "timestamp": 1589553331906,
     "user": {
      "displayName": "yash panchal",
      "photoUrl": "",
      "userId": "16904878738716686041"
     },
     "user_tz": -330
    },
    "id": "dsADz-1ilNis",
    "outputId": "faeeffb0-01b1-48e4-8106-9ddca84532f8"
   },
   "outputs": [
    {
     "data": {
      "text/plain": [
       "array([[128., 128., 128., ..., 128., 128., 128.],\n",
       "       [128., 128., 128., ..., 128., 128., 128.],\n",
       "       [128., 128., 128., ..., 128., 128., 128.],\n",
       "       ...,\n",
       "       [128., 128., 128., ..., 255.,   0.,   0.],\n",
       "       [128., 128., 128., ..., 255., 255.,   0.],\n",
       "       [128., 128., 128., ..., 255.,   0.,   0.]])"
      ]
     },
     "execution_count": 109,
     "metadata": {
      "tags": []
     },
     "output_type": "execute_result"
    }
   ],
   "source": [
    "x_nan[x_nan == 1] = 255\n",
    "x_nan"
   ]
  },
  {
   "cell_type": "code",
   "execution_count": 110,
   "metadata": {
    "colab": {
     "base_uri": "https://localhost:8080/",
     "height": 134
    },
    "colab_type": "code",
    "executionInfo": {
     "elapsed": 1811,
     "status": "ok",
     "timestamp": 1589553337562,
     "user": {
      "displayName": "yash panchal",
      "photoUrl": "",
      "userId": "16904878738716686041"
     },
     "user_tz": -330
    },
    "id": "pSFoObTQlP5p",
    "outputId": "ef21fb93-dc97-42a6-9a23-b4c2108cdd6b"
   },
   "outputs": [
    {
     "data": {
      "text/plain": [
       "array([[128, 128, 128, ..., 128, 128, 128],\n",
       "       [128, 128, 128, ..., 128, 128, 128],\n",
       "       [128, 128, 128, ..., 128, 128, 128],\n",
       "       ...,\n",
       "       [128, 128, 128, ..., 255,   0,   0],\n",
       "       [128, 128, 128, ..., 255, 255,   0],\n",
       "       [128, 128, 128, ..., 255,   0,   0]], dtype=uint8)"
      ]
     },
     "execution_count": 110,
     "metadata": {
      "tags": []
     },
     "output_type": "execute_result"
    }
   ],
   "source": [
    "x_nan = x_nan.astype(\"uint8\")\n",
    "x_nan"
   ]
  },
  {
   "cell_type": "code",
   "execution_count": 111,
   "metadata": {
    "colab": {
     "base_uri": "https://localhost:8080/",
     "height": 34
    },
    "colab_type": "code",
    "executionInfo": {
     "elapsed": 1430,
     "status": "ok",
     "timestamp": 1589553339571,
     "user": {
      "displayName": "yash panchal",
      "photoUrl": "",
      "userId": "16904878738716686041"
     },
     "user_tz": -330
    },
    "id": "jAYqKacvuipI",
    "outputId": "95a45dbb-27ce-4926-e3ea-0c5dc4d6041c"
   },
   "outputs": [
    {
     "data": {
      "text/plain": [
       "array([  0, 128, 255], dtype=uint8)"
      ]
     },
     "execution_count": 111,
     "metadata": {
      "tags": []
     },
     "output_type": "execute_result"
    }
   ],
   "source": [
    "np.unique(x_nan)"
   ]
  },
  {
   "cell_type": "code",
   "execution_count": 0,
   "metadata": {
    "colab": {},
    "colab_type": "code",
    "id": "xBy9GUrblSYm"
   },
   "outputs": [],
   "source": [
    "import numpy as np\n",
    "import os\n",
    "import pandas as pd\n",
    "from skimage import io\n",
    "from skimage.io import imread"
   ]
  },
  {
   "cell_type": "code",
   "execution_count": 0,
   "metadata": {
    "colab": {},
    "colab_type": "code",
    "id": "P5wb_TfhlUwu"
   },
   "outputs": [],
   "source": [
    "io.imsave(\"/content/gdrive/My Drive/Harvesting/test_1.jpg\" ,x_nan)"
   ]
  },
  {
   "cell_type": "code",
   "execution_count": 114,
   "metadata": {
    "colab": {
     "base_uri": "https://localhost:8080/",
     "height": 34
    },
    "colab_type": "code",
    "executionInfo": {
     "elapsed": 2139,
     "status": "ok",
     "timestamp": 1589553376730,
     "user": {
      "displayName": "yash panchal",
      "photoUrl": "",
      "userId": "16904878738716686041"
     },
     "user_tz": -330
    },
    "id": "Wrn1eIBYlfPs",
    "outputId": "bd247e2c-3651-4fc9-c30a-d924d8ad29d4"
   },
   "outputs": [
    {
     "data": {
      "text/plain": [
       "224"
      ]
     },
     "execution_count": 114,
     "metadata": {
      "tags": []
     },
     "output_type": "execute_result"
    }
   ],
   "source": [
    "import gc\n",
    "gc.collect()"
   ]
  },
  {
   "cell_type": "code",
   "execution_count": 0,
   "metadata": {
    "colab": {},
    "colab_type": "code",
    "id": "K0i8IVzuQeED"
   },
   "outputs": [],
   "source": []
  }
 ],
 "metadata": {
  "colab": {
   "authorship_tag": "ABX9TyMwQ5jH1zrAh6ot2ni/JDlv",
   "collapsed_sections": [],
   "name": "Building the model.ipynb",
   "provenance": []
  },
  "kernelspec": {
   "display_name": "Python 3",
   "language": "python",
   "name": "python3"
  },
  "language_info": {
   "codemirror_mode": {
    "name": "ipython",
    "version": 3
   },
   "file_extension": ".py",
   "mimetype": "text/x-python",
   "name": "python",
   "nbconvert_exporter": "python",
   "pygments_lexer": "ipython3",
   "version": "3.7.6"
  }
 },
 "nbformat": 4,
 "nbformat_minor": 1
}
